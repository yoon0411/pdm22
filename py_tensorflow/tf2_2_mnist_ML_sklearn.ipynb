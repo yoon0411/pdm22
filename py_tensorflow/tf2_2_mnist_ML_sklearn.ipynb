{
  "nbformat": 4,
  "nbformat_minor": 0,
  "metadata": {
    "kernelspec": {
      "name": "python3",
      "display_name": "Python 3"
    },
    "language_info": {
      "codemirror_mode": {
        "name": "ipython",
        "version": 3
      },
      "file_extension": ".py",
      "mimetype": "text/x-python",
      "name": "python",
      "nbconvert_exporter": "python",
      "pygments_lexer": "ipython3",
      "version": "3.6.5"
    },
    "colab": {
      "name": "tf2_2_mnist_ML_sklearn.ipynb",
      "provenance": [],
      "collapsed_sections": [],
      "include_colab_link": true
    }
  },
  "cells": [
    {
      "cell_type": "markdown",
      "metadata": {
        "id": "view-in-github",
        "colab_type": "text"
      },
      "source": [
        "<a href=\"https://colab.research.google.com/github/yoon0411/pdm22/blob/main/py_tensorflow/tf2_2_mnist_ML_sklearn.ipynb\" target=\"_parent\"><img src=\"https://colab.research.google.com/assets/colab-badge.svg\" alt=\"Open In Colab\"/></a>"
      ]
    },
    {
      "cell_type": "markdown",
      "metadata": {
        "id": "INeiZzGGPWM3"
      },
      "source": [
        "## Keras example: mnist analysis by simple NN\n",
        "- NN : neural network\n",
        "- ANN: Artificial neural Network"
      ]
    },
    {
      "cell_type": "code",
      "metadata": {
        "id": "8GgGzPXPVyfa",
        "colab": {
          "base_uri": "https://localhost:8080/"
        },
        "outputId": "a6dcbc10-04aa-4f9a-f710-25de14a9c5cb"
      },
      "source": [
        "import numpy as np\n",
        "import tensorflow as tf\n",
        "from tensorflow import keras\n",
        "import pandas as pd\n",
        "import matplotlib.pyplot as plt\n",
        "# %matplotlib inline\n",
        "\n",
        "print(tf.__version__)"
      ],
      "execution_count": 1,
      "outputs": [
        {
          "output_type": "stream",
          "name": "stdout",
          "text": [
            "2.6.0\n"
          ]
        }
      ]
    },
    {
      "cell_type": "code",
      "metadata": {
        "id": "7cg1CNebPWM6",
        "colab": {
          "base_uri": "https://localhost:8080/"
        },
        "outputId": "71ff4386-3b37-4739-9bd1-2dc4f4bd98b0"
      },
      "source": [
        "# load dataset\n",
        "from keras.datasets import mnist\n",
        "(X_train0, y_train0), (X_test0, y_test0) = mnist.load_data()"
      ],
      "execution_count": 2,
      "outputs": [
        {
          "output_type": "stream",
          "name": "stdout",
          "text": [
            "Downloading data from https://storage.googleapis.com/tensorflow/tf-keras-datasets/mnist.npz\n",
            "11493376/11490434 [==============================] - 0s 0us/step\n",
            "11501568/11490434 [==============================] - 0s 0us/step\n"
          ]
        }
      ]
    },
    {
      "cell_type": "code",
      "metadata": {
        "id": "kaQwhr7APWM-",
        "colab": {
          "base_uri": "https://localhost:8080/"
        },
        "outputId": "3414a7e8-219b-47d8-df34-92224f89d975"
      },
      "source": [
        "# summarize loaded dataset\n",
        "print(X_train0.shape, X_train0.dtype)\n",
        "print(y_train0.shape, y_train0.dtype)\n",
        "print(X_test0.shape, X_test0.dtype)\n",
        "print(y_test0.shape, y_test0.dtype)"
      ],
      "execution_count": 3,
      "outputs": [
        {
          "output_type": "stream",
          "name": "stdout",
          "text": [
            "(60000, 28, 28) uint8\n",
            "(60000,) uint8\n",
            "(10000, 28, 28) uint8\n",
            "(10000,) uint8\n"
          ]
        }
      ]
    },
    {
      "cell_type": "code",
      "metadata": {
        "id": "_NuYHtvPPWNE",
        "colab": {
          "base_uri": "https://localhost:8080/",
          "height": 286
        },
        "outputId": "eadbf99d-12a3-475c-cd11-70b47cfa38e6"
      },
      "source": [
        "# display one random image from the training set:\n",
        "class_names = [\"0\",\"1\",\"2\",\"3\",\"4\",\"5\",\"6\",\"7\",\"8\",\"9\"]\n",
        "\n",
        "idx = np.random.randint(0, X_train0.shape[0])\n",
        "print(idx)\n",
        "image = X_train0[idx]\n",
        "plt.imshow(image) #, cmap=plt.get_cmap('gray'))\n",
        "plt.title(class_names[y_train0[idx]])\n",
        "plt.xticks([])\n",
        "plt.yticks([])\n",
        "plt.show()"
      ],
      "execution_count": 4,
      "outputs": [
        {
          "output_type": "stream",
          "name": "stdout",
          "text": [
            "29187\n"
          ]
        },
        {
          "output_type": "display_data",
          "data": {
            "image/png": "[encoded data removed]",
            "text/plain": [
              "<Figure size 432x288 with 1 Axes>"
            ]
          },
          "metadata": {}
        }
      ]
    },
    {
      "cell_type": "markdown",
      "metadata": {
        "id": "b_DqSJl3PWNH"
      },
      "source": [
        "### Show images of numbers"
      ]
    },
    {
      "cell_type": "code",
      "metadata": {
        "id": "C1JAXeMzPWNI",
        "colab": {
          "base_uri": "https://localhost:8080/",
          "height": 505
        },
        "outputId": "8c814612-91d4-4488-f3c1-2306c9a10d44"
      },
      "source": [
        "fig = plt.figure(figsize=(10,6))\n",
        "for i in range(10):\n",
        "    plt.subplot(2, 5, i+1)\n",
        "    num0_9 = X_train0[y_train0 == i]\n",
        "    print(num0_9.shape)\n",
        "    plt.imshow(num0_9[0]) #, cmap='gray') #, interpolation='none')\n",
        "    plt.title(\"Class %d\" % (i))\n",
        "    plt.xticks([])\n",
        "    plt.yticks([])"
      ],
      "execution_count": 5,
      "outputs": [
        {
          "output_type": "stream",
          "name": "stdout",
          "text": [
            "(5923, 28, 28)\n",
            "(6742, 28, 28)\n",
            "(5958, 28, 28)\n",
            "(6131, 28, 28)\n",
            "(5842, 28, 28)\n",
            "(5421, 28, 28)\n",
            "(5918, 28, 28)\n",
            "(6265, 28, 28)\n",
            "(5851, 28, 28)\n",
            "(5949, 28, 28)\n"
          ]
        },
        {
          "output_type": "display_data",
          "data": {
            "image/png": "[encoded data removed]",
            "text/plain": [
              "<Figure size 720x432 with 10 Axes>"
            ]
          },
          "metadata": {}
        }
      ]
    },
    {
      "cell_type": "markdown",
      "metadata": {
        "id": "7bxCq_2fPWNO"
      },
      "source": [
        "### 데이터를 float 타입으로 바꾸고 스케일링한다.\n",
        "- 2차원 영상을 1차원 벡터로 변환\n",
        "- (28,28) => (784)\n",
        "- Scaling: (0 ~ 255)/255.0"
      ]
    },
    {
      "cell_type": "code",
      "metadata": {
        "id": "W-VqQgXvPWNP",
        "colab": {
          "base_uri": "https://localhost:8080/"
        },
        "outputId": "8067bc99-a58e-42c4-f0b6-ab3879789058"
      },
      "source": [
        "X_train = X_train0.reshape(60000, 784).astype('float32') / 255.0\n",
        "X_test = X_test0.reshape(10000, 784).astype('float32') / 255.0\n",
        "print(X_train.shape, X_train.dtype)\n",
        "print(X_test.shape, X_test.dtype)"
      ],
      "execution_count": 6,
      "outputs": [
        {
          "output_type": "stream",
          "name": "stdout",
          "text": [
            "(60000, 784) float32\n",
            "(10000, 784) float32\n"
          ]
        }
      ]
    },
    {
      "cell_type": "code",
      "metadata": {
        "id": "DQun3xjytOba",
        "colab": {
          "base_uri": "https://localhost:8080/"
        },
        "outputId": "150337f2-3afc-4905-f750-8d9c5358f529"
      },
      "source": [
        "print(X_train0.shape, X_train.shape)"
      ],
      "execution_count": 7,
      "outputs": [
        {
          "output_type": "stream",
          "name": "stdout",
          "text": [
            "(60000, 28, 28) (60000, 784)\n"
          ]
        }
      ]
    },
    {
      "cell_type": "markdown",
      "metadata": {
        "id": "RC7TUw7YPWNS"
      },
      "source": [
        "### y 데이터는 One-Hot-Encoding 을 한다."
      ]
    },
    {
      "cell_type": "code",
      "metadata": {
        "id": "SNVNKtOWPWNT",
        "colab": {
          "base_uri": "https://localhost:8080/"
        },
        "outputId": "da070157-32ca-4ebe-8b28-8d0220c7317e"
      },
      "source": [
        "y_train0[:5]"
      ],
      "execution_count": 8,
      "outputs": [
        {
          "output_type": "execute_result",
          "data": {
            "text/plain": [
              "array([5, 0, 4, 1, 9], dtype=uint8)"
            ]
          },
          "metadata": {},
          "execution_count": 8
        }
      ]
    },
    {
      "cell_type": "code",
      "metadata": {
        "id": "jVlBVEPGPWNW",
        "colab": {
          "base_uri": "https://localhost:8080/"
        },
        "outputId": "47922b94-c4d2-4e78-960d-bbb7ee596897"
      },
      "source": [
        "# Use function to_categorical() to do One-Hot-Encoding\n",
        "# tf.keras.utils.to_categorical\n",
        "from tensorflow.keras.utils import to_categorical\n",
        "\n",
        "y_train = to_categorical(y_train0, 10)\n",
        "y_test = to_categorical(y_test0, 10)\n",
        "y_train[:5]"
      ],
      "execution_count": 10,
      "outputs": [
        {
          "output_type": "execute_result",
          "data": {
            "text/plain": [
              "array([[0., 0., 0., 0., 0., 1., 0., 0., 0., 0.],\n",
              "       [1., 0., 0., 0., 0., 0., 0., 0., 0., 0.],\n",
              "       [0., 0., 0., 0., 1., 0., 0., 0., 0., 0.],\n",
              "       [0., 1., 0., 0., 0., 0., 0., 0., 0., 0.],\n",
              "       [0., 0., 0., 0., 0., 0., 0., 0., 0., 1.]], dtype=float32)"
            ]
          },
          "metadata": {},
          "execution_count": 10
        }
      ]
    },
    {
      "cell_type": "markdown",
      "metadata": {
        "id": "EWSIzXy8PWNe"
      },
      "source": [
        "> One-Hot-Encoding을 하는 이유\n",
        "- 머신러닝의 목표가 특정 숫자 그림의 숫자를 정확하게 맞추는 것이 아니다.\n",
        "    1. 일단, 0에서 9까지의 숫자로 판단될 10개의 확률을 계산한다.\n",
        "    2. 그리고 특정 숫자로 판단될 확률이 제일 큰 수로 결정한다.\n",
        "- 3개 이상의 다중클래스를 구분하는 지도학습의 경우 One-Hot-Encoding은 필요한 과정이다."
      ]
    },
    {
      "cell_type": "markdown",
      "metadata": {
        "id": "2Cm7OhSlPWNg"
      },
      "source": [
        "## ML of mnist\n",
        "- ML classifier 선택\n",
        "    * SGDClassifier\n",
        "- fit 메서드로 트레이닝 (ML)"
      ]
    },
    {
      "cell_type": "markdown",
      "metadata": {
        "id": "-KZyqcPaPWNi"
      },
      "source": [
        "### SGD classifier"
      ]
    },
    {
      "cell_type": "code",
      "metadata": {
        "id": "dLwahLN8PWNj",
        "colab": {
          "base_uri": "https://localhost:8080/"
        },
        "outputId": "f90e7b54-ef71-4311-9887-4eba3c88a71b"
      },
      "source": [
        "# sklearn : ML module in Python\n",
        "from sklearn.linear_model import SGDClassifier\n",
        "from sklearn.multiclass import OneVsOneClassifier\n",
        "\n",
        "model = OneVsOneClassifier(SGDClassifier(max_iter=100, random_state=42))\n",
        "model.fit(X_train, y_train0)"
      ],
      "execution_count": 11,
      "outputs": [
        {
          "output_type": "execute_result",
          "data": {
            "text/plain": [
              "OneVsOneClassifier(estimator=SGDClassifier(alpha=0.0001, average=False,\n",
              "                                           class_weight=None,\n",
              "                                           early_stopping=False, epsilon=0.1,\n",
              "                                           eta0=0.0, fit_intercept=True,\n",
              "                                           l1_ratio=0.15,\n",
              "                                           learning_rate='optimal',\n",
              "                                           loss='hinge', max_iter=100,\n",
              "                                           n_iter_no_change=5, n_jobs=None,\n",
              "                                           penalty='l2', power_t=0.5,\n",
              "                                           random_state=42, shuffle=True,\n",
              "                                           tol=0.001, validation_fraction=0.1,\n",
              "                                           verbose=0, warm_start=False),\n",
              "                   n_jobs=None)"
            ]
          },
          "metadata": {},
          "execution_count": 11
        }
      ]
    },
    {
      "cell_type": "code",
      "metadata": {
        "id": "GHMWxDAMPWNp",
        "colab": {
          "base_uri": "https://localhost:8080/",
          "height": 143
        },
        "outputId": "d1e669c0-df14-48a4-c12b-af2503c1389c"
      },
      "source": [
        "# Select the first number in testset\n",
        "plt.figure(figsize=(2, 2))\n",
        "plt.imshow(X_test0[0], cmap='gray')\n",
        "plt.grid(False)\n",
        "plt.xticks([])\n",
        "plt.yticks([])\n",
        "plt.show()"
      ],
      "execution_count": 12,
      "outputs": [
        {
          "output_type": "display_data",
          "data": {
            "image/png": "[encoded data removed]",
            "text/plain": [
              "<Figure size 144x144 with 1 Axes>"
            ]
          },
          "metadata": {}
        }
      ]
    },
    {
      "cell_type": "code",
      "metadata": {
        "id": "LFBK_zz-wSgY",
        "colab": {
          "base_uri": "https://localhost:8080/"
        },
        "outputId": "a6eaede0-620c-42af-e0fb-661404280cd3"
      },
      "source": [
        "X_test.shape"
      ],
      "execution_count": 13,
      "outputs": [
        {
          "output_type": "execute_result",
          "data": {
            "text/plain": [
              "(10000, 784)"
            ]
          },
          "metadata": {},
          "execution_count": 13
        }
      ]
    },
    {
      "cell_type": "code",
      "metadata": {
        "id": "5pRiNda_A1MG",
        "colab": {
          "base_uri": "https://localhost:8080/"
        },
        "outputId": "2c027a00-4ef2-4518-c9cc-6bceb85a7a0c"
      },
      "source": [
        "X_test[0, :].shape,X_test[:1, :].shape"
      ],
      "execution_count": 14,
      "outputs": [
        {
          "output_type": "execute_result",
          "data": {
            "text/plain": [
              "((784,), (1, 784))"
            ]
          },
          "metadata": {},
          "execution_count": 14
        }
      ]
    },
    {
      "cell_type": "code",
      "metadata": {
        "id": "OOAHEj-rPWNv",
        "colab": {
          "base_uri": "https://localhost:8080/"
        },
        "outputId": "c4dbea0c-7b0c-4663-b662-cc0d6fb874eb"
      },
      "source": [
        "# Predict the first number in testset using ML model\n",
        "# model.predict(X_test[0, :])\n",
        "model.predict(X_test[:1, :])"
      ],
      "execution_count": 17,
      "outputs": [
        {
          "output_type": "execute_result",
          "data": {
            "text/plain": [
              "array([7], dtype=uint8)"
            ]
          },
          "metadata": {},
          "execution_count": 17
        }
      ]
    },
    {
      "cell_type": "code",
      "metadata": {
        "id": "hbGBOkz4PWN1",
        "colab": {
          "base_uri": "https://localhost:8080/"
        },
        "outputId": "1b066b84-553d-4137-b6ff-aa24afe519df"
      },
      "source": [
        "y_test0[0]"
      ],
      "execution_count": 18,
      "outputs": [
        {
          "output_type": "execute_result",
          "data": {
            "text/plain": [
              "7"
            ]
          },
          "metadata": {},
          "execution_count": 18
        }
      ]
    },
    {
      "cell_type": "markdown",
      "metadata": {
        "id": "IlSTBslCPWN5"
      },
      "source": [
        "### 테스트 데이터에 대한 예측 정확도 계산 "
      ]
    },
    {
      "cell_type": "code",
      "metadata": {
        "colab": {
          "base_uri": "https://localhost:8080/"
        },
        "id": "oGek0tirbzeZ",
        "outputId": "446f44ae-8d60-4882-c8a9-3ec913662e9a"
      },
      "source": [
        "X_test.shape"
      ],
      "execution_count": 25,
      "outputs": [
        {
          "output_type": "execute_result",
          "data": {
            "text/plain": [
              "(10000, 784)"
            ]
          },
          "metadata": {},
          "execution_count": 25
        }
      ]
    },
    {
      "cell_type": "code",
      "metadata": {
        "id": "IKnsqRtKPWN6",
        "colab": {
          "base_uri": "https://localhost:8080/"
        },
        "outputId": "0bb820f9-fcda-4abf-c0a9-0b629d81846c"
      },
      "source": [
        "y_pred = model.predict(X_test)\n",
        "y_pred.shape"
      ],
      "execution_count": 19,
      "outputs": [
        {
          "output_type": "execute_result",
          "data": {
            "text/plain": [
              "(10000,)"
            ]
          },
          "metadata": {},
          "execution_count": 19
        }
      ]
    },
    {
      "cell_type": "code",
      "metadata": {
        "colab": {
          "base_uri": "https://localhost:8080/"
        },
        "id": "Ae0nFkLhcD9X",
        "outputId": "cb31c501-6dae-4a07-c2df-288f7097b01a"
      },
      "source": [
        "y_pred[:5]"
      ],
      "execution_count": 26,
      "outputs": [
        {
          "output_type": "execute_result",
          "data": {
            "text/plain": [
              "array([7, 2, 1, 0, 4], dtype=uint8)"
            ]
          },
          "metadata": {},
          "execution_count": 26
        }
      ]
    },
    {
      "cell_type": "code",
      "metadata": {
        "id": "TDAde7l2PWN9",
        "colab": {
          "base_uri": "https://localhost:8080/"
        },
        "outputId": "7c10f774-21a4-4792-a89e-dd065a2b1b8c"
      },
      "source": [
        "t_count = np.sum(y_pred == y_test0) # True positive\n",
        "f_count = np.sum(y_pred != y_test0) # False positive\n",
        "f_count==10000-t_count"
      ],
      "execution_count": 20,
      "outputs": [
        {
          "output_type": "execute_result",
          "data": {
            "text/plain": [
              "True"
            ]
          },
          "metadata": {},
          "execution_count": 20
        }
      ]
    },
    {
      "cell_type": "code",
      "metadata": {
        "id": "UMIbHVooPWOB",
        "colab": {
          "base_uri": "https://localhost:8080/"
        },
        "outputId": "606fe3fe-966a-43c6-ed7d-9138f4cf8a4a"
      },
      "source": [
        "t_count,f_count"
      ],
      "execution_count": 21,
      "outputs": [
        {
          "output_type": "execute_result",
          "data": {
            "text/plain": [
              "(9313, 687)"
            ]
          },
          "metadata": {},
          "execution_count": 21
        }
      ]
    },
    {
      "cell_type": "code",
      "metadata": {
        "id": "qHFIPhUmPWOE",
        "colab": {
          "base_uri": "https://localhost:8080/"
        },
        "outputId": "4523fa66-22b8-4ab9-ceec-cad2f4368915"
      },
      "source": [
        "accuracy = t_count/len(y_test)*100\n",
        "accuracy"
      ],
      "execution_count": 22,
      "outputs": [
        {
          "output_type": "execute_result",
          "data": {
            "text/plain": [
              "93.13"
            ]
          },
          "metadata": {},
          "execution_count": 22
        }
      ]
    },
    {
      "cell_type": "markdown",
      "metadata": {
        "id": "-T8u2BvyB_P3"
      },
      "source": [
        "### sklearn의 ML 모델 정확도 관련 함수\n",
        "> from sklearn.metrics import accuracy_score, confusion_matrix\n",
        "- 모델 평가 : accuracy_score(y_true, y_pred)\n",
        "- 혼동 행렬(confusion matrix) : confusion_matrix(y_true, y_pred)\n",
        "\n",
        "> https://ysyblog.tistory.com/72"
      ]
    },
    {
      "cell_type": "code",
      "metadata": {
        "id": "Hn_XqBbiDbkr",
        "colab": {
          "base_uri": "https://localhost:8080/"
        },
        "outputId": "f8792e21-f7e5-40ca-c79a-c032c67b536d"
      },
      "source": [
        "from sklearn.metrics import accuracy_score, confusion_matrix\n",
        "accuracy_score(y_test0, y_pred)  #*100"
      ],
      "execution_count": 27,
      "outputs": [
        {
          "output_type": "execute_result",
          "data": {
            "text/plain": [
              "0.9313"
            ]
          },
          "metadata": {},
          "execution_count": 27
        }
      ]
    },
    {
      "cell_type": "code",
      "metadata": {
        "id": "qom7QhHmDy7i",
        "colab": {
          "base_uri": "https://localhost:8080/"
        },
        "outputId": "9fc801e7-acee-4fac-9b30-6fb37bd6949c"
      },
      "source": [
        "confusion_matrix(y_test0, y_pred)"
      ],
      "execution_count": 28,
      "outputs": [
        {
          "output_type": "execute_result",
          "data": {
            "text/plain": [
              "array([[ 941,    0,    7,    1,    2,   19,    5,    1,    3,    1],\n",
              "       [   0, 1121,    1,    4,    0,    2,    1,    2,    4,    0],\n",
              "       [   8,    7,  938,   22,    4,    2,   12,    8,   29,    2],\n",
              "       [   2,    0,    3,  946,    3,   13,    3,   14,   22,    4],\n",
              "       [   0,    1,    7,    0,  894,    1,    7,    9,    6,   57],\n",
              "       [   8,    2,    3,   48,    4,  787,   14,    2,   20,    4],\n",
              "       [   7,    4,   12,    1,    4,   13,  911,    3,    3,    0],\n",
              "       [   1,    8,   20,    8,    3,    3,    0,  967,    1,   17],\n",
              "       [   5,    6,    4,   21,    6,   42,    7,    5,  871,    7],\n",
              "       [   8,    6,    2,    8,   14,    4,    0,   23,    7,  937]])"
            ]
          },
          "metadata": {},
          "execution_count": 28
        }
      ]
    },
    {
      "cell_type": "markdown",
      "metadata": {
        "id": "ErT2qfh8PWOH"
      },
      "source": [
        "### Accuracy of predicting test numbers is around 93% in ML using SGD classifier."
      ]
    },
    {
      "cell_type": "code",
      "metadata": {
        "id": "AGNV93XVyBYT",
        "colab": {
          "base_uri": "https://localhost:8080/"
        },
        "outputId": "7b610e72-9f45-498c-b51a-8e94104917f2"
      },
      "source": [
        "np.nonzero(y_pred == y_test0)  # return tuple"
      ],
      "execution_count": 29,
      "outputs": [
        {
          "output_type": "execute_result",
          "data": {
            "text/plain": [
              "(array([   0,    1,    2, ..., 9997, 9998, 9999]),)"
            ]
          },
          "metadata": {},
          "execution_count": 29
        }
      ]
    },
    {
      "cell_type": "code",
      "metadata": {
        "id": "SYdXoQWoyKX3",
        "colab": {
          "base_uri": "https://localhost:8080/"
        },
        "outputId": "494160f6-1caa-49fd-f131-b0435df623dd"
      },
      "source": [
        "np.nonzero(y_pred != y_test0)"
      ],
      "execution_count": 30,
      "outputs": [
        {
          "output_type": "execute_result",
          "data": {
            "text/plain": [
              "(array([   8,   66,  124,  151,  166,  210,  241,  245,  247,  259,  291,\n",
              "         305,  308,  318,  320,  321,  340,  344,  352,  362,  372,  381,\n",
              "         391,  403,  412,  425,  443,  445,  464,  478,  479,  495,  502,\n",
              "         507,  532,  536,  538,  543,  545,  565,  569,  571,  578,  582,\n",
              "         583,  591,  628,  629,  659,  684,  691,  692,  707,  712,  713,\n",
              "         714,  717,  720,  740,  791,  800,  810,  844,  857,  866,  874,\n",
              "         877,  881,  882,  896,  916,  939,  950,  956,  959,  965,  975,\n",
              "         992,  999, 1003, 1012, 1014, 1017, 1039, 1044, 1062, 1082, 1101,\n",
              "        1107, 1112, 1114, 1119, 1128, 1157, 1182, 1192, 1198, 1200, 1202,\n",
              "        1206, 1226, 1232, 1234, 1242, 1247, 1248, 1253, 1260, 1283, 1299,\n",
              "        1310, 1319, 1326, 1331, 1337, 1364, 1378, 1393, 1404, 1413, 1433,\n",
              "        1440, 1444, 1453, 1466, 1467, 1468, 1470, 1494, 1500, 1522, 1525,\n",
              "        1530, 1545, 1549, 1553, 1559, 1575, 1584, 1587, 1601, 1607, 1609,\n",
              "        1621, 1626, 1634, 1637, 1640, 1641, 1671, 1678, 1681, 1686, 1709,\n",
              "        1717, 1751, 1754, 1772, 1774, 1790, 1796, 1816, 1828, 1839, 1850,\n",
              "        1855, 1883, 1899, 1901, 1917, 1940, 1941, 1942, 1952, 1970, 1973,\n",
              "        1982, 1984, 1992, 2004, 2016, 2024, 2035, 2040, 2043, 2044, 2052,\n",
              "        2053, 2063, 2070, 2098, 2105, 2107, 2109, 2118, 2129, 2130, 2131,\n",
              "        2135, 2138, 2145, 2148, 2182, 2185, 2186, 2189, 2192, 2198, 2215,\n",
              "        2224, 2266, 2272, 2293, 2299, 2305, 2309, 2312, 2329, 2333, 2369,\n",
              "        2380, 2387, 2393, 2395, 2406, 2422, 2423, 2425, 2426, 2433, 2441,\n",
              "        2454, 2455, 2462, 2479, 2488, 2514, 2521, 2525, 2526, 2532, 2545,\n",
              "        2556, 2573, 2586, 2598, 2607, 2610, 2617, 2635, 2648, 2654, 2670,\n",
              "        2684, 2713, 2724, 2730, 2754, 2760, 2770, 2771, 2793, 2810, 2818,\n",
              "        2832, 2850, 2877, 2896, 2906, 2907, 2919, 2925, 2945, 2953, 2977,\n",
              "        2986, 2995, 3005, 3030, 3060, 3062, 3073, 3077, 3106, 3117, 3130,\n",
              "        3185, 3206, 3269, 3284, 3330, 3333, 3381, 3388, 3408, 3412, 3422,\n",
              "        3466, 3474, 3490, 3503, 3516, 3519, 3520, 3530, 3533, 3534, 3549,\n",
              "        3559, 3567, 3573, 3574, 3575, 3597, 3600, 3629, 3640, 3662, 3674,\n",
              "        3681, 3685, 3688, 3694, 3698, 3704, 3710, 3718, 3726, 3737, 3749,\n",
              "        3751, 3757, 3758, 3764, 3767, 3776, 3780, 3796, 3806, 3808, 3811,\n",
              "        3818, 3821, 3836, 3838, 3839, 3846, 3853, 3855, 3876, 3893, 3902,\n",
              "        3906, 3926, 3941, 3943, 3946, 3951, 3952, 3984, 3988, 4000, 4001,\n",
              "        4007, 4017, 4063, 4065, 4072, 4075, 4078, 4100, 4131, 4152, 4154,\n",
              "        4156, 4159, 4163, 4176, 4180, 4199, 4201, 4203, 4211, 4224, 4238,\n",
              "        4248, 4265, 4271, 4289, 4300, 4314, 4315, 4341, 4344, 4355, 4356,\n",
              "        4360, 4369, 4373, 4374, 4380, 4382, 4427, 4433, 4435, 4454, 4482,\n",
              "        4497, 4503, 4519, 4523, 4536, 4540, 4547, 4548, 4567, 4571, 4575,\n",
              "        4583, 4615, 4630, 4639, 4690, 4695, 4731, 4736, 4740, 4761, 4783,\n",
              "        4785, 4789, 4807, 4808, 4812, 4814, 4823, 4827, 4837, 4852, 4860,\n",
              "        4874, 4876, 4880, 4886, 4890, 4939, 4950, 4956, 4966, 4981, 4990,\n",
              "        4997, 4998, 5065, 5078, 5140, 5143, 5159, 5165, 5209, 5210, 5217,\n",
              "        5246, 5267, 5331, 5409, 5440, 5464, 5523, 5525, 5559, 5561, 5571,\n",
              "        5577, 5593, 5600, 5611, 5617, 5620, 5634, 5642, 5695, 5719, 5734,\n",
              "        5735, 5749, 5757, 5824, 5842, 5852, 5862, 5874, 5887, 5888, 5891,\n",
              "        5913, 5922, 5926, 5935, 5936, 5937, 5955, 5972, 5973, 5981, 5985,\n",
              "        5997, 6009, 6023, 6034, 6042, 6043, 6046, 6059, 6071, 6091, 6160,\n",
              "        6166, 6172, 6173, 6347, 6391, 6400, 6425, 6480, 6505, 6532, 6542,\n",
              "        6555, 6558, 6560, 6561, 6571, 6572, 6574, 6575, 6576, 6577, 6590,\n",
              "        6597, 6598, 6603, 6605, 6625, 6636, 6641, 6651, 6657, 6706, 6740,\n",
              "        6744, 6746, 6783, 6817, 6847, 6909, 6981, 6988, 7153, 7186, 7220,\n",
              "        7235, 7338, 7391, 7420, 7432, 7434, 7444, 7451, 7459, 7481, 7498,\n",
              "        7518, 7528, 7539, 7545, 7603, 7637, 7713, 7718, 7797, 7800, 7821,\n",
              "        7842, 7849, 7850, 7851, 7859, 7886, 7899, 7917, 7918, 7921, 7928,\n",
              "        7945, 7946, 8020, 8047, 8059, 8061, 8062, 8071, 8072, 8094, 8095,\n",
              "        8102, 8183, 8236, 8246, 8272, 8277, 8296, 8314, 8318, 8332, 8339,\n",
              "        8406, 8408, 8426, 8453, 8520, 8522, 8584, 9006, 9009, 9010, 9013,\n",
              "        9015, 9019, 9024, 9036, 9044, 9045, 9046, 9128, 9168, 9211, 9280,\n",
              "        9303, 9309, 9316, 9422, 9465, 9478, 9482, 9534, 9538, 9587, 9634,\n",
              "        9642, 9643, 9662, 9664, 9677, 9679, 9692, 9696, 9698, 9700, 9712,\n",
              "        9713, 9716, 9729, 9732, 9744, 9745, 9749, 9768, 9770, 9777, 9808,\n",
              "        9811, 9832, 9839, 9847, 9856, 9858, 9883, 9905, 9921, 9943, 9944,\n",
              "        9948, 9970, 9980, 9982, 9986]),)"
            ]
          },
          "metadata": {},
          "execution_count": 30
        }
      ]
    },
    {
      "cell_type": "code",
      "metadata": {
        "id": "jtN7Lee4Vo6q",
        "colab": {
          "base_uri": "https://localhost:8080/"
        },
        "outputId": "fa462dd8-eadf-4181-9452-726e164cbdf5"
      },
      "source": [
        "# see which we predicted correctly and which not\n",
        "correct_indices = np.nonzero(y_pred == y_test0)[0]\n",
        "incorrect_indices = np.nonzero(y_pred != y_test0)[0]\n",
        "print()\n",
        "print(len(correct_indices),\" classified correctly\")\n",
        "print(len(incorrect_indices),\" classified incorrectly\")"
      ],
      "execution_count": 31,
      "outputs": [
        {
          "output_type": "stream",
          "name": "stdout",
          "text": [
            "\n",
            "9313  classified correctly\n",
            "687  classified incorrectly\n"
          ]
        }
      ]
    },
    {
      "cell_type": "code",
      "metadata": {
        "id": "zMo8SkWFyh_j",
        "colab": {
          "base_uri": "https://localhost:8080/"
        },
        "outputId": "d1a71f0c-fd15-4fc7-892d-2ed4f4bf2dcb"
      },
      "source": [
        "len(correct_indices)/len(y_test)*100"
      ],
      "execution_count": 32,
      "outputs": [
        {
          "output_type": "execute_result",
          "data": {
            "text/plain": [
              "93.13"
            ]
          },
          "metadata": {},
          "execution_count": 32
        }
      ]
    },
    {
      "cell_type": "markdown",
      "metadata": {
        "id": "YUFrR_zV2ZmV"
      },
      "source": [
        "### [DIY: 설명]"
      ]
    },
    {
      "cell_type": "code",
      "metadata": {
        "id": "G1b86q_5zAeE",
        "colab": {
          "base_uri": "https://localhost:8080/"
        },
        "outputId": "4b6e6e6f-b693-495d-8831-40b8db1c8f36"
      },
      "source": [
        "correct_indices[:9], incorrect_indices[:9]"
      ],
      "execution_count": 33,
      "outputs": [
        {
          "output_type": "execute_result",
          "data": {
            "text/plain": [
              "(array([0, 1, 2, 3, 4, 5, 6, 7, 9]),\n",
              " array([  8,  66, 124, 151, 166, 210, 241, 245, 247]))"
            ]
          },
          "metadata": {},
          "execution_count": 33
        }
      ]
    },
    {
      "cell_type": "code",
      "metadata": {
        "id": "j0RPUxR2WKx-",
        "colab": {
          "base_uri": "https://localhost:8080/",
          "height": 914
        },
        "outputId": "d8c30da3-9cb5-441b-b693-34895b939497"
      },
      "source": [
        "# adapt figure size to accomodate 18 subplots\n",
        "plt.rcParams['figure.figsize'] = (7,14)\n",
        "\n",
        "plt.figure()\n",
        "\n",
        "# plot 9 correct predictions\n",
        "for i, correct in enumerate(correct_indices[:9]):\n",
        "    plt.subplot(6,3,i+1)\n",
        "    plt.imshow(X_test[correct].reshape(28,28), cmap='gray', interpolation='none')\n",
        "    plt.title(\n",
        "      \"Predicted: {}, Truth: {}\".format(y_pred[correct],\n",
        "                                        y_test0[correct]), color='blue')\n",
        "    plt.xticks([])\n",
        "    plt.yticks([])\n",
        "\n",
        "# plot 9 incorrect predictions\n",
        "for i, incorrect in enumerate(incorrect_indices[:9]):\n",
        "    plt.subplot(6,3,i+10)\n",
        "    plt.imshow(X_test[incorrect].reshape(28,28), cmap='gray', interpolation='none')\n",
        "    plt.title(\n",
        "      \"Predicted {}, Truth: {}\".format(y_pred[incorrect], \n",
        "                                       y_test0[incorrect]), color='red')\n",
        "    plt.xticks([])\n",
        "    plt.yticks([])\n",
        "\n",
        "plt.suptitle('First 9 correct and incorrect predictions')"
      ],
      "execution_count": 34,
      "outputs": [
        {
          "output_type": "execute_result",
          "data": {
            "text/plain": [
              "Text(0.5, 0.98, 'First 9 correct and incorrect predictions')"
            ]
          },
          "metadata": {},
          "execution_count": 34
        },
        {
          "output_type": "display_data",
          "data": {
            "image/png": "[encoded data removed]",
            "text/plain": [
              "<Figure size 504x1008 with 18 Axes>"
            ]
          },
          "metadata": {}
        }
      ]
    },
    {
      "cell_type": "markdown",
      "metadata": {
        "id": "yQcVl4fvE_xE"
      },
      "source": [
        "---"
      ]
    }
  ]
}