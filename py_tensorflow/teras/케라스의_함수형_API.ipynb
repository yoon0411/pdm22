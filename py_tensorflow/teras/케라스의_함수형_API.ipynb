{
  "nbformat": 4,
  "nbformat_minor": 0,
  "metadata": {
    "colab": {
      "name": "케라스의 함수형 API.ipynb",
      "provenance": [],
      "collapsed_sections": [],
      "include_colab_link": true
    },
    "kernelspec": {
      "name": "python3",
      "display_name": "Python 3"
    },
    "language_info": {
      "name": "python"
    }
  },
  "cells": [
    {
      "cell_type": "markdown",
      "metadata": {
        "id": "view-in-github",
        "colab_type": "text"
      },
      "source": [
        "<a href=\"https://colab.research.google.com/github/yoon0411/pdm22/blob/main/py_tensorflow/teras/%EC%BC%80%EB%9D%BC%EC%8A%A4%EC%9D%98_%ED%95%A8%EC%88%98%ED%98%95_API.ipynb\" target=\"_parent\"><img src=\"https://colab.research.google.com/assets/colab-badge.svg\" alt=\"Open In Colab\"/></a>"
      ]
    },
    {
      "cell_type": "markdown",
      "metadata": {
        "id": "4xzBewpBPvSU"
      },
      "source": [
        "이 자료는 위키독스 딥 러닝을 이용한 자연어 처리 입문의 함수형 API 튜토리얼입니다.  \n",
        "링크 : https://wikidocs.net/38861\n",
        "\n",
        "> 참고자료: https://teddylee777.github.io/tensorflow/functional-api"
      ]
    },
    {
      "cell_type": "markdown",
      "metadata": {
        "id": "6A2uEJ3APvSV"
      },
      "source": [
        "2021년 10월 12일에 마지막으로 테스트되었습니다.\n",
        "- 2021년 11월 11일 보완."
      ]
    },
    {
      "cell_type": "code",
      "metadata": {
        "id": "Kecr2o6zg27y"
      },
      "source": [
        "import tensorflow as tf"
      ],
      "execution_count": 1,
      "outputs": []
    },
    {
      "cell_type": "code",
      "metadata": {
        "id": "ND9N4tufhCk5",
        "colab": {
          "base_uri": "https://localhost:8080/",
          "height": 35
        },
        "outputId": "cb234c75-0f1d-4bce-dcf7-916c0e138c26"
      },
      "source": [
        "tf.__version__"
      ],
      "execution_count": 2,
      "outputs": [
        {
          "output_type": "execute_result",
          "data": {
            "application/vnd.google.colaboratory.intrinsic+json": {
              "type": "string"
            },
            "text/plain": [
              "'2.7.0'"
            ]
          },
          "metadata": {},
          "execution_count": 2
        }
      ]
    },
    {
      "cell_type": "markdown",
      "metadata": {
        "id": "oA1aH__hhOwx"
      },
      "source": [
        "# Keras Model API\n",
        "- Sequential API\n",
        "- Functional API\n",
        "- Subclassing API\n",
        "---\n",
        "## 1. Sequential API"
      ]
    },
    {
      "cell_type": "code",
      "metadata": {
        "id": "EqhaoOSJhDHg",
        "colab": {
          "base_uri": "https://localhost:8080/"
        },
        "outputId": "2d35bdcf-354b-4b8a-ce81-49e17bfbe477"
      },
      "source": [
        "from tensorflow.keras.models import Sequential\n",
        "from tensorflow.keras.layers import Dense\n",
        "\n",
        "# input-Output Model (No hidden layer)\n",
        "model = Sequential()\n",
        "model.add(Dense(3, input_dim=4, activation='softmax'))\n",
        "model.summary()\n",
        "model.compile(optimizer='rmsprop', loss='categorical_crossentropy', metrics=['accuracy'])"
      ],
      "execution_count": 3,
      "outputs": [
        {
          "output_type": "stream",
          "name": "stdout",
          "text": [
            "Model: \"sequential\"\n",
            "_________________________________________________________________\n",
            " Layer (type)                Output Shape              Param #   \n",
            "=================================================================\n",
            " dense (Dense)               (None, 3)                 15        \n",
            "                                                                 \n",
            "=================================================================\n",
            "Total params: 15\n",
            "Trainable params: 15\n",
            "Non-trainable params: 0\n",
            "_________________________________________________________________\n"
          ]
        }
      ]
    },
    {
      "cell_type": "code",
      "metadata": {
        "id": "ZvhbanWUyXX1",
        "colab": {
          "base_uri": "https://localhost:8080/",
          "height": 174
        },
        "outputId": "78d5e0c9-b484-44e3-c7ff-9dddb8f8c8c5"
      },
      "source": [
        "# Plt model\n",
        "from tensorflow.keras.utils import plot_model\n",
        "plot_model(model) #, show_shapes=True, show_layer_names=True, to_file='model_S.png')"
      ],
      "execution_count": 4,
      "outputs": [
        {
          "output_type": "execute_result",
          "data": {
            "image/png": "[encoded data removed]",
            "text/plain": [
              "<IPython.core.display.Image object>"
            ]
          },
          "metadata": {},
          "execution_count": 4
        }
      ]
    },
    {
      "cell_type": "markdown",
      "metadata": {
        "id": "TR7Hz0RYn_7Q"
      },
      "source": [
        "## [DIY] 위의 모델에 hidden layer를 다음과 같이 추가하여 model_h1 을 만드시오.\n",
        "- number of neurons: 10\n",
        "- activation function; 'relu'\n"
      ]
    },
    {
      "cell_type": "code",
      "metadata": {
        "id": "TraVK4EhoeIp",
        "colab": {
          "base_uri": "https://localhost:8080/"
        },
        "outputId": "9cb30937-9776-426b-99b2-7bf5a254338b"
      },
      "source": [
        "# Your model : model_h1\n",
        "# input-Output Model (No hidden layer)\n",
        "model_h1 = Sequential()\n",
        "model_h1.add(Dense(10, input_dim=4, activation='relu'))\n",
        "model_h1.add(Dense(3, activation='softmax'))\n",
        "model_h1.summary()\n",
        "model_h1.compile(optimizer='rmsprop', loss='categorical_crossentropy', metrics=['accuracy'])"
      ],
      "execution_count": 7,
      "outputs": [
        {
          "output_type": "stream",
          "name": "stdout",
          "text": [
            "Model: \"sequential_1\"\n",
            "_________________________________________________________________\n",
            " Layer (type)                Output Shape              Param #   \n",
            "=================================================================\n",
            " dense_1 (Dense)             (None, 10)                50        \n",
            "                                                                 \n",
            " dense_2 (Dense)             (None, 3)                 33        \n",
            "                                                                 \n",
            "=================================================================\n",
            "Total params: 83\n",
            "Trainable params: 83\n",
            "Non-trainable params: 0\n",
            "_________________________________________________________________\n"
          ]
        }
      ]
    },
    {
      "cell_type": "code",
      "metadata": {
        "colab": {
          "base_uri": "https://localhost:8080/",
          "height": 272
        },
        "id": "GHwiEY4-gwL1",
        "outputId": "daa556d7-4521-4ec8-d72c-2161b5a097fd"
      },
      "source": [
        "# Plt model\n",
        "plot_model(model_h1) # show_shapes=True, show_layer_names=True, to_file='model_h1')"
      ],
      "execution_count": 17,
      "outputs": [
        {
          "output_type": "execute_result",
          "data": {
            "image/png": "[encoded data removed]",
            "text/plain": [
              "<IPython.core.display.Image object>"
            ]
          },
          "metadata": {},
          "execution_count": 17
        }
      ]
    },
    {
      "cell_type": "markdown",
      "metadata": {
        "id": "0OpCJGUuhQHe"
      },
      "source": [
        "# 2. Functional API"
      ]
    },
    {
      "cell_type": "markdown",
      "metadata": {
        "id": "Kpg7erK5hSI_"
      },
      "source": [
        "## 2-1. FFNN (Feed-Forward Neural Networks)"
      ]
    },
    {
      "cell_type": "code",
      "metadata": {
        "id": "qRsxxH32hDYg"
      },
      "source": [
        "from tensorflow.keras.layers import Input, Dense\n",
        "from tensorflow.keras.models import Model"
      ],
      "execution_count": 11,
      "outputs": []
    },
    {
      "cell_type": "code",
      "metadata": {
        "id": "9W28qN5xhORg"
      },
      "source": [
        "inputs = Input(shape=(10,))\n",
        "hidden1 = Dense(64, activation='relu')(inputs)\n",
        "hidden2 = Dense(64, activation='relu')(hidden1)\n",
        "output = Dense(1, activation='sigmoid')(hidden2)\n",
        "model = Model(inputs=inputs, outputs=output)"
      ],
      "execution_count": 12,
      "outputs": []
    },
    {
      "cell_type": "code",
      "metadata": {
        "id": "Dxr1LrcEhT-Q",
        "colab": {
          "base_uri": "https://localhost:8080/"
        },
        "outputId": "f6314146-4e61-490f-e7fc-2722d21fbf62"
      },
      "source": [
        "model.compile(optimizer='rmsprop', loss='categorical_crossentropy', metrics=['accuracy'])\n",
        "model.summary()"
      ],
      "execution_count": 13,
      "outputs": [
        {
          "output_type": "stream",
          "name": "stdout",
          "text": [
            "Model: \"model\"\n",
            "_________________________________________________________________\n",
            " Layer (type)                Output Shape              Param #   \n",
            "=================================================================\n",
            " input_1 (InputLayer)        [(None, 10)]              0         \n",
            "                                                                 \n",
            " dense_3 (Dense)             (None, 64)                704       \n",
            "                                                                 \n",
            " dense_4 (Dense)             (None, 64)                4160      \n",
            "                                                                 \n",
            " dense_5 (Dense)             (None, 1)                 65        \n",
            "                                                                 \n",
            "=================================================================\n",
            "Total params: 4,929\n",
            "Trainable params: 4,929\n",
            "Non-trainable params: 0\n",
            "_________________________________________________________________\n"
          ]
        }
      ]
    },
    {
      "cell_type": "code",
      "metadata": {
        "id": "CBJ3779yyvG0",
        "colab": {
          "base_uri": "https://localhost:8080/"
        },
        "outputId": "32136288-4ae3-4776-d0d0-6a520e368afd"
      },
      "source": [
        "plot_model(model) , #show_shapes=True, show_layer_names=True, to_file='model_F.png')"
      ],
      "execution_count": 20,
      "outputs": [
        {
          "output_type": "execute_result",
          "data": {
            "text/plain": [
              "(<IPython.core.display.Image object>,)"
            ]
          },
          "metadata": {},
          "execution_count": 20
        }
      ]
    },
    {
      "cell_type": "markdown",
      "metadata": {
        "id": "MXNy5F8rhnYs"
      },
      "source": [
        "## 2-2. Linear Regression\n",
        "> 참고: https://wikidocs.net/111472"
      ]
    },
    {
      "cell_type": "code",
      "metadata": {
        "id": "3y3m4iG0hnHx",
        "colab": {
          "base_uri": "https://localhost:8080/"
        },
        "outputId": "b09ec356-1621-4a21-cce1-ef22660d2aa1"
      },
      "source": [
        "from tensorflow.keras.layers import Input, Dense\n",
        "from tensorflow.keras import optimizers\n",
        "from tensorflow.keras.models import Model\n",
        "\n",
        "X = [1, 2, 3, 4, 5, 6, 7, 8, 9] # 공부하는 시간\n",
        "y = [11, 22, 33, 44, 53, 66, 77, 87, 95] # 각 공부하는 시간에 맵핑되는 성적\n",
        "\n",
        "inputs = Input(shape=(1,))\n",
        "output = Dense(1, activation='linear')(inputs)\n",
        "linear_model = Model(inputs, output)\n",
        "\n",
        "sgd = optimizers.SGD(learning_rate=0.01)\n",
        "\n",
        "linear_model.compile(optimizer=sgd ,loss='mse',metrics=['mse'])\n",
        "linear_model.fit(X, y, epochs=300)"
      ],
      "execution_count": 21,
      "outputs": [
        {
          "output_type": "stream",
          "name": "stdout",
          "text": [
            "Epoch 1/300\n",
            "1/1 [==============================] - 1s 623ms/step - loss: 3927.2549 - mse: 3927.2549\n",
            "Epoch 2/300\n",
            "1/1 [==============================] - 0s 9ms/step - loss: 484.3035 - mse: 484.3035\n",
            "Epoch 3/300\n",
            "1/1 [==============================] - 0s 6ms/step - loss: 60.6732 - mse: 60.6732\n",
            "Epoch 4/300\n",
            "1/1 [==============================] - 0s 6ms/step - loss: 8.5473 - mse: 8.5473\n",
            "Epoch 5/300\n",
            "1/1 [==============================] - 0s 6ms/step - loss: 2.1324 - mse: 2.1324\n",
            "Epoch 6/300\n",
            "1/1 [==============================] - 0s 5ms/step - loss: 1.3418 - mse: 1.3418\n",
            "Epoch 7/300\n",
            "1/1 [==============================] - 0s 6ms/step - loss: 1.2433 - mse: 1.2433\n",
            "Epoch 8/300\n",
            "1/1 [==============================] - 0s 10ms/step - loss: 1.2300 - mse: 1.2300\n",
            "Epoch 9/300\n",
            "1/1 [==============================] - 0s 5ms/step - loss: 1.2271 - mse: 1.2271\n",
            "Epoch 10/300\n",
            "1/1 [==============================] - 0s 6ms/step - loss: 1.2256 - mse: 1.2256\n",
            "Epoch 11/300\n",
            "1/1 [==============================] - 0s 11ms/step - loss: 1.2242 - mse: 1.2242\n",
            "Epoch 12/300\n",
            "1/1 [==============================] - 0s 6ms/step - loss: 1.2229 - mse: 1.2229\n",
            "Epoch 13/300\n",
            "1/1 [==============================] - 0s 11ms/step - loss: 1.2215 - mse: 1.2215\n",
            "Epoch 14/300\n",
            "1/1 [==============================] - 0s 10ms/step - loss: 1.2202 - mse: 1.2202\n",
            "Epoch 15/300\n",
            "1/1 [==============================] - 0s 10ms/step - loss: 1.2189 - mse: 1.2189\n",
            "Epoch 16/300\n",
            "1/1 [==============================] - 0s 10ms/step - loss: 1.2176 - mse: 1.2176\n",
            "Epoch 17/300\n",
            "1/1 [==============================] - 0s 8ms/step - loss: 1.2163 - mse: 1.2163\n",
            "Epoch 18/300\n",
            "1/1 [==============================] - 0s 6ms/step - loss: 1.2150 - mse: 1.2150\n",
            "Epoch 19/300\n",
            "1/1 [==============================] - 0s 11ms/step - loss: 1.2137 - mse: 1.2137\n",
            "Epoch 20/300\n",
            "1/1 [==============================] - 0s 6ms/step - loss: 1.2125 - mse: 1.2125\n",
            "Epoch 21/300\n",
            "1/1 [==============================] - 0s 5ms/step - loss: 1.2112 - mse: 1.2112\n",
            "Epoch 22/300\n",
            "1/1 [==============================] - 0s 8ms/step - loss: 1.2100 - mse: 1.2100\n",
            "Epoch 23/300\n",
            "1/1 [==============================] - 0s 6ms/step - loss: 1.2088 - mse: 1.2088\n",
            "Epoch 24/300\n",
            "1/1 [==============================] - 0s 5ms/step - loss: 1.2075 - mse: 1.2075\n",
            "Epoch 25/300\n",
            "1/1 [==============================] - 0s 5ms/step - loss: 1.2063 - mse: 1.2063\n",
            "Epoch 26/300\n",
            "1/1 [==============================] - 0s 5ms/step - loss: 1.2051 - mse: 1.2051\n",
            "Epoch 27/300\n",
            "1/1 [==============================] - 0s 8ms/step - loss: 1.2039 - mse: 1.2039\n",
            "Epoch 28/300\n",
            "1/1 [==============================] - 0s 7ms/step - loss: 1.2028 - mse: 1.2028\n",
            "Epoch 29/300\n",
            "1/1 [==============================] - 0s 5ms/step - loss: 1.2016 - mse: 1.2016\n",
            "Epoch 30/300\n",
            "1/1 [==============================] - 0s 6ms/step - loss: 1.2004 - mse: 1.2004\n",
            "Epoch 31/300\n",
            "1/1 [==============================] - 0s 5ms/step - loss: 1.1993 - mse: 1.1993\n",
            "Epoch 32/300\n",
            "1/1 [==============================] - 0s 6ms/step - loss: 1.1981 - mse: 1.1981\n",
            "Epoch 33/300\n",
            "1/1 [==============================] - 0s 6ms/step - loss: 1.1970 - mse: 1.1970\n",
            "Epoch 34/300\n",
            "1/1 [==============================] - 0s 6ms/step - loss: 1.1959 - mse: 1.1959\n",
            "Epoch 35/300\n",
            "1/1 [==============================] - 0s 7ms/step - loss: 1.1947 - mse: 1.1947\n",
            "Epoch 36/300\n",
            "1/1 [==============================] - 0s 6ms/step - loss: 1.1936 - mse: 1.1936\n",
            "Epoch 37/300\n",
            "1/1 [==============================] - 0s 5ms/step - loss: 1.1925 - mse: 1.1925\n",
            "Epoch 38/300\n",
            "1/1 [==============================] - 0s 6ms/step - loss: 1.1915 - mse: 1.1915\n",
            "Epoch 39/300\n",
            "1/1 [==============================] - 0s 5ms/step - loss: 1.1904 - mse: 1.1904\n",
            "Epoch 40/300\n",
            "1/1 [==============================] - 0s 6ms/step - loss: 1.1893 - mse: 1.1893\n",
            "Epoch 41/300\n",
            "1/1 [==============================] - 0s 7ms/step - loss: 1.1883 - mse: 1.1883\n",
            "Epoch 42/300\n",
            "1/1 [==============================] - 0s 7ms/step - loss: 1.1872 - mse: 1.1872\n",
            "Epoch 43/300\n",
            "1/1 [==============================] - 0s 7ms/step - loss: 1.1862 - mse: 1.1862\n",
            "Epoch 44/300\n",
            "1/1 [==============================] - 0s 6ms/step - loss: 1.1851 - mse: 1.1851\n",
            "Epoch 45/300\n",
            "1/1 [==============================] - 0s 5ms/step - loss: 1.1841 - mse: 1.1841\n",
            "Epoch 46/300\n",
            "1/1 [==============================] - 0s 6ms/step - loss: 1.1831 - mse: 1.1831\n",
            "Epoch 47/300\n",
            "1/1 [==============================] - 0s 8ms/step - loss: 1.1821 - mse: 1.1821\n",
            "Epoch 48/300\n",
            "1/1 [==============================] - 0s 11ms/step - loss: 1.1811 - mse: 1.1811\n",
            "Epoch 49/300\n",
            "1/1 [==============================] - 0s 11ms/step - loss: 1.1801 - mse: 1.1801\n",
            "Epoch 50/300\n",
            "1/1 [==============================] - 0s 7ms/step - loss: 1.1791 - mse: 1.1791\n",
            "Epoch 51/300\n",
            "1/1 [==============================] - 0s 6ms/step - loss: 1.1781 - mse: 1.1781\n",
            "Epoch 52/300\n",
            "1/1 [==============================] - 0s 6ms/step - loss: 1.1771 - mse: 1.1771\n",
            "Epoch 53/300\n",
            "1/1 [==============================] - 0s 7ms/step - loss: 1.1762 - mse: 1.1762\n",
            "Epoch 54/300\n",
            "1/1 [==============================] - 0s 6ms/step - loss: 1.1752 - mse: 1.1752\n",
            "Epoch 55/300\n",
            "1/1 [==============================] - 0s 11ms/step - loss: 1.1743 - mse: 1.1743\n",
            "Epoch 56/300\n",
            "1/1 [==============================] - 0s 19ms/step - loss: 1.1733 - mse: 1.1733\n",
            "Epoch 57/300\n",
            "1/1 [==============================] - 0s 10ms/step - loss: 1.1724 - mse: 1.1724\n",
            "Epoch 58/300\n",
            "1/1 [==============================] - 0s 12ms/step - loss: 1.1715 - mse: 1.1715\n",
            "Epoch 59/300\n",
            "1/1 [==============================] - 0s 6ms/step - loss: 1.1706 - mse: 1.1706\n",
            "Epoch 60/300\n",
            "1/1 [==============================] - 0s 9ms/step - loss: 1.1697 - mse: 1.1697\n",
            "Epoch 61/300\n",
            "1/1 [==============================] - 0s 8ms/step - loss: 1.1688 - mse: 1.1688\n",
            "Epoch 62/300\n",
            "1/1 [==============================] - 0s 7ms/step - loss: 1.1679 - mse: 1.1679\n",
            "Epoch 63/300\n",
            "1/1 [==============================] - 0s 11ms/step - loss: 1.1670 - mse: 1.1670\n",
            "Epoch 64/300\n",
            "1/1 [==============================] - 0s 6ms/step - loss: 1.1661 - mse: 1.1661\n",
            "Epoch 65/300\n",
            "1/1 [==============================] - 0s 6ms/step - loss: 1.1652 - mse: 1.1652\n",
            "Epoch 66/300\n",
            "1/1 [==============================] - 0s 5ms/step - loss: 1.1644 - mse: 1.1644\n",
            "Epoch 67/300\n",
            "1/1 [==============================] - 0s 7ms/step - loss: 1.1635 - mse: 1.1635\n",
            "Epoch 68/300\n",
            "1/1 [==============================] - 0s 9ms/step - loss: 1.1627 - mse: 1.1627\n",
            "Epoch 69/300\n",
            "1/1 [==============================] - 0s 6ms/step - loss: 1.1618 - mse: 1.1618\n",
            "Epoch 70/300\n",
            "1/1 [==============================] - 0s 5ms/step - loss: 1.1610 - mse: 1.1610\n",
            "Epoch 71/300\n",
            "1/1 [==============================] - 0s 12ms/step - loss: 1.1602 - mse: 1.1602\n",
            "Epoch 72/300\n",
            "1/1 [==============================] - 0s 6ms/step - loss: 1.1593 - mse: 1.1593\n",
            "Epoch 73/300\n",
            "1/1 [==============================] - 0s 8ms/step - loss: 1.1585 - mse: 1.1585\n",
            "Epoch 74/300\n",
            "1/1 [==============================] - 0s 5ms/step - loss: 1.1577 - mse: 1.1577\n",
            "Epoch 75/300\n",
            "1/1 [==============================] - 0s 6ms/step - loss: 1.1569 - mse: 1.1569\n",
            "Epoch 76/300\n",
            "1/1 [==============================] - 0s 6ms/step - loss: 1.1561 - mse: 1.1561\n",
            "Epoch 77/300\n",
            "1/1 [==============================] - 0s 6ms/step - loss: 1.1553 - mse: 1.1553\n",
            "Epoch 78/300\n",
            "1/1 [==============================] - 0s 17ms/step - loss: 1.1545 - mse: 1.1545\n",
            "Epoch 79/300\n",
            "1/1 [==============================] - 0s 8ms/step - loss: 1.1538 - mse: 1.1538\n",
            "Epoch 80/300\n",
            "1/1 [==============================] - 0s 11ms/step - loss: 1.1530 - mse: 1.1530\n",
            "Epoch 81/300\n",
            "1/1 [==============================] - 0s 6ms/step - loss: 1.1522 - mse: 1.1522\n",
            "Epoch 82/300\n",
            "1/1 [==============================] - 0s 6ms/step - loss: 1.1515 - mse: 1.1515\n",
            "Epoch 83/300\n",
            "1/1 [==============================] - 0s 6ms/step - loss: 1.1507 - mse: 1.1507\n",
            "Epoch 84/300\n",
            "1/1 [==============================] - 0s 6ms/step - loss: 1.1500 - mse: 1.1500\n",
            "Epoch 85/300\n",
            "1/1 [==============================] - 0s 7ms/step - loss: 1.1492 - mse: 1.1492\n",
            "Epoch 86/300\n",
            "1/1 [==============================] - 0s 6ms/step - loss: 1.1485 - mse: 1.1485\n",
            "Epoch 87/300\n",
            "1/1 [==============================] - 0s 4ms/step - loss: 1.1478 - mse: 1.1478\n",
            "Epoch 88/300\n",
            "1/1 [==============================] - 0s 6ms/step - loss: 1.1471 - mse: 1.1471\n",
            "Epoch 89/300\n",
            "1/1 [==============================] - 0s 8ms/step - loss: 1.1464 - mse: 1.1464\n",
            "Epoch 90/300\n",
            "1/1 [==============================] - 0s 6ms/step - loss: 1.1456 - mse: 1.1456\n",
            "Epoch 91/300\n",
            "1/1 [==============================] - 0s 11ms/step - loss: 1.1449 - mse: 1.1449\n",
            "Epoch 92/300\n",
            "1/1 [==============================] - 0s 7ms/step - loss: 1.1442 - mse: 1.1442\n",
            "Epoch 93/300\n",
            "1/1 [==============================] - 0s 8ms/step - loss: 1.1435 - mse: 1.1435\n",
            "Epoch 94/300\n",
            "1/1 [==============================] - 0s 20ms/step - loss: 1.1429 - mse: 1.1429\n",
            "Epoch 95/300\n",
            "1/1 [==============================] - 0s 14ms/step - loss: 1.1422 - mse: 1.1422\n",
            "Epoch 96/300\n",
            "1/1 [==============================] - 0s 6ms/step - loss: 1.1415 - mse: 1.1415\n",
            "Epoch 97/300\n",
            "1/1 [==============================] - 0s 11ms/step - loss: 1.1408 - mse: 1.1408\n",
            "Epoch 98/300\n",
            "1/1 [==============================] - 0s 12ms/step - loss: 1.1402 - mse: 1.1402\n",
            "Epoch 99/300\n",
            "1/1 [==============================] - 0s 12ms/step - loss: 1.1395 - mse: 1.1395\n",
            "Epoch 100/300\n",
            "1/1 [==============================] - 0s 12ms/step - loss: 1.1389 - mse: 1.1389\n",
            "Epoch 101/300\n",
            "1/1 [==============================] - 0s 12ms/step - loss: 1.1382 - mse: 1.1382\n",
            "Epoch 102/300\n",
            "1/1 [==============================] - 0s 19ms/step - loss: 1.1376 - mse: 1.1376\n",
            "Epoch 103/300\n",
            "1/1 [==============================] - 0s 20ms/step - loss: 1.1369 - mse: 1.1369\n",
            "Epoch 104/300\n",
            "1/1 [==============================] - 0s 19ms/step - loss: 1.1363 - mse: 1.1363\n",
            "Epoch 105/300\n",
            "1/1 [==============================] - 0s 27ms/step - loss: 1.1357 - mse: 1.1357\n",
            "Epoch 106/300\n",
            "1/1 [==============================] - 0s 13ms/step - loss: 1.1351 - mse: 1.1351\n",
            "Epoch 107/300\n",
            "1/1 [==============================] - 0s 5ms/step - loss: 1.1344 - mse: 1.1344\n",
            "Epoch 108/300\n",
            "1/1 [==============================] - 0s 6ms/step - loss: 1.1338 - mse: 1.1338\n",
            "Epoch 109/300\n",
            "1/1 [==============================] - 0s 11ms/step - loss: 1.1332 - mse: 1.1332\n",
            "Epoch 110/300\n",
            "1/1 [==============================] - 0s 12ms/step - loss: 1.1326 - mse: 1.1326\n",
            "Epoch 111/300\n",
            "1/1 [==============================] - 0s 16ms/step - loss: 1.1320 - mse: 1.1320\n",
            "Epoch 112/300\n",
            "1/1 [==============================] - 0s 15ms/step - loss: 1.1314 - mse: 1.1314\n",
            "Epoch 113/300\n",
            "1/1 [==============================] - 0s 7ms/step - loss: 1.1308 - mse: 1.1308\n",
            "Epoch 114/300\n",
            "1/1 [==============================] - 0s 26ms/step - loss: 1.1303 - mse: 1.1303\n",
            "Epoch 115/300\n",
            "1/1 [==============================] - 0s 10ms/step - loss: 1.1297 - mse: 1.1297\n",
            "Epoch 116/300\n",
            "1/1 [==============================] - 0s 11ms/step - loss: 1.1291 - mse: 1.1291\n",
            "Epoch 117/300\n",
            "1/1 [==============================] - 0s 11ms/step - loss: 1.1286 - mse: 1.1286\n",
            "Epoch 118/300\n",
            "1/1 [==============================] - 0s 18ms/step - loss: 1.1280 - mse: 1.1280\n",
            "Epoch 119/300\n",
            "1/1 [==============================] - 0s 28ms/step - loss: 1.1274 - mse: 1.1274\n",
            "Epoch 120/300\n",
            "1/1 [==============================] - 0s 11ms/step - loss: 1.1269 - mse: 1.1269\n",
            "Epoch 121/300\n",
            "1/1 [==============================] - 0s 32ms/step - loss: 1.1263 - mse: 1.1263\n",
            "Epoch 122/300\n",
            "1/1 [==============================] - 0s 20ms/step - loss: 1.1258 - mse: 1.1258\n",
            "Epoch 123/300\n",
            "1/1 [==============================] - 0s 8ms/step - loss: 1.1252 - mse: 1.1252\n",
            "Epoch 124/300\n",
            "1/1 [==============================] - 0s 33ms/step - loss: 1.1247 - mse: 1.1247\n",
            "Epoch 125/300\n",
            "1/1 [==============================] - 0s 16ms/step - loss: 1.1242 - mse: 1.1242\n",
            "Epoch 126/300\n",
            "1/1 [==============================] - 0s 10ms/step - loss: 1.1236 - mse: 1.1236\n",
            "Epoch 127/300\n",
            "1/1 [==============================] - 0s 7ms/step - loss: 1.1231 - mse: 1.1231\n",
            "Epoch 128/300\n",
            "1/1 [==============================] - 0s 9ms/step - loss: 1.1226 - mse: 1.1226\n",
            "Epoch 129/300\n",
            "1/1 [==============================] - 0s 10ms/step - loss: 1.1221 - mse: 1.1221\n",
            "Epoch 130/300\n",
            "1/1 [==============================] - 0s 11ms/step - loss: 1.1216 - mse: 1.1216\n",
            "Epoch 131/300\n",
            "1/1 [==============================] - 0s 12ms/step - loss: 1.1211 - mse: 1.1211\n",
            "Epoch 132/300\n",
            "1/1 [==============================] - 0s 18ms/step - loss: 1.1206 - mse: 1.1206\n",
            "Epoch 133/300\n",
            "1/1 [==============================] - 0s 16ms/step - loss: 1.1201 - mse: 1.1201\n",
            "Epoch 134/300\n",
            "1/1 [==============================] - 0s 10ms/step - loss: 1.1196 - mse: 1.1196\n",
            "Epoch 135/300\n",
            "1/1 [==============================] - 0s 17ms/step - loss: 1.1191 - mse: 1.1191\n",
            "Epoch 136/300\n",
            "1/1 [==============================] - 0s 16ms/step - loss: 1.1186 - mse: 1.1186\n",
            "Epoch 137/300\n",
            "1/1 [==============================] - 0s 17ms/step - loss: 1.1181 - mse: 1.1181\n",
            "Epoch 138/300\n",
            "1/1 [==============================] - 0s 13ms/step - loss: 1.1176 - mse: 1.1176\n",
            "Epoch 139/300\n",
            "1/1 [==============================] - 0s 18ms/step - loss: 1.1172 - mse: 1.1172\n",
            "Epoch 140/300\n",
            "1/1 [==============================] - 0s 6ms/step - loss: 1.1167 - mse: 1.1167\n",
            "Epoch 141/300\n",
            "1/1 [==============================] - 0s 20ms/step - loss: 1.1162 - mse: 1.1162\n",
            "Epoch 142/300\n",
            "1/1 [==============================] - 0s 10ms/step - loss: 1.1158 - mse: 1.1158\n",
            "Epoch 143/300\n",
            "1/1 [==============================] - 0s 11ms/step - loss: 1.1153 - mse: 1.1153\n",
            "Epoch 144/300\n",
            "1/1 [==============================] - 0s 9ms/step - loss: 1.1149 - mse: 1.1149\n",
            "Epoch 145/300\n",
            "1/1 [==============================] - 0s 6ms/step - loss: 1.1144 - mse: 1.1144\n",
            "Epoch 146/300\n",
            "1/1 [==============================] - 0s 7ms/step - loss: 1.1140 - mse: 1.1140\n",
            "Epoch 147/300\n",
            "1/1 [==============================] - 0s 15ms/step - loss: 1.1135 - mse: 1.1135\n",
            "Epoch 148/300\n",
            "1/1 [==============================] - 0s 5ms/step - loss: 1.1131 - mse: 1.1131\n",
            "Epoch 149/300\n",
            "1/1 [==============================] - 0s 6ms/step - loss: 1.1126 - mse: 1.1126\n",
            "Epoch 150/300\n",
            "1/1 [==============================] - 0s 11ms/step - loss: 1.1122 - mse: 1.1122\n",
            "Epoch 151/300\n",
            "1/1 [==============================] - 0s 9ms/step - loss: 1.1118 - mse: 1.1118\n",
            "Epoch 152/300\n",
            "1/1 [==============================] - 0s 9ms/step - loss: 1.1114 - mse: 1.1114\n",
            "Epoch 153/300\n",
            "1/1 [==============================] - 0s 7ms/step - loss: 1.1109 - mse: 1.1109\n",
            "Epoch 154/300\n",
            "1/1 [==============================] - 0s 10ms/step - loss: 1.1105 - mse: 1.1105\n",
            "Epoch 155/300\n",
            "1/1 [==============================] - 0s 6ms/step - loss: 1.1101 - mse: 1.1101\n",
            "Epoch 156/300\n",
            "1/1 [==============================] - 0s 11ms/step - loss: 1.1097 - mse: 1.1097\n",
            "Epoch 157/300\n",
            "1/1 [==============================] - 0s 8ms/step - loss: 1.1093 - mse: 1.1093\n",
            "Epoch 158/300\n",
            "1/1 [==============================] - 0s 11ms/step - loss: 1.1089 - mse: 1.1089\n",
            "Epoch 159/300\n",
            "1/1 [==============================] - 0s 6ms/step - loss: 1.1085 - mse: 1.1085\n",
            "Epoch 160/300\n",
            "1/1 [==============================] - 0s 9ms/step - loss: 1.1081 - mse: 1.1081\n",
            "Epoch 161/300\n",
            "1/1 [==============================] - 0s 13ms/step - loss: 1.1077 - mse: 1.1077\n",
            "Epoch 162/300\n",
            "1/1 [==============================] - 0s 6ms/step - loss: 1.1073 - mse: 1.1073\n",
            "Epoch 163/300\n",
            "1/1 [==============================] - 0s 8ms/step - loss: 1.1069 - mse: 1.1069\n",
            "Epoch 164/300\n",
            "1/1 [==============================] - 0s 9ms/step - loss: 1.1065 - mse: 1.1065\n",
            "Epoch 165/300\n",
            "1/1 [==============================] - 0s 10ms/step - loss: 1.1061 - mse: 1.1061\n",
            "Epoch 166/300\n",
            "1/1 [==============================] - 0s 10ms/step - loss: 1.1058 - mse: 1.1058\n",
            "Epoch 167/300\n",
            "1/1 [==============================] - 0s 6ms/step - loss: 1.1054 - mse: 1.1054\n",
            "Epoch 168/300\n",
            "1/1 [==============================] - 0s 13ms/step - loss: 1.1050 - mse: 1.1050\n",
            "Epoch 169/300\n",
            "1/1 [==============================] - 0s 5ms/step - loss: 1.1046 - mse: 1.1046\n",
            "Epoch 170/300\n",
            "1/1 [==============================] - 0s 5ms/step - loss: 1.1043 - mse: 1.1043\n",
            "Epoch 171/300\n",
            "1/1 [==============================] - 0s 9ms/step - loss: 1.1039 - mse: 1.1039\n",
            "Epoch 172/300\n",
            "1/1 [==============================] - 0s 13ms/step - loss: 1.1035 - mse: 1.1035\n",
            "Epoch 173/300\n",
            "1/1 [==============================] - 0s 14ms/step - loss: 1.1032 - mse: 1.1032\n",
            "Epoch 174/300\n",
            "1/1 [==============================] - 0s 8ms/step - loss: 1.1028 - mse: 1.1028\n",
            "Epoch 175/300\n",
            "1/1 [==============================] - 0s 8ms/step - loss: 1.1025 - mse: 1.1025\n",
            "Epoch 176/300\n",
            "1/1 [==============================] - 0s 11ms/step - loss: 1.1021 - mse: 1.1021\n",
            "Epoch 177/300\n",
            "1/1 [==============================] - 0s 7ms/step - loss: 1.1018 - mse: 1.1018\n",
            "Epoch 178/300\n",
            "1/1 [==============================] - 0s 8ms/step - loss: 1.1014 - mse: 1.1014\n",
            "Epoch 179/300\n",
            "1/1 [==============================] - 0s 6ms/step - loss: 1.1011 - mse: 1.1011\n",
            "Epoch 180/300\n",
            "1/1 [==============================] - 0s 6ms/step - loss: 1.1008 - mse: 1.1008\n",
            "Epoch 181/300\n",
            "1/1 [==============================] - 0s 19ms/step - loss: 1.1004 - mse: 1.1004\n",
            "Epoch 182/300\n",
            "1/1 [==============================] - 0s 13ms/step - loss: 1.1001 - mse: 1.1001\n",
            "Epoch 183/300\n",
            "1/1 [==============================] - 0s 20ms/step - loss: 1.0998 - mse: 1.0998\n",
            "Epoch 184/300\n",
            "1/1 [==============================] - 0s 8ms/step - loss: 1.0994 - mse: 1.0994\n",
            "Epoch 185/300\n",
            "1/1 [==============================] - 0s 12ms/step - loss: 1.0991 - mse: 1.0991\n",
            "Epoch 186/300\n",
            "1/1 [==============================] - 0s 11ms/step - loss: 1.0988 - mse: 1.0988\n",
            "Epoch 187/300\n",
            "1/1 [==============================] - 0s 6ms/step - loss: 1.0985 - mse: 1.0985\n",
            "Epoch 188/300\n",
            "1/1 [==============================] - 0s 12ms/step - loss: 1.0982 - mse: 1.0982\n",
            "Epoch 189/300\n",
            "1/1 [==============================] - 0s 8ms/step - loss: 1.0978 - mse: 1.0978\n",
            "Epoch 190/300\n",
            "1/1 [==============================] - 0s 16ms/step - loss: 1.0975 - mse: 1.0975\n",
            "Epoch 191/300\n",
            "1/1 [==============================] - 0s 7ms/step - loss: 1.0972 - mse: 1.0972\n",
            "Epoch 192/300\n",
            "1/1 [==============================] - 0s 7ms/step - loss: 1.0969 - mse: 1.0969\n",
            "Epoch 193/300\n",
            "1/1 [==============================] - 0s 13ms/step - loss: 1.0966 - mse: 1.0966\n",
            "Epoch 194/300\n",
            "1/1 [==============================] - 0s 6ms/step - loss: 1.0963 - mse: 1.0963\n",
            "Epoch 195/300\n",
            "1/1 [==============================] - 0s 6ms/step - loss: 1.0960 - mse: 1.0960\n",
            "Epoch 196/300\n",
            "1/1 [==============================] - 0s 14ms/step - loss: 1.0957 - mse: 1.0957\n",
            "Epoch 197/300\n",
            "1/1 [==============================] - 0s 6ms/step - loss: 1.0954 - mse: 1.0954\n",
            "Epoch 198/300\n",
            "1/1 [==============================] - 0s 8ms/step - loss: 1.0951 - mse: 1.0951\n",
            "Epoch 199/300\n",
            "1/1 [==============================] - 0s 6ms/step - loss: 1.0948 - mse: 1.0948\n",
            "Epoch 200/300\n",
            "1/1 [==============================] - 0s 14ms/step - loss: 1.0946 - mse: 1.0946\n",
            "Epoch 201/300\n",
            "1/1 [==============================] - 0s 11ms/step - loss: 1.0943 - mse: 1.0943\n",
            "Epoch 202/300\n",
            "1/1 [==============================] - 0s 19ms/step - loss: 1.0940 - mse: 1.0940\n",
            "Epoch 203/300\n",
            "1/1 [==============================] - 0s 7ms/step - loss: 1.0937 - mse: 1.0937\n",
            "Epoch 204/300\n",
            "1/1 [==============================] - 0s 9ms/step - loss: 1.0934 - mse: 1.0934\n",
            "Epoch 205/300\n",
            "1/1 [==============================] - 0s 11ms/step - loss: 1.0932 - mse: 1.0932\n",
            "Epoch 206/300\n",
            "1/1 [==============================] - 0s 11ms/step - loss: 1.0929 - mse: 1.0929\n",
            "Epoch 207/300\n",
            "1/1 [==============================] - 0s 7ms/step - loss: 1.0926 - mse: 1.0926\n",
            "Epoch 208/300\n",
            "1/1 [==============================] - 0s 5ms/step - loss: 1.0923 - mse: 1.0923\n",
            "Epoch 209/300\n",
            "1/1 [==============================] - 0s 12ms/step - loss: 1.0921 - mse: 1.0921\n",
            "Epoch 210/300\n",
            "1/1 [==============================] - 0s 12ms/step - loss: 1.0918 - mse: 1.0918\n",
            "Epoch 211/300\n",
            "1/1 [==============================] - 0s 16ms/step - loss: 1.0915 - mse: 1.0915\n",
            "Epoch 212/300\n",
            "1/1 [==============================] - 0s 9ms/step - loss: 1.0913 - mse: 1.0913\n",
            "Epoch 213/300\n",
            "1/1 [==============================] - 0s 18ms/step - loss: 1.0910 - mse: 1.0910\n",
            "Epoch 214/300\n",
            "1/1 [==============================] - 0s 10ms/step - loss: 1.0908 - mse: 1.0908\n",
            "Epoch 215/300\n",
            "1/1 [==============================] - 0s 6ms/step - loss: 1.0905 - mse: 1.0905\n",
            "Epoch 216/300\n",
            "1/1 [==============================] - 0s 8ms/step - loss: 1.0903 - mse: 1.0903\n",
            "Epoch 217/300\n",
            "1/1 [==============================] - 0s 6ms/step - loss: 1.0900 - mse: 1.0900\n",
            "Epoch 218/300\n",
            "1/1 [==============================] - 0s 6ms/step - loss: 1.0898 - mse: 1.0898\n",
            "Epoch 219/300\n",
            "1/1 [==============================] - 0s 7ms/step - loss: 1.0895 - mse: 1.0895\n",
            "Epoch 220/300\n",
            "1/1 [==============================] - 0s 6ms/step - loss: 1.0893 - mse: 1.0893\n",
            "Epoch 221/300\n",
            "1/1 [==============================] - 0s 6ms/step - loss: 1.0890 - mse: 1.0890\n",
            "Epoch 222/300\n",
            "1/1 [==============================] - 0s 11ms/step - loss: 1.0888 - mse: 1.0888\n",
            "Epoch 223/300\n",
            "1/1 [==============================] - 0s 11ms/step - loss: 1.0886 - mse: 1.0886\n",
            "Epoch 224/300\n",
            "1/1 [==============================] - 0s 5ms/step - loss: 1.0883 - mse: 1.0883\n",
            "Epoch 225/300\n",
            "1/1 [==============================] - 0s 6ms/step - loss: 1.0881 - mse: 1.0881\n",
            "Epoch 226/300\n",
            "1/1 [==============================] - 0s 7ms/step - loss: 1.0879 - mse: 1.0879\n",
            "Epoch 227/300\n",
            "1/1 [==============================] - 0s 9ms/step - loss: 1.0876 - mse: 1.0876\n",
            "Epoch 228/300\n",
            "1/1 [==============================] - 0s 6ms/step - loss: 1.0874 - mse: 1.0874\n",
            "Epoch 229/300\n",
            "1/1 [==============================] - 0s 6ms/step - loss: 1.0872 - mse: 1.0872\n",
            "Epoch 230/300\n",
            "1/1 [==============================] - 0s 8ms/step - loss: 1.0870 - mse: 1.0870\n",
            "Epoch 231/300\n",
            "1/1 [==============================] - 0s 5ms/step - loss: 1.0867 - mse: 1.0867\n",
            "Epoch 232/300\n",
            "1/1 [==============================] - 0s 19ms/step - loss: 1.0865 - mse: 1.0865\n",
            "Epoch 233/300\n",
            "1/1 [==============================] - 0s 7ms/step - loss: 1.0863 - mse: 1.0863\n",
            "Epoch 234/300\n",
            "1/1 [==============================] - 0s 11ms/step - loss: 1.0861 - mse: 1.0861\n",
            "Epoch 235/300\n",
            "1/1 [==============================] - 0s 6ms/step - loss: 1.0859 - mse: 1.0859\n",
            "Epoch 236/300\n",
            "1/1 [==============================] - 0s 7ms/step - loss: 1.0857 - mse: 1.0857\n",
            "Epoch 237/300\n",
            "1/1 [==============================] - 0s 9ms/step - loss: 1.0854 - mse: 1.0854\n",
            "Epoch 238/300\n",
            "1/1 [==============================] - 0s 6ms/step - loss: 1.0852 - mse: 1.0852\n",
            "Epoch 239/300\n",
            "1/1 [==============================] - 0s 10ms/step - loss: 1.0850 - mse: 1.0850\n",
            "Epoch 240/300\n",
            "1/1 [==============================] - 0s 6ms/step - loss: 1.0848 - mse: 1.0848\n",
            "Epoch 241/300\n",
            "1/1 [==============================] - 0s 6ms/step - loss: 1.0846 - mse: 1.0846\n",
            "Epoch 242/300\n",
            "1/1 [==============================] - 0s 7ms/step - loss: 1.0844 - mse: 1.0844\n",
            "Epoch 243/300\n",
            "1/1 [==============================] - 0s 7ms/step - loss: 1.0842 - mse: 1.0842\n",
            "Epoch 244/300\n",
            "1/1 [==============================] - 0s 9ms/step - loss: 1.0840 - mse: 1.0840\n",
            "Epoch 245/300\n",
            "1/1 [==============================] - 0s 6ms/step - loss: 1.0838 - mse: 1.0838\n",
            "Epoch 246/300\n",
            "1/1 [==============================] - 0s 6ms/step - loss: 1.0836 - mse: 1.0836\n",
            "Epoch 247/300\n",
            "1/1 [==============================] - 0s 6ms/step - loss: 1.0834 - mse: 1.0834\n",
            "Epoch 248/300\n",
            "1/1 [==============================] - 0s 6ms/step - loss: 1.0832 - mse: 1.0832\n",
            "Epoch 249/300\n",
            "1/1 [==============================] - 0s 5ms/step - loss: 1.0830 - mse: 1.0830\n",
            "Epoch 250/300\n",
            "1/1 [==============================] - 0s 5ms/step - loss: 1.0829 - mse: 1.0829\n",
            "Epoch 251/300\n",
            "1/1 [==============================] - 0s 6ms/step - loss: 1.0827 - mse: 1.0827\n",
            "Epoch 252/300\n",
            "1/1 [==============================] - 0s 6ms/step - loss: 1.0825 - mse: 1.0825\n",
            "Epoch 253/300\n",
            "1/1 [==============================] - 0s 5ms/step - loss: 1.0823 - mse: 1.0823\n",
            "Epoch 254/300\n",
            "1/1 [==============================] - 0s 5ms/step - loss: 1.0821 - mse: 1.0821\n",
            "Epoch 255/300\n",
            "1/1 [==============================] - 0s 16ms/step - loss: 1.0819 - mse: 1.0819\n",
            "Epoch 256/300\n",
            "1/1 [==============================] - 0s 7ms/step - loss: 1.0817 - mse: 1.0817\n",
            "Epoch 257/300\n",
            "1/1 [==============================] - 0s 10ms/step - loss: 1.0816 - mse: 1.0816\n",
            "Epoch 258/300\n",
            "1/1 [==============================] - 0s 5ms/step - loss: 1.0814 - mse: 1.0814\n",
            "Epoch 259/300\n",
            "1/1 [==============================] - 0s 8ms/step - loss: 1.0812 - mse: 1.0812\n",
            "Epoch 260/300\n",
            "1/1 [==============================] - 0s 6ms/step - loss: 1.0810 - mse: 1.0810\n",
            "Epoch 261/300\n",
            "1/1 [==============================] - 0s 6ms/step - loss: 1.0809 - mse: 1.0809\n",
            "Epoch 262/300\n",
            "1/1 [==============================] - 0s 6ms/step - loss: 1.0807 - mse: 1.0807\n",
            "Epoch 263/300\n",
            "1/1 [==============================] - 0s 17ms/step - loss: 1.0805 - mse: 1.0805\n",
            "Epoch 264/300\n",
            "1/1 [==============================] - 0s 6ms/step - loss: 1.0804 - mse: 1.0804\n",
            "Epoch 265/300\n",
            "1/1 [==============================] - 0s 5ms/step - loss: 1.0802 - mse: 1.0802\n",
            "Epoch 266/300\n",
            "1/1 [==============================] - 0s 8ms/step - loss: 1.0800 - mse: 1.0800\n",
            "Epoch 267/300\n",
            "1/1 [==============================] - 0s 11ms/step - loss: 1.0799 - mse: 1.0799\n",
            "Epoch 268/300\n",
            "1/1 [==============================] - 0s 6ms/step - loss: 1.0797 - mse: 1.0797\n",
            "Epoch 269/300\n",
            "1/1 [==============================] - 0s 11ms/step - loss: 1.0795 - mse: 1.0795\n",
            "Epoch 270/300\n",
            "1/1 [==============================] - 0s 11ms/step - loss: 1.0794 - mse: 1.0794\n",
            "Epoch 271/300\n",
            "1/1 [==============================] - 0s 14ms/step - loss: 1.0792 - mse: 1.0792\n",
            "Epoch 272/300\n",
            "1/1 [==============================] - 0s 7ms/step - loss: 1.0790 - mse: 1.0790\n",
            "Epoch 273/300\n",
            "1/1 [==============================] - 0s 6ms/step - loss: 1.0789 - mse: 1.0789\n",
            "Epoch 274/300\n",
            "1/1 [==============================] - 0s 6ms/step - loss: 1.0787 - mse: 1.0787\n",
            "Epoch 275/300\n",
            "1/1 [==============================] - 0s 5ms/step - loss: 1.0786 - mse: 1.0786\n",
            "Epoch 276/300\n",
            "1/1 [==============================] - 0s 9ms/step - loss: 1.0784 - mse: 1.0784\n",
            "Epoch 277/300\n",
            "1/1 [==============================] - 0s 6ms/step - loss: 1.0783 - mse: 1.0783\n",
            "Epoch 278/300\n",
            "1/1 [==============================] - 0s 6ms/step - loss: 1.0781 - mse: 1.0781\n",
            "Epoch 279/300\n",
            "1/1 [==============================] - 0s 11ms/step - loss: 1.0780 - mse: 1.0780\n",
            "Epoch 280/300\n",
            "1/1 [==============================] - 0s 6ms/step - loss: 1.0778 - mse: 1.0778\n",
            "Epoch 281/300\n",
            "1/1 [==============================] - 0s 6ms/step - loss: 1.0777 - mse: 1.0777\n",
            "Epoch 282/300\n",
            "1/1 [==============================] - 0s 6ms/step - loss: 1.0775 - mse: 1.0775\n",
            "Epoch 283/300\n",
            "1/1 [==============================] - 0s 11ms/step - loss: 1.0774 - mse: 1.0774\n",
            "Epoch 284/300\n",
            "1/1 [==============================] - 0s 6ms/step - loss: 1.0772 - mse: 1.0772\n",
            "Epoch 285/300\n",
            "1/1 [==============================] - 0s 8ms/step - loss: 1.0771 - mse: 1.0771\n",
            "Epoch 286/300\n",
            "1/1 [==============================] - 0s 9ms/step - loss: 1.0770 - mse: 1.0770\n",
            "Epoch 287/300\n",
            "1/1 [==============================] - 0s 6ms/step - loss: 1.0768 - mse: 1.0768\n",
            "Epoch 288/300\n",
            "1/1 [==============================] - 0s 11ms/step - loss: 1.0767 - mse: 1.0767\n",
            "Epoch 289/300\n",
            "1/1 [==============================] - 0s 6ms/step - loss: 1.0765 - mse: 1.0765\n",
            "Epoch 290/300\n",
            "1/1 [==============================] - 0s 5ms/step - loss: 1.0764 - mse: 1.0764\n",
            "Epoch 291/300\n",
            "1/1 [==============================] - 0s 10ms/step - loss: 1.0763 - mse: 1.0763\n",
            "Epoch 292/300\n",
            "1/1 [==============================] - 0s 5ms/step - loss: 1.0761 - mse: 1.0761\n",
            "Epoch 293/300\n",
            "1/1 [==============================] - 0s 6ms/step - loss: 1.0760 - mse: 1.0760\n",
            "Epoch 294/300\n",
            "1/1 [==============================] - 0s 6ms/step - loss: 1.0759 - mse: 1.0759\n",
            "Epoch 295/300\n",
            "1/1 [==============================] - 0s 9ms/step - loss: 1.0757 - mse: 1.0757\n",
            "Epoch 296/300\n",
            "1/1 [==============================] - 0s 9ms/step - loss: 1.0756 - mse: 1.0756\n",
            "Epoch 297/300\n",
            "1/1 [==============================] - 0s 7ms/step - loss: 1.0755 - mse: 1.0755\n",
            "Epoch 298/300\n",
            "1/1 [==============================] - 0s 7ms/step - loss: 1.0754 - mse: 1.0754\n",
            "Epoch 299/300\n",
            "1/1 [==============================] - 0s 7ms/step - loss: 1.0752 - mse: 1.0752\n",
            "Epoch 300/300\n",
            "1/1 [==============================] - 0s 6ms/step - loss: 1.0751 - mse: 1.0751\n"
          ]
        },
        {
          "output_type": "execute_result",
          "data": {
            "text/plain": [
              "<keras.callbacks.History at 0x7fb547545e90>"
            ]
          },
          "metadata": {},
          "execution_count": 21
        }
      ]
    },
    {
      "cell_type": "code",
      "metadata": {
        "id": "U-k31dqbrTIO",
        "colab": {
          "base_uri": "https://localhost:8080/"
        },
        "outputId": "33d775f5-ee04-4087-9732-304d2b073227"
      },
      "source": [
        "linear_model.get_config()"
      ],
      "execution_count": 22,
      "outputs": [
        {
          "output_type": "execute_result",
          "data": {
            "text/plain": [
              "{'input_layers': [['input_2', 0, 0]],\n",
              " 'layers': [{'class_name': 'InputLayer',\n",
              "   'config': {'batch_input_shape': (None, 1),\n",
              "    'dtype': 'float32',\n",
              "    'name': 'input_2',\n",
              "    'ragged': False,\n",
              "    'sparse': False},\n",
              "   'inbound_nodes': [],\n",
              "   'name': 'input_2'},\n",
              "  {'class_name': 'Dense',\n",
              "   'config': {'activation': 'linear',\n",
              "    'activity_regularizer': None,\n",
              "    'bias_constraint': None,\n",
              "    'bias_initializer': {'class_name': 'Zeros', 'config': {}},\n",
              "    'bias_regularizer': None,\n",
              "    'dtype': 'float32',\n",
              "    'kernel_constraint': None,\n",
              "    'kernel_initializer': {'class_name': 'GlorotUniform',\n",
              "     'config': {'seed': None}},\n",
              "    'kernel_regularizer': None,\n",
              "    'name': 'dense_6',\n",
              "    'trainable': True,\n",
              "    'units': 1,\n",
              "    'use_bias': True},\n",
              "   'inbound_nodes': [[['input_2', 0, 0, {}]]],\n",
              "   'name': 'dense_6'}],\n",
              " 'name': 'model_1',\n",
              " 'output_layers': [['dense_6', 0, 0]]}"
            ]
          },
          "metadata": {},
          "execution_count": 22
        }
      ]
    },
    {
      "cell_type": "code",
      "metadata": {
        "id": "JI0SNxAmGTLS",
        "colab": {
          "base_uri": "https://localhost:8080/"
        },
        "outputId": "00294b30-28a3-4070-efd5-58aed06536fe"
      },
      "source": [
        "linear_model.predict([11,15])"
      ],
      "execution_count": 23,
      "outputs": [
        {
          "output_type": "execute_result",
          "data": {
            "text/plain": [
              "array([[118.12187],\n",
              "       [160.68497]], dtype=float32)"
            ]
          },
          "metadata": {},
          "execution_count": 23
        }
      ]
    },
    {
      "cell_type": "code",
      "metadata": {
        "id": "UKjDK9vluj9T",
        "colab": {
          "base_uri": "https://localhost:8080/"
        },
        "outputId": "70c958f9-9b8b-450e-8c44-6e5309d20b36"
      },
      "source": [
        "X"
      ],
      "execution_count": 24,
      "outputs": [
        {
          "output_type": "execute_result",
          "data": {
            "text/plain": [
              "[1, 2, 3, 4, 5, 6, 7, 8, 9]"
            ]
          },
          "metadata": {},
          "execution_count": 24
        }
      ]
    },
    {
      "cell_type": "code",
      "metadata": {
        "id": "XTRhSt8UuFSD",
        "colab": {
          "base_uri": "https://localhost:8080/"
        },
        "outputId": "aff0fda8-1258-4f15-fdfa-3678d1609167"
      },
      "source": [
        "linear_model.predict(X)"
      ],
      "execution_count": 25,
      "outputs": [
        {
          "output_type": "execute_result",
          "data": {
            "text/plain": [
              "array([[11.714122],\n",
              "       [22.354897],\n",
              "       [32.995674],\n",
              "       [43.636444],\n",
              "       [54.27722 ],\n",
              "       [64.918   ],\n",
              "       [75.55877 ],\n",
              "       [86.19955 ],\n",
              "       [96.840324]], dtype=float32)"
            ]
          },
          "metadata": {},
          "execution_count": 25
        }
      ]
    },
    {
      "cell_type": "code",
      "metadata": {
        "id": "TnH-qxlDtLej"
      },
      "source": [
        "import matplotlib.pyplot as plt"
      ],
      "execution_count": 26,
      "outputs": []
    },
    {
      "cell_type": "code",
      "metadata": {
        "id": "5G-0TsZItDzO",
        "colab": {
          "base_uri": "https://localhost:8080/",
          "height": 267
        },
        "outputId": "85b3eb96-b1ac-4c56-e2a3-5d628cdc086e"
      },
      "source": [
        "plt.plot(X, linear_model.predict(X), 'b', X, y, 'k.')\n",
        "plt.show()"
      ],
      "execution_count": 27,
      "outputs": [
        {
          "output_type": "display_data",
          "data": {
            "image/png": "[encoded data removed]",
            "text/plain": [
              "<Figure size 432x288 with 1 Axes>"
            ]
          },
          "metadata": {
            "needs_background": "light"
          }
        }
      ]
    },
    {
      "cell_type": "markdown",
      "metadata": {
        "id": "6w69xEAThwUk"
      },
      "source": [
        "## 2-3. Logisitic Regression"
      ]
    },
    {
      "cell_type": "code",
      "metadata": {
        "id": "EEtnlKmMhqgY",
        "colab": {
          "base_uri": "https://localhost:8080/"
        },
        "outputId": "bf6ec9cb-b5dd-47ef-9121-a5ef93eefb92"
      },
      "source": [
        "from tensorflow.keras.layers import Input, Dense\n",
        "from tensorflow.keras.models import Model\n",
        "\n",
        "inputs = Input(shape=(3,))\n",
        "output = Dense(1, activation='sigmoid')(inputs)\n",
        "logistic_model = Model(inputs, output)\n",
        "logistic_model.summary()"
      ],
      "execution_count": 28,
      "outputs": [
        {
          "output_type": "stream",
          "name": "stdout",
          "text": [
            "Model: \"model_2\"\n",
            "_________________________________________________________________\n",
            " Layer (type)                Output Shape              Param #   \n",
            "=================================================================\n",
            " input_3 (InputLayer)        [(None, 3)]               0         \n",
            "                                                                 \n",
            " dense_7 (Dense)             (None, 1)                 4         \n",
            "                                                                 \n",
            "=================================================================\n",
            "Total params: 4\n",
            "Trainable params: 4\n",
            "Non-trainable params: 0\n",
            "_________________________________________________________________\n"
          ]
        }
      ]
    },
    {
      "cell_type": "markdown",
      "metadata": {
        "id": "IBPe6iUth1vi"
      },
      "source": [
        "## 2-4. model that accepts multiple inputs\n"
      ]
    },
    {
      "cell_type": "code",
      "metadata": {
        "id": "TEhnaVoAh0GI",
        "colab": {
          "base_uri": "https://localhost:8080/"
        },
        "outputId": "3ce4c8ac-e7b5-4d2f-88da-b5d4864e4fe7"
      },
      "source": [
        "from tensorflow.keras.layers import Input, Dense, concatenate\n",
        "from tensorflow.keras.models import Model\n",
        "\n",
        "# 두 개의 입력층을 정의\n",
        "inputA = Input(shape=(64,))\n",
        "inputB = Input(shape=(128,))\n",
        "\n",
        "# 첫번째 입력층으로부터 분기되어 진행되는 인공 신경망을 정의\n",
        "x = Dense(16, activation=\"relu\")(inputA)\n",
        "x = Dense(8, activation=\"relu\")(x)\n",
        "x = Model(inputs=inputA, outputs=x)\n",
        "\n",
        "# 두번째 입력층으로부터 분기되어 진행되는 인공 신경망을 정의\n",
        "y = Dense(64, activation=\"relu\")(inputB)\n",
        "y = Dense(32, activation=\"relu\")(y)\n",
        "y = Dense(8, activation=\"relu\")(y)\n",
        "y = Model(inputs=inputB, outputs=y)\n",
        "\n",
        "# 두개의 인공 신경망의 출력을 연결(concatenate)\n",
        "result = concatenate([x.output, y.output])\n",
        "\n",
        "z = Dense(2, activation=\"relu\")(result)\n",
        "z = Dense(1, activation=\"linear\")(z)\n",
        "\n",
        "multi_model = Model(inputs=[x.input, y.input], outputs=z)\n",
        "multi_model.summary()"
      ],
      "execution_count": 29,
      "outputs": [
        {
          "output_type": "stream",
          "name": "stdout",
          "text": [
            "Model: \"model_5\"\n",
            "__________________________________________________________________________________________________\n",
            " Layer (type)                   Output Shape         Param #     Connected to                     \n",
            "==================================================================================================\n",
            " input_5 (InputLayer)           [(None, 128)]        0           []                               \n",
            "                                                                                                  \n",
            " input_4 (InputLayer)           [(None, 64)]         0           []                               \n",
            "                                                                                                  \n",
            " dense_10 (Dense)               (None, 64)           8256        ['input_5[0][0]']                \n",
            "                                                                                                  \n",
            " dense_8 (Dense)                (None, 16)           1040        ['input_4[0][0]']                \n",
            "                                                                                                  \n",
            " dense_11 (Dense)               (None, 32)           2080        ['dense_10[0][0]']               \n",
            "                                                                                                  \n",
            " dense_9 (Dense)                (None, 8)            136         ['dense_8[0][0]']                \n",
            "                                                                                                  \n",
            " dense_12 (Dense)               (None, 8)            264         ['dense_11[0][0]']               \n",
            "                                                                                                  \n",
            " concatenate (Concatenate)      (None, 16)           0           ['dense_9[0][0]',                \n",
            "                                                                  'dense_12[0][0]']               \n",
            "                                                                                                  \n",
            " dense_13 (Dense)               (None, 2)            34          ['concatenate[0][0]']            \n",
            "                                                                                                  \n",
            " dense_14 (Dense)               (None, 1)            3           ['dense_13[0][0]']               \n",
            "                                                                                                  \n",
            "==================================================================================================\n",
            "Total params: 11,813\n",
            "Trainable params: 11,813\n",
            "Non-trainable params: 0\n",
            "__________________________________________________________________________________________________\n"
          ]
        }
      ]
    },
    {
      "cell_type": "code",
      "metadata": {
        "id": "motoX6C-Ms3H",
        "colab": {
          "base_uri": "https://localhost:8080/",
          "height": 754
        },
        "outputId": "7256011c-18a3-446d-d547-8e83070e2d4f"
      },
      "source": [
        "#  Plot model\n",
        "plot_model((multi_model) , show_shapes=True, show_layer_names=True, to_file='multi_model.png')"
      ],
      "execution_count": 42,
      "outputs": [
        {
          "output_type": "execute_result",
          "data": {
            "image/png": "[encoded data removed]",
            "text/plain": [
              "<IPython.core.display.Image object>"
            ]
          },
          "metadata": {},
          "execution_count": 42
        }
      ]
    },
    {
      "cell_type": "markdown",
      "metadata": {
        "id": "uIzhaMfjiAPa"
      },
      "source": [
        "## 2-5. LSTM"
      ]
    },
    {
      "cell_type": "code",
      "metadata": {
        "id": "TQPevdlGiBuW",
        "colab": {
          "base_uri": "https://localhost:8080/"
        },
        "outputId": "075f1fab-4bb4-422d-d230-82b9acc7b178"
      },
      "source": [
        "from tensorflow.keras.layers import Input, Dense, LSTM\n",
        "from tensorflow.keras.models import Model\n",
        "\n",
        "inputs = Input(shape=(50,1))\n",
        "lstm_layer = LSTM(10)(inputs)\n",
        "x = Dense(10, activation='relu')(lstm_layer)\n",
        "output = Dense(1, activation='sigmoid')(x)\n",
        "\n",
        "lstm_model = Model(inputs=inputs, outputs=output)\n",
        "lstm_model.summary()"
      ],
      "execution_count": 32,
      "outputs": [
        {
          "output_type": "stream",
          "name": "stdout",
          "text": [
            "Model: \"model_6\"\n",
            "_________________________________________________________________\n",
            " Layer (type)                Output Shape              Param #   \n",
            "=================================================================\n",
            " input_6 (InputLayer)        [(None, 50, 1)]           0         \n",
            "                                                                 \n",
            " lstm (LSTM)                 (None, 10)                480       \n",
            "                                                                 \n",
            " dense_15 (Dense)            (None, 10)                110       \n",
            "                                                                 \n",
            " dense_16 (Dense)            (None, 1)                 11        \n",
            "                                                                 \n",
            "=================================================================\n",
            "Total params: 601\n",
            "Trainable params: 601\n",
            "Non-trainable params: 0\n",
            "_________________________________________________________________\n"
          ]
        }
      ]
    },
    {
      "cell_type": "markdown",
      "metadata": {
        "id": "XdbiBz1WFaR8"
      },
      "source": [
        "## Number of parameters in an lstm layer\n",
        "> 4 * lstm_hidden_state_size * (lstm_inputs_size + bias_variable + lstm_outputs_size) \n",
        "- lstm_hidden_state_size = 10\n",
        "- lstm_inputs_size = 1\n",
        "- bias_variable = 1\n",
        "- lstm_outputs_size = 10\n",
        "\n",
        ">> 4*10(1 + 1 + 100 = 480"
      ]
    },
    {
      "cell_type": "code",
      "metadata": {
        "id": "YfRtCEbzMyLO",
        "colab": {
          "base_uri": "https://localhost:8080/",
          "height": 422
        },
        "outputId": "7a8844de-3aa9-4b63-bf9b-3e2516104dec"
      },
      "source": [
        "# Plot model\n",
        "plot_model((lstm_model) ,show_shapes=True, show_layer_names=True, to_file='lstm_model.png')"
      ],
      "execution_count": 43,
      "outputs": [
        {
          "output_type": "execute_result",
          "data": {
            "image/png": "[encoded data removed]",
            "text/plain": [
              "<IPython.core.display.Image object>"
            ]
          },
          "metadata": {},
          "execution_count": 43
        }
      ]
    },
    {
      "cell_type": "code",
      "metadata": {
        "id": "nLd2ajFHkeBo"
      },
      "source": [
        ""
      ],
      "execution_count": null,
      "outputs": []
    }
  ]
}