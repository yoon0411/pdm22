{
  "nbformat": 4,
  "nbformat_minor": 0,
  "metadata": {
    "accelerator": "GPU",
    "colab": {
      "name": "dl2-04-cifar10-CNN-best.ipynb",
      "provenance": [],
      "collapsed_sections": [],
      "include_colab_link": true
    },
    "interpreter": {
      "hash": "3834ce636a3ba6c6c2bd8b9b527c48eede78c367f849f6cce666ea7f1d26e2fb"
    },
    "kernelspec": {
      "display_name": "Python 3.8.5 64-bit ('base': conda)",
      "name": "python3"
    },
    "language_info": {
      "codemirror_mode": {
        "name": "ipython",
        "version": 3
      },
      "file_extension": ".py",
      "mimetype": "text/x-python",
      "name": "python",
      "nbconvert_exporter": "python",
      "pygments_lexer": "ipython3",
      "version": "3.8.5"
    }
  },
  "cells": [
    {
      "cell_type": "markdown",
      "metadata": {
        "id": "view-in-github",
        "colab_type": "text"
      },
      "source": [
        "<a href=\"https://colab.research.google.com/github/yoon0411/pdm22/blob/main/py_tensorflow/DL2_CNN/dl2_04_cifar10_CNN_best.ipynb\" target=\"_parent\"><img src=\"https://colab.research.google.com/assets/colab-badge.svg\" alt=\"Open In Colab\"/></a>"
      ]
    },
    {
      "cell_type": "markdown",
      "metadata": {
        "id": "rswfCVLZ-QW0"
      },
      "source": [
        "- Conv2D + FCN\n",
        "    * Conv2D : 2차원 합성곱 필터링 + 풀링(Pooling)\n",
        "    - > 2차원 필터로 영상을 대표하는 특징을 추출\n",
        "    * FCN : 1차원 완전연결신경망\n",
        "    - > Conv2D에서 추출된 대표 특징들을 이용하여 FCN으로 최종 학습 완료\n",
        "\n",
        "***\n",
        "- ## Traget: Find the best model of cifar10\n",
        "***\n",
        "\n",
        "![cnn_c4f5.png](https://raw.githubusercontent.com/Redwoods/Py/master//pdm2020/my-note/py-tensorflow/images/cnn_c4f5.png)"
      ]
    },
    {
      "cell_type": "markdown",
      "metadata": {
        "id": "ISueys4bNHd1"
      },
      "source": [
        "### CIFAR-10 Dataset (CIFAR: Canadian Institute For Advanced Research)\n",
        "> https://www.cs.toronto.edu/~kriz/cifar.html\n",
        "\n",
        "- (50000, 32, 32, 3), train\n",
        "- (10000, 32, 32, 3), test\n",
        "- color photographs of objects from 10 classes, such as frogs, birds, cats, ships, etc\n",
        "> class names\n",
        "> - ['airplane', 'automobile', 'bird', 'cat', 'deer', 'dog', 'frog', 'horse', 'ship', 'truck']\n",
        "\n",
        "- 참고 문헌  \n",
        "\n",
        "> https://becominghuman.ai/cifar-10-image-classification-fd2ace47c5e8  \n",
        "\n",
        "> https://becominghuman.ai/convolutional-neural-networks-cnns-convnets-for-visual-recognition-cae879a70f1a\n",
        "\n",
        "> https://towardsdatascience.com/cifar-10-image-classification-in-tensorflow-5b501f7dc77c"
      ]
    },
    {
      "cell_type": "markdown",
      "metadata": {
        "id": "1yhvkxS_HhpK"
      },
      "source": [
        "## Search the best model of C2F2\n",
        "- callback\n",
        "    - Early stopping\n",
        "    - model checkpoint"
      ]
    },
    {
      "cell_type": "code",
      "metadata": {
        "colab": {
          "base_uri": "https://localhost:8080/"
        },
        "id": "8GgGzPXPVyfa",
        "outputId": "08853764-abf2-4ca6-c231-3be7bd1c9cab"
      },
      "source": [
        "import numpy as np\n",
        "import tensorflow as tf\n",
        "from tensorflow import keras\n",
        "import pandas as pd\n",
        "import matplotlib.pyplot as plt\n",
        "# %matplotlib inline\n",
        "\n",
        "tf.random.set_seed(0)\n",
        "\n",
        "print(tf.__version__)"
      ],
      "execution_count": 1,
      "outputs": [
        {
          "output_type": "stream",
          "name": "stdout",
          "text": [
            "2.7.0\n"
          ]
        }
      ]
    },
    {
      "cell_type": "code",
      "metadata": {
        "id": "nMZqMpIvIlwf"
      },
      "source": [
        "# import TF2 submodules\n",
        "from tensorflow.keras import layers, models, callbacks"
      ],
      "execution_count": 2,
      "outputs": []
    },
    {
      "cell_type": "markdown",
      "metadata": {
        "id": "-0IOOUM14Jk1"
      },
      "source": [
        "## **데이터 로딩, 정규화**"
      ]
    },
    {
      "cell_type": "code",
      "metadata": {
        "colab": {
          "base_uri": "https://localhost:8080/"
        },
        "id": "N1ogJ7I64Fz-",
        "outputId": "91b2e45e-11d1-414e-d2d6-67c2c2651e01"
      },
      "source": [
        "from keras.datasets import cifar10\n",
        "\n",
        "(X_train0, y_train0), (X_test0, y_test0) = cifar10.load_data()\n",
        "\n",
        "# Reshape\n",
        "# X_train = X_train0.reshape(60000,28,28,1)\n",
        "# X_test = X_test0.reshape(10000,28,28,1)\n",
        "\n",
        "# Normalization\n",
        "X_train, X_test = X_train0/255.0, X_test0/255.0 # 정규화\n",
        "\n",
        "print(\"X_train={0}\".format(X_train.shape))\n",
        "print(\"y_train={0}\".format(y_train0.shape)) \n",
        "print(\"X_test={0}\".format(X_test.shape))\n",
        "print(\"y_test={0}\".format(y_test0.shape))"
      ],
      "execution_count": 3,
      "outputs": [
        {
          "output_type": "stream",
          "name": "stdout",
          "text": [
            "Downloading data from https://www.cs.toronto.edu/~kriz/cifar-10-python.tar.gz\n",
            "170500096/170498071 [==============================] - 9s 0us/step\n",
            "170508288/170498071 [==============================] - 9s 0us/step\n",
            "X_train=(50000, 32, 32, 3)\n",
            "y_train=(50000, 1)\n",
            "X_test=(10000, 32, 32, 3)\n",
            "y_test=(10000, 1)\n"
          ]
        }
      ]
    },
    {
      "cell_type": "code",
      "metadata": {
        "colab": {
          "base_uri": "https://localhost:8080/"
        },
        "id": "F46-QZqJHiQ6",
        "outputId": "49916e62-9c70-4cb8-887c-cec3535f3bc2"
      },
      "source": [
        "# One-Hot-Encoding\n",
        "# Use function to_categorical() to do One-Hot-Encoding\n",
        "# tf.keras.utils.to_categorical\n",
        "from tensorflow.keras.utils import to_categorical\n",
        "\n",
        "y_train = to_categorical(y_train0, 10)\n",
        "y_test = to_categorical(y_test0, 10)\n",
        "y_train.shape,y_test.shape"
      ],
      "execution_count": 4,
      "outputs": [
        {
          "output_type": "execute_result",
          "data": {
            "text/plain": [
              "((50000, 10), (10000, 10))"
            ]
          },
          "metadata": {},
          "execution_count": 4
        }
      ]
    },
    {
      "cell_type": "code",
      "metadata": {
        "colab": {
          "base_uri": "https://localhost:8080/"
        },
        "id": "eZ3OfP5PkEkL",
        "outputId": "c90f7618-ebbb-43db-a236-9840e0cd5667"
      },
      "source": [
        "# y_train0.shape vs. y_train.shape\n",
        "y_train0.shape, y_train.shape"
      ],
      "execution_count": 5,
      "outputs": [
        {
          "output_type": "execute_result",
          "data": {
            "text/plain": [
              "((50000, 1), (50000, 10))"
            ]
          },
          "metadata": {},
          "execution_count": 5
        }
      ]
    },
    {
      "cell_type": "markdown",
      "metadata": {
        "id": "5z7SozStigmF"
      },
      "source": [
        "### Display images in CIFAR-10\n",
        "- one random image\n",
        "- 10 representative images"
      ]
    },
    {
      "cell_type": "code",
      "metadata": {
        "colab": {
          "base_uri": "https://localhost:8080/",
          "height": 231
        },
        "id": "IK7XT3XoirSL",
        "outputId": "f4afa786-66af-4f05-94e2-2cd5a1eea744"
      },
      "source": [
        "# Code here!\n",
        "# display one random image from the training set:\n",
        "class_names =  ['airplane', 'automobile', 'bird', 'cat', 'deer', 'dog', 'frog', 'horse', 'ship', 'truck']\n",
        "\n",
        "idx = np.random.randint(0, X_train0.shape[0])\n",
        "print(idx)\n",
        "image = X_train0[idx]\n",
        "plt.figure(figsize=(3,3))\n",
        "plt.imshow(image) #, cmap=plt.get_cmap('gray'))\n",
        "plt.title(class_names[y_train0[idx][0]])\n",
        "plt.xticks([])\n",
        "plt.yticks([])\n",
        "plt.show()"
      ],
      "execution_count": 6,
      "outputs": [
        {
          "output_type": "stream",
          "name": "stdout",
          "text": [
            "40319\n"
          ]
        },
        {
          "output_type": "display_data",
          "data": {
            "image/png": "[encoded data removed]",
            "text/plain": [
              "<Figure size 216x216 with 1 Axes>"
            ]
          },
          "metadata": {}
        }
      ]
    },
    {
      "cell_type": "code",
      "metadata": {
        "colab": {
          "base_uri": "https://localhost:8080/",
          "height": 325
        },
        "id": "LzhD5pcukau7",
        "outputId": "a299761d-879e-46a9-e4df-2d10510695ee"
      },
      "source": [
        "fig = plt.figure(figsize=(10,6))\n",
        "num0_9 = np.unique(y_train0, return_index=True)[1]\n",
        "images = X_train[num0_9]\n",
        "for i in range(10):\n",
        "    plt.subplot(2, 5, i+1)\n",
        "    # num0_9 = X_train0[y_train0 == i]\n",
        "    \n",
        "    # print(num0_9.shape)\n",
        "    # plt.imshow(num0_9[0]) \n",
        "    plt.imshow(images[i])\n",
        "    plt.title(class_names[i])\n",
        "    plt.xticks([])\n",
        "    plt.yticks([])"
      ],
      "execution_count": 7,
      "outputs": [
        {
          "output_type": "display_data",
          "data": {
            "image/png": "[encoded data removed]",
            "text/plain": [
              "<Figure size 720x432 with 10 Axes>"
            ]
          },
          "metadata": {}
        }
      ]
    },
    {
      "cell_type": "markdown",
      "metadata": {
        "id": "55DYVfFXi0WR"
      },
      "source": [
        "# Design CNN"
      ]
    },
    {
      "cell_type": "markdown",
      "metadata": {
        "id": "iPcLIcUCcsiG"
      },
      "source": [
        "### import models, layers, callbacks\n",
        "- models: Sequential\n",
        "- layers: Conv2D, MaxPool2D, Flatten\n",
        "- callbacks: ModelCheckpoint, EarlyStopping"
      ]
    },
    {
      "cell_type": "code",
      "metadata": {
        "id": "NzqMC4Xtc3ZE"
      },
      "source": [
        "from keras.models import Sequential\n",
        "from keras.layers import Conv2D, MaxPool2D, Flatten\n",
        "from keras.callbacks import ModelCheckpoint, EarlyStopping"
      ],
      "execution_count": 8,
      "outputs": []
    },
    {
      "cell_type": "markdown",
      "metadata": {
        "id": "7Z6DJJUCei-s"
      },
      "source": [
        "## **CNN2 + FCN2**"
      ]
    },
    {
      "cell_type": "code",
      "metadata": {
        "id": "hTLkuGeYsVrs"
      },
      "source": [
        "# Random number seed\n",
        "np.random.seed(1234)\n",
        "tf.random.set_seed(1234)"
      ],
      "execution_count": 10,
      "outputs": []
    },
    {
      "cell_type": "code",
      "metadata": {
        "id": "pV3NFglM7P65"
      },
      "source": [
        "c2f2 = keras.models.Sequential([ \n",
        "    Conv2D(input_shape=(32,32,3), filters= 64, kernel_size=(3,3), strides=(1,1), padding='same', activation='relu'),\n",
        "    MaxPool2D(pool_size=(2,2), strides=(2,2)), \n",
        "    Conv2D(filters= 32, kernel_size=(3,3), strides=(1,1), padding='same', activation='relu'),\n",
        "    MaxPool2D(pool_size=(2,2), strides=(2,2)),\n",
        "    Flatten(), \n",
        "    keras.layers.Dense(128, activation='relu'),  \n",
        "    keras.layers.Dropout(0.25), \n",
        "    keras.layers.Dense(10, activation='softmax')\n",
        "])\n",
        "\n",
        "c2f2.compile(optimizer='adam',\n",
        "              loss='categorical_crossentropy',\n",
        "              metrics=['accuracy']) "
      ],
      "execution_count": 11,
      "outputs": []
    },
    {
      "cell_type": "code",
      "metadata": {
        "colab": {
          "base_uri": "https://localhost:8080/"
        },
        "id": "OGtCiKy57YkR",
        "outputId": "ed309d88-cf5f-4ad5-e581-8c692e087ca4"
      },
      "source": [
        "c2f2.summary()"
      ],
      "execution_count": 12,
      "outputs": [
        {
          "output_type": "stream",
          "name": "stdout",
          "text": [
            "Model: \"sequential\"\n",
            "_________________________________________________________________\n",
            " Layer (type)                Output Shape              Param #   \n",
            "=================================================================\n",
            " conv2d (Conv2D)             (None, 32, 32, 64)        1792      \n",
            "                                                                 \n",
            " max_pooling2d (MaxPooling2D  (None, 16, 16, 64)       0         \n",
            " )                                                               \n",
            "                                                                 \n",
            " conv2d_1 (Conv2D)           (None, 16, 16, 32)        18464     \n",
            "                                                                 \n",
            " max_pooling2d_1 (MaxPooling  (None, 8, 8, 32)         0         \n",
            " 2D)                                                             \n",
            "                                                                 \n",
            " flatten (Flatten)           (None, 2048)              0         \n",
            "                                                                 \n",
            " dense (Dense)               (None, 128)               262272    \n",
            "                                                                 \n",
            " dropout (Dropout)           (None, 128)               0         \n",
            "                                                                 \n",
            " dense_1 (Dense)             (None, 10)                1290      \n",
            "                                                                 \n",
            "=================================================================\n",
            "Total params: 283,818\n",
            "Trainable params: 283,818\n",
            "Non-trainable params: 0\n",
            "_________________________________________________________________\n"
          ]
        }
      ]
    },
    {
      "cell_type": "code",
      "metadata": {
        "id": "zw_pQPBdJmU8"
      },
      "source": [
        "cp_callback = callbacks.ModelCheckpoint(filepath=\"./cifar10_c2f2_best_weights.{epoch:03d}-{val_accuracy:.4f}.hdf5\", \n",
        "                              monitor='val_accuracy', verbose=0, save_best_only=True)\n",
        "es_callback = callbacks.EarlyStopping(monitor='val_accuracy', \n",
        "                            mode='max', verbose=1, patience=5)    # patience=10, 25, 50"
      ],
      "execution_count": 13,
      "outputs": []
    },
    {
      "cell_type": "code",
      "metadata": {
        "colab": {
          "base_uri": "https://localhost:8080/"
        },
        "id": "94GWWQt-7eRS",
        "outputId": "a4ee961a-9198-4422-d370-c3d750cbc4a5"
      },
      "source": [
        "BATCH_SIZE = 50  # cifar10\n",
        "hist = c2f2.fit(X_train, y_train, epochs = 500 , batch_size = BATCH_SIZE, \n",
        "         callbacks=[cp_callback, es_callback], \n",
        "         validation_data=(X_test,y_test))"
      ],
      "execution_count": 14,
      "outputs": [
        {
          "output_type": "stream",
          "name": "stdout",
          "text": [
            "Epoch 1/500\n",
            "1000/1000 [==============================] - 42s 12ms/step - loss: 1.5088 - accuracy: 0.4554 - val_loss: 1.1660 - val_accuracy: 0.5808\n",
            "Epoch 2/500\n",
            "1000/1000 [==============================] - 12s 12ms/step - loss: 1.1577 - accuracy: 0.5890 - val_loss: 1.0204 - val_accuracy: 0.6379\n",
            "Epoch 3/500\n",
            "1000/1000 [==============================] - 12s 12ms/step - loss: 1.0253 - accuracy: 0.6370 - val_loss: 0.9826 - val_accuracy: 0.6537\n",
            "Epoch 4/500\n",
            "1000/1000 [==============================] - 11s 11ms/step - loss: 0.9406 - accuracy: 0.6669 - val_loss: 0.9450 - val_accuracy: 0.6695\n",
            "Epoch 5/500\n",
            "1000/1000 [==============================] - 12s 12ms/step - loss: 0.8769 - accuracy: 0.6907 - val_loss: 0.8992 - val_accuracy: 0.6842\n",
            "Epoch 6/500\n",
            "1000/1000 [==============================] - 12s 12ms/step - loss: 0.8252 - accuracy: 0.7091 - val_loss: 0.8708 - val_accuracy: 0.6949\n",
            "Epoch 7/500\n",
            "1000/1000 [==============================] - 12s 12ms/step - loss: 0.7852 - accuracy: 0.7242 - val_loss: 0.8661 - val_accuracy: 0.7012\n",
            "Epoch 8/500\n",
            "1000/1000 [==============================] - 12s 12ms/step - loss: 0.7339 - accuracy: 0.7386 - val_loss: 0.8923 - val_accuracy: 0.7016\n",
            "Epoch 9/500\n",
            "1000/1000 [==============================] - 11s 11ms/step - loss: 0.6957 - accuracy: 0.7525 - val_loss: 0.9307 - val_accuracy: 0.6796\n",
            "Epoch 10/500\n",
            "1000/1000 [==============================] - 12s 12ms/step - loss: 0.6627 - accuracy: 0.7620 - val_loss: 0.8593 - val_accuracy: 0.7038\n",
            "Epoch 11/500\n",
            "1000/1000 [==============================] - 12s 12ms/step - loss: 0.6284 - accuracy: 0.7763 - val_loss: 0.8639 - val_accuracy: 0.7180\n",
            "Epoch 12/500\n",
            "1000/1000 [==============================] - 11s 11ms/step - loss: 0.6010 - accuracy: 0.7829 - val_loss: 0.8892 - val_accuracy: 0.7035\n",
            "Epoch 13/500\n",
            "1000/1000 [==============================] - 12s 12ms/step - loss: 0.5714 - accuracy: 0.7945 - val_loss: 0.9119 - val_accuracy: 0.7075\n",
            "Epoch 14/500\n",
            "1000/1000 [==============================] - 11s 11ms/step - loss: 0.5439 - accuracy: 0.8024 - val_loss: 0.8987 - val_accuracy: 0.7096\n",
            "Epoch 15/500\n",
            "1000/1000 [==============================] - 12s 12ms/step - loss: 0.5208 - accuracy: 0.8118 - val_loss: 0.9536 - val_accuracy: 0.7045\n",
            "Epoch 16/500\n",
            "1000/1000 [==============================] - 12s 12ms/step - loss: 0.4946 - accuracy: 0.8188 - val_loss: 0.9757 - val_accuracy: 0.7064\n",
            "Epoch 00016: early stopping\n"
          ]
        }
      ]
    },
    {
      "cell_type": "code",
      "metadata": {
        "colab": {
          "base_uri": "https://localhost:8080/"
        },
        "id": "0-7is2U49A6Z",
        "outputId": "7a7c6ee7-0ef3-47b8-d417-1c1836022347"
      },
      "source": [
        "c2f2.evaluate(X_test, y_test, batch_size = BATCH_SIZE)"
      ],
      "execution_count": 15,
      "outputs": [
        {
          "output_type": "stream",
          "name": "stdout",
          "text": [
            "200/200 [==============================] - 1s 5ms/step - loss: 0.9757 - accuracy: 0.7064\n"
          ]
        },
        {
          "output_type": "execute_result",
          "data": {
            "text/plain": [
              "[0.9756954908370972, 0.7063999772071838]"
            ]
          },
          "metadata": {},
          "execution_count": 15
        }
      ]
    },
    {
      "cell_type": "code",
      "metadata": {
        "colab": {
          "base_uri": "https://localhost:8080/",
          "height": 295
        },
        "id": "x9EQ2Z_c2gYL",
        "outputId": "c7682323-6723-4d53-c14e-871a535e1dfb"
      },
      "source": [
        "# More graphs of loss and accuracy\n",
        "history_dict = hist.history\n",
        "loss = history_dict['loss']\n",
        "val_loss = history_dict['val_loss']\n",
        "\n",
        "epochs = range(1, len(loss) + 1)\n",
        "\n",
        "plt.figure(figsize=(14, 4))\n",
        "\n",
        "plt.subplot(1,2,1)\n",
        "plt.plot(epochs, loss, 'go-', label='Training Loss')\n",
        "plt.plot(epochs, val_loss, 'bd', label='Validation Loss')\n",
        "plt.plot(np.argmin(np.array(val_loss))+1,val_loss[np.argmin(np.array(val_loss))], 'r*', ms=12)\n",
        "plt.title('Training and Validation Loss, min: ' + str(np.round(val_loss[np.argmin(np.array(val_loss))],4)))\n",
        "plt.xlabel('Epochs')\n",
        "plt.ylabel('Loss')\n",
        "plt.legend()\n",
        "\n",
        "acc = history_dict['accuracy']\n",
        "val_acc = history_dict['val_accuracy']\n",
        "\n",
        "epochs = range(1, len(loss) + 1)\n",
        "\n",
        "plt.subplot(1,2,2)\n",
        "plt.plot(epochs, acc, 'go-', label='Training Accuracy') #, c='blue')\n",
        "plt.plot(epochs, val_acc, 'bd', label='Validation Accuracy') #, c='red')\n",
        "plt.plot(np.argmax(np.array(val_acc))+1,val_acc[np.argmax(np.array(val_acc))], 'r*', ms=12)\n",
        "plt.title('Training and Validation Accuracy, max: ' + str(np.round(val_acc[np.argmax(np.array(val_acc))],4)))\n",
        "plt.xlabel('Epochs')\n",
        "plt.ylabel('Accuracy')\n",
        "plt.legend()\n",
        "plt.show()"
      ],
      "execution_count": 16,
      "outputs": [
        {
          "output_type": "display_data",
          "data": {
            "image/png": "[encoded data removed]",
            "text/plain": [
              "<Figure size 1008x288 with 2 Axes>"
            ]
          },
          "metadata": {
            "needs_background": "light"
          }
        }
      ]
    },
    {
      "cell_type": "markdown",
      "metadata": {
        "id": "ubm5q_onsVrv"
      },
      "source": [
        "## Best c2f2 model of cifar10\n",
        "- cifar10_c2f2_best_weights.011-0.7180.hdf5"
      ]
    },
    {
      "cell_type": "markdown",
      "metadata": {
        "id": "SUJxRQtafihM"
      },
      "source": [
        "## **CNN2 + FCN3**"
      ]
    },
    {
      "cell_type": "code",
      "metadata": {
        "id": "9Pzdv-CDsVrv"
      },
      "source": [
        "# Random number seed\n",
        "np.random.seed(1234)\n",
        "tf.random.set_seed(1234)"
      ],
      "execution_count": 17,
      "outputs": []
    },
    {
      "cell_type": "code",
      "metadata": {
        "id": "Nl5CyAymAB34"
      },
      "source": [
        "c2f3 = keras.models.Sequential([ \n",
        "    Conv2D(input_shape=(32,32,3), filters= 64, kernel_size=(3,3), strides=(1,1), padding='same', activation='relu'),\n",
        "    MaxPool2D(pool_size=(2,2), strides=(2,2)), \n",
        "    Conv2D(filters= 32, kernel_size=(3,3), strides=(1,1), padding='same', activation='relu'),\n",
        "    MaxPool2D(pool_size=(2,2), strides=(2,2)),\n",
        "    Flatten(), \n",
        "    keras.layers.Dense(128, activation='relu'),  \n",
        "    keras.layers.Dropout(0.25), \n",
        "    keras.layers.Dense(64, activation='relu'),  \n",
        "    keras.layers.Dropout(0.25), \n",
        "    keras.layers.Dense(10, activation='softmax')\n",
        "])\n",
        "\n",
        "c2f3.compile(optimizer='adam',\n",
        "              loss='categorical_crossentropy',\n",
        "              metrics=['accuracy']) "
      ],
      "execution_count": 18,
      "outputs": []
    },
    {
      "cell_type": "code",
      "metadata": {
        "colab": {
          "base_uri": "https://localhost:8080/"
        },
        "id": "gYxuGW_2ANL8",
        "outputId": "34931188-bafc-4de3-8708-14b4658f8730"
      },
      "source": [
        "c2f3.summary()"
      ],
      "execution_count": null,
      "outputs": [
        {
          "name": "stdout",
          "output_type": "stream",
          "text": [
            "Model: \"sequential_1\"\n",
            "_________________________________________________________________\n",
            " Layer (type)                Output Shape              Param #   \n",
            "=================================================================\n",
            " conv2d_2 (Conv2D)           (None, 32, 32, 32)        896       \n",
            "                                                                 \n",
            " max_pooling2d_2 (MaxPooling  (None, 16, 16, 32)       0         \n",
            " 2D)                                                             \n",
            "                                                                 \n",
            " conv2d_3 (Conv2D)           (None, 16, 16, 64)        18496     \n",
            "                                                                 \n",
            " max_pooling2d_3 (MaxPooling  (None, 8, 8, 64)         0         \n",
            " 2D)                                                             \n",
            "                                                                 \n",
            " flatten_1 (Flatten)         (None, 4096)              0         \n",
            "                                                                 \n",
            " dense_2 (Dense)             (None, 128)               524416    \n",
            "                                                                 \n",
            " dropout_1 (Dropout)         (None, 128)               0         \n",
            "                                                                 \n",
            " dense_3 (Dense)             (None, 64)                8256      \n",
            "                                                                 \n",
            " dropout_2 (Dropout)         (None, 64)                0         \n",
            "                                                                 \n",
            " dense_4 (Dense)             (None, 10)                650       \n",
            "                                                                 \n",
            "=================================================================\n",
            "Total params: 552,714\n",
            "Trainable params: 552,714\n",
            "Non-trainable params: 0\n",
            "_________________________________________________________________\n"
          ]
        }
      ]
    },
    {
      "cell_type": "code",
      "metadata": {
        "id": "KMsTuhO2x61z"
      },
      "source": [
        "cp_callback = callbacks.ModelCheckpoint(filepath=\"./cifar10_c2f3_best_weights.{epoch:03d}-{val_accuracy:.4f}.hdf5\", \n",
        "                              monitor='val_accuracy', verbose=0, save_best_only=True)\n",
        "es_callback = callbacks.EarlyStopping(monitor='val_accuracy', \n",
        "                            mode='max', verbose=1, patience=5)    # patience=10, 25, 50"
      ],
      "execution_count": 19,
      "outputs": []
    },
    {
      "cell_type": "code",
      "metadata": {
        "colab": {
          "base_uri": "https://localhost:8080/"
        },
        "id": "lO1of4AOAQlV",
        "outputId": "a988d94e-90e2-40fa-cc39-a091f7e26458"
      },
      "source": [
        "hist = c2f3.fit(X_train, y_train, epochs=500, batch_size = BATCH_SIZE, \n",
        "         callbacks=[cp_callback, es_callback], \n",
        "         validation_data=(X_test,y_test))"
      ],
      "execution_count": 20,
      "outputs": [
        {
          "output_type": "stream",
          "name": "stdout",
          "text": [
            "Epoch 1/500\n",
            "1000/1000 [==============================] - 13s 13ms/step - loss: 1.6255 - accuracy: 0.4064 - val_loss: 1.2365 - val_accuracy: 0.5525\n",
            "Epoch 2/500\n",
            "1000/1000 [==============================] - 13s 13ms/step - loss: 1.2651 - accuracy: 0.5511 - val_loss: 1.1249 - val_accuracy: 0.6057\n",
            "Epoch 3/500\n",
            "1000/1000 [==============================] - 12s 12ms/step - loss: 1.1226 - accuracy: 0.6073 - val_loss: 1.0069 - val_accuracy: 0.6468\n",
            "Epoch 4/500\n",
            "1000/1000 [==============================] - 12s 12ms/step - loss: 1.0332 - accuracy: 0.6390 - val_loss: 0.9691 - val_accuracy: 0.6590\n",
            "Epoch 5/500\n",
            "1000/1000 [==============================] - 12s 12ms/step - loss: 0.9654 - accuracy: 0.6658 - val_loss: 0.9361 - val_accuracy: 0.6760\n",
            "Epoch 6/500\n",
            "1000/1000 [==============================] - 13s 13ms/step - loss: 0.9065 - accuracy: 0.6829 - val_loss: 0.8967 - val_accuracy: 0.6900\n",
            "Epoch 7/500\n",
            "1000/1000 [==============================] - 12s 12ms/step - loss: 0.8642 - accuracy: 0.6994 - val_loss: 0.9045 - val_accuracy: 0.6880\n",
            "Epoch 8/500\n",
            "1000/1000 [==============================] - 12s 12ms/step - loss: 0.8236 - accuracy: 0.7145 - val_loss: 0.8851 - val_accuracy: 0.6956\n",
            "Epoch 9/500\n",
            "1000/1000 [==============================] - 12s 12ms/step - loss: 0.7888 - accuracy: 0.7262 - val_loss: 0.8783 - val_accuracy: 0.6982\n",
            "Epoch 10/500\n",
            "1000/1000 [==============================] - 13s 13ms/step - loss: 0.7526 - accuracy: 0.7384 - val_loss: 0.8763 - val_accuracy: 0.7023\n",
            "Epoch 11/500\n",
            "1000/1000 [==============================] - 12s 12ms/step - loss: 0.7280 - accuracy: 0.7442 - val_loss: 0.8648 - val_accuracy: 0.7101\n",
            "Epoch 12/500\n",
            "1000/1000 [==============================] - 12s 12ms/step - loss: 0.7025 - accuracy: 0.7523 - val_loss: 0.8727 - val_accuracy: 0.7102\n",
            "Epoch 13/500\n",
            "1000/1000 [==============================] - 13s 13ms/step - loss: 0.6773 - accuracy: 0.7608 - val_loss: 0.8654 - val_accuracy: 0.7101\n",
            "Epoch 14/500\n",
            "1000/1000 [==============================] - 12s 12ms/step - loss: 0.6598 - accuracy: 0.7674 - val_loss: 0.8831 - val_accuracy: 0.7039\n",
            "Epoch 15/500\n",
            "1000/1000 [==============================] - 12s 12ms/step - loss: 0.6345 - accuracy: 0.7770 - val_loss: 0.8916 - val_accuracy: 0.7098\n",
            "Epoch 16/500\n",
            "1000/1000 [==============================] - 12s 12ms/step - loss: 0.6215 - accuracy: 0.7797 - val_loss: 0.8995 - val_accuracy: 0.7069\n",
            "Epoch 17/500\n",
            "1000/1000 [==============================] - 12s 12ms/step - loss: 0.5961 - accuracy: 0.7898 - val_loss: 0.9122 - val_accuracy: 0.7046\n",
            "Epoch 00017: early stopping\n"
          ]
        }
      ]
    },
    {
      "cell_type": "code",
      "metadata": {
        "colab": {
          "base_uri": "https://localhost:8080/"
        },
        "id": "W-eIxCasDBil",
        "outputId": "bafe4514-1bf8-482c-dea8-712e240b4793"
      },
      "source": [
        " c2f3.evaluate(X_test, y_test, batch_size = BATCH_SIZE)"
      ],
      "execution_count": 21,
      "outputs": [
        {
          "output_type": "stream",
          "name": "stdout",
          "text": [
            "200/200 [==============================] - 1s 5ms/step - loss: 0.9122 - accuracy: 0.7046\n"
          ]
        },
        {
          "output_type": "execute_result",
          "data": {
            "text/plain": [
              "[0.9121927618980408, 0.7045999765396118]"
            ]
          },
          "metadata": {},
          "execution_count": 21
        }
      ]
    },
    {
      "cell_type": "code",
      "metadata": {
        "colab": {
          "base_uri": "https://localhost:8080/",
          "height": 295
        },
        "id": "Xuw_jhKQsVrx",
        "outputId": "f287fd4b-f55a-4ec9-9d72-dbe1f5b1d809"
      },
      "source": [
        "# More graphs of loss and accuracy\n",
        "history_dict = hist.history\n",
        "loss = history_dict['loss']\n",
        "val_loss = history_dict['val_loss']\n",
        "\n",
        "epochs = range(1, len(loss) + 1)\n",
        "\n",
        "plt.figure(figsize=(14, 4))\n",
        "\n",
        "plt.subplot(1,2,1)\n",
        "plt.plot(epochs, loss, 'go-', label='Training Loss')\n",
        "plt.plot(epochs, val_loss, 'bd', label='Validation Loss')\n",
        "plt.plot(np.argmin(np.array(val_loss))+1,val_loss[np.argmin(np.array(val_loss))], 'r*', ms=12)\n",
        "plt.title('Training and Validation Loss, min: ' + str(np.round(val_loss[np.argmin(np.array(val_loss))],4)))\n",
        "plt.xlabel('Epochs')\n",
        "plt.ylabel('Loss')\n",
        "plt.legend()\n",
        "\n",
        "acc = history_dict['accuracy']\n",
        "val_acc = history_dict['val_accuracy']\n",
        "\n",
        "epochs = range(1, len(loss) + 1)\n",
        "\n",
        "plt.subplot(1,2,2)\n",
        "plt.plot(epochs, acc, 'go-', label='Training Accuracy') #, c='blue')\n",
        "plt.plot(epochs, val_acc, 'bd', label='Validation Accuracy') #, c='red')\n",
        "plt.plot(np.argmax(np.array(val_acc))+1,val_acc[np.argmax(np.array(val_acc))], 'r*', ms=12)\n",
        "plt.title('Training and Validation Accuracy, max: ' + str(np.round(val_acc[np.argmax(np.array(val_acc))],4)))\n",
        "plt.xlabel('Epochs')\n",
        "plt.ylabel('Accuracy')\n",
        "plt.legend()\n",
        "plt.show()"
      ],
      "execution_count": 22,
      "outputs": [
        {
          "output_type": "display_data",
          "data": {
            "image/png": "[encoded data removed]",
            "text/plain": [
              "<Figure size 1008x288 with 2 Axes>"
            ]
          },
          "metadata": {
            "needs_background": "light"
          }
        }
      ]
    },
    {
      "cell_type": "markdown",
      "metadata": {
        "id": "J316fZ9GsVrx"
      },
      "source": [
        "## Best c2f3 model of cifar10\n",
        "- cifar10_c2f3_best_weights.012-0.7102.hdf5"
      ]
    },
    {
      "cell_type": "markdown",
      "metadata": {
        "id": "5XYSVtC-DVsz"
      },
      "source": [
        "# **[DIY] Hidden layer에 따른 정확도**"
      ]
    },
    {
      "cell_type": "code",
      "metadata": {
        "colab": {
          "base_uri": "https://localhost:8080/"
        },
        "id": "OiCc_UO2rGmp",
        "outputId": "2003768b-54dd-416d-a740-f8b1e94d0d27"
      },
      "source": [
        "score1=c2f2.evaluate(X_test, y_test, batch_size = BATCH_SIZE)\n",
        "score2=c2f3.evaluate(X_test, y_test, batch_size = BATCH_SIZE)\n",
        "losses = [score1[0],score2[0]]\n",
        "accuracies= [score1[1],score2[1]]\n",
        "losses,accuracies"
      ],
      "execution_count": 23,
      "outputs": [
        {
          "output_type": "stream",
          "name": "stdout",
          "text": [
            "200/200 [==============================] - 1s 5ms/step - loss: 0.9757 - accuracy: 0.7064\n",
            "200/200 [==============================] - 1s 5ms/step - loss: 0.9122 - accuracy: 0.7046\n"
          ]
        },
        {
          "output_type": "execute_result",
          "data": {
            "text/plain": [
              "([0.9756954908370972, 0.9121927618980408],\n",
              " [0.7063999772071838, 0.7045999765396118])"
            ]
          },
          "metadata": {},
          "execution_count": 23
        }
      ]
    },
    {
      "cell_type": "code",
      "metadata": {
        "colab": {
          "base_uri": "https://localhost:8080/",
          "height": 269
        },
        "id": "vZv6a2aVRw9j",
        "outputId": "bddaf6f2-c9a5-40b9-e671-427c0c9fbded"
      },
      "source": [
        "x = np.arange(2)\n",
        "cnns = ['C2F2','C2F3']\n",
        "\n",
        "plt.bar(x, accuracies)\n",
        "plt.xticks(x, cnns)\n",
        "plt.ylim((.5,1.0))\n",
        "plt.show()"
      ],
      "execution_count": 24,
      "outputs": [
        {
          "output_type": "display_data",
          "data": {
            "image/png": "[encoded data removed]",
            "text/plain": [
              "<Figure size 432x288 with 1 Axes>"
            ]
          },
          "metadata": {
            "needs_background": "light"
          }
        }
      ]
    },
    {
      "cell_type": "markdown",
      "metadata": {
        "id": "63oPbpPejqOj"
      },
      "source": [
        "## Complex model\n",
        "- C4F5 model\n",
        "\n",
        "![cnn_c4f5.png](https://raw.githubusercontent.com/Redwoods/Py/master//pdm2020/my-note/py-tensorflow/images/cnn_c4f5.png)"
      ]
    },
    {
      "cell_type": "code",
      "metadata": {
        "id": "0wBqrsJciYwx"
      },
      "source": [
        "# Random number seed\n",
        "np.random.seed(1234)\n",
        "tf.random.set_seed(1234)"
      ],
      "execution_count": 28,
      "outputs": []
    },
    {
      "cell_type": "code",
      "metadata": {
        "id": "kSN8pq8DkQ6B"
      },
      "source": [
        "c4f5 = keras.models.Sequential([ \n",
        "    Conv2D(input_shape=(32,32,3), filters= 64, kernel_size=(3,3),strides=(1,1), padding='same',activation='relu'),\n",
        "    MaxPool2D(pool_size=(2,2), strides=(2,2)), \n",
        "    Conv2D(filters= 128, kernel_size=(3,3), strides=(1,1), padding='same',activation='relu'),\n",
        "    MaxPool2D(pool_size=(2,2), strides=(2,2)),\n",
        "    Conv2D(filters= 256, kernel_size=(3,3), strides=(1,1), padding='same',activation='relu'),\n",
        "    MaxPool2D(pool_size=(2,2), strides=(2,2)),\n",
        "    Conv2D(filters= 512, kernel_size=(3,3), strides=(1,1), padding='same',activation='relu'),\n",
        "    MaxPool2D(pool_size=(2,2), strides=(2,2)),\n",
        "    Flatten(), \n",
        "    keras.layers.Dense(128, activation='relu'),  \n",
        "    keras.layers.Dropout(0.25), \n",
        "    keras.layers.Dense(256, activation='relu'),  \n",
        "    keras.layers.Dropout(0.25), \n",
        "    keras.layers.Dense(512, activation='relu'),  \n",
        "    keras.layers.Dropout(0.25), \n",
        "    keras.layers.Dense(1024, activation='relu'),  \n",
        "    keras.layers.Dropout(0.25), \n",
        "    keras.layers.Dense(10, activation='softmax')\n",
        "])\n",
        "\n",
        "c4f5.compile(optimizer='adam',\n",
        "              loss='categorical_crossentropy',\n",
        "              metrics=['accuracy']) "
      ],
      "execution_count": 29,
      "outputs": []
    },
    {
      "cell_type": "code",
      "metadata": {
        "colab": {
          "base_uri": "https://localhost:8080/"
        },
        "id": "k7qWzpLRkQ6C",
        "outputId": "cdf93544-f45a-4195-9b54-c9ac412aa3f2"
      },
      "source": [
        "c4f5.summary()"
      ],
      "execution_count": 30,
      "outputs": [
        {
          "output_type": "stream",
          "name": "stdout",
          "text": [
            "Model: \"sequential_3\"\n",
            "_________________________________________________________________\n",
            " Layer (type)                Output Shape              Param #   \n",
            "=================================================================\n",
            " conv2d_8 (Conv2D)           (None, 32, 32, 64)        1792      \n",
            "                                                                 \n",
            " max_pooling2d_8 (MaxPooling  (None, 16, 16, 64)       0         \n",
            " 2D)                                                             \n",
            "                                                                 \n",
            " conv2d_9 (Conv2D)           (None, 16, 16, 128)       73856     \n",
            "                                                                 \n",
            " max_pooling2d_9 (MaxPooling  (None, 8, 8, 128)        0         \n",
            " 2D)                                                             \n",
            "                                                                 \n",
            " conv2d_10 (Conv2D)          (None, 8, 8, 256)         295168    \n",
            "                                                                 \n",
            " max_pooling2d_10 (MaxPoolin  (None, 4, 4, 256)        0         \n",
            " g2D)                                                            \n",
            "                                                                 \n",
            " conv2d_11 (Conv2D)          (None, 4, 4, 512)         1180160   \n",
            "                                                                 \n",
            " max_pooling2d_11 (MaxPoolin  (None, 2, 2, 512)        0         \n",
            " g2D)                                                            \n",
            "                                                                 \n",
            " flatten_3 (Flatten)         (None, 2048)              0         \n",
            "                                                                 \n",
            " dense_10 (Dense)            (None, 128)               262272    \n",
            "                                                                 \n",
            " dropout_7 (Dropout)         (None, 128)               0         \n",
            "                                                                 \n",
            " dense_11 (Dense)            (None, 256)               33024     \n",
            "                                                                 \n",
            " dropout_8 (Dropout)         (None, 256)               0         \n",
            "                                                                 \n",
            " dense_12 (Dense)            (None, 512)               131584    \n",
            "                                                                 \n",
            " dropout_9 (Dropout)         (None, 512)               0         \n",
            "                                                                 \n",
            " dense_13 (Dense)            (None, 1024)              525312    \n",
            "                                                                 \n",
            " dropout_10 (Dropout)        (None, 1024)              0         \n",
            "                                                                 \n",
            " dense_14 (Dense)            (None, 10)                10250     \n",
            "                                                                 \n",
            "=================================================================\n",
            "Total params: 2,513,418\n",
            "Trainable params: 2,513,418\n",
            "Non-trainable params: 0\n",
            "_________________________________________________________________\n"
          ]
        }
      ]
    },
    {
      "cell_type": "code",
      "metadata": {
        "id": "-pKJWy-2kQ6C"
      },
      "source": [
        "cp_callback = callbacks.ModelCheckpoint(filepath=\"./cifar10_c4f5_best_weights.{epoch:03d}-{val_accuracy:.4f}.hdf5\", \n",
        "                              monitor='val_accuracy', verbose=0, save_best_only=True)\n",
        "es_callback = callbacks.EarlyStopping(monitor='val_accuracy', \n",
        "                            mode='max', verbose=1, patience=5)    # patience=10, 25, 50"
      ],
      "execution_count": 31,
      "outputs": []
    },
    {
      "cell_type": "code",
      "metadata": {
        "colab": {
          "base_uri": "https://localhost:8080/"
        },
        "id": "wKdgr9EskQ6C",
        "outputId": "1f6456aa-0c90-4fef-9699-6c96137175c7"
      },
      "source": [
        "hist = c4f5.fit(X_train, y_train, epochs=500, batch_size = BATCH_SIZE, \n",
        "         callbacks=[cp_callback, es_callback], \n",
        "         validation_data=(X_test,y_test))"
      ],
      "execution_count": 32,
      "outputs": [
        {
          "output_type": "stream",
          "name": "stdout",
          "text": [
            "Epoch 1/500\n",
            "1000/1000 [==============================] - 24s 23ms/step - loss: 1.6680 - accuracy: 0.3613 - val_loss: 1.2937 - val_accuracy: 0.5247\n",
            "Epoch 2/500\n",
            "1000/1000 [==============================] - 22s 22ms/step - loss: 1.2162 - accuracy: 0.5630 - val_loss: 1.0930 - val_accuracy: 0.6195\n",
            "Epoch 3/500\n",
            "1000/1000 [==============================] - 22s 22ms/step - loss: 1.0197 - accuracy: 0.6457 - val_loss: 0.9355 - val_accuracy: 0.6769\n",
            "Epoch 4/500\n",
            "1000/1000 [==============================] - 22s 22ms/step - loss: 0.8833 - accuracy: 0.6991 - val_loss: 0.9018 - val_accuracy: 0.7026\n",
            "Epoch 5/500\n",
            "1000/1000 [==============================] - 22s 22ms/step - loss: 0.7930 - accuracy: 0.7332 - val_loss: 0.8375 - val_accuracy: 0.7159\n",
            "Epoch 6/500\n",
            "1000/1000 [==============================] - 22s 22ms/step - loss: 0.7140 - accuracy: 0.7611 - val_loss: 0.8041 - val_accuracy: 0.7356\n",
            "Epoch 7/500\n",
            "1000/1000 [==============================] - 22s 22ms/step - loss: 0.6406 - accuracy: 0.7858 - val_loss: 0.8073 - val_accuracy: 0.7375\n",
            "Epoch 8/500\n",
            "1000/1000 [==============================] - 22s 22ms/step - loss: 0.5904 - accuracy: 0.8051 - val_loss: 0.7921 - val_accuracy: 0.7433\n",
            "Epoch 9/500\n",
            "1000/1000 [==============================] - 22s 22ms/step - loss: 0.5346 - accuracy: 0.8246 - val_loss: 0.8145 - val_accuracy: 0.7361\n",
            "Epoch 10/500\n",
            "1000/1000 [==============================] - 22s 22ms/step - loss: 0.4923 - accuracy: 0.8371 - val_loss: 0.8268 - val_accuracy: 0.7417\n",
            "Epoch 11/500\n",
            "1000/1000 [==============================] - 22s 22ms/step - loss: 0.4484 - accuracy: 0.8539 - val_loss: 0.8673 - val_accuracy: 0.7393\n",
            "Epoch 12/500\n",
            "1000/1000 [==============================] - 22s 22ms/step - loss: 0.4189 - accuracy: 0.8629 - val_loss: 0.8292 - val_accuracy: 0.7518\n",
            "Epoch 13/500\n",
            "1000/1000 [==============================] - 22s 22ms/step - loss: 0.3805 - accuracy: 0.8767 - val_loss: 0.9454 - val_accuracy: 0.7480\n",
            "Epoch 14/500\n",
            "1000/1000 [==============================] - 22s 22ms/step - loss: 0.3561 - accuracy: 0.8845 - val_loss: 0.8998 - val_accuracy: 0.7370\n",
            "Epoch 15/500\n",
            "1000/1000 [==============================] - 22s 22ms/step - loss: 0.3357 - accuracy: 0.8923 - val_loss: 0.9216 - val_accuracy: 0.7491\n",
            "Epoch 16/500\n",
            "1000/1000 [==============================] - 22s 22ms/step - loss: 0.3103 - accuracy: 0.9022 - val_loss: 0.9764 - val_accuracy: 0.7364\n",
            "Epoch 17/500\n",
            "1000/1000 [==============================] - 22s 22ms/step - loss: 0.2970 - accuracy: 0.9059 - val_loss: 0.9481 - val_accuracy: 0.7379\n",
            "Epoch 00017: early stopping\n"
          ]
        }
      ]
    },
    {
      "cell_type": "code",
      "metadata": {
        "colab": {
          "base_uri": "https://localhost:8080/"
        },
        "id": "jfwYHBexkQ6D",
        "outputId": "d071cc57-3306-4f4e-e2c9-7cfa98923e80"
      },
      "source": [
        " c4f5.evaluate(X_test, y_test, batch_size = BATCH_SIZE)"
      ],
      "execution_count": 33,
      "outputs": [
        {
          "output_type": "stream",
          "name": "stdout",
          "text": [
            "200/200 [==============================] - 2s 9ms/step - loss: 0.9481 - accuracy: 0.7379\n"
          ]
        },
        {
          "output_type": "execute_result",
          "data": {
            "text/plain": [
              "[0.9480598568916321, 0.7379000186920166]"
            ]
          },
          "metadata": {},
          "execution_count": 33
        }
      ]
    },
    {
      "cell_type": "markdown",
      "metadata": {
        "id": "3Ub3qGnjs4EI"
      },
      "source": [
        "## Graph of loss and accuracy\n",
        "- model: C4f5"
      ]
    },
    {
      "cell_type": "code",
      "metadata": {
        "colab": {
          "base_uri": "https://localhost:8080/",
          "height": 295
        },
        "id": "N_zYFwbwsVr0",
        "outputId": "bfea315a-26d1-48af-9d8a-1da1676d19ec"
      },
      "source": [
        "# More graphs of loss and accuracy\n",
        "history_dict = hist.history\n",
        "loss = history_dict['loss']\n",
        "val_loss = history_dict['val_loss']\n",
        "\n",
        "epochs = range(1, len(loss) + 1)\n",
        "\n",
        "plt.figure(figsize=(14, 4))\n",
        "\n",
        "plt.subplot(1,2,1)\n",
        "plt.plot(epochs, loss, 'go-', label='Training Loss')\n",
        "plt.plot(epochs, val_loss, 'bd', label='Validation Loss')\n",
        "plt.plot(np.argmin(np.array(val_loss))+1,val_loss[np.argmin(np.array(val_loss))], 'r*', ms=12)\n",
        "plt.title('Training and Validation Loss, min: ' + str(np.round(val_loss[np.argmin(np.array(val_loss))],4)))\n",
        "plt.xlabel('Epochs')\n",
        "plt.ylabel('Loss')\n",
        "plt.legend()\n",
        "\n",
        "acc = history_dict['accuracy']\n",
        "val_acc = history_dict['val_accuracy']\n",
        "\n",
        "epochs = range(1, len(loss) + 1)\n",
        "\n",
        "plt.subplot(1,2,2)\n",
        "plt.plot(epochs, acc, 'go-', label='Training Accuracy') #, c='blue')\n",
        "plt.plot(epochs, val_acc, 'bd', label='Validation Accuracy') #, c='red')\n",
        "plt.plot(np.argmax(np.array(val_acc))+1,val_acc[np.argmax(np.array(val_acc))], 'r*', ms=12)\n",
        "plt.title('Training and Validation Accuracy, max: ' + str(np.round(val_acc[np.argmax(np.array(val_acc))],4)))\n",
        "plt.xlabel('Epochs')\n",
        "plt.ylabel('Accuracy')\n",
        "plt.legend()\n",
        "plt.show()"
      ],
      "execution_count": 34,
      "outputs": [
        {
          "output_type": "display_data",
          "data": {
            "image/png": "[encoded data removed]",
            "text/plain": [
              "<Figure size 1008x288 with 2 Axes>"
            ]
          },
          "metadata": {
            "needs_background": "light"
          }
        }
      ]
    },
    {
      "cell_type": "markdown",
      "metadata": {
        "id": "97G08isfsVr0"
      },
      "source": [
        "## Best c4f5 model of cifar10\n",
        "- cifar10_c4f5_best_weights.012-0.7518.hdf5"
      ]
    },
    {
      "cell_type": "markdown",
      "metadata": {
        "id": "gBPKMI4y3fsa"
      },
      "source": [
        "## 모형의 저장\n",
        "\n",
        "- 트레이닝이 끝난 모형은 save 메서드로 가중치와 함께 hdf5 형식으로 저장\n",
        "- load 명령으로 불러 사용"
      ]
    },
    {
      "cell_type": "markdown",
      "metadata": {
        "id": "r7-KSSrCsVr0"
      },
      "source": [
        "## Best model\n",
        "- cifar10_c4f5_best_weights.012-0.7518.hdf5"
      ]
    },
    {
      "cell_type": "code",
      "metadata": {
        "colab": {
          "base_uri": "https://localhost:8080/"
        },
        "id": "b7-ysIVy3fse",
        "outputId": "79850483-608a-4eb9-f561-d5b242836357"
      },
      "source": [
        "from keras.models import load_model\n",
        "\n",
        "model_best = load_model('cifar10_c4f5_best_weights.012-0.7518.hdf5')\n",
        "model_best.evaluate(X_test, y_test, batch_size=BATCH_SIZE)"
      ],
      "execution_count": 35,
      "outputs": [
        {
          "output_type": "stream",
          "name": "stdout",
          "text": [
            "200/200 [==============================] - 2s 9ms/step - loss: 0.8292 - accuracy: 0.7518\n"
          ]
        },
        {
          "output_type": "execute_result",
          "data": {
            "text/plain": [
              "[0.8292167782783508, 0.751800000667572]"
            ]
          },
          "metadata": {},
          "execution_count": 35
        }
      ]
    },
    {
      "cell_type": "markdown",
      "metadata": {
        "id": "KF3UzDJotZrh"
      },
      "source": [
        "## Confusion matrix"
      ]
    },
    {
      "cell_type": "code",
      "metadata": {
        "id": "RV1IaOyeu6Em"
      },
      "source": [
        "from sklearn.metrics import confusion_matrix\n",
        "import seaborn as sns"
      ],
      "execution_count": 36,
      "outputs": []
    },
    {
      "cell_type": "code",
      "metadata": {
        "id": "Bxs1eC-cuO0Y"
      },
      "source": [
        "predictions = model_best.predict(X_test)"
      ],
      "execution_count": 37,
      "outputs": []
    },
    {
      "cell_type": "code",
      "metadata": {
        "colab": {
          "base_uri": "https://localhost:8080/"
        },
        "id": "nZch1JFSufoR",
        "outputId": "4c455fd5-9ded-4cd2-d03c-6ac8f05ef566"
      },
      "source": [
        "predictions0 = np.argmax(predictions, axis=1)\n",
        "predictions0.shape"
      ],
      "execution_count": 38,
      "outputs": [
        {
          "output_type": "execute_result",
          "data": {
            "text/plain": [
              "(10000,)"
            ]
          },
          "metadata": {},
          "execution_count": 38
        }
      ]
    },
    {
      "cell_type": "code",
      "metadata": {
        "id": "hiPMQeYXt12l"
      },
      "source": [
        "cm = confusion_matrix(y_test0, predictions0)"
      ],
      "execution_count": 39,
      "outputs": []
    },
    {
      "cell_type": "code",
      "metadata": {
        "id": "YITaGwYjvatc"
      },
      "source": [
        "class_names = ['airplane', 'automobile', 'bird', 'cat', 'deer', 'dog', 'frog', 'horse', 'ship', 'truck']"
      ],
      "execution_count": 40,
      "outputs": []
    },
    {
      "cell_type": "code",
      "metadata": {
        "colab": {
          "base_uri": "https://localhost:8080/",
          "height": 551
        },
        "id": "2qGHMNU3u8ut",
        "outputId": "31316311-2ec7-4f1c-80bf-59588c262f1a"
      },
      "source": [
        "plt.figure(figsize=(9,9))\n",
        "sns.heatmap(cm, cbar=False, xticklabels=class_names, yticklabels=class_names, fmt='d', annot=True, cmap=plt.cm.coolwarm)\n",
        "plt.xlabel('Predicted')\n",
        "plt.ylabel('Actual')\n",
        "plt.show()"
      ],
      "execution_count": 41,
      "outputs": [
        {
          "output_type": "display_data",
          "data": {
            "image/png": "[encoded data removed]",
            "text/plain": [
              "<Figure size 648x648 with 1 Axes>"
            ]
          },
          "metadata": {
            "needs_background": "light"
          }
        }
      ]
    },
    {
      "cell_type": "markdown",
      "metadata": {
        "id": "m6ckhbERsVr2"
      },
      "source": [
        "---"
      ]
    },
    {
      "cell_type": "markdown",
      "metadata": {
        "id": "SQ3M6vRVXG78"
      },
      "source": [
        "## cifar10 모델 학습\n",
        "> https://gruuuuu.github.io/machine-learning/cifar10-cnn/#"
      ]
    },
    {
      "cell_type": "markdown",
      "metadata": {
        "id": "0n2PfCMBh2ju"
      },
      "source": [
        "# State of current scores of cifar-10\n",
        "\n",
        "> https://paperswithcode.com/sota/image-classification-on-cifar-10"
      ]
    },
    {
      "cell_type": "markdown",
      "metadata": {
        "id": "7abyx_2n0_7d"
      },
      "source": [
        "## Transfer learning on cifar-10\n",
        "\n",
        "- https://medium.com/@andrew.dabydeen/transfer-learning-using-resnet50-and-cifar-10-6242ed4b4245\n",
        "\n",
        "- https://medium.com/swlh/comparative-analysis-of-cifar-10-image-classification-transfer-learning-vs-user-defined-cnns-e673685d925e\n",
        "\n",
        "- https://medium.com/swlh/hands-on-the-cifar-10-dataset-with-transfer-learning-2e768fd6c318\n",
        "\n",
        "- https://medium.com/analytics-vidhya/the-transfer-learning-experience-with-vgg16-and-cifar-10-dataset-9b25b306a23f"
      ]
    },
    {
      "cell_type": "markdown",
      "metadata": {
        "id": "xmWCauBEsVr3"
      },
      "source": [
        "---"
      ]
    }
  ]
}