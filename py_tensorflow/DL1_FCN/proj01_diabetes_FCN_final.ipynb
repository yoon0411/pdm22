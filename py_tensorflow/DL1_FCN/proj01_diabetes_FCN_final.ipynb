{
  "nbformat": 4,
  "nbformat_minor": 0,
  "metadata": {
    "kernelspec": {
      "display_name": "Python 3",
      "language": "python",
      "name": "python3"
    },
    "language_info": {
      "codemirror_mode": {
        "name": "ipython",
        "version": 3
      },
      "file_extension": ".py",
      "mimetype": "text/x-python",
      "name": "python",
      "nbconvert_exporter": "python",
      "pygments_lexer": "ipython3",
      "version": "3.6.5"
    },
    "colab": {
      "name": "proj01_diabetes_FCN_final.ipynb",
      "provenance": [],
      "collapsed_sections": [],
      "include_colab_link": true
    }
  },
  "cells": [
    {
      "cell_type": "markdown",
      "metadata": {
        "id": "view-in-github",
        "colab_type": "text"
      },
      "source": [
        "<a href=\"https://colab.research.google.com/github/yoon0411/pdm22/blob/main/py_tensorflow/DL1_FCN/proj01_diabetes_FCN_final.ipynb\" target=\"_parent\"><img src=\"https://colab.research.google.com/assets/colab-badge.svg\" alt=\"Open In Colab\"/></a>"
      ]
    },
    {
      "cell_type": "markdown",
      "metadata": {
        "id": "nOvJjCFrkWDc"
      },
      "source": [
        "# **DL: FCN of Pima-Indians-Diabetes-Data** \n",
        "\n",
        "> https://medium.com/@soumen.atta/analyzing-pima-indians-diabetes-data-using-python-89a021b5f4eb\n",
        "\n",
        "### Diabetes Prediction using Neural Networks \n",
        "- [Deep learning approach for diabetes prediction using PIMA Indian dataset](https://link.springer.com/article/10.1007/s40200-020-00520-5)"
      ]
    },
    {
      "cell_type": "code",
      "metadata": {
        "_cell_guid": "8e27055d-7b00-49f6-b0e8-f53ff433ddca",
        "_uuid": "1e1e2b84-2d40-497b-92bd-f238f939cfa8",
        "id": "WUOW3NKRkWDd",
        "colab": {
          "base_uri": "https://localhost:8080/"
        },
        "outputId": "06f495d5-b2ea-40c5-d584-23d3abc2db8e"
      },
      "source": [
        "# Load the required packages \n",
        "import numpy as np\n",
        "import tensorflow as tf\n",
        "from tensorflow import keras\n",
        "import pandas as pd\n",
        "from pandas import read_csv\n",
        "import matplotlib.pyplot as plt\n",
        "# %matplotlib inline\n",
        "\n",
        "tf.random.set_seed(0)\n",
        "\n",
        "print(tf.__version__)"
      ],
      "execution_count": 1,
      "outputs": [
        {
          "output_type": "stream",
          "name": "stdout",
          "text": [
            "2.7.0\n"
          ]
        }
      ]
    },
    {
      "cell_type": "markdown",
      "metadata": {
        "id": "TcfPniN2kWDg"
      },
      "source": [
        "**Load CSV file using Pandas**"
      ]
    },
    {
      "cell_type": "code",
      "metadata": {
        "id": "Ahd9x_NVkWDg",
        "colab": {
          "base_uri": "https://localhost:8080/"
        },
        "outputId": "08aee89b-7478-423f-e2e8-bdc719e0e95a"
      },
      "source": [
        "# Specify the file name \n",
        "url = \"https://github.com/Redwoods/Py/raw/master/pdm2020/my-note/py-pandas/data/diabetes.csv\"\n",
        "filename = url\n",
        "# filename = 'diabetes.csv'  # access to local file\n",
        "\n",
        "# Read the data \n",
        "df = read_csv(filename) \n",
        "\n",
        "# Print the shape \n",
        "df.shape"
      ],
      "execution_count": 2,
      "outputs": [
        {
          "output_type": "execute_result",
          "data": {
            "text/plain": [
              "(768, 9)"
            ]
          },
          "metadata": {},
          "execution_count": 2
        }
      ]
    },
    {
      "cell_type": "code",
      "metadata": {
        "id": "q_g68MTvkWDi",
        "colab": {
          "base_uri": "https://localhost:8080/",
          "height": 204
        },
        "outputId": "afae5df4-df7d-4bf8-b047-8d37393c6dbc"
      },
      "source": [
        "# Print the first 5 rows \n",
        "df.head()"
      ],
      "execution_count": 3,
      "outputs": [
        {
          "output_type": "execute_result",
          "data": {
            "text/html": [
              "<div>\n",
              "<style scoped>\n",
              "    .dataframe tbody tr th:only-of-type {\n",
              "        vertical-align: middle;\n",
              "    }\n",
              "\n",
              "    .dataframe tbody tr th {\n",
              "        vertical-align: top;\n",
              "    }\n",
              "\n",
              "    .dataframe thead th {\n",
              "        text-align: right;\n",
              "    }\n",
              "</style>\n",
              "<table border=\"1\" class=\"dataframe\">\n",
              "  <thead>\n",
              "    <tr style=\"text-align: right;\">\n",
              "      <th></th>\n",
              "      <th>Pregnancies</th>\n",
              "      <th>Glucose</th>\n",
              "      <th>BloodPressure</th>\n",
              "      <th>SkinThickness</th>\n",
              "      <th>Insulin</th>\n",
              "      <th>BMI</th>\n",
              "      <th>DiabetesPedigreeFunction</th>\n",
              "      <th>Age</th>\n",
              "      <th>Outcome</th>\n",
              "    </tr>\n",
              "  </thead>\n",
              "  <tbody>\n",
              "    <tr>\n",
              "      <th>0</th>\n",
              "      <td>6</td>\n",
              "      <td>148</td>\n",
              "      <td>72</td>\n",
              "      <td>35</td>\n",
              "      <td>0</td>\n",
              "      <td>33.6</td>\n",
              "      <td>0.627</td>\n",
              "      <td>50</td>\n",
              "      <td>1</td>\n",
              "    </tr>\n",
              "    <tr>\n",
              "      <th>1</th>\n",
              "      <td>1</td>\n",
              "      <td>85</td>\n",
              "      <td>66</td>\n",
              "      <td>29</td>\n",
              "      <td>0</td>\n",
              "      <td>26.6</td>\n",
              "      <td>0.351</td>\n",
              "      <td>31</td>\n",
              "      <td>0</td>\n",
              "    </tr>\n",
              "    <tr>\n",
              "      <th>2</th>\n",
              "      <td>8</td>\n",
              "      <td>183</td>\n",
              "      <td>64</td>\n",
              "      <td>0</td>\n",
              "      <td>0</td>\n",
              "      <td>23.3</td>\n",
              "      <td>0.672</td>\n",
              "      <td>32</td>\n",
              "      <td>1</td>\n",
              "    </tr>\n",
              "    <tr>\n",
              "      <th>3</th>\n",
              "      <td>1</td>\n",
              "      <td>89</td>\n",
              "      <td>66</td>\n",
              "      <td>23</td>\n",
              "      <td>94</td>\n",
              "      <td>28.1</td>\n",
              "      <td>0.167</td>\n",
              "      <td>21</td>\n",
              "      <td>0</td>\n",
              "    </tr>\n",
              "    <tr>\n",
              "      <th>4</th>\n",
              "      <td>0</td>\n",
              "      <td>137</td>\n",
              "      <td>40</td>\n",
              "      <td>35</td>\n",
              "      <td>168</td>\n",
              "      <td>43.1</td>\n",
              "      <td>2.288</td>\n",
              "      <td>33</td>\n",
              "      <td>1</td>\n",
              "    </tr>\n",
              "  </tbody>\n",
              "</table>\n",
              "</div>"
            ],
            "text/plain": [
              "   Pregnancies  Glucose  BloodPressure  ...  DiabetesPedigreeFunction  Age  Outcome\n",
              "0            6      148             72  ...                     0.627   50        1\n",
              "1            1       85             66  ...                     0.351   31        0\n",
              "2            8      183             64  ...                     0.672   32        1\n",
              "3            1       89             66  ...                     0.167   21        0\n",
              "4            0      137             40  ...                     2.288   33        1\n",
              "\n",
              "[5 rows x 9 columns]"
            ]
          },
          "metadata": {},
          "execution_count": 3
        }
      ]
    },
    {
      "cell_type": "markdown",
      "metadata": {
        "id": "crLvVWcozxxL"
      },
      "source": [
        "## create X and y datasets for training from df"
      ]
    },
    {
      "cell_type": "code",
      "metadata": {
        "id": "nPXuV-pmzxxL"
      },
      "source": [
        "from sklearn import model_selection"
      ],
      "execution_count": 10,
      "outputs": []
    },
    {
      "cell_type": "code",
      "metadata": {
        "id": "vO3Bzh7uPEv2"
      },
      "source": [
        "# create X and Y datasets for training from raw df\n",
        "X = np.array(df.drop(['Outcome'], 1))\n",
        "y = np.array(df['Outcome'])\n",
        "\n",
        "# set random number seed\n",
        "np.random.seed(1234)\n",
        "tf.random.set_seed(1234)\n",
        "X_train, X_test, y_train, y_test = model_selection.train_test_split(X, y, test_size = 0.2)"
      ],
      "execution_count": 11,
      "outputs": []
    },
    {
      "cell_type": "code",
      "metadata": {
        "id": "stfPciBcb7EP",
        "colab": {
          "base_uri": "https://localhost:8080/"
        },
        "outputId": "4ba5dd24-1601-4ab2-d4a7-6ba7a9eac253"
      },
      "source": [
        "X_train.shape, X_test.shape, y_train.shape, y_test.shape"
      ],
      "execution_count": 12,
      "outputs": [
        {
          "output_type": "execute_result",
          "data": {
            "text/plain": [
              "((614, 8), (154, 8), (614,), (154,))"
            ]
          },
          "metadata": {},
          "execution_count": 12
        }
      ]
    },
    {
      "cell_type": "code",
      "metadata": {
        "id": "QkKoN2VFzxxL",
        "colab": {
          "base_uri": "https://localhost:8080/"
        },
        "outputId": "7291e6ef-84c2-431d-8541-0d5d66b3a3d9"
      },
      "source": [
        "print(X_train[0])\n",
        "y_train[:10]"
      ],
      "execution_count": 13,
      "outputs": [
        {
          "output_type": "stream",
          "name": "stdout",
          "text": [
            "[  2.    106.     56.     27.    165.     29.      0.426  22.   ]\n"
          ]
        },
        {
          "output_type": "execute_result",
          "data": {
            "text/plain": [
              "array([0, 1, 1, 0, 0, 0, 1, 0, 0, 1])"
            ]
          },
          "metadata": {},
          "execution_count": 13
        }
      ]
    },
    {
      "cell_type": "code",
      "metadata": {
        "id": "Ksp_VaslzxxL",
        "colab": {
          "base_uri": "https://localhost:8080/"
        },
        "outputId": "01a8d565-6a84-4cde-e9e5-c99a17cd10dd"
      },
      "source": [
        "np.unique(y_train, return_counts=True),np.unique(y_test, return_counts=True)  #[1]"
      ],
      "execution_count": 14,
      "outputs": [
        {
          "output_type": "execute_result",
          "data": {
            "text/plain": [
              "((array([0, 1]), array([401, 213])), (array([0, 1]), array([99, 55])))"
            ]
          },
          "metadata": {},
          "execution_count": 14
        }
      ]
    },
    {
      "cell_type": "code",
      "metadata": {
        "id": "z6nGrXvXzxxM",
        "colab": {
          "base_uri": "https://localhost:8080/"
        },
        "outputId": "1fbe4400-d7b0-41e2-ae08-2d88622d2aca"
      },
      "source": [
        "X_train[:3]"
      ],
      "execution_count": 15,
      "outputs": [
        {
          "output_type": "execute_result",
          "data": {
            "text/plain": [
              "array([[  2.   , 106.   ,  56.   ,  27.   , 165.   ,  29.   ,   0.426,\n",
              "         22.   ],\n",
              "       [  4.   , 158.   ,  78.   ,   0.   ,   0.   ,  32.9  ,   0.803,\n",
              "         31.   ],\n",
              "       [  1.   , 196.   ,  76.   ,  36.   , 249.   ,  36.5  ,   0.875,\n",
              "         29.   ]])"
            ]
          },
          "metadata": {},
          "execution_count": 15
        }
      ]
    },
    {
      "cell_type": "code",
      "metadata": {
        "id": "wAFYD041Xb1A"
      },
      "source": [
        "# import TF2 submodules\n",
        "from tensorflow.keras import layers, models, callbacks\n",
        "from keras.models import Sequential\n",
        "from keras.layers import Dense,Flatten\n",
        "from keras.callbacks import ModelCheckpoint, EarlyStopping"
      ],
      "execution_count": 16,
      "outputs": []
    },
    {
      "cell_type": "markdown",
      "metadata": {
        "id": "qJ305pLHm5HF"
      },
      "source": [
        "## Deep learning of Diabetes dataset\n",
        "- noDM(0), DM(1)\n",
        "\n",
        "### Prediction by sigmoid function in the output layer\n",
        "- 0 if output < 0.5\n",
        "- 1 if output >= 0.5"
      ]
    },
    {
      "cell_type": "markdown",
      "metadata": {
        "id": "AZGiaDRh3-Ze"
      },
      "source": [
        "## Simple FCN\n",
        "- 3 layers FCN: 2 hidden + output"
      ]
    },
    {
      "cell_type": "code",
      "metadata": {
        "id": "0B5Xc0atXtuC"
      },
      "source": [
        "# set random number seed\n",
        "np.random.seed(1234)\n",
        "tf.random.set_seed(1234)\n",
        "\n",
        "# define the keras model: simple FCN\n",
        "model = Sequential()\n",
        "model.add(Dense(12, input_dim=8, activation='relu'))\n",
        "model.add(Dense(8, activation='relu'))\n",
        "model.add(Dense(1, activation='sigmoid'))\n",
        "# compile the keras model\n",
        "model.compile(loss='binary_crossentropy', \n",
        "              optimizer='adam', \n",
        "              metrics=['accuracy'])\n"
      ],
      "execution_count": 17,
      "outputs": []
    },
    {
      "cell_type": "code",
      "metadata": {
        "id": "ROjU8SG-X2XU",
        "colab": {
          "base_uri": "https://localhost:8080/"
        },
        "outputId": "b804428b-cc49-412a-9f9d-2f8a00bd3270"
      },
      "source": [
        "# fit the keras model on the dataset\n",
        "hist = model.fit(X_train, y_train, epochs=150, batch_size=10, verbose=1, \n",
        "                 validation_data=(X_test, y_test))\n"
      ],
      "execution_count": 18,
      "outputs": [
        {
          "output_type": "stream",
          "name": "stdout",
          "text": [
            "Epoch 1/150\n",
            "62/62 [==============================] - 1s 5ms/step - loss: 7.5488 - accuracy: 0.5537 - val_loss: 3.4242 - val_accuracy: 0.6429\n",
            "Epoch 2/150\n",
            "62/62 [==============================] - 0s 2ms/step - loss: 2.4032 - accuracy: 0.5928 - val_loss: 1.7341 - val_accuracy: 0.6234\n",
            "Epoch 3/150\n",
            "62/62 [==============================] - 0s 2ms/step - loss: 1.2483 - accuracy: 0.5717 - val_loss: 0.9172 - val_accuracy: 0.6364\n",
            "Epoch 4/150\n",
            "62/62 [==============================] - 0s 2ms/step - loss: 0.7927 - accuracy: 0.6156 - val_loss: 0.8362 - val_accuracy: 0.6039\n",
            "Epoch 5/150\n",
            "62/62 [==============================] - 0s 3ms/step - loss: 0.7411 - accuracy: 0.6270 - val_loss: 0.7949 - val_accuracy: 0.6558\n",
            "Epoch 6/150\n",
            "62/62 [==============================] - 0s 2ms/step - loss: 0.7469 - accuracy: 0.6417 - val_loss: 0.7583 - val_accuracy: 0.6039\n",
            "Epoch 7/150\n",
            "62/62 [==============================] - 0s 2ms/step - loss: 0.7345 - accuracy: 0.6678 - val_loss: 0.7421 - val_accuracy: 0.6494\n",
            "Epoch 8/150\n",
            "62/62 [==============================] - 0s 2ms/step - loss: 0.6903 - accuracy: 0.6596 - val_loss: 0.7094 - val_accuracy: 0.6753\n",
            "Epoch 9/150\n",
            "62/62 [==============================] - 0s 2ms/step - loss: 0.6682 - accuracy: 0.6759 - val_loss: 0.7268 - val_accuracy: 0.6494\n",
            "Epoch 10/150\n",
            "62/62 [==============================] - 0s 2ms/step - loss: 0.6674 - accuracy: 0.6808 - val_loss: 0.7105 - val_accuracy: 0.6948\n",
            "Epoch 11/150\n",
            "62/62 [==============================] - 0s 2ms/step - loss: 0.6649 - accuracy: 0.6857 - val_loss: 0.6797 - val_accuracy: 0.7078\n",
            "Epoch 12/150\n",
            "62/62 [==============================] - 0s 2ms/step - loss: 0.6412 - accuracy: 0.6906 - val_loss: 0.6999 - val_accuracy: 0.6883\n",
            "Epoch 13/150\n",
            "62/62 [==============================] - 0s 2ms/step - loss: 0.6500 - accuracy: 0.6906 - val_loss: 0.7037 - val_accuracy: 0.7013\n",
            "Epoch 14/150\n",
            "62/62 [==============================] - 0s 2ms/step - loss: 0.6318 - accuracy: 0.6840 - val_loss: 0.6887 - val_accuracy: 0.7013\n",
            "Epoch 15/150\n",
            "62/62 [==============================] - 0s 2ms/step - loss: 0.6307 - accuracy: 0.7003 - val_loss: 0.6818 - val_accuracy: 0.7143\n",
            "Epoch 16/150\n",
            "62/62 [==============================] - 0s 2ms/step - loss: 0.6286 - accuracy: 0.6824 - val_loss: 0.7239 - val_accuracy: 0.6883\n",
            "Epoch 17/150\n",
            "62/62 [==============================] - 0s 2ms/step - loss: 0.6313 - accuracy: 0.6792 - val_loss: 0.6693 - val_accuracy: 0.7208\n",
            "Epoch 18/150\n",
            "62/62 [==============================] - 0s 2ms/step - loss: 0.6203 - accuracy: 0.6792 - val_loss: 0.6720 - val_accuracy: 0.7338\n",
            "Epoch 19/150\n",
            "62/62 [==============================] - 0s 2ms/step - loss: 0.6161 - accuracy: 0.7003 - val_loss: 0.7213 - val_accuracy: 0.6429\n",
            "Epoch 20/150\n",
            "62/62 [==============================] - 0s 2ms/step - loss: 0.6238 - accuracy: 0.6824 - val_loss: 0.6789 - val_accuracy: 0.7013\n",
            "Epoch 21/150\n",
            "62/62 [==============================] - 0s 2ms/step - loss: 0.6151 - accuracy: 0.6857 - val_loss: 0.6682 - val_accuracy: 0.6818\n",
            "Epoch 22/150\n",
            "62/62 [==============================] - 0s 2ms/step - loss: 0.6036 - accuracy: 0.6906 - val_loss: 0.6549 - val_accuracy: 0.7338\n",
            "Epoch 23/150\n",
            "62/62 [==============================] - 0s 2ms/step - loss: 0.5994 - accuracy: 0.6987 - val_loss: 0.7083 - val_accuracy: 0.6883\n",
            "Epoch 24/150\n",
            "62/62 [==============================] - 0s 2ms/step - loss: 0.6025 - accuracy: 0.7020 - val_loss: 0.6435 - val_accuracy: 0.7338\n",
            "Epoch 25/150\n",
            "62/62 [==============================] - 0s 2ms/step - loss: 0.6122 - accuracy: 0.6840 - val_loss: 0.6563 - val_accuracy: 0.7208\n",
            "Epoch 26/150\n",
            "62/62 [==============================] - 0s 2ms/step - loss: 0.6095 - accuracy: 0.7003 - val_loss: 0.6318 - val_accuracy: 0.7338\n",
            "Epoch 27/150\n",
            "62/62 [==============================] - 0s 2ms/step - loss: 0.5984 - accuracy: 0.7036 - val_loss: 0.6296 - val_accuracy: 0.7208\n",
            "Epoch 28/150\n",
            "62/62 [==============================] - 0s 2ms/step - loss: 0.5947 - accuracy: 0.7068 - val_loss: 0.6392 - val_accuracy: 0.7208\n",
            "Epoch 29/150\n",
            "62/62 [==============================] - 0s 2ms/step - loss: 0.5834 - accuracy: 0.7182 - val_loss: 0.6080 - val_accuracy: 0.7338\n",
            "Epoch 30/150\n",
            "62/62 [==============================] - 0s 2ms/step - loss: 0.6034 - accuracy: 0.7068 - val_loss: 0.6243 - val_accuracy: 0.6753\n",
            "Epoch 31/150\n",
            "62/62 [==============================] - 0s 2ms/step - loss: 0.5806 - accuracy: 0.7117 - val_loss: 0.6360 - val_accuracy: 0.7013\n",
            "Epoch 32/150\n",
            "62/62 [==============================] - 0s 2ms/step - loss: 0.6131 - accuracy: 0.7003 - val_loss: 0.6282 - val_accuracy: 0.6948\n",
            "Epoch 33/150\n",
            "62/62 [==============================] - 0s 2ms/step - loss: 0.5764 - accuracy: 0.7182 - val_loss: 0.6325 - val_accuracy: 0.7078\n",
            "Epoch 34/150\n",
            "62/62 [==============================] - 0s 2ms/step - loss: 0.5900 - accuracy: 0.7036 - val_loss: 0.5916 - val_accuracy: 0.7403\n",
            "Epoch 35/150\n",
            "62/62 [==============================] - 0s 2ms/step - loss: 0.6035 - accuracy: 0.7068 - val_loss: 0.6631 - val_accuracy: 0.7273\n",
            "Epoch 36/150\n",
            "62/62 [==============================] - 0s 2ms/step - loss: 0.6082 - accuracy: 0.6938 - val_loss: 0.5929 - val_accuracy: 0.7403\n",
            "Epoch 37/150\n",
            "62/62 [==============================] - 0s 2ms/step - loss: 0.5878 - accuracy: 0.6922 - val_loss: 0.5913 - val_accuracy: 0.7597\n",
            "Epoch 38/150\n",
            "62/62 [==============================] - 0s 2ms/step - loss: 0.5684 - accuracy: 0.7329 - val_loss: 0.6069 - val_accuracy: 0.7532\n",
            "Epoch 39/150\n",
            "62/62 [==============================] - 0s 2ms/step - loss: 0.5741 - accuracy: 0.7068 - val_loss: 0.6109 - val_accuracy: 0.7013\n",
            "Epoch 40/150\n",
            "62/62 [==============================] - 0s 2ms/step - loss: 0.5954 - accuracy: 0.7101 - val_loss: 0.6207 - val_accuracy: 0.6818\n",
            "Epoch 41/150\n",
            "62/62 [==============================] - 0s 2ms/step - loss: 0.5824 - accuracy: 0.7199 - val_loss: 0.5673 - val_accuracy: 0.7468\n",
            "Epoch 42/150\n",
            "62/62 [==============================] - 0s 3ms/step - loss: 0.5984 - accuracy: 0.7150 - val_loss: 0.5938 - val_accuracy: 0.7143\n",
            "Epoch 43/150\n",
            "62/62 [==============================] - 0s 2ms/step - loss: 0.5876 - accuracy: 0.7068 - val_loss: 0.6174 - val_accuracy: 0.6818\n",
            "Epoch 44/150\n",
            "62/62 [==============================] - 0s 2ms/step - loss: 0.5810 - accuracy: 0.7068 - val_loss: 0.5890 - val_accuracy: 0.7662\n",
            "Epoch 45/150\n",
            "62/62 [==============================] - 0s 2ms/step - loss: 0.5886 - accuracy: 0.6759 - val_loss: 0.5818 - val_accuracy: 0.7208\n",
            "Epoch 46/150\n",
            "62/62 [==============================] - 0s 2ms/step - loss: 0.5667 - accuracy: 0.7117 - val_loss: 0.5979 - val_accuracy: 0.6948\n",
            "Epoch 47/150\n",
            "62/62 [==============================] - 0s 2ms/step - loss: 0.5781 - accuracy: 0.7101 - val_loss: 0.6123 - val_accuracy: 0.7143\n",
            "Epoch 48/150\n",
            "62/62 [==============================] - 0s 2ms/step - loss: 0.5651 - accuracy: 0.7101 - val_loss: 0.5876 - val_accuracy: 0.7143\n",
            "Epoch 49/150\n",
            "62/62 [==============================] - 0s 2ms/step - loss: 0.5693 - accuracy: 0.7264 - val_loss: 0.6246 - val_accuracy: 0.6688\n",
            "Epoch 50/150\n",
            "62/62 [==============================] - 0s 2ms/step - loss: 0.5621 - accuracy: 0.7215 - val_loss: 0.5905 - val_accuracy: 0.7532\n",
            "Epoch 51/150\n",
            "62/62 [==============================] - 0s 2ms/step - loss: 0.5733 - accuracy: 0.7166 - val_loss: 0.5670 - val_accuracy: 0.7597\n",
            "Epoch 52/150\n",
            "62/62 [==============================] - 0s 2ms/step - loss: 0.5617 - accuracy: 0.7296 - val_loss: 0.5888 - val_accuracy: 0.6948\n",
            "Epoch 53/150\n",
            "62/62 [==============================] - 0s 2ms/step - loss: 0.5530 - accuracy: 0.7101 - val_loss: 0.5597 - val_accuracy: 0.7727\n",
            "Epoch 54/150\n",
            "62/62 [==============================] - 0s 2ms/step - loss: 0.5893 - accuracy: 0.7052 - val_loss: 0.5958 - val_accuracy: 0.7468\n",
            "Epoch 55/150\n",
            "62/62 [==============================] - 0s 2ms/step - loss: 0.5589 - accuracy: 0.7215 - val_loss: 0.5919 - val_accuracy: 0.7078\n",
            "Epoch 56/150\n",
            "62/62 [==============================] - 0s 2ms/step - loss: 0.5539 - accuracy: 0.7362 - val_loss: 0.5760 - val_accuracy: 0.7727\n",
            "Epoch 57/150\n",
            "62/62 [==============================] - 0s 2ms/step - loss: 0.5635 - accuracy: 0.7248 - val_loss: 0.5729 - val_accuracy: 0.7662\n",
            "Epoch 58/150\n",
            "62/62 [==============================] - 0s 2ms/step - loss: 0.5618 - accuracy: 0.7362 - val_loss: 0.5589 - val_accuracy: 0.7727\n",
            "Epoch 59/150\n",
            "62/62 [==============================] - 0s 2ms/step - loss: 0.6002 - accuracy: 0.6889 - val_loss: 0.6217 - val_accuracy: 0.6688\n",
            "Epoch 60/150\n",
            "62/62 [==============================] - 0s 2ms/step - loss: 0.5592 - accuracy: 0.7231 - val_loss: 0.5807 - val_accuracy: 0.7468\n",
            "Epoch 61/150\n",
            "62/62 [==============================] - 0s 2ms/step - loss: 0.5641 - accuracy: 0.7215 - val_loss: 0.6483 - val_accuracy: 0.6623\n",
            "Epoch 62/150\n",
            "62/62 [==============================] - 0s 2ms/step - loss: 0.5702 - accuracy: 0.7199 - val_loss: 0.6013 - val_accuracy: 0.7468\n",
            "Epoch 63/150\n",
            "62/62 [==============================] - 0s 2ms/step - loss: 0.5584 - accuracy: 0.7199 - val_loss: 0.5877 - val_accuracy: 0.7338\n",
            "Epoch 64/150\n",
            "62/62 [==============================] - 0s 2ms/step - loss: 0.5501 - accuracy: 0.7362 - val_loss: 0.5672 - val_accuracy: 0.7078\n",
            "Epoch 65/150\n",
            "62/62 [==============================] - 0s 2ms/step - loss: 0.5605 - accuracy: 0.7345 - val_loss: 0.5795 - val_accuracy: 0.7078\n",
            "Epoch 66/150\n",
            "62/62 [==============================] - 0s 2ms/step - loss: 0.5573 - accuracy: 0.7199 - val_loss: 0.5828 - val_accuracy: 0.7143\n",
            "Epoch 67/150\n",
            "62/62 [==============================] - 0s 2ms/step - loss: 0.5506 - accuracy: 0.7329 - val_loss: 0.5579 - val_accuracy: 0.7727\n",
            "Epoch 68/150\n",
            "62/62 [==============================] - 0s 2ms/step - loss: 0.5421 - accuracy: 0.7248 - val_loss: 0.5811 - val_accuracy: 0.7013\n",
            "Epoch 69/150\n",
            "62/62 [==============================] - 0s 2ms/step - loss: 0.5614 - accuracy: 0.7231 - val_loss: 0.5646 - val_accuracy: 0.7727\n",
            "Epoch 70/150\n",
            "62/62 [==============================] - 0s 2ms/step - loss: 0.5529 - accuracy: 0.7280 - val_loss: 0.5968 - val_accuracy: 0.7727\n",
            "Epoch 71/150\n",
            "62/62 [==============================] - 0s 2ms/step - loss: 0.5598 - accuracy: 0.7296 - val_loss: 0.5612 - val_accuracy: 0.7662\n",
            "Epoch 72/150\n",
            "62/62 [==============================] - 0s 2ms/step - loss: 0.5531 - accuracy: 0.7427 - val_loss: 0.5866 - val_accuracy: 0.7143\n",
            "Epoch 73/150\n",
            "62/62 [==============================] - 0s 2ms/step - loss: 0.5603 - accuracy: 0.7329 - val_loss: 0.5880 - val_accuracy: 0.6688\n",
            "Epoch 74/150\n",
            "62/62 [==============================] - 0s 2ms/step - loss: 0.5604 - accuracy: 0.7231 - val_loss: 0.5744 - val_accuracy: 0.7662\n",
            "Epoch 75/150\n",
            "62/62 [==============================] - 0s 2ms/step - loss: 0.5599 - accuracy: 0.7215 - val_loss: 0.5584 - val_accuracy: 0.7792\n",
            "Epoch 76/150\n",
            "62/62 [==============================] - 0s 2ms/step - loss: 0.5403 - accuracy: 0.7313 - val_loss: 0.5558 - val_accuracy: 0.7727\n",
            "Epoch 77/150\n",
            "62/62 [==============================] - 0s 2ms/step - loss: 0.5494 - accuracy: 0.7280 - val_loss: 0.5579 - val_accuracy: 0.7727\n",
            "Epoch 78/150\n",
            "62/62 [==============================] - 0s 2ms/step - loss: 0.5322 - accuracy: 0.7231 - val_loss: 0.5876 - val_accuracy: 0.7273\n",
            "Epoch 79/150\n",
            "62/62 [==============================] - 0s 2ms/step - loss: 0.5516 - accuracy: 0.7329 - val_loss: 0.5546 - val_accuracy: 0.7662\n",
            "Epoch 80/150\n",
            "62/62 [==============================] - 0s 2ms/step - loss: 0.5383 - accuracy: 0.7394 - val_loss: 0.5845 - val_accuracy: 0.7597\n",
            "Epoch 81/150\n",
            "62/62 [==============================] - 0s 2ms/step - loss: 0.5460 - accuracy: 0.7508 - val_loss: 0.6314 - val_accuracy: 0.6623\n",
            "Epoch 82/150\n",
            "62/62 [==============================] - 0s 2ms/step - loss: 0.5480 - accuracy: 0.7345 - val_loss: 0.5728 - val_accuracy: 0.7597\n",
            "Epoch 83/150\n",
            "62/62 [==============================] - 0s 2ms/step - loss: 0.5719 - accuracy: 0.7068 - val_loss: 0.5533 - val_accuracy: 0.7727\n",
            "Epoch 84/150\n",
            "62/62 [==============================] - 0s 2ms/step - loss: 0.5568 - accuracy: 0.7166 - val_loss: 0.5641 - val_accuracy: 0.7468\n",
            "Epoch 85/150\n",
            "62/62 [==============================] - 0s 2ms/step - loss: 0.5415 - accuracy: 0.7313 - val_loss: 0.5658 - val_accuracy: 0.7727\n",
            "Epoch 86/150\n",
            "62/62 [==============================] - 0s 2ms/step - loss: 0.5462 - accuracy: 0.7280 - val_loss: 0.5638 - val_accuracy: 0.7532\n",
            "Epoch 87/150\n",
            "62/62 [==============================] - 0s 2ms/step - loss: 0.5435 - accuracy: 0.7394 - val_loss: 0.5611 - val_accuracy: 0.7597\n",
            "Epoch 88/150\n",
            "62/62 [==============================] - 0s 2ms/step - loss: 0.5724 - accuracy: 0.7329 - val_loss: 0.5516 - val_accuracy: 0.7857\n",
            "Epoch 89/150\n",
            "62/62 [==============================] - 0s 2ms/step - loss: 0.5496 - accuracy: 0.7394 - val_loss: 0.5494 - val_accuracy: 0.7727\n",
            "Epoch 90/150\n",
            "62/62 [==============================] - 0s 2ms/step - loss: 0.5338 - accuracy: 0.7394 - val_loss: 0.5619 - val_accuracy: 0.7597\n",
            "Epoch 91/150\n",
            "62/62 [==============================] - 0s 2ms/step - loss: 0.5348 - accuracy: 0.7329 - val_loss: 0.5638 - val_accuracy: 0.7597\n",
            "Epoch 92/150\n",
            "62/62 [==============================] - 0s 2ms/step - loss: 0.5549 - accuracy: 0.7264 - val_loss: 0.5633 - val_accuracy: 0.7727\n",
            "Epoch 93/150\n",
            "62/62 [==============================] - 0s 2ms/step - loss: 0.5452 - accuracy: 0.7313 - val_loss: 0.5431 - val_accuracy: 0.7532\n",
            "Epoch 94/150\n",
            "62/62 [==============================] - 0s 2ms/step - loss: 0.5436 - accuracy: 0.7313 - val_loss: 0.5623 - val_accuracy: 0.7597\n",
            "Epoch 95/150\n",
            "62/62 [==============================] - 0s 2ms/step - loss: 0.5659 - accuracy: 0.7052 - val_loss: 0.6569 - val_accuracy: 0.6364\n",
            "Epoch 96/150\n",
            "62/62 [==============================] - 0s 2ms/step - loss: 0.5359 - accuracy: 0.7443 - val_loss: 0.5668 - val_accuracy: 0.7532\n",
            "Epoch 97/150\n",
            "62/62 [==============================] - 0s 2ms/step - loss: 0.5583 - accuracy: 0.7117 - val_loss: 0.5493 - val_accuracy: 0.7338\n",
            "Epoch 98/150\n",
            "62/62 [==============================] - 0s 2ms/step - loss: 0.5493 - accuracy: 0.7345 - val_loss: 0.6043 - val_accuracy: 0.7013\n",
            "Epoch 99/150\n",
            "62/62 [==============================] - 0s 2ms/step - loss: 0.5461 - accuracy: 0.7313 - val_loss: 0.5499 - val_accuracy: 0.7662\n",
            "Epoch 100/150\n",
            "62/62 [==============================] - 0s 2ms/step - loss: 0.5304 - accuracy: 0.7378 - val_loss: 0.5766 - val_accuracy: 0.7662\n",
            "Epoch 101/150\n",
            "62/62 [==============================] - 0s 2ms/step - loss: 0.5395 - accuracy: 0.7280 - val_loss: 0.5749 - val_accuracy: 0.7013\n",
            "Epoch 102/150\n",
            "62/62 [==============================] - 0s 3ms/step - loss: 0.5407 - accuracy: 0.7345 - val_loss: 0.5545 - val_accuracy: 0.7662\n",
            "Epoch 103/150\n",
            "62/62 [==============================] - 0s 3ms/step - loss: 0.5394 - accuracy: 0.7427 - val_loss: 0.5489 - val_accuracy: 0.7727\n",
            "Epoch 104/150\n",
            "62/62 [==============================] - 0s 2ms/step - loss: 0.5302 - accuracy: 0.7215 - val_loss: 0.5549 - val_accuracy: 0.7532\n",
            "Epoch 105/150\n",
            "62/62 [==============================] - 0s 2ms/step - loss: 0.5354 - accuracy: 0.7427 - val_loss: 0.5507 - val_accuracy: 0.7662\n",
            "Epoch 106/150\n",
            "62/62 [==============================] - 0s 2ms/step - loss: 0.5386 - accuracy: 0.7329 - val_loss: 0.5627 - val_accuracy: 0.7662\n",
            "Epoch 107/150\n",
            "62/62 [==============================] - 0s 2ms/step - loss: 0.5278 - accuracy: 0.7508 - val_loss: 0.5473 - val_accuracy: 0.7792\n",
            "Epoch 108/150\n",
            "62/62 [==============================] - 0s 2ms/step - loss: 0.5185 - accuracy: 0.7443 - val_loss: 0.5889 - val_accuracy: 0.7013\n",
            "Epoch 109/150\n",
            "62/62 [==============================] - 0s 2ms/step - loss: 0.5485 - accuracy: 0.7427 - val_loss: 0.5917 - val_accuracy: 0.7403\n",
            "Epoch 110/150\n",
            "62/62 [==============================] - 0s 2ms/step - loss: 0.5376 - accuracy: 0.7655 - val_loss: 0.5543 - val_accuracy: 0.7662\n",
            "Epoch 111/150\n",
            "62/62 [==============================] - 0s 2ms/step - loss: 0.5336 - accuracy: 0.7427 - val_loss: 0.5546 - val_accuracy: 0.7597\n",
            "Epoch 112/150\n",
            "62/62 [==============================] - 0s 2ms/step - loss: 0.5265 - accuracy: 0.7443 - val_loss: 0.5669 - val_accuracy: 0.7078\n",
            "Epoch 113/150\n",
            "62/62 [==============================] - 0s 2ms/step - loss: 0.5305 - accuracy: 0.7443 - val_loss: 0.5717 - val_accuracy: 0.7078\n",
            "Epoch 114/150\n",
            "62/62 [==============================] - 0s 2ms/step - loss: 0.5251 - accuracy: 0.7476 - val_loss: 0.5365 - val_accuracy: 0.7597\n",
            "Epoch 115/150\n",
            "62/62 [==============================] - 0s 2ms/step - loss: 0.5284 - accuracy: 0.7443 - val_loss: 0.5612 - val_accuracy: 0.7273\n",
            "Epoch 116/150\n",
            "62/62 [==============================] - 0s 2ms/step - loss: 0.5327 - accuracy: 0.7459 - val_loss: 0.5421 - val_accuracy: 0.7468\n",
            "Epoch 117/150\n",
            "62/62 [==============================] - 0s 2ms/step - loss: 0.5391 - accuracy: 0.7280 - val_loss: 0.5318 - val_accuracy: 0.7792\n",
            "Epoch 118/150\n",
            "62/62 [==============================] - 0s 2ms/step - loss: 0.5124 - accuracy: 0.7590 - val_loss: 0.6121 - val_accuracy: 0.7143\n",
            "Epoch 119/150\n",
            "62/62 [==============================] - 0s 2ms/step - loss: 0.5396 - accuracy: 0.7606 - val_loss: 0.6000 - val_accuracy: 0.6883\n",
            "Epoch 120/150\n",
            "62/62 [==============================] - 0s 2ms/step - loss: 0.5236 - accuracy: 0.7443 - val_loss: 0.5509 - val_accuracy: 0.7403\n",
            "Epoch 121/150\n",
            "62/62 [==============================] - 0s 2ms/step - loss: 0.5292 - accuracy: 0.7296 - val_loss: 0.5637 - val_accuracy: 0.7338\n",
            "Epoch 122/150\n",
            "62/62 [==============================] - 0s 2ms/step - loss: 0.5319 - accuracy: 0.7394 - val_loss: 0.5649 - val_accuracy: 0.7273\n",
            "Epoch 123/150\n",
            "62/62 [==============================] - 0s 2ms/step - loss: 0.5191 - accuracy: 0.7524 - val_loss: 0.5636 - val_accuracy: 0.7662\n",
            "Epoch 124/150\n",
            "62/62 [==============================] - 0s 2ms/step - loss: 0.5235 - accuracy: 0.7443 - val_loss: 0.5814 - val_accuracy: 0.7532\n",
            "Epoch 125/150\n",
            "62/62 [==============================] - 0s 2ms/step - loss: 0.5262 - accuracy: 0.7427 - val_loss: 0.5405 - val_accuracy: 0.7532\n",
            "Epoch 126/150\n",
            "62/62 [==============================] - 0s 2ms/step - loss: 0.5223 - accuracy: 0.7508 - val_loss: 0.5549 - val_accuracy: 0.7078\n",
            "Epoch 127/150\n",
            "62/62 [==============================] - 0s 2ms/step - loss: 0.5232 - accuracy: 0.7362 - val_loss: 0.5586 - val_accuracy: 0.7532\n",
            "Epoch 128/150\n",
            "62/62 [==============================] - 0s 2ms/step - loss: 0.5132 - accuracy: 0.7687 - val_loss: 0.5620 - val_accuracy: 0.7468\n",
            "Epoch 129/150\n",
            "62/62 [==============================] - 0s 2ms/step - loss: 0.5168 - accuracy: 0.7362 - val_loss: 0.5379 - val_accuracy: 0.7727\n",
            "Epoch 130/150\n",
            "62/62 [==============================] - 0s 2ms/step - loss: 0.5084 - accuracy: 0.7557 - val_loss: 0.5679 - val_accuracy: 0.7468\n",
            "Epoch 131/150\n",
            "62/62 [==============================] - 0s 2ms/step - loss: 0.5257 - accuracy: 0.7459 - val_loss: 0.5457 - val_accuracy: 0.7468\n",
            "Epoch 132/150\n",
            "62/62 [==============================] - 0s 2ms/step - loss: 0.5126 - accuracy: 0.7687 - val_loss: 0.5442 - val_accuracy: 0.7792\n",
            "Epoch 133/150\n",
            "62/62 [==============================] - 0s 2ms/step - loss: 0.5197 - accuracy: 0.7476 - val_loss: 0.5284 - val_accuracy: 0.7468\n",
            "Epoch 134/150\n",
            "62/62 [==============================] - 0s 2ms/step - loss: 0.5224 - accuracy: 0.7476 - val_loss: 0.5531 - val_accuracy: 0.7403\n",
            "Epoch 135/150\n",
            "62/62 [==============================] - 0s 2ms/step - loss: 0.5172 - accuracy: 0.7590 - val_loss: 0.5550 - val_accuracy: 0.7338\n",
            "Epoch 136/150\n",
            "62/62 [==============================] - 0s 2ms/step - loss: 0.5433 - accuracy: 0.7459 - val_loss: 0.5471 - val_accuracy: 0.7662\n",
            "Epoch 137/150\n",
            "62/62 [==============================] - 0s 2ms/step - loss: 0.5087 - accuracy: 0.7508 - val_loss: 0.5504 - val_accuracy: 0.7597\n",
            "Epoch 138/150\n",
            "62/62 [==============================] - 0s 2ms/step - loss: 0.5226 - accuracy: 0.7476 - val_loss: 0.5447 - val_accuracy: 0.7662\n",
            "Epoch 139/150\n",
            "62/62 [==============================] - 0s 2ms/step - loss: 0.5323 - accuracy: 0.7427 - val_loss: 0.5874 - val_accuracy: 0.6883\n",
            "Epoch 140/150\n",
            "62/62 [==============================] - 0s 2ms/step - loss: 0.5077 - accuracy: 0.7655 - val_loss: 0.5524 - val_accuracy: 0.7597\n",
            "Epoch 141/150\n",
            "62/62 [==============================] - 0s 2ms/step - loss: 0.5091 - accuracy: 0.7541 - val_loss: 0.5808 - val_accuracy: 0.7143\n",
            "Epoch 142/150\n",
            "62/62 [==============================] - 0s 2ms/step - loss: 0.5153 - accuracy: 0.7573 - val_loss: 0.6040 - val_accuracy: 0.7338\n",
            "Epoch 143/150\n",
            "62/62 [==============================] - 0s 3ms/step - loss: 0.5096 - accuracy: 0.7573 - val_loss: 0.5417 - val_accuracy: 0.7208\n",
            "Epoch 144/150\n",
            "62/62 [==============================] - 0s 2ms/step - loss: 0.5123 - accuracy: 0.7573 - val_loss: 0.5376 - val_accuracy: 0.7273\n",
            "Epoch 145/150\n",
            "62/62 [==============================] - 0s 3ms/step - loss: 0.5020 - accuracy: 0.7573 - val_loss: 0.5563 - val_accuracy: 0.7273\n",
            "Epoch 146/150\n",
            "62/62 [==============================] - 0s 2ms/step - loss: 0.5182 - accuracy: 0.7573 - val_loss: 0.5396 - val_accuracy: 0.7727\n",
            "Epoch 147/150\n",
            "62/62 [==============================] - 0s 3ms/step - loss: 0.5166 - accuracy: 0.7394 - val_loss: 0.5407 - val_accuracy: 0.7338\n",
            "Epoch 148/150\n",
            "62/62 [==============================] - 0s 2ms/step - loss: 0.5244 - accuracy: 0.7508 - val_loss: 0.5678 - val_accuracy: 0.7143\n",
            "Epoch 149/150\n",
            "62/62 [==============================] - 0s 2ms/step - loss: 0.5066 - accuracy: 0.7590 - val_loss: 0.5480 - val_accuracy: 0.7143\n",
            "Epoch 150/150\n",
            "62/62 [==============================] - 0s 3ms/step - loss: 0.5211 - accuracy: 0.7280 - val_loss: 0.5491 - val_accuracy: 0.7273\n"
          ]
        }
      ]
    },
    {
      "cell_type": "code",
      "metadata": {
        "id": "31lyImw0oLoB",
        "colab": {
          "base_uri": "https://localhost:8080/",
          "height": 295
        },
        "outputId": "753384f3-99bd-4d00-9689-83b1cb184b5c"
      },
      "source": [
        "# 훈련 데이터와 검증 데이터에 대한 loss 시각화.\n",
        "epochs = range(1, len(hist.history['loss']) + 1)\n",
        "\n",
        "loss_list = hist.history['loss'] #[100 * i for i in history.history['loss']]\n",
        "vloss_list = hist.history['val_loss'] #[100 * i for i in history.history['val_loss']]\n",
        "\n",
        "plt.plot(epochs,loss_list)  \n",
        "plt.plot(epochs,vloss_list)\n",
        "\n",
        "plt.plot(np.argmin(np.array(vloss_list))+1,vloss_list[np.argmin(np.array(vloss_list))], 'r*')\n",
        "plt.title('Diabetes: FCN model - val_loss, min:' + str(np.round(vloss_list[np.argmin(np.array(vloss_list))],2)))\n",
        "plt.ylabel('val-Loss (%)')\n",
        "plt.xlabel('Epoch')\n",
        "plt.legend(['loss','val_loss','best'], loc='best')\n",
        "plt.show()"
      ],
      "execution_count": 19,
      "outputs": [
        {
          "output_type": "display_data",
          "data": {
            "image/png": "[encoded data removed]",
            "text/plain": [
              "<Figure size 432x288 with 1 Axes>"
            ]
          },
          "metadata": {
            "needs_background": "light"
          }
        }
      ]
    },
    {
      "cell_type": "code",
      "metadata": {
        "id": "U88jdeiqoWID",
        "colab": {
          "base_uri": "https://localhost:8080/",
          "height": 295
        },
        "outputId": "a3db9e3a-8317-46f7-d0de-8991987e9e0c"
      },
      "source": [
        "# 훈련 데이터와 검증 데이터에 대한 accuracy 시각화.\n",
        "epochs = range(1, len(hist.history['accuracy']) + 1)\n",
        "\n",
        "acc_list = [100 * i for i in hist.history['accuracy']]\n",
        "vacc_list = [100 * i for i in hist.history['val_accuracy']]\n",
        "\n",
        "plt.plot(epochs,acc_list)  \n",
        "plt.plot(epochs,vacc_list)\n",
        "\n",
        "plt.plot(np.argmax(np.array(vacc_list))+1,vacc_list[np.argmax(np.array(vacc_list))], 'r*')\n",
        "plt.title('Diabetes: FCN model - val_accuracy, max:' + str(np.round(vacc_list[np.argmax(np.array(vacc_list))],2)))\n",
        "plt.ylabel('val-Accuracy (%)')\n",
        "plt.xlabel('Epoch')\n",
        "plt.legend(['accuracy','val_accuracy','best'], loc='best')\n",
        "plt.show()"
      ],
      "execution_count": 20,
      "outputs": [
        {
          "output_type": "display_data",
          "data": {
            "image/png": "[encoded data removed]",
            "text/plain": [
              "<Figure size 432x288 with 1 Axes>"
            ]
          },
          "metadata": {
            "needs_background": "light"
          }
        }
      ]
    },
    {
      "cell_type": "code",
      "metadata": {
        "id": "i-owBe_-nLfL",
        "colab": {
          "base_uri": "https://localhost:8080/"
        },
        "outputId": "53f702cd-d1c7-4bd4-8ae2-d89c89dd5fe5"
      },
      "source": [
        "# model performance\n",
        "model.evaluate(X_test, y_test)"
      ],
      "execution_count": 21,
      "outputs": [
        {
          "output_type": "stream",
          "name": "stdout",
          "text": [
            "5/5 [==============================] - 0s 2ms/step - loss: 0.5491 - accuracy: 0.7273\n"
          ]
        },
        {
          "output_type": "execute_result",
          "data": {
            "text/plain": [
              "[0.5491381883621216, 0.7272727489471436]"
            ]
          },
          "metadata": {},
          "execution_count": 21
        }
      ]
    },
    {
      "cell_type": "markdown",
      "metadata": {
        "id": "Rq_lMBiv6NQl"
      },
      "source": [
        "## Predictiion of the train data"
      ]
    },
    {
      "cell_type": "code",
      "metadata": {
        "id": "cv0lPPtdbZIt",
        "colab": {
          "base_uri": "https://localhost:8080/"
        },
        "outputId": "e5644fd0-afb1-4db6-9470-fe0851a7606b"
      },
      "source": [
        "y_train[:5],y_train.shape"
      ],
      "execution_count": 22,
      "outputs": [
        {
          "output_type": "execute_result",
          "data": {
            "text/plain": [
              "(array([0, 1, 1, 0, 0]), (614,))"
            ]
          },
          "metadata": {},
          "execution_count": 22
        }
      ]
    },
    {
      "cell_type": "code",
      "metadata": {
        "id": "u10xb1P7b-QT",
        "colab": {
          "base_uri": "https://localhost:8080/"
        },
        "outputId": "3f104acb-3134-424b-81b6-0c17b67e6100"
      },
      "source": [
        "model.predict(X_train)[0:5],[int(np.round(prob)) for prob in model.predict(X_train)[0:5]]"
      ],
      "execution_count": 23,
      "outputs": [
        {
          "output_type": "execute_result",
          "data": {
            "text/plain": [
              "(array([[0.24493968],\n",
              "        [0.60369086],\n",
              "        [0.6385635 ],\n",
              "        [0.08611673],\n",
              "        [0.14762789]], dtype=float32), [0, 1, 1, 0, 0])"
            ]
          },
          "metadata": {},
          "execution_count": 23
        }
      ]
    },
    {
      "cell_type": "markdown",
      "metadata": {
        "id": "z3Nmb5PQ5wMS"
      },
      "source": [
        "## Predictiion of the test data"
      ]
    },
    {
      "cell_type": "code",
      "metadata": {
        "id": "p88uIn2gdA_E",
        "colab": {
          "base_uri": "https://localhost:8080/"
        },
        "outputId": "b03780ec-e0a4-4f82-98da-e837e52f198a"
      },
      "source": [
        "# Prediction of the test data\n",
        "print(y_test[:10])\n",
        "model.predict(X_test)[0:10],[int(np.round(prob)) for prob in model.predict(X_test)[0:10]]"
      ],
      "execution_count": 24,
      "outputs": [
        {
          "output_type": "stream",
          "name": "stdout",
          "text": [
            "[0 0 1 1 0 0 0 0 1 0]\n"
          ]
        },
        {
          "output_type": "execute_result",
          "data": {
            "text/plain": [
              "(array([[0.10310945],\n",
              "        [0.22732303],\n",
              "        [0.44497377],\n",
              "        [0.3988219 ],\n",
              "        [0.18157223],\n",
              "        [0.5887275 ],\n",
              "        [0.43886495],\n",
              "        [0.19572264],\n",
              "        [0.5266051 ],\n",
              "        [0.22186834]], dtype=float32), [0, 0, 0, 0, 0, 1, 0, 0, 1, 0])"
            ]
          },
          "metadata": {},
          "execution_count": 24
        }
      ]
    },
    {
      "cell_type": "code",
      "metadata": {
        "id": "SgqKqqux6wBc",
        "colab": {
          "base_uri": "https://localhost:8080/"
        },
        "outputId": "546935df-f19d-4edc-c0c4-a27942a1ed42"
      },
      "source": [
        "y_test[:10]==[int(np.round(prob)) for prob in model.predict(X_test)[0:10]]"
      ],
      "execution_count": 27,
      "outputs": [
        {
          "output_type": "execute_result",
          "data": {
            "text/plain": [
              "array([ True,  True, False, False,  True, False,  True,  True,  True,\n",
              "        True])"
            ]
          },
          "metadata": {},
          "execution_count": 27
        }
      ]
    },
    {
      "cell_type": "code",
      "metadata": {
        "id": "8C7SkexxkS5c",
        "colab": {
          "base_uri": "https://localhost:8080/"
        },
        "outputId": "425df065-55f7-450f-f0fc-5eb8a42abe84"
      },
      "source": [
        "# make class predictions for test data with the model\n",
        "predictions = [int(np.round(prob)) for prob in model.predict(X_test)]\n",
        "predictions[:10]"
      ],
      "execution_count": 28,
      "outputs": [
        {
          "output_type": "execute_result",
          "data": {
            "text/plain": [
              "[0, 0, 0, 0, 0, 1, 0, 0, 1, 0]"
            ]
          },
          "metadata": {},
          "execution_count": 28
        }
      ]
    },
    {
      "cell_type": "code",
      "metadata": {
        "id": "-l8Or1_8YV8H",
        "colab": {
          "base_uri": "https://localhost:8080/"
        },
        "outputId": "d9bf78c9-36f6-475a-8a88-7f1cc6156344"
      },
      "source": [
        "# summarize the first 10 cases in testset\n",
        "for i in range(10):\n",
        "   print('%s => %d (expected %d)' % (X_test[i], predictions[i], y_test[i]))"
      ],
      "execution_count": 29,
      "outputs": [
        {
          "output_type": "stream",
          "name": "stdout",
          "text": [
            "[  0.    113.     80.     16.      0.     31.      0.874  21.   ] => 0 (expected 0)\n",
            "[  3.    180.     64.     25.     70.     34.      0.271  26.   ] => 0 (expected 0)\n",
            "[  7.    114.     64.      0.      0.     27.4     0.732  34.   ] => 0 (expected 1)\n",
            "[  1.    125.     50.     40.    167.     33.3     0.962  28.   ] => 0 (expected 1)\n",
            "[  2.    120.     76.     37.    105.     39.7     0.215  29.   ] => 0 (expected 0)\n",
            "[  2.    128.     64.     42.      0.     40.      1.101  24.   ] => 1 (expected 0)\n",
            "[  4.    137.     84.      0.      0.     31.2     0.252  30.   ] => 0 (expected 0)\n",
            "[  3.   103.    72.    30.   152.    27.6    0.73  27.  ] => 0 (expected 0)\n",
            "[  6.    190.     92.      0.      0.     35.5     0.278  66.   ] => 1 (expected 1)\n",
            "[  1.    109.     56.     21.    135.     25.2     0.833  23.   ] => 0 (expected 0)\n"
          ]
        }
      ]
    },
    {
      "cell_type": "markdown",
      "metadata": {
        "id": "zCh-95EO_-17"
      },
      "source": [
        "### Confusion matrix"
      ]
    },
    {
      "cell_type": "code",
      "metadata": {
        "id": "i4QJwcVvADpU"
      },
      "source": [
        "import seaborn as sns\n",
        "from sklearn.metrics import confusion_matrix, classification_report"
      ],
      "execution_count": 30,
      "outputs": []
    },
    {
      "cell_type": "code",
      "metadata": {
        "id": "PWrAwg5cH8gE",
        "colab": {
          "base_uri": "https://localhost:8080/"
        },
        "outputId": "f183b4f8-d1fe-4c48-c8b8-b2ce367de039"
      },
      "source": [
        "print(classification_report(y_test, predictions)) "
      ],
      "execution_count": 31,
      "outputs": [
        {
          "output_type": "stream",
          "name": "stdout",
          "text": [
            "              precision    recall  f1-score   support\n",
            "\n",
            "           0       0.74      0.89      0.81        99\n",
            "           1       0.69      0.44      0.53        55\n",
            "\n",
            "    accuracy                           0.73       154\n",
            "   macro avg       0.71      0.66      0.67       154\n",
            "weighted avg       0.72      0.73      0.71       154\n",
            "\n"
          ]
        }
      ]
    },
    {
      "cell_type": "code",
      "metadata": {
        "id": "hiPMQeYXt12l"
      },
      "source": [
        "cm = confusion_matrix(y_test, predictions)"
      ],
      "execution_count": 32,
      "outputs": []
    },
    {
      "cell_type": "code",
      "metadata": {
        "id": "YITaGwYjvatc"
      },
      "source": [
        "class_names = ['noDM','DM']"
      ],
      "execution_count": 33,
      "outputs": []
    },
    {
      "cell_type": "code",
      "metadata": {
        "id": "2qGHMNU3u8ut",
        "colab": {
          "base_uri": "https://localhost:8080/",
          "height": 334
        },
        "outputId": "c8a36b92-fde6-4a9a-f2cc-8bb4613aa508"
      },
      "source": [
        "plt.figure(figsize=(5,5))\n",
        "sns.heatmap(cm, cbar=False, xticklabels=class_names, yticklabels=class_names, fmt='d', annot=True, cmap=plt.cm.coolwarm)\n",
        "plt.xlabel('Predicted')\n",
        "plt.ylabel('Actual')\n",
        "plt.show()"
      ],
      "execution_count": 34,
      "outputs": [
        {
          "output_type": "display_data",
          "data": {
            "image/png": "[encoded data removed]",
            "text/plain": [
              "<Figure size 360x360 with 1 Axes>"
            ]
          },
          "metadata": {
            "needs_background": "light"
          }
        }
      ]
    },
    {
      "cell_type": "markdown",
      "metadata": {
        "id": "xG6RmEh-rECP"
      },
      "source": [
        "## [DIY-1] Save the best model\n",
        "- hdf5 file"
      ]
    },
    {
      "cell_type": "code",
      "metadata": {
        "id": "UVgMnQNMrqL4"
      },
      "source": [
        "# set random number seed\n",
        "np.random.seed(1234)\n",
        "tf.random.set_seed(1234)\n",
        "# define the keras model\n",
        "model2 = Sequential([\n",
        "    Dense(12, input_dim=8, activation='relu'),  # 1st hidden layer \n",
        "    Dense(8, activation='relu'), \n",
        "    Dense(1, activation='sigmoid')                 \n",
        "])\n",
        "# compile the keras model\n",
        "model2.compile(loss='binary_crossentropy', \n",
        "              optimizer='adam', \n",
        "              metrics=['accuracy'])"
      ],
      "execution_count": 35,
      "outputs": []
    },
    {
      "cell_type": "markdown",
      "metadata": {
        "id": "JjB5zR4vsUHw"
      },
      "source": [
        "### callbacks"
      ]
    },
    {
      "cell_type": "code",
      "metadata": {
        "id": "V20fWcM4sTAk"
      },
      "source": [
        "cp_callback = callbacks.ModelCheckpoint(filepath=\"./diabetes_DL_best_weights.{epoch:03d}-{val_accuracy:.3f}.hdf5\", \n",
        "                              monitor='val_accuracy', verbose=0, save_best_only=True)\n",
        "es_callback = callbacks.EarlyStopping(monitor='val_accuracy', \n",
        "                            mode='max', verbose=1, patience=50)    # patience=10, 20, 50"
      ],
      "execution_count": 36,
      "outputs": []
    },
    {
      "cell_type": "code",
      "metadata": {
        "id": "hjNTHDcurqL5",
        "colab": {
          "base_uri": "https://localhost:8080/"
        },
        "outputId": "e3e93550-2a68-4a2b-9368-fc19606e24d5"
      },
      "source": [
        "# fit the keras model on the dataset\n",
        "hist = model2.fit(X_train, y_train, epochs=500, batch_size=10, verbose=1, \n",
        "                  callbacks=[cp_callback, es_callback], \n",
        "                  validation_data=(X_test, y_test))\n"
      ],
      "execution_count": 37,
      "outputs": [
        {
          "output_type": "stream",
          "name": "stdout",
          "text": [
            "Epoch 1/500\n",
            "62/62 [==============================] - 1s 4ms/step - loss: 7.5488 - accuracy: 0.5537 - val_loss: 3.4242 - val_accuracy: 0.6429\n",
            "Epoch 2/500\n",
            "62/62 [==============================] - 0s 2ms/step - loss: 2.4032 - accuracy: 0.5928 - val_loss: 1.7341 - val_accuracy: 0.6234\n",
            "Epoch 3/500\n",
            "62/62 [==============================] - 0s 2ms/step - loss: 1.2483 - accuracy: 0.5717 - val_loss: 0.9172 - val_accuracy: 0.6364\n",
            "Epoch 4/500\n",
            "62/62 [==============================] - 0s 2ms/step - loss: 0.7927 - accuracy: 0.6156 - val_loss: 0.8362 - val_accuracy: 0.6039\n",
            "Epoch 5/500\n",
            "62/62 [==============================] - 0s 2ms/step - loss: 0.7411 - accuracy: 0.6270 - val_loss: 0.7949 - val_accuracy: 0.6558\n",
            "Epoch 6/500\n",
            "62/62 [==============================] - 0s 2ms/step - loss: 0.7469 - accuracy: 0.6417 - val_loss: 0.7583 - val_accuracy: 0.6039\n",
            "Epoch 7/500\n",
            "62/62 [==============================] - 0s 2ms/step - loss: 0.7345 - accuracy: 0.6678 - val_loss: 0.7421 - val_accuracy: 0.6494\n",
            "Epoch 8/500\n",
            "62/62 [==============================] - 0s 2ms/step - loss: 0.6903 - accuracy: 0.6596 - val_loss: 0.7094 - val_accuracy: 0.6753\n",
            "Epoch 9/500\n",
            "62/62 [==============================] - 0s 2ms/step - loss: 0.6682 - accuracy: 0.6759 - val_loss: 0.7268 - val_accuracy: 0.6494\n",
            "Epoch 10/500\n",
            "62/62 [==============================] - 0s 2ms/step - loss: 0.6674 - accuracy: 0.6808 - val_loss: 0.7105 - val_accuracy: 0.6948\n",
            "Epoch 11/500\n",
            "62/62 [==============================] - 0s 2ms/step - loss: 0.6649 - accuracy: 0.6857 - val_loss: 0.6797 - val_accuracy: 0.7078\n",
            "Epoch 12/500\n",
            "62/62 [==============================] - 0s 2ms/step - loss: 0.6412 - accuracy: 0.6906 - val_loss: 0.6999 - val_accuracy: 0.6883\n",
            "Epoch 13/500\n",
            "62/62 [==============================] - 0s 2ms/step - loss: 0.6500 - accuracy: 0.6906 - val_loss: 0.7037 - val_accuracy: 0.7013\n",
            "Epoch 14/500\n",
            "62/62 [==============================] - 0s 2ms/step - loss: 0.6318 - accuracy: 0.6840 - val_loss: 0.6887 - val_accuracy: 0.7013\n",
            "Epoch 15/500\n",
            "62/62 [==============================] - 0s 2ms/step - loss: 0.6307 - accuracy: 0.7003 - val_loss: 0.6818 - val_accuracy: 0.7143\n",
            "Epoch 16/500\n",
            "62/62 [==============================] - 0s 2ms/step - loss: 0.6286 - accuracy: 0.6824 - val_loss: 0.7239 - val_accuracy: 0.6883\n",
            "Epoch 17/500\n",
            "62/62 [==============================] - 0s 2ms/step - loss: 0.6313 - accuracy: 0.6792 - val_loss: 0.6693 - val_accuracy: 0.7208\n",
            "Epoch 18/500\n",
            "62/62 [==============================] - 0s 2ms/step - loss: 0.6203 - accuracy: 0.6792 - val_loss: 0.6720 - val_accuracy: 0.7338\n",
            "Epoch 19/500\n",
            "62/62 [==============================] - 0s 2ms/step - loss: 0.6161 - accuracy: 0.7003 - val_loss: 0.7213 - val_accuracy: 0.6429\n",
            "Epoch 20/500\n",
            "62/62 [==============================] - 0s 2ms/step - loss: 0.6238 - accuracy: 0.6824 - val_loss: 0.6789 - val_accuracy: 0.7013\n",
            "Epoch 21/500\n",
            "62/62 [==============================] - 0s 2ms/step - loss: 0.6151 - accuracy: 0.6857 - val_loss: 0.6682 - val_accuracy: 0.6818\n",
            "Epoch 22/500\n",
            "62/62 [==============================] - 0s 2ms/step - loss: 0.6036 - accuracy: 0.6906 - val_loss: 0.6549 - val_accuracy: 0.7338\n",
            "Epoch 23/500\n",
            "62/62 [==============================] - 0s 2ms/step - loss: 0.5994 - accuracy: 0.6987 - val_loss: 0.7083 - val_accuracy: 0.6883\n",
            "Epoch 24/500\n",
            "62/62 [==============================] - 0s 2ms/step - loss: 0.6025 - accuracy: 0.7020 - val_loss: 0.6435 - val_accuracy: 0.7338\n",
            "Epoch 25/500\n",
            "62/62 [==============================] - 0s 2ms/step - loss: 0.6122 - accuracy: 0.6840 - val_loss: 0.6563 - val_accuracy: 0.7208\n",
            "Epoch 26/500\n",
            "62/62 [==============================] - 0s 2ms/step - loss: 0.6095 - accuracy: 0.7003 - val_loss: 0.6318 - val_accuracy: 0.7338\n",
            "Epoch 27/500\n",
            "62/62 [==============================] - 0s 2ms/step - loss: 0.5984 - accuracy: 0.7036 - val_loss: 0.6296 - val_accuracy: 0.7208\n",
            "Epoch 28/500\n",
            "62/62 [==============================] - 0s 2ms/step - loss: 0.5947 - accuracy: 0.7068 - val_loss: 0.6392 - val_accuracy: 0.7208\n",
            "Epoch 29/500\n",
            "62/62 [==============================] - 0s 2ms/step - loss: 0.5834 - accuracy: 0.7182 - val_loss: 0.6080 - val_accuracy: 0.7338\n",
            "Epoch 30/500\n",
            "62/62 [==============================] - 0s 2ms/step - loss: 0.6034 - accuracy: 0.7068 - val_loss: 0.6243 - val_accuracy: 0.6753\n",
            "Epoch 31/500\n",
            "62/62 [==============================] - 0s 2ms/step - loss: 0.5806 - accuracy: 0.7117 - val_loss: 0.6360 - val_accuracy: 0.7013\n",
            "Epoch 32/500\n",
            "62/62 [==============================] - 0s 2ms/step - loss: 0.6131 - accuracy: 0.7003 - val_loss: 0.6282 - val_accuracy: 0.6948\n",
            "Epoch 33/500\n",
            "62/62 [==============================] - 0s 2ms/step - loss: 0.5764 - accuracy: 0.7182 - val_loss: 0.6325 - val_accuracy: 0.7078\n",
            "Epoch 34/500\n",
            "62/62 [==============================] - 0s 2ms/step - loss: 0.5900 - accuracy: 0.7036 - val_loss: 0.5916 - val_accuracy: 0.7403\n",
            "Epoch 35/500\n",
            "62/62 [==============================] - 0s 2ms/step - loss: 0.6035 - accuracy: 0.7068 - val_loss: 0.6631 - val_accuracy: 0.7273\n",
            "Epoch 36/500\n",
            "62/62 [==============================] - 0s 2ms/step - loss: 0.6082 - accuracy: 0.6938 - val_loss: 0.5929 - val_accuracy: 0.7403\n",
            "Epoch 37/500\n",
            "62/62 [==============================] - 0s 2ms/step - loss: 0.5878 - accuracy: 0.6922 - val_loss: 0.5913 - val_accuracy: 0.7597\n",
            "Epoch 38/500\n",
            "62/62 [==============================] - 0s 2ms/step - loss: 0.5684 - accuracy: 0.7329 - val_loss: 0.6069 - val_accuracy: 0.7532\n",
            "Epoch 39/500\n",
            "62/62 [==============================] - 0s 2ms/step - loss: 0.5741 - accuracy: 0.7068 - val_loss: 0.6109 - val_accuracy: 0.7013\n",
            "Epoch 40/500\n",
            "62/62 [==============================] - 0s 2ms/step - loss: 0.5954 - accuracy: 0.7101 - val_loss: 0.6207 - val_accuracy: 0.6818\n",
            "Epoch 41/500\n",
            "62/62 [==============================] - 0s 2ms/step - loss: 0.5824 - accuracy: 0.7199 - val_loss: 0.5673 - val_accuracy: 0.7468\n",
            "Epoch 42/500\n",
            "62/62 [==============================] - 0s 2ms/step - loss: 0.5984 - accuracy: 0.7150 - val_loss: 0.5938 - val_accuracy: 0.7143\n",
            "Epoch 43/500\n",
            "62/62 [==============================] - 0s 2ms/step - loss: 0.5876 - accuracy: 0.7068 - val_loss: 0.6174 - val_accuracy: 0.6818\n",
            "Epoch 44/500\n",
            "62/62 [==============================] - 0s 2ms/step - loss: 0.5810 - accuracy: 0.7068 - val_loss: 0.5890 - val_accuracy: 0.7662\n",
            "Epoch 45/500\n",
            "62/62 [==============================] - 0s 2ms/step - loss: 0.5886 - accuracy: 0.6759 - val_loss: 0.5818 - val_accuracy: 0.7208\n",
            "Epoch 46/500\n",
            "62/62 [==============================] - 0s 2ms/step - loss: 0.5667 - accuracy: 0.7117 - val_loss: 0.5979 - val_accuracy: 0.6948\n",
            "Epoch 47/500\n",
            "62/62 [==============================] - 0s 2ms/step - loss: 0.5781 - accuracy: 0.7101 - val_loss: 0.6123 - val_accuracy: 0.7143\n",
            "Epoch 48/500\n",
            "62/62 [==============================] - 0s 2ms/step - loss: 0.5651 - accuracy: 0.7101 - val_loss: 0.5876 - val_accuracy: 0.7143\n",
            "Epoch 49/500\n",
            "62/62 [==============================] - 0s 2ms/step - loss: 0.5693 - accuracy: 0.7264 - val_loss: 0.6246 - val_accuracy: 0.6688\n",
            "Epoch 50/500\n",
            "62/62 [==============================] - 0s 2ms/step - loss: 0.5621 - accuracy: 0.7215 - val_loss: 0.5905 - val_accuracy: 0.7532\n",
            "Epoch 51/500\n",
            "62/62 [==============================] - 0s 2ms/step - loss: 0.5733 - accuracy: 0.7166 - val_loss: 0.5670 - val_accuracy: 0.7597\n",
            "Epoch 52/500\n",
            "62/62 [==============================] - 0s 2ms/step - loss: 0.5617 - accuracy: 0.7296 - val_loss: 0.5888 - val_accuracy: 0.6948\n",
            "Epoch 53/500\n",
            "62/62 [==============================] - 0s 3ms/step - loss: 0.5530 - accuracy: 0.7101 - val_loss: 0.5597 - val_accuracy: 0.7727\n",
            "Epoch 54/500\n",
            "62/62 [==============================] - 0s 2ms/step - loss: 0.5893 - accuracy: 0.7052 - val_loss: 0.5958 - val_accuracy: 0.7468\n",
            "Epoch 55/500\n",
            "62/62 [==============================] - 0s 2ms/step - loss: 0.5589 - accuracy: 0.7215 - val_loss: 0.5919 - val_accuracy: 0.7078\n",
            "Epoch 56/500\n",
            "62/62 [==============================] - 0s 2ms/step - loss: 0.5539 - accuracy: 0.7362 - val_loss: 0.5760 - val_accuracy: 0.7727\n",
            "Epoch 57/500\n",
            "62/62 [==============================] - 0s 2ms/step - loss: 0.5635 - accuracy: 0.7248 - val_loss: 0.5729 - val_accuracy: 0.7662\n",
            "Epoch 58/500\n",
            "62/62 [==============================] - 0s 2ms/step - loss: 0.5618 - accuracy: 0.7362 - val_loss: 0.5589 - val_accuracy: 0.7727\n",
            "Epoch 59/500\n",
            "62/62 [==============================] - 0s 2ms/step - loss: 0.6002 - accuracy: 0.6889 - val_loss: 0.6217 - val_accuracy: 0.6688\n",
            "Epoch 60/500\n",
            "62/62 [==============================] - 0s 2ms/step - loss: 0.5592 - accuracy: 0.7231 - val_loss: 0.5807 - val_accuracy: 0.7468\n",
            "Epoch 61/500\n",
            "62/62 [==============================] - 0s 2ms/step - loss: 0.5641 - accuracy: 0.7215 - val_loss: 0.6483 - val_accuracy: 0.6623\n",
            "Epoch 62/500\n",
            "62/62 [==============================] - 0s 3ms/step - loss: 0.5702 - accuracy: 0.7199 - val_loss: 0.6013 - val_accuracy: 0.7468\n",
            "Epoch 63/500\n",
            "62/62 [==============================] - 0s 2ms/step - loss: 0.5584 - accuracy: 0.7199 - val_loss: 0.5877 - val_accuracy: 0.7338\n",
            "Epoch 64/500\n",
            "62/62 [==============================] - 0s 2ms/step - loss: 0.5501 - accuracy: 0.7362 - val_loss: 0.5672 - val_accuracy: 0.7078\n",
            "Epoch 65/500\n",
            "62/62 [==============================] - 0s 2ms/step - loss: 0.5605 - accuracy: 0.7345 - val_loss: 0.5795 - val_accuracy: 0.7078\n",
            "Epoch 66/500\n",
            "62/62 [==============================] - 0s 2ms/step - loss: 0.5573 - accuracy: 0.7199 - val_loss: 0.5828 - val_accuracy: 0.7143\n",
            "Epoch 67/500\n",
            "62/62 [==============================] - 0s 2ms/step - loss: 0.5506 - accuracy: 0.7329 - val_loss: 0.5579 - val_accuracy: 0.7727\n",
            "Epoch 68/500\n",
            "62/62 [==============================] - 0s 2ms/step - loss: 0.5421 - accuracy: 0.7248 - val_loss: 0.5811 - val_accuracy: 0.7013\n",
            "Epoch 69/500\n",
            "62/62 [==============================] - 0s 2ms/step - loss: 0.5614 - accuracy: 0.7231 - val_loss: 0.5646 - val_accuracy: 0.7727\n",
            "Epoch 70/500\n",
            "62/62 [==============================] - 0s 2ms/step - loss: 0.5529 - accuracy: 0.7280 - val_loss: 0.5968 - val_accuracy: 0.7727\n",
            "Epoch 71/500\n",
            "62/62 [==============================] - 0s 2ms/step - loss: 0.5598 - accuracy: 0.7296 - val_loss: 0.5612 - val_accuracy: 0.7662\n",
            "Epoch 72/500\n",
            "62/62 [==============================] - 0s 2ms/step - loss: 0.5531 - accuracy: 0.7427 - val_loss: 0.5866 - val_accuracy: 0.7143\n",
            "Epoch 73/500\n",
            "62/62 [==============================] - 0s 2ms/step - loss: 0.5603 - accuracy: 0.7329 - val_loss: 0.5880 - val_accuracy: 0.6688\n",
            "Epoch 74/500\n",
            "62/62 [==============================] - 0s 2ms/step - loss: 0.5604 - accuracy: 0.7231 - val_loss: 0.5744 - val_accuracy: 0.7662\n",
            "Epoch 75/500\n",
            "62/62 [==============================] - 0s 3ms/step - loss: 0.5599 - accuracy: 0.7215 - val_loss: 0.5584 - val_accuracy: 0.7792\n",
            "Epoch 76/500\n",
            "62/62 [==============================] - 0s 3ms/step - loss: 0.5403 - accuracy: 0.7313 - val_loss: 0.5558 - val_accuracy: 0.7727\n",
            "Epoch 77/500\n",
            "62/62 [==============================] - 0s 2ms/step - loss: 0.5494 - accuracy: 0.7280 - val_loss: 0.5579 - val_accuracy: 0.7727\n",
            "Epoch 78/500\n",
            "62/62 [==============================] - 0s 2ms/step - loss: 0.5322 - accuracy: 0.7231 - val_loss: 0.5876 - val_accuracy: 0.7273\n",
            "Epoch 79/500\n",
            "62/62 [==============================] - 0s 2ms/step - loss: 0.5516 - accuracy: 0.7329 - val_loss: 0.5546 - val_accuracy: 0.7662\n",
            "Epoch 80/500\n",
            "62/62 [==============================] - 0s 2ms/step - loss: 0.5383 - accuracy: 0.7394 - val_loss: 0.5845 - val_accuracy: 0.7597\n",
            "Epoch 81/500\n",
            "62/62 [==============================] - 0s 2ms/step - loss: 0.5460 - accuracy: 0.7508 - val_loss: 0.6314 - val_accuracy: 0.6623\n",
            "Epoch 82/500\n",
            "62/62 [==============================] - 0s 2ms/step - loss: 0.5480 - accuracy: 0.7345 - val_loss: 0.5728 - val_accuracy: 0.7597\n",
            "Epoch 83/500\n",
            "62/62 [==============================] - 0s 2ms/step - loss: 0.5719 - accuracy: 0.7068 - val_loss: 0.5533 - val_accuracy: 0.7727\n",
            "Epoch 84/500\n",
            "62/62 [==============================] - 0s 2ms/step - loss: 0.5568 - accuracy: 0.7166 - val_loss: 0.5641 - val_accuracy: 0.7468\n",
            "Epoch 85/500\n",
            "62/62 [==============================] - 0s 2ms/step - loss: 0.5415 - accuracy: 0.7313 - val_loss: 0.5658 - val_accuracy: 0.7727\n",
            "Epoch 86/500\n",
            "62/62 [==============================] - 0s 2ms/step - loss: 0.5462 - accuracy: 0.7280 - val_loss: 0.5638 - val_accuracy: 0.7532\n",
            "Epoch 87/500\n",
            "62/62 [==============================] - 0s 2ms/step - loss: 0.5435 - accuracy: 0.7394 - val_loss: 0.5611 - val_accuracy: 0.7597\n",
            "Epoch 88/500\n",
            "62/62 [==============================] - 0s 2ms/step - loss: 0.5724 - accuracy: 0.7329 - val_loss: 0.5516 - val_accuracy: 0.7857\n",
            "Epoch 89/500\n",
            "62/62 [==============================] - 0s 2ms/step - loss: 0.5496 - accuracy: 0.7394 - val_loss: 0.5494 - val_accuracy: 0.7727\n",
            "Epoch 90/500\n",
            "62/62 [==============================] - 0s 2ms/step - loss: 0.5338 - accuracy: 0.7394 - val_loss: 0.5619 - val_accuracy: 0.7597\n",
            "Epoch 91/500\n",
            "62/62 [==============================] - 0s 2ms/step - loss: 0.5348 - accuracy: 0.7329 - val_loss: 0.5638 - val_accuracy: 0.7597\n",
            "Epoch 92/500\n",
            "62/62 [==============================] - 0s 2ms/step - loss: 0.5549 - accuracy: 0.7264 - val_loss: 0.5633 - val_accuracy: 0.7727\n",
            "Epoch 93/500\n",
            "62/62 [==============================] - 0s 2ms/step - loss: 0.5452 - accuracy: 0.7313 - val_loss: 0.5431 - val_accuracy: 0.7532\n",
            "Epoch 94/500\n",
            "62/62 [==============================] - 0s 2ms/step - loss: 0.5436 - accuracy: 0.7313 - val_loss: 0.5623 - val_accuracy: 0.7597\n",
            "Epoch 95/500\n",
            "62/62 [==============================] - 0s 2ms/step - loss: 0.5659 - accuracy: 0.7052 - val_loss: 0.6569 - val_accuracy: 0.6364\n",
            "Epoch 96/500\n",
            "62/62 [==============================] - 0s 2ms/step - loss: 0.5359 - accuracy: 0.7443 - val_loss: 0.5668 - val_accuracy: 0.7532\n",
            "Epoch 97/500\n",
            "62/62 [==============================] - 0s 2ms/step - loss: 0.5583 - accuracy: 0.7117 - val_loss: 0.5493 - val_accuracy: 0.7338\n",
            "Epoch 98/500\n",
            "62/62 [==============================] - 0s 2ms/step - loss: 0.5493 - accuracy: 0.7345 - val_loss: 0.6043 - val_accuracy: 0.7013\n",
            "Epoch 99/500\n",
            "62/62 [==============================] - 0s 2ms/step - loss: 0.5461 - accuracy: 0.7313 - val_loss: 0.5499 - val_accuracy: 0.7662\n",
            "Epoch 100/500\n",
            "62/62 [==============================] - 0s 2ms/step - loss: 0.5304 - accuracy: 0.7378 - val_loss: 0.5766 - val_accuracy: 0.7662\n",
            "Epoch 101/500\n",
            "62/62 [==============================] - 0s 2ms/step - loss: 0.5395 - accuracy: 0.7280 - val_loss: 0.5749 - val_accuracy: 0.7013\n",
            "Epoch 102/500\n",
            "62/62 [==============================] - 0s 2ms/step - loss: 0.5407 - accuracy: 0.7345 - val_loss: 0.5545 - val_accuracy: 0.7662\n",
            "Epoch 103/500\n",
            "62/62 [==============================] - 0s 2ms/step - loss: 0.5394 - accuracy: 0.7427 - val_loss: 0.5489 - val_accuracy: 0.7727\n",
            "Epoch 104/500\n",
            "62/62 [==============================] - 0s 2ms/step - loss: 0.5302 - accuracy: 0.7215 - val_loss: 0.5549 - val_accuracy: 0.7532\n",
            "Epoch 105/500\n",
            "62/62 [==============================] - 0s 2ms/step - loss: 0.5354 - accuracy: 0.7427 - val_loss: 0.5507 - val_accuracy: 0.7662\n",
            "Epoch 106/500\n",
            "62/62 [==============================] - 0s 2ms/step - loss: 0.5386 - accuracy: 0.7329 - val_loss: 0.5627 - val_accuracy: 0.7662\n",
            "Epoch 107/500\n",
            "62/62 [==============================] - 0s 2ms/step - loss: 0.5278 - accuracy: 0.7508 - val_loss: 0.5473 - val_accuracy: 0.7792\n",
            "Epoch 108/500\n",
            "62/62 [==============================] - 0s 2ms/step - loss: 0.5185 - accuracy: 0.7443 - val_loss: 0.5889 - val_accuracy: 0.7013\n",
            "Epoch 109/500\n",
            "62/62 [==============================] - 0s 2ms/step - loss: 0.5485 - accuracy: 0.7427 - val_loss: 0.5917 - val_accuracy: 0.7403\n",
            "Epoch 110/500\n",
            "62/62 [==============================] - 0s 2ms/step - loss: 0.5376 - accuracy: 0.7655 - val_loss: 0.5543 - val_accuracy: 0.7662\n",
            "Epoch 111/500\n",
            "62/62 [==============================] - 0s 2ms/step - loss: 0.5336 - accuracy: 0.7427 - val_loss: 0.5546 - val_accuracy: 0.7597\n",
            "Epoch 112/500\n",
            "62/62 [==============================] - 0s 2ms/step - loss: 0.5265 - accuracy: 0.7443 - val_loss: 0.5669 - val_accuracy: 0.7078\n",
            "Epoch 113/500\n",
            "62/62 [==============================] - 0s 2ms/step - loss: 0.5305 - accuracy: 0.7443 - val_loss: 0.5717 - val_accuracy: 0.7078\n",
            "Epoch 114/500\n",
            "62/62 [==============================] - 0s 2ms/step - loss: 0.5251 - accuracy: 0.7476 - val_loss: 0.5365 - val_accuracy: 0.7597\n",
            "Epoch 115/500\n",
            "62/62 [==============================] - 0s 2ms/step - loss: 0.5284 - accuracy: 0.7443 - val_loss: 0.5612 - val_accuracy: 0.7273\n",
            "Epoch 116/500\n",
            "62/62 [==============================] - 0s 3ms/step - loss: 0.5327 - accuracy: 0.7459 - val_loss: 0.5421 - val_accuracy: 0.7468\n",
            "Epoch 117/500\n",
            "62/62 [==============================] - 0s 2ms/step - loss: 0.5391 - accuracy: 0.7280 - val_loss: 0.5318 - val_accuracy: 0.7792\n",
            "Epoch 118/500\n",
            "62/62 [==============================] - 0s 2ms/step - loss: 0.5124 - accuracy: 0.7590 - val_loss: 0.6121 - val_accuracy: 0.7143\n",
            "Epoch 119/500\n",
            "62/62 [==============================] - 0s 2ms/step - loss: 0.5396 - accuracy: 0.7606 - val_loss: 0.6000 - val_accuracy: 0.6883\n",
            "Epoch 120/500\n",
            "62/62 [==============================] - 0s 2ms/step - loss: 0.5236 - accuracy: 0.7443 - val_loss: 0.5509 - val_accuracy: 0.7403\n",
            "Epoch 121/500\n",
            "62/62 [==============================] - 0s 2ms/step - loss: 0.5292 - accuracy: 0.7296 - val_loss: 0.5637 - val_accuracy: 0.7338\n",
            "Epoch 122/500\n",
            "62/62 [==============================] - 0s 2ms/step - loss: 0.5319 - accuracy: 0.7394 - val_loss: 0.5649 - val_accuracy: 0.7273\n",
            "Epoch 123/500\n",
            "62/62 [==============================] - 0s 2ms/step - loss: 0.5191 - accuracy: 0.7524 - val_loss: 0.5636 - val_accuracy: 0.7662\n",
            "Epoch 124/500\n",
            "62/62 [==============================] - 0s 2ms/step - loss: 0.5235 - accuracy: 0.7443 - val_loss: 0.5814 - val_accuracy: 0.7532\n",
            "Epoch 125/500\n",
            "62/62 [==============================] - 0s 2ms/step - loss: 0.5262 - accuracy: 0.7427 - val_loss: 0.5405 - val_accuracy: 0.7532\n",
            "Epoch 126/500\n",
            "62/62 [==============================] - 0s 2ms/step - loss: 0.5223 - accuracy: 0.7508 - val_loss: 0.5549 - val_accuracy: 0.7078\n",
            "Epoch 127/500\n",
            "62/62 [==============================] - 0s 2ms/step - loss: 0.5232 - accuracy: 0.7362 - val_loss: 0.5586 - val_accuracy: 0.7532\n",
            "Epoch 128/500\n",
            "62/62 [==============================] - 0s 2ms/step - loss: 0.5132 - accuracy: 0.7687 - val_loss: 0.5620 - val_accuracy: 0.7468\n",
            "Epoch 129/500\n",
            "62/62 [==============================] - 0s 2ms/step - loss: 0.5168 - accuracy: 0.7362 - val_loss: 0.5379 - val_accuracy: 0.7727\n",
            "Epoch 130/500\n",
            "62/62 [==============================] - 0s 2ms/step - loss: 0.5084 - accuracy: 0.7557 - val_loss: 0.5679 - val_accuracy: 0.7468\n",
            "Epoch 131/500\n",
            "62/62 [==============================] - 0s 2ms/step - loss: 0.5257 - accuracy: 0.7459 - val_loss: 0.5457 - val_accuracy: 0.7468\n",
            "Epoch 132/500\n",
            "62/62 [==============================] - 0s 2ms/step - loss: 0.5126 - accuracy: 0.7687 - val_loss: 0.5442 - val_accuracy: 0.7792\n",
            "Epoch 133/500\n",
            "62/62 [==============================] - 0s 2ms/step - loss: 0.5197 - accuracy: 0.7476 - val_loss: 0.5284 - val_accuracy: 0.7468\n",
            "Epoch 134/500\n",
            "62/62 [==============================] - 0s 2ms/step - loss: 0.5224 - accuracy: 0.7476 - val_loss: 0.5531 - val_accuracy: 0.7403\n",
            "Epoch 135/500\n",
            "62/62 [==============================] - 0s 2ms/step - loss: 0.5172 - accuracy: 0.7590 - val_loss: 0.5550 - val_accuracy: 0.7338\n",
            "Epoch 136/500\n",
            "62/62 [==============================] - 0s 2ms/step - loss: 0.5433 - accuracy: 0.7459 - val_loss: 0.5471 - val_accuracy: 0.7662\n",
            "Epoch 137/500\n",
            "62/62 [==============================] - 0s 2ms/step - loss: 0.5087 - accuracy: 0.7508 - val_loss: 0.5504 - val_accuracy: 0.7597\n",
            "Epoch 138/500\n",
            "62/62 [==============================] - 0s 2ms/step - loss: 0.5226 - accuracy: 0.7476 - val_loss: 0.5447 - val_accuracy: 0.7662\n",
            "Epoch 00138: early stopping\n"
          ]
        }
      ]
    },
    {
      "cell_type": "code",
      "metadata": {
        "id": "7cTBmcNAuIDs",
        "colab": {
          "base_uri": "https://localhost:8080/",
          "height": 295
        },
        "outputId": "68a58608-b820-41e7-e0e8-d1b942096702"
      },
      "source": [
        "# 훈련 데이터와 검증 데이터에 대한 accuracy 시각화.\n",
        "epochs = range(1, len(hist.history['accuracy']) + 1)\n",
        "\n",
        "acc_list = [100 * i for i in hist.history['accuracy']]\n",
        "vacc_list = [100 * i for i in hist.history['val_accuracy']]\n",
        "\n",
        "plt.plot(epochs,acc_list)  \n",
        "plt.plot(epochs,vacc_list)\n",
        "\n",
        "plt.plot(np.argmax(np.array(vacc_list))+1,vacc_list[np.argmax(np.array(vacc_list))], 'r*')\n",
        "plt.title('Diabetes: FCN model - val_accuracy, max:' + str(np.round(vacc_list[np.argmax(np.array(vacc_list))],2)))\n",
        "plt.ylabel('val-Accuracy (%)')\n",
        "plt.xlabel('Epoch')\n",
        "plt.legend(['accuracy','val_accuracy','best'], loc='best')\n",
        "plt.show()"
      ],
      "execution_count": 38,
      "outputs": [
        {
          "output_type": "display_data",
          "data": {
            "image/png": "[encoded data removed]",
            "text/plain": [
              "<Figure size 432x288 with 1 Axes>"
            ]
          },
          "metadata": {
            "needs_background": "light"
          }
        }
      ]
    },
    {
      "cell_type": "markdown",
      "metadata": {
        "id": "mfpDVTp9tp0T"
      },
      "source": [
        "### best model\n",
        "> diabetes_DL_best_weights.088-0.786.hdf5"
      ]
    },
    {
      "cell_type": "code",
      "metadata": {
        "id": "7XICED9Jt5ls",
        "colab": {
          "base_uri": "https://localhost:8080/"
        },
        "outputId": "01240611-d3a3-4f8c-dfd5-855803d94e9a"
      },
      "source": [
        "# model2 performance\n",
        "model2.evaluate(X_test, y_test)"
      ],
      "execution_count": 39,
      "outputs": [
        {
          "output_type": "stream",
          "name": "stdout",
          "text": [
            "5/5 [==============================] - 0s 2ms/step - loss: 0.5447 - accuracy: 0.7662\n"
          ]
        },
        {
          "output_type": "execute_result",
          "data": {
            "text/plain": [
              "[0.5446837544441223, 0.7662337422370911]"
            ]
          },
          "metadata": {},
          "execution_count": 39
        }
      ]
    },
    {
      "cell_type": "code",
      "metadata": {
        "id": "qdp3G_DcZ1Ek",
        "colab": {
          "base_uri": "https://localhost:8080/"
        },
        "outputId": "b0db61e0-f5c4-44b8-abf6-4dcbca477d5f"
      },
      "source": [
        "from keras.models import load_model\n",
        "\n",
        "# model = load_model('your_best_model.hdf5')\n",
        "model2_best = load_model('diabetes_DL_best_weights.088-0.786.hdf5')\n",
        "model2_best.evaluate(X_test, y_test)"
      ],
      "execution_count": 40,
      "outputs": [
        {
          "output_type": "stream",
          "name": "stdout",
          "text": [
            "5/5 [==============================] - 0s 2ms/step - loss: 0.5516 - accuracy: 0.7857\n"
          ]
        },
        {
          "output_type": "execute_result",
          "data": {
            "text/plain": [
              "[0.5515814423561096, 0.7857142686843872]"
            ]
          },
          "metadata": {},
          "execution_count": 40
        }
      ]
    },
    {
      "cell_type": "markdown",
      "metadata": {
        "id": "y_odUaaS-2HY"
      },
      "source": [
        "### Confusion matrix ot the best model"
      ]
    },
    {
      "cell_type": "code",
      "metadata": {
        "id": "JCuXtq6j-2Ha"
      },
      "source": [
        "# import seaborn as sns\n",
        "# from sklearn.metrics import confusion_matrix\n",
        "\n",
        "# make class predictions for test data with the model\n",
        "predictions = [int(np.round(prob)) for prob in model2_best.predict(X_test)]\n",
        "\n",
        "cm = confusion_matrix(y_test, predictions)"
      ],
      "execution_count": 41,
      "outputs": []
    },
    {
      "cell_type": "code",
      "metadata": {
        "id": "ROijTNy4-2Ha"
      },
      "source": [
        "class_names = ['noDM','DM']"
      ],
      "execution_count": 42,
      "outputs": []
    },
    {
      "cell_type": "code",
      "metadata": {
        "id": "ds6fmbSc-2Ha",
        "colab": {
          "base_uri": "https://localhost:8080/",
          "height": 334
        },
        "outputId": "c0d99c29-fc1f-4f24-8cc5-bf69b18362a6"
      },
      "source": [
        "plt.figure(figsize=(5,5))\n",
        "sns.heatmap(cm, cbar=False, xticklabels=class_names, yticklabels=class_names, fmt='d', annot=True, cmap=plt.cm.coolwarm)\n",
        "plt.xlabel('Predicted')\n",
        "plt.ylabel('Actual')\n",
        "plt.show()"
      ],
      "execution_count": 43,
      "outputs": [
        {
          "output_type": "display_data",
          "data": {
            "image/png": "[encoded data removed]",
            "text/plain": [
              "<Figure size 360x360 with 1 Axes>"
            ]
          },
          "metadata": {
            "needs_background": "light"
          }
        }
      ]
    },
    {
      "cell_type": "markdown",
      "metadata": {
        "id": "C3fPEXJnAhCT"
      },
      "source": [
        "## [DIY-2] Save the best model after preprocessing data\n",
        "- StandardScaler"
      ]
    },
    {
      "cell_type": "code",
      "metadata": {
        "id": "Xpj1sO5qeW3_"
      },
      "source": [
        "# StandardScaler\n",
        "from sklearn.preprocessing import StandardScaler\n",
        "scaler = StandardScaler().fit(X_train)\n",
        "X_train = scaler.transform(X_train)\n",
        "X_test  = scaler.transform(X_test)"
      ],
      "execution_count": 44,
      "outputs": []
    },
    {
      "cell_type": "code",
      "metadata": {
        "id": "ChyT_BTzA1tk"
      },
      "source": [
        "# set random number seed\n",
        "np.random.seed(1234)\n",
        "tf.random.set_seed(1234)\n",
        "# define the keras model\n",
        "model2s = Sequential([\n",
        "    Dense(12, input_dim=8, activation='relu'),  \n",
        "    Dense(8, activation='relu'), \n",
        "    Dense(1, activation='sigmoid')                 \n",
        "])\n",
        "# compile the keras model\n",
        "model2s.compile(loss='binary_crossentropy', \n",
        "              optimizer='adam', \n",
        "              metrics=['accuracy'])\n"
      ],
      "execution_count": 45,
      "outputs": []
    },
    {
      "cell_type": "markdown",
      "metadata": {
        "id": "b8xoYOO4A1tl"
      },
      "source": [
        "### callbacks"
      ]
    },
    {
      "cell_type": "code",
      "metadata": {
        "id": "3iA8oFDfA1tl"
      },
      "source": [
        "cp_callback = callbacks.ModelCheckpoint(filepath=\"./diabetes_DL_SS_best_weights.{epoch:03d}-{val_accuracy:.3f}.hdf5\", \n",
        "                              monitor='val_accuracy', verbose=0, save_best_only=True)\n",
        "es_callback = callbacks.EarlyStopping(monitor='val_accuracy', \n",
        "                            mode='max', verbose=1, patience=50)    # patience=10, 20, 50"
      ],
      "execution_count": 46,
      "outputs": []
    },
    {
      "cell_type": "code",
      "metadata": {
        "id": "gMGYZH68A1tl",
        "colab": {
          "base_uri": "https://localhost:8080/"
        },
        "outputId": "03b916be-6d4c-49a8-ba8b-824dc0b61f73"
      },
      "source": [
        "# fit the keras model on the dataset\n",
        "hist = model2s.fit(X_train, y_train, epochs=500, batch_size=10, verbose=1, \n",
        "                  callbacks=[cp_callback, es_callback], \n",
        "                  validation_data=(X_test, y_test))\n"
      ],
      "execution_count": 47,
      "outputs": [
        {
          "output_type": "stream",
          "name": "stdout",
          "text": [
            "Epoch 1/500\n",
            "62/62 [==============================] - 1s 5ms/step - loss: 0.6474 - accuracy: 0.6254 - val_loss: 0.6372 - val_accuracy: 0.6688\n",
            "Epoch 2/500\n",
            "62/62 [==============================] - 0s 2ms/step - loss: 0.5795 - accuracy: 0.6987 - val_loss: 0.5858 - val_accuracy: 0.6948\n",
            "Epoch 3/500\n",
            "62/62 [==============================] - 0s 2ms/step - loss: 0.5378 - accuracy: 0.7280 - val_loss: 0.5576 - val_accuracy: 0.7338\n",
            "Epoch 4/500\n",
            "62/62 [==============================] - 0s 2ms/step - loss: 0.5153 - accuracy: 0.7443 - val_loss: 0.5406 - val_accuracy: 0.7662\n",
            "Epoch 5/500\n",
            "62/62 [==============================] - 0s 2ms/step - loss: 0.5006 - accuracy: 0.7573 - val_loss: 0.5272 - val_accuracy: 0.7662\n",
            "Epoch 6/500\n",
            "62/62 [==============================] - 0s 2ms/step - loss: 0.4920 - accuracy: 0.7606 - val_loss: 0.5200 - val_accuracy: 0.7662\n",
            "Epoch 7/500\n",
            "62/62 [==============================] - 0s 2ms/step - loss: 0.4850 - accuracy: 0.7590 - val_loss: 0.5168 - val_accuracy: 0.7532\n",
            "Epoch 8/500\n",
            "62/62 [==============================] - 0s 2ms/step - loss: 0.4804 - accuracy: 0.7655 - val_loss: 0.5130 - val_accuracy: 0.7597\n",
            "Epoch 9/500\n",
            "62/62 [==============================] - 0s 2ms/step - loss: 0.4763 - accuracy: 0.7818 - val_loss: 0.5142 - val_accuracy: 0.7468\n",
            "Epoch 10/500\n",
            "62/62 [==============================] - 0s 2ms/step - loss: 0.4725 - accuracy: 0.7850 - val_loss: 0.5091 - val_accuracy: 0.7532\n",
            "Epoch 11/500\n",
            "62/62 [==============================] - 0s 2ms/step - loss: 0.4695 - accuracy: 0.7801 - val_loss: 0.5080 - val_accuracy: 0.7532\n",
            "Epoch 12/500\n",
            "62/62 [==============================] - 0s 2ms/step - loss: 0.4669 - accuracy: 0.7883 - val_loss: 0.5083 - val_accuracy: 0.7468\n",
            "Epoch 13/500\n",
            "62/62 [==============================] - 0s 2ms/step - loss: 0.4638 - accuracy: 0.7964 - val_loss: 0.5068 - val_accuracy: 0.7468\n",
            "Epoch 14/500\n",
            "62/62 [==============================] - 0s 2ms/step - loss: 0.4605 - accuracy: 0.7932 - val_loss: 0.5063 - val_accuracy: 0.7468\n",
            "Epoch 15/500\n",
            "62/62 [==============================] - 0s 2ms/step - loss: 0.4594 - accuracy: 0.8046 - val_loss: 0.5078 - val_accuracy: 0.7532\n",
            "Epoch 16/500\n",
            "62/62 [==============================] - 0s 2ms/step - loss: 0.4566 - accuracy: 0.8013 - val_loss: 0.5056 - val_accuracy: 0.7468\n",
            "Epoch 17/500\n",
            "62/62 [==============================] - 0s 2ms/step - loss: 0.4541 - accuracy: 0.7948 - val_loss: 0.5052 - val_accuracy: 0.7532\n",
            "Epoch 18/500\n",
            "62/62 [==============================] - 0s 2ms/step - loss: 0.4529 - accuracy: 0.8013 - val_loss: 0.5063 - val_accuracy: 0.7597\n",
            "Epoch 19/500\n",
            "62/62 [==============================] - 0s 2ms/step - loss: 0.4516 - accuracy: 0.7997 - val_loss: 0.5068 - val_accuracy: 0.7532\n",
            "Epoch 20/500\n",
            "62/62 [==============================] - 0s 2ms/step - loss: 0.4494 - accuracy: 0.8111 - val_loss: 0.5054 - val_accuracy: 0.7662\n",
            "Epoch 21/500\n",
            "62/62 [==============================] - 0s 2ms/step - loss: 0.4484 - accuracy: 0.8013 - val_loss: 0.5035 - val_accuracy: 0.7597\n",
            "Epoch 22/500\n",
            "62/62 [==============================] - 0s 2ms/step - loss: 0.4466 - accuracy: 0.8013 - val_loss: 0.5054 - val_accuracy: 0.7597\n",
            "Epoch 23/500\n",
            "62/62 [==============================] - 0s 2ms/step - loss: 0.4442 - accuracy: 0.8029 - val_loss: 0.5063 - val_accuracy: 0.7597\n",
            "Epoch 24/500\n",
            "62/62 [==============================] - 0s 2ms/step - loss: 0.4435 - accuracy: 0.8111 - val_loss: 0.5052 - val_accuracy: 0.7468\n",
            "Epoch 25/500\n",
            "62/62 [==============================] - 0s 2ms/step - loss: 0.4422 - accuracy: 0.8127 - val_loss: 0.5055 - val_accuracy: 0.7597\n",
            "Epoch 26/500\n",
            "62/62 [==============================] - 0s 2ms/step - loss: 0.4410 - accuracy: 0.8176 - val_loss: 0.5053 - val_accuracy: 0.7597\n",
            "Epoch 27/500\n",
            "62/62 [==============================] - 0s 2ms/step - loss: 0.4386 - accuracy: 0.8111 - val_loss: 0.5061 - val_accuracy: 0.7597\n",
            "Epoch 28/500\n",
            "62/62 [==============================] - 0s 2ms/step - loss: 0.4371 - accuracy: 0.8111 - val_loss: 0.5068 - val_accuracy: 0.7597\n",
            "Epoch 29/500\n",
            "62/62 [==============================] - 0s 2ms/step - loss: 0.4367 - accuracy: 0.8111 - val_loss: 0.5052 - val_accuracy: 0.7662\n",
            "Epoch 30/500\n",
            "62/62 [==============================] - 0s 2ms/step - loss: 0.4348 - accuracy: 0.8111 - val_loss: 0.5072 - val_accuracy: 0.7532\n",
            "Epoch 31/500\n",
            "62/62 [==============================] - 0s 2ms/step - loss: 0.4353 - accuracy: 0.8176 - val_loss: 0.5052 - val_accuracy: 0.7468\n",
            "Epoch 32/500\n",
            "62/62 [==============================] - 0s 2ms/step - loss: 0.4322 - accuracy: 0.8111 - val_loss: 0.5069 - val_accuracy: 0.7403\n",
            "Epoch 33/500\n",
            "62/62 [==============================] - 0s 2ms/step - loss: 0.4318 - accuracy: 0.8143 - val_loss: 0.5073 - val_accuracy: 0.7468\n",
            "Epoch 34/500\n",
            "62/62 [==============================] - 0s 3ms/step - loss: 0.4306 - accuracy: 0.8127 - val_loss: 0.5035 - val_accuracy: 0.7403\n",
            "Epoch 35/500\n",
            "62/62 [==============================] - 0s 2ms/step - loss: 0.4286 - accuracy: 0.8143 - val_loss: 0.5080 - val_accuracy: 0.7403\n",
            "Epoch 36/500\n",
            "62/62 [==============================] - 0s 2ms/step - loss: 0.4272 - accuracy: 0.8160 - val_loss: 0.5076 - val_accuracy: 0.7338\n",
            "Epoch 37/500\n",
            "62/62 [==============================] - 0s 2ms/step - loss: 0.4262 - accuracy: 0.8143 - val_loss: 0.5041 - val_accuracy: 0.7338\n",
            "Epoch 38/500\n",
            "62/62 [==============================] - 0s 2ms/step - loss: 0.4255 - accuracy: 0.8094 - val_loss: 0.5072 - val_accuracy: 0.7273\n",
            "Epoch 39/500\n",
            "62/62 [==============================] - 0s 2ms/step - loss: 0.4242 - accuracy: 0.8160 - val_loss: 0.5043 - val_accuracy: 0.7338\n",
            "Epoch 40/500\n",
            "62/62 [==============================] - 0s 2ms/step - loss: 0.4236 - accuracy: 0.8160 - val_loss: 0.5041 - val_accuracy: 0.7338\n",
            "Epoch 41/500\n",
            "62/62 [==============================] - 0s 2ms/step - loss: 0.4227 - accuracy: 0.8160 - val_loss: 0.5063 - val_accuracy: 0.7143\n",
            "Epoch 42/500\n",
            "62/62 [==============================] - 0s 2ms/step - loss: 0.4216 - accuracy: 0.8111 - val_loss: 0.5060 - val_accuracy: 0.7403\n",
            "Epoch 43/500\n",
            "62/62 [==============================] - 0s 2ms/step - loss: 0.4194 - accuracy: 0.8143 - val_loss: 0.5044 - val_accuracy: 0.7273\n",
            "Epoch 44/500\n",
            "62/62 [==============================] - 0s 2ms/step - loss: 0.4196 - accuracy: 0.8094 - val_loss: 0.5059 - val_accuracy: 0.7208\n",
            "Epoch 45/500\n",
            "62/62 [==============================] - 0s 2ms/step - loss: 0.4181 - accuracy: 0.8176 - val_loss: 0.5026 - val_accuracy: 0.7338\n",
            "Epoch 46/500\n",
            "62/62 [==============================] - 0s 2ms/step - loss: 0.4170 - accuracy: 0.8111 - val_loss: 0.5017 - val_accuracy: 0.7273\n",
            "Epoch 47/500\n",
            "62/62 [==============================] - 0s 2ms/step - loss: 0.4172 - accuracy: 0.8127 - val_loss: 0.5039 - val_accuracy: 0.7338\n",
            "Epoch 48/500\n",
            "62/62 [==============================] - 0s 2ms/step - loss: 0.4149 - accuracy: 0.8143 - val_loss: 0.5062 - val_accuracy: 0.7143\n",
            "Epoch 49/500\n",
            "62/62 [==============================] - 0s 2ms/step - loss: 0.4144 - accuracy: 0.8111 - val_loss: 0.5025 - val_accuracy: 0.7273\n",
            "Epoch 50/500\n",
            "62/62 [==============================] - 0s 2ms/step - loss: 0.4136 - accuracy: 0.8127 - val_loss: 0.5057 - val_accuracy: 0.7143\n",
            "Epoch 51/500\n",
            "62/62 [==============================] - 0s 2ms/step - loss: 0.4125 - accuracy: 0.8176 - val_loss: 0.5044 - val_accuracy: 0.7273\n",
            "Epoch 52/500\n",
            "62/62 [==============================] - 0s 2ms/step - loss: 0.4120 - accuracy: 0.8111 - val_loss: 0.5098 - val_accuracy: 0.7143\n",
            "Epoch 53/500\n",
            "62/62 [==============================] - 0s 2ms/step - loss: 0.4115 - accuracy: 0.8111 - val_loss: 0.5018 - val_accuracy: 0.7273\n",
            "Epoch 54/500\n",
            "62/62 [==============================] - 0s 2ms/step - loss: 0.4112 - accuracy: 0.8143 - val_loss: 0.5085 - val_accuracy: 0.7078\n",
            "Epoch 00054: early stopping\n"
          ]
        }
      ]
    },
    {
      "cell_type": "code",
      "metadata": {
        "id": "0edeost-A1tm",
        "colab": {
          "base_uri": "https://localhost:8080/",
          "height": 295
        },
        "outputId": "1ada36b1-43fd-4263-ff1c-23192b82aaf0"
      },
      "source": [
        "# 훈련 데이터와 검증 데이터에 대한 accuracy 시각화.\n",
        "epochs = range(1, len(hist.history['accuracy']) + 1)\n",
        "\n",
        "acc_list = [100 * i for i in hist.history['accuracy']]\n",
        "vacc_list = [100 * i for i in hist.history['val_accuracy']]\n",
        "\n",
        "plt.plot(epochs,acc_list)  \n",
        "plt.plot(epochs,vacc_list)\n",
        "\n",
        "plt.plot(np.argmax(np.array(vacc_list))+1,vacc_list[np.argmax(np.array(vacc_list))], 'r*')\n",
        "plt.title('Diabetes: FCN model - val_accuracy, max:' + str(np.round(vacc_list[np.argmax(np.array(vacc_list))],2)))\n",
        "plt.ylabel('val-Accuracy (%)')\n",
        "plt.xlabel('Epoch')\n",
        "plt.legend(['accuracy','val_accuracy','best'], loc='best')\n",
        "plt.show()"
      ],
      "execution_count": 48,
      "outputs": [
        {
          "output_type": "display_data",
          "data": {
            "image/png": "[encoded data removed]",
            "text/plain": [
              "<Figure size 432x288 with 1 Axes>"
            ]
          },
          "metadata": {
            "needs_background": "light"
          }
        }
      ]
    },
    {
      "cell_type": "markdown",
      "metadata": {
        "id": "eG-fHXh5A1tm"
      },
      "source": [
        "### best model\n",
        "> diabetes_DL_SS_best_weights.004-0.766.hdf5"
      ]
    },
    {
      "cell_type": "code",
      "metadata": {
        "id": "cGGKTllZA1tm",
        "colab": {
          "base_uri": "https://localhost:8080/"
        },
        "outputId": "4ca7a00f-aa5d-4b1d-be84-bac61b19fcbe"
      },
      "source": [
        "# model2 performance\n",
        "model2s.evaluate(X_test, y_test)"
      ],
      "execution_count": 49,
      "outputs": [
        {
          "output_type": "stream",
          "name": "stdout",
          "text": [
            "5/5 [==============================] - 0s 3ms/step - loss: 0.5085 - accuracy: 0.7078\n"
          ]
        },
        {
          "output_type": "execute_result",
          "data": {
            "text/plain": [
              "[0.5084622502326965, 0.7077922224998474]"
            ]
          },
          "metadata": {},
          "execution_count": 49
        }
      ]
    },
    {
      "cell_type": "code",
      "metadata": {
        "id": "dQdVkllwA1tm",
        "colab": {
          "base_uri": "https://localhost:8080/"
        },
        "outputId": "7b44613a-62ec-474a-8126-9194355af70b"
      },
      "source": [
        "from keras.models import load_model\n",
        "\n",
        "# model = load_model('your_best_model.hdf5')\n",
        "model2s_best = load_model('diabetes_DL_SS_best_weights.004-0.766.hdf5')\n",
        "model2s_best.evaluate(X_test, y_test)"
      ],
      "execution_count": 50,
      "outputs": [
        {
          "output_type": "stream",
          "name": "stdout",
          "text": [
            "5/5 [==============================] - 0s 2ms/step - loss: 0.5406 - accuracy: 0.7662\n"
          ]
        },
        {
          "output_type": "execute_result",
          "data": {
            "text/plain": [
              "[0.5406255125999451, 0.7662337422370911]"
            ]
          },
          "metadata": {},
          "execution_count": 50
        }
      ]
    },
    {
      "cell_type": "markdown",
      "metadata": {
        "id": "hAWRrE79A1tm"
      },
      "source": [
        "### Confusion matrix ot the best model"
      ]
    },
    {
      "cell_type": "code",
      "metadata": {
        "id": "EnbNMvsIA1tn"
      },
      "source": [
        "# import seaborn as sns\n",
        "# from sklearn.metrics import confusion_matrix\n",
        "\n",
        "# make class predictions for test data with the model\n",
        "predictions = [int(np.round(prob)) for prob in model2s_best.predict(X_test)]\n",
        "\n",
        "cm = confusion_matrix(y_test, predictions)"
      ],
      "execution_count": 51,
      "outputs": []
    },
    {
      "cell_type": "code",
      "metadata": {
        "id": "yWi44OteA1tn"
      },
      "source": [
        "class_names = ['noDM','DM']"
      ],
      "execution_count": 52,
      "outputs": []
    },
    {
      "cell_type": "code",
      "metadata": {
        "id": "1I1OdpWuA1tn",
        "colab": {
          "base_uri": "https://localhost:8080/",
          "height": 334
        },
        "outputId": "a30c6881-0b35-49f3-d7cc-581f08b0ad24"
      },
      "source": [
        "plt.figure(figsize=(5,5))\n",
        "sns.heatmap(cm, cbar=False, xticklabels=class_names, yticklabels=class_names, fmt='d', annot=True, cmap=plt.cm.coolwarm)\n",
        "plt.xlabel('Predicted')\n",
        "plt.ylabel('Actual')\n",
        "plt.show()"
      ],
      "execution_count": 53,
      "outputs": [
        {
          "output_type": "display_data",
          "data": {
            "image/png": "[encoded data removed]",
            "text/plain": [
              "<Figure size 360x360 with 1 Axes>"
            ]
          },
          "metadata": {
            "needs_background": "light"
          }
        }
      ]
    },
    {
      "cell_type": "markdown",
      "metadata": {
        "id": "ICOiTafiyl7b"
      },
      "source": [
        "***"
      ]
    },
    {
      "cell_type": "markdown",
      "metadata": {
        "id": "s_NsDYVbyc1_"
      },
      "source": [
        "## [DIY-3] 데이터 전처리 후 딥러닝 모델 만들어서 평가\n",
        "- 결과가 좋아지는지, 아니면 나빠지는지를 확인하시오."
      ]
    },
    {
      "cell_type": "markdown",
      "metadata": {
        "id": "rWoRa2VqSkHI"
      },
      "source": [
        "## Check data\n",
        "- null\n",
        "- NaN"
      ]
    },
    {
      "cell_type": "code",
      "metadata": {
        "id": "whrqReP4mOhl",
        "colab": {
          "base_uri": "https://localhost:8080/"
        },
        "outputId": "3cdebd3b-5997-4b64-8bab-f2c4dfbe5ab0"
      },
      "source": [
        "# Check NaN\n",
        "# data.isna().sum()\n",
        "df.isnull().sum()"
      ],
      "execution_count": 54,
      "outputs": [
        {
          "output_type": "execute_result",
          "data": {
            "text/plain": [
              "Pregnancies                 0\n",
              "Glucose                     0\n",
              "BloodPressure               0\n",
              "SkinThickness               0\n",
              "Insulin                     0\n",
              "BMI                         0\n",
              "DiabetesPedigreeFunction    0\n",
              "Age                         0\n",
              "Outcome                     0\n",
              "dtype: int64"
            ]
          },
          "metadata": {},
          "execution_count": 54
        }
      ]
    },
    {
      "cell_type": "markdown",
      "metadata": {
        "id": "h--H_58sxzEz"
      },
      "source": [
        "### 과연 diabetes 데이터는 문제가 없는가?\n",
        "\n",
        "- 각 항목에서 0이 허용되지 않는 경우에 0이 있다면 => 문제 있는 데이터!\n",
        "- Pregnancies, Outcome은 0이 가능한 값이므로 제외하고 0이 있는 항목(column) 조사"
      ]
    },
    {
      "cell_type": "code",
      "metadata": {
        "id": "9ETrQATux_Wt",
        "colab": {
          "base_uri": "https://localhost:8080/",
          "height": 359
        },
        "outputId": "1f7a4293-0931-4345-c6d5-f1246318534c"
      },
      "source": [
        "df.head(10)"
      ],
      "execution_count": 55,
      "outputs": [
        {
          "output_type": "execute_result",
          "data": {
            "text/html": [
              "<div>\n",
              "<style scoped>\n",
              "    .dataframe tbody tr th:only-of-type {\n",
              "        vertical-align: middle;\n",
              "    }\n",
              "\n",
              "    .dataframe tbody tr th {\n",
              "        vertical-align: top;\n",
              "    }\n",
              "\n",
              "    .dataframe thead th {\n",
              "        text-align: right;\n",
              "    }\n",
              "</style>\n",
              "<table border=\"1\" class=\"dataframe\">\n",
              "  <thead>\n",
              "    <tr style=\"text-align: right;\">\n",
              "      <th></th>\n",
              "      <th>Pregnancies</th>\n",
              "      <th>Glucose</th>\n",
              "      <th>BloodPressure</th>\n",
              "      <th>SkinThickness</th>\n",
              "      <th>Insulin</th>\n",
              "      <th>BMI</th>\n",
              "      <th>DiabetesPedigreeFunction</th>\n",
              "      <th>Age</th>\n",
              "      <th>Outcome</th>\n",
              "    </tr>\n",
              "  </thead>\n",
              "  <tbody>\n",
              "    <tr>\n",
              "      <th>0</th>\n",
              "      <td>6</td>\n",
              "      <td>148</td>\n",
              "      <td>72</td>\n",
              "      <td>35</td>\n",
              "      <td>0</td>\n",
              "      <td>33.6</td>\n",
              "      <td>0.627</td>\n",
              "      <td>50</td>\n",
              "      <td>1</td>\n",
              "    </tr>\n",
              "    <tr>\n",
              "      <th>1</th>\n",
              "      <td>1</td>\n",
              "      <td>85</td>\n",
              "      <td>66</td>\n",
              "      <td>29</td>\n",
              "      <td>0</td>\n",
              "      <td>26.6</td>\n",
              "      <td>0.351</td>\n",
              "      <td>31</td>\n",
              "      <td>0</td>\n",
              "    </tr>\n",
              "    <tr>\n",
              "      <th>2</th>\n",
              "      <td>8</td>\n",
              "      <td>183</td>\n",
              "      <td>64</td>\n",
              "      <td>0</td>\n",
              "      <td>0</td>\n",
              "      <td>23.3</td>\n",
              "      <td>0.672</td>\n",
              "      <td>32</td>\n",
              "      <td>1</td>\n",
              "    </tr>\n",
              "    <tr>\n",
              "      <th>3</th>\n",
              "      <td>1</td>\n",
              "      <td>89</td>\n",
              "      <td>66</td>\n",
              "      <td>23</td>\n",
              "      <td>94</td>\n",
              "      <td>28.1</td>\n",
              "      <td>0.167</td>\n",
              "      <td>21</td>\n",
              "      <td>0</td>\n",
              "    </tr>\n",
              "    <tr>\n",
              "      <th>4</th>\n",
              "      <td>0</td>\n",
              "      <td>137</td>\n",
              "      <td>40</td>\n",
              "      <td>35</td>\n",
              "      <td>168</td>\n",
              "      <td>43.1</td>\n",
              "      <td>2.288</td>\n",
              "      <td>33</td>\n",
              "      <td>1</td>\n",
              "    </tr>\n",
              "    <tr>\n",
              "      <th>5</th>\n",
              "      <td>5</td>\n",
              "      <td>116</td>\n",
              "      <td>74</td>\n",
              "      <td>0</td>\n",
              "      <td>0</td>\n",
              "      <td>25.6</td>\n",
              "      <td>0.201</td>\n",
              "      <td>30</td>\n",
              "      <td>0</td>\n",
              "    </tr>\n",
              "    <tr>\n",
              "      <th>6</th>\n",
              "      <td>3</td>\n",
              "      <td>78</td>\n",
              "      <td>50</td>\n",
              "      <td>32</td>\n",
              "      <td>88</td>\n",
              "      <td>31.0</td>\n",
              "      <td>0.248</td>\n",
              "      <td>26</td>\n",
              "      <td>1</td>\n",
              "    </tr>\n",
              "    <tr>\n",
              "      <th>7</th>\n",
              "      <td>10</td>\n",
              "      <td>115</td>\n",
              "      <td>0</td>\n",
              "      <td>0</td>\n",
              "      <td>0</td>\n",
              "      <td>35.3</td>\n",
              "      <td>0.134</td>\n",
              "      <td>29</td>\n",
              "      <td>0</td>\n",
              "    </tr>\n",
              "    <tr>\n",
              "      <th>8</th>\n",
              "      <td>2</td>\n",
              "      <td>197</td>\n",
              "      <td>70</td>\n",
              "      <td>45</td>\n",
              "      <td>543</td>\n",
              "      <td>30.5</td>\n",
              "      <td>0.158</td>\n",
              "      <td>53</td>\n",
              "      <td>1</td>\n",
              "    </tr>\n",
              "    <tr>\n",
              "      <th>9</th>\n",
              "      <td>8</td>\n",
              "      <td>125</td>\n",
              "      <td>96</td>\n",
              "      <td>0</td>\n",
              "      <td>0</td>\n",
              "      <td>0.0</td>\n",
              "      <td>0.232</td>\n",
              "      <td>54</td>\n",
              "      <td>1</td>\n",
              "    </tr>\n",
              "  </tbody>\n",
              "</table>\n",
              "</div>"
            ],
            "text/plain": [
              "   Pregnancies  Glucose  BloodPressure  ...  DiabetesPedigreeFunction  Age  Outcome\n",
              "0            6      148             72  ...                     0.627   50        1\n",
              "1            1       85             66  ...                     0.351   31        0\n",
              "2            8      183             64  ...                     0.672   32        1\n",
              "3            1       89             66  ...                     0.167   21        0\n",
              "4            0      137             40  ...                     2.288   33        1\n",
              "5            5      116             74  ...                     0.201   30        0\n",
              "6            3       78             50  ...                     0.248   26        1\n",
              "7           10      115              0  ...                     0.134   29        0\n",
              "8            2      197             70  ...                     0.158   53        1\n",
              "9            8      125             96  ...                     0.232   54        1\n",
              "\n",
              "[10 rows x 9 columns]"
            ]
          },
          "metadata": {},
          "execution_count": 55
        }
      ]
    },
    {
      "cell_type": "code",
      "metadata": {
        "id": "UN8Ub9s-y7RM",
        "colab": {
          "base_uri": "https://localhost:8080/"
        },
        "outputId": "d999916a-108d-4a54-fee7-950ee00eafbc"
      },
      "source": [
        "# Pregnancies, Outcome은 0이 가능한 값이므로 제외하고 0이 있는 항목(column) 조사\n",
        "columns_with_zero = df.columns[(df==0).sum() > 0][1:-1]\n",
        "columns_with_zero"
      ],
      "execution_count": 56,
      "outputs": [
        {
          "output_type": "execute_result",
          "data": {
            "text/plain": [
              "Index(['Glucose', 'BloodPressure', 'SkinThickness', 'Insulin', 'BMI'], dtype='object')"
            ]
          },
          "metadata": {},
          "execution_count": 56
        }
      ]
    },
    {
      "cell_type": "code",
      "metadata": {
        "id": "jYGrj7udx6mk"
      },
      "source": [
        "# Clean the data : zero2median()\n",
        "# 1. Check zeros in features with Pregnancies, Outcome excluded.\n",
        "# 2. Replace zero with NaN \n",
        "# 3. Replace NaN with the median of the corresponding featurs\n",
        "def zero2median(df):\n",
        "    columns_with_zero = df.columns[(df==0).sum() > 0][1:-1]\n",
        "    # Index(['Glucose', 'BloodPressure', 'SkinThickness', 'Insulin', 'BMI'], dtype='object')\n",
        "    df[columns_with_zero]=df[columns_with_zero].replace(0,np.nan)\n",
        "    for feature in columns_with_zero:\n",
        "        df[feature].fillna(df[feature].median(),inplace=True)\n",
        "    \n",
        "    return df\n",
        "\n",
        "# Make clean dataframe, df2 from df\n",
        "df2 = zero2median(df)"
      ],
      "execution_count": 57,
      "outputs": []
    },
    {
      "cell_type": "code",
      "metadata": {
        "id": "jUBEg3S0zxQv",
        "colab": {
          "base_uri": "https://localhost:8080/",
          "height": 359
        },
        "outputId": "9124a726-1a24-4449-cf80-168a108c3d83"
      },
      "source": [
        "df2.head(10)"
      ],
      "execution_count": 58,
      "outputs": [
        {
          "output_type": "execute_result",
          "data": {
            "text/html": [
              "<div>\n",
              "<style scoped>\n",
              "    .dataframe tbody tr th:only-of-type {\n",
              "        vertical-align: middle;\n",
              "    }\n",
              "\n",
              "    .dataframe tbody tr th {\n",
              "        vertical-align: top;\n",
              "    }\n",
              "\n",
              "    .dataframe thead th {\n",
              "        text-align: right;\n",
              "    }\n",
              "</style>\n",
              "<table border=\"1\" class=\"dataframe\">\n",
              "  <thead>\n",
              "    <tr style=\"text-align: right;\">\n",
              "      <th></th>\n",
              "      <th>Pregnancies</th>\n",
              "      <th>Glucose</th>\n",
              "      <th>BloodPressure</th>\n",
              "      <th>SkinThickness</th>\n",
              "      <th>Insulin</th>\n",
              "      <th>BMI</th>\n",
              "      <th>DiabetesPedigreeFunction</th>\n",
              "      <th>Age</th>\n",
              "      <th>Outcome</th>\n",
              "    </tr>\n",
              "  </thead>\n",
              "  <tbody>\n",
              "    <tr>\n",
              "      <th>0</th>\n",
              "      <td>6</td>\n",
              "      <td>148.0</td>\n",
              "      <td>72.0</td>\n",
              "      <td>35.0</td>\n",
              "      <td>125.0</td>\n",
              "      <td>33.6</td>\n",
              "      <td>0.627</td>\n",
              "      <td>50</td>\n",
              "      <td>1</td>\n",
              "    </tr>\n",
              "    <tr>\n",
              "      <th>1</th>\n",
              "      <td>1</td>\n",
              "      <td>85.0</td>\n",
              "      <td>66.0</td>\n",
              "      <td>29.0</td>\n",
              "      <td>125.0</td>\n",
              "      <td>26.6</td>\n",
              "      <td>0.351</td>\n",
              "      <td>31</td>\n",
              "      <td>0</td>\n",
              "    </tr>\n",
              "    <tr>\n",
              "      <th>2</th>\n",
              "      <td>8</td>\n",
              "      <td>183.0</td>\n",
              "      <td>64.0</td>\n",
              "      <td>29.0</td>\n",
              "      <td>125.0</td>\n",
              "      <td>23.3</td>\n",
              "      <td>0.672</td>\n",
              "      <td>32</td>\n",
              "      <td>1</td>\n",
              "    </tr>\n",
              "    <tr>\n",
              "      <th>3</th>\n",
              "      <td>1</td>\n",
              "      <td>89.0</td>\n",
              "      <td>66.0</td>\n",
              "      <td>23.0</td>\n",
              "      <td>94.0</td>\n",
              "      <td>28.1</td>\n",
              "      <td>0.167</td>\n",
              "      <td>21</td>\n",
              "      <td>0</td>\n",
              "    </tr>\n",
              "    <tr>\n",
              "      <th>4</th>\n",
              "      <td>0</td>\n",
              "      <td>137.0</td>\n",
              "      <td>40.0</td>\n",
              "      <td>35.0</td>\n",
              "      <td>168.0</td>\n",
              "      <td>43.1</td>\n",
              "      <td>2.288</td>\n",
              "      <td>33</td>\n",
              "      <td>1</td>\n",
              "    </tr>\n",
              "    <tr>\n",
              "      <th>5</th>\n",
              "      <td>5</td>\n",
              "      <td>116.0</td>\n",
              "      <td>74.0</td>\n",
              "      <td>29.0</td>\n",
              "      <td>125.0</td>\n",
              "      <td>25.6</td>\n",
              "      <td>0.201</td>\n",
              "      <td>30</td>\n",
              "      <td>0</td>\n",
              "    </tr>\n",
              "    <tr>\n",
              "      <th>6</th>\n",
              "      <td>3</td>\n",
              "      <td>78.0</td>\n",
              "      <td>50.0</td>\n",
              "      <td>32.0</td>\n",
              "      <td>88.0</td>\n",
              "      <td>31.0</td>\n",
              "      <td>0.248</td>\n",
              "      <td>26</td>\n",
              "      <td>1</td>\n",
              "    </tr>\n",
              "    <tr>\n",
              "      <th>7</th>\n",
              "      <td>10</td>\n",
              "      <td>115.0</td>\n",
              "      <td>72.0</td>\n",
              "      <td>29.0</td>\n",
              "      <td>125.0</td>\n",
              "      <td>35.3</td>\n",
              "      <td>0.134</td>\n",
              "      <td>29</td>\n",
              "      <td>0</td>\n",
              "    </tr>\n",
              "    <tr>\n",
              "      <th>8</th>\n",
              "      <td>2</td>\n",
              "      <td>197.0</td>\n",
              "      <td>70.0</td>\n",
              "      <td>45.0</td>\n",
              "      <td>543.0</td>\n",
              "      <td>30.5</td>\n",
              "      <td>0.158</td>\n",
              "      <td>53</td>\n",
              "      <td>1</td>\n",
              "    </tr>\n",
              "    <tr>\n",
              "      <th>9</th>\n",
              "      <td>8</td>\n",
              "      <td>125.0</td>\n",
              "      <td>96.0</td>\n",
              "      <td>29.0</td>\n",
              "      <td>125.0</td>\n",
              "      <td>32.3</td>\n",
              "      <td>0.232</td>\n",
              "      <td>54</td>\n",
              "      <td>1</td>\n",
              "    </tr>\n",
              "  </tbody>\n",
              "</table>\n",
              "</div>"
            ],
            "text/plain": [
              "   Pregnancies  Glucose  BloodPressure  ...  DiabetesPedigreeFunction  Age  Outcome\n",
              "0            6    148.0           72.0  ...                     0.627   50        1\n",
              "1            1     85.0           66.0  ...                     0.351   31        0\n",
              "2            8    183.0           64.0  ...                     0.672   32        1\n",
              "3            1     89.0           66.0  ...                     0.167   21        0\n",
              "4            0    137.0           40.0  ...                     2.288   33        1\n",
              "5            5    116.0           74.0  ...                     0.201   30        0\n",
              "6            3     78.0           50.0  ...                     0.248   26        1\n",
              "7           10    115.0           72.0  ...                     0.134   29        0\n",
              "8            2    197.0           70.0  ...                     0.158   53        1\n",
              "9            8    125.0           96.0  ...                     0.232   54        1\n",
              "\n",
              "[10 rows x 9 columns]"
            ]
          },
          "metadata": {},
          "execution_count": 58
        }
      ]
    },
    {
      "cell_type": "markdown",
      "metadata": {
        "id": "Ares-U3O0bIm"
      },
      "source": [
        "## [DIY3] 전처리된 데이터프레임 df2를 이용해서 FCN으로 best model을 찾으시오.\n",
        "- best model: hdf5 file\n",
        "- Accuracy graph\n",
        "- Confusion matrix graph"
      ]
    },
    {
      "cell_type": "code",
      "metadata": {
        "id": "YDrUtW3HwUyf"
      },
      "source": [
        "# Your code here\n",
        "\n",
        "\n"
      ],
      "execution_count": null,
      "outputs": []
    }
  ]
}