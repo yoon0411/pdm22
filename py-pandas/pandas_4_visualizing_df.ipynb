{
  "nbformat": 4,
  "nbformat_minor": 0,
  "metadata": {
    "kernelspec": {
      "name": "python3",
      "display_name": "Python 3"
    },
    "language_info": {
      "codemirror_mode": {
        "name": "ipython",
        "version": 3
      },
      "file_extension": ".py",
      "mimetype": "text/x-python",
      "name": "python",
      "nbconvert_exporter": "python",
      "pygments_lexer": "ipython3",
      "version": "3.6.6"
    },
    "colab": {
      "name": "pandas_4_visualizing_df.ipynb",
      "provenance": [],
      "collapsed_sections": [],
      "include_colab_link": true
    }
  },
  "cells": [
    {
      "cell_type": "markdown",
      "metadata": {
        "id": "view-in-github",
        "colab_type": "text"
      },
      "source": [
        "<a href=\"https://colab.research.google.com/github/yoon0411/pdm22/blob/main/py-pandas/pandas_4_visualizing_df.ipynb\" target=\"_parent\"><img src=\"https://colab.research.google.com/assets/colab-badge.svg\" alt=\"Open In Colab\"/></a>"
      ]
    },
    {
      "cell_type": "markdown",
      "metadata": {
        "id": "-a_Ksvwdx5pf"
      },
      "source": [
        "### Python module 3. **pandas**"
      ]
    },
    {
      "cell_type": "markdown",
      "metadata": {
        "id": "P_F0RSPKx5pl"
      },
      "source": [
        "# Using pandas"
      ]
    },
    {
      "cell_type": "markdown",
      "metadata": {
        "id": "FfxMgWUFx5pm"
      },
      "source": [
        "* [10 Minutes to pandas](https://pandas.pydata.org/pandas-docs/stable/10min.html)\n",
        "* [Pandas tutorial with interactive exercises](https://www.kaggle.com/pistak/pandas-tutorial-with-interactive-exercises)"
      ]
    },
    {
      "cell_type": "code",
      "metadata": {
        "id": "2mpGSeRlx5po"
      },
      "source": [
        "import pandas as pd\n",
        "import numpy as np\n",
        "import matplotlib.pyplot as plt\n",
        "# %matplotlib inline  # work for Jupyter notebook or lab"
      ],
      "execution_count": 2,
      "outputs": []
    },
    {
      "cell_type": "code",
      "metadata": {
        "id": "w2eNkCfLx5p-",
        "colab": {
          "base_uri": "https://localhost:8080/"
        },
        "outputId": "5b51299b-785b-430f-8c04-2b56ff39d0b1"
      },
      "source": [
        "# Creating a DataFrame by passing a NumPy array, with a datetime index and labeled columns:\n",
        "dates = pd.date_range('20200928', periods=6)\n",
        "dates"
      ],
      "execution_count": 7,
      "outputs": [
        {
          "output_type": "execute_result",
          "data": {
            "text/plain": [
              "DatetimeIndex(['2020-09-28', '2020-09-29', '2020-09-30', '2020-10-01',\n",
              "               '2020-10-02', '2020-10-03'],\n",
              "              dtype='datetime64[ns]', freq='D')"
            ]
          },
          "metadata": {},
          "execution_count": 7
        }
      ]
    },
    {
      "cell_type": "code",
      "metadata": {
        "id": "dHwUodTGx5qj",
        "colab": {
          "base_uri": "https://localhost:8080/",
          "height": 238
        },
        "outputId": "c6c9ed89-f9fe-4e03-8544-e52ba1f997ca"
      },
      "source": [
        "# head()\n",
        "df = pd.DataFrame(np.random.randn(6,4), index=dates, columns=list('ABCD'))\n",
        "df"
      ],
      "execution_count": 8,
      "outputs": [
        {
          "output_type": "execute_result",
          "data": {
            "text/html": [
              "<div>\n",
              "<style scoped>\n",
              "    .dataframe tbody tr th:only-of-type {\n",
              "        vertical-align: middle;\n",
              "    }\n",
              "\n",
              "    .dataframe tbody tr th {\n",
              "        vertical-align: top;\n",
              "    }\n",
              "\n",
              "    .dataframe thead th {\n",
              "        text-align: right;\n",
              "    }\n",
              "</style>\n",
              "<table border=\"1\" class=\"dataframe\">\n",
              "  <thead>\n",
              "    <tr style=\"text-align: right;\">\n",
              "      <th></th>\n",
              "      <th>A</th>\n",
              "      <th>B</th>\n",
              "      <th>C</th>\n",
              "      <th>D</th>\n",
              "    </tr>\n",
              "  </thead>\n",
              "  <tbody>\n",
              "    <tr>\n",
              "      <th>2020-09-28</th>\n",
              "      <td>-0.286534</td>\n",
              "      <td>-0.101697</td>\n",
              "      <td>-0.668526</td>\n",
              "      <td>-1.437410</td>\n",
              "    </tr>\n",
              "    <tr>\n",
              "      <th>2020-09-29</th>\n",
              "      <td>0.453624</td>\n",
              "      <td>-0.694386</td>\n",
              "      <td>-1.578708</td>\n",
              "      <td>1.120296</td>\n",
              "    </tr>\n",
              "    <tr>\n",
              "      <th>2020-09-30</th>\n",
              "      <td>0.962005</td>\n",
              "      <td>-0.749326</td>\n",
              "      <td>1.457683</td>\n",
              "      <td>1.267344</td>\n",
              "    </tr>\n",
              "    <tr>\n",
              "      <th>2020-10-01</th>\n",
              "      <td>-2.115309</td>\n",
              "      <td>-0.218869</td>\n",
              "      <td>-1.669591</td>\n",
              "      <td>0.285688</td>\n",
              "    </tr>\n",
              "    <tr>\n",
              "      <th>2020-10-02</th>\n",
              "      <td>-1.128472</td>\n",
              "      <td>1.227488</td>\n",
              "      <td>-1.017653</td>\n",
              "      <td>-0.001104</td>\n",
              "    </tr>\n",
              "    <tr>\n",
              "      <th>2020-10-03</th>\n",
              "      <td>-0.446068</td>\n",
              "      <td>0.130843</td>\n",
              "      <td>1.012403</td>\n",
              "      <td>2.028039</td>\n",
              "    </tr>\n",
              "  </tbody>\n",
              "</table>\n",
              "</div>"
            ],
            "text/plain": [
              "                   A         B         C         D\n",
              "2020-09-28 -0.286534 -0.101697 -0.668526 -1.437410\n",
              "2020-09-29  0.453624 -0.694386 -1.578708  1.120296\n",
              "2020-09-30  0.962005 -0.749326  1.457683  1.267344\n",
              "2020-10-01 -2.115309 -0.218869 -1.669591  0.285688\n",
              "2020-10-02 -1.128472  1.227488 -1.017653 -0.001104\n",
              "2020-10-03 -0.446068  0.130843  1.012403  2.028039"
            ]
          },
          "metadata": {},
          "execution_count": 8
        }
      ]
    },
    {
      "cell_type": "markdown",
      "metadata": {
        "id": "wq1nIp3F1fFB"
      },
      "source": [
        "\n",
        "\n",
        "---\n",
        "\n"
      ]
    },
    {
      "cell_type": "markdown",
      "metadata": {
        "id": "I1IgbN4Gx5s4"
      },
      "source": [
        "# 데이터 시각화"
      ]
    },
    {
      "cell_type": "markdown",
      "metadata": {
        "id": "vaKGa-Yx6cvg"
      },
      "source": [
        "#### [도전] 데이터프레임 df의 평균(mean(0))과 표준편차를 이용한 그래프\n",
        "- 평균에 대한 꺽은선그래프\n",
        "- 평균과 표준편차를 이용한 막대그래프\n",
        "> x-축은 A,B,C,D"
      ]
    },
    {
      "cell_type": "code",
      "metadata": {
        "id": "A2YtMydfBFUV",
        "colab": {
          "base_uri": "https://localhost:8080/",
          "height": 322
        },
        "outputId": "8854e39b-6b94-4304-9eec-d69c9265dd10"
      },
      "source": [
        "# df의 평균(mean(0))과 표준편차를 이용한 바그래프\n",
        "bar_labels = df.columns\n",
        "# plot bars\n",
        "plt.bar(bar_labels, df.mean(0), yerr=df.std(0), color='rgbcy')\n",
        "plt.show()"
      ],
      "execution_count": 10,
      "outputs": [
        {
          "output_type": "stream",
          "name": "stderr",
          "text": [
            "/usr/local/lib/python3.7/dist-packages/ipykernel_launcher.py:4: MatplotlibDeprecationWarning: Using a string of single character colors as a color sequence is deprecated. Use an explicit list instead.\n",
            "  after removing the cwd from sys.path.\n"
          ]
        },
        {
          "output_type": "display_data",
          "data": {
            "image/png": "[encoded data removed]",
            "text/plain": [
              "<Figure size 432x288 with 1 Axes>"
            ]
          },
          "metadata": {
            "needs_background": "light"
          }
        }
      ]
    },
    {
      "cell_type": "markdown",
      "metadata": {
        "id": "Kf4ixkqVx5uH"
      },
      "source": [
        "***"
      ]
    },
    {
      "cell_type": "markdown",
      "metadata": {
        "id": "4ufrGhr47LKj"
      },
      "source": [
        "## pandas의 데이터 시각화 (Visualization)"
      ]
    },
    {
      "cell_type": "code",
      "metadata": {
        "id": "t4O_8Rnw7UER",
        "colab": {
          "base_uri": "https://localhost:8080/",
          "height": 238
        },
        "outputId": "ede3c3dc-ed76-4ff2-e6e3-7d937f8b0ec8"
      },
      "source": [
        "df"
      ],
      "execution_count": 11,
      "outputs": [
        {
          "output_type": "execute_result",
          "data": {
            "text/html": [
              "<div>\n",
              "<style scoped>\n",
              "    .dataframe tbody tr th:only-of-type {\n",
              "        vertical-align: middle;\n",
              "    }\n",
              "\n",
              "    .dataframe tbody tr th {\n",
              "        vertical-align: top;\n",
              "    }\n",
              "\n",
              "    .dataframe thead th {\n",
              "        text-align: right;\n",
              "    }\n",
              "</style>\n",
              "<table border=\"1\" class=\"dataframe\">\n",
              "  <thead>\n",
              "    <tr style=\"text-align: right;\">\n",
              "      <th></th>\n",
              "      <th>A</th>\n",
              "      <th>B</th>\n",
              "      <th>C</th>\n",
              "      <th>D</th>\n",
              "    </tr>\n",
              "  </thead>\n",
              "  <tbody>\n",
              "    <tr>\n",
              "      <th>2020-09-28</th>\n",
              "      <td>-0.286534</td>\n",
              "      <td>-0.101697</td>\n",
              "      <td>-0.668526</td>\n",
              "      <td>-1.437410</td>\n",
              "    </tr>\n",
              "    <tr>\n",
              "      <th>2020-09-29</th>\n",
              "      <td>0.453624</td>\n",
              "      <td>-0.694386</td>\n",
              "      <td>-1.578708</td>\n",
              "      <td>1.120296</td>\n",
              "    </tr>\n",
              "    <tr>\n",
              "      <th>2020-09-30</th>\n",
              "      <td>0.962005</td>\n",
              "      <td>-0.749326</td>\n",
              "      <td>1.457683</td>\n",
              "      <td>1.267344</td>\n",
              "    </tr>\n",
              "    <tr>\n",
              "      <th>2020-10-01</th>\n",
              "      <td>-2.115309</td>\n",
              "      <td>-0.218869</td>\n",
              "      <td>-1.669591</td>\n",
              "      <td>0.285688</td>\n",
              "    </tr>\n",
              "    <tr>\n",
              "      <th>2020-10-02</th>\n",
              "      <td>-1.128472</td>\n",
              "      <td>1.227488</td>\n",
              "      <td>-1.017653</td>\n",
              "      <td>-0.001104</td>\n",
              "    </tr>\n",
              "    <tr>\n",
              "      <th>2020-10-03</th>\n",
              "      <td>-0.446068</td>\n",
              "      <td>0.130843</td>\n",
              "      <td>1.012403</td>\n",
              "      <td>2.028039</td>\n",
              "    </tr>\n",
              "  </tbody>\n",
              "</table>\n",
              "</div>"
            ],
            "text/plain": [
              "                   A         B         C         D\n",
              "2020-09-28 -0.286534 -0.101697 -0.668526 -1.437410\n",
              "2020-09-29  0.453624 -0.694386 -1.578708  1.120296\n",
              "2020-09-30  0.962005 -0.749326  1.457683  1.267344\n",
              "2020-10-01 -2.115309 -0.218869 -1.669591  0.285688\n",
              "2020-10-02 -1.128472  1.227488 -1.017653 -0.001104\n",
              "2020-10-03 -0.446068  0.130843  1.012403  2.028039"
            ]
          },
          "metadata": {},
          "execution_count": 11
        }
      ]
    },
    {
      "cell_type": "markdown",
      "metadata": {
        "id": "LQw5KvJgH3Lk"
      },
      "source": [
        "### 꺽은선 그래프"
      ]
    },
    {
      "cell_type": "code",
      "metadata": {
        "id": "Twvix2E7EvNm",
        "colab": {
          "base_uri": "https://localhost:8080/",
          "height": 307
        },
        "outputId": "5093fa78-6dd1-4bed-b64c-930f15bb5859"
      },
      "source": [
        "df['A'].plot(marker='o', c='r', ms=8)"
      ],
      "execution_count": 12,
      "outputs": [
        {
          "output_type": "execute_result",
          "data": {
            "text/plain": [
              "<matplotlib.axes._subplots.AxesSubplot at 0x7f410ee828d0>"
            ]
          },
          "metadata": {},
          "execution_count": 12
        },
        {
          "output_type": "display_data",
          "data": {
            "image/png": "[encoded data removed]",
            "text/plain": [
              "<Figure size 432x288 with 1 Axes>"
            ]
          },
          "metadata": {
            "needs_background": "light"
          }
        }
      ]
    },
    {
      "cell_type": "code",
      "metadata": {
        "id": "eYBvunC9E1FP",
        "colab": {
          "base_uri": "https://localhost:8080/",
          "height": 307
        },
        "outputId": "b5682530-0e36-49c2-d0d8-91dbe1e8d1d9"
      },
      "source": [
        "df['C'].plot(marker='D', c='g', ms=8)  # set figsize"
      ],
      "execution_count": 13,
      "outputs": [
        {
          "output_type": "execute_result",
          "data": {
            "text/plain": [
              "<matplotlib.axes._subplots.AxesSubplot at 0x7f410ef201d0>"
            ]
          },
          "metadata": {},
          "execution_count": 13
        },
        {
          "output_type": "display_data",
          "data": {
            "image/png": "[encoded data removed]",
            "text/plain": [
              "<Figure size 432x288 with 1 Axes>"
            ]
          },
          "metadata": {
            "needs_background": "light"
          }
        }
      ]
    },
    {
      "cell_type": "code",
      "metadata": {
        "id": "2Ky8komoHYt6",
        "colab": {
          "base_uri": "https://localhost:8080/",
          "height": 307
        },
        "outputId": "73efa4ea-b06e-4d65-b5ed-f601871a1ebc"
      },
      "source": [
        "df.plot(y='D', marker='*', c='r', ms=12)   # x-축은 날짜인덱스"
      ],
      "execution_count": 14,
      "outputs": [
        {
          "output_type": "execute_result",
          "data": {
            "text/plain": [
              "<matplotlib.axes._subplots.AxesSubplot at 0x7f410eb63fd0>"
            ]
          },
          "metadata": {},
          "execution_count": 14
        },
        {
          "output_type": "display_data",
          "data": {
            "image/png": "[encoded data removed]",
            "text/plain": [
              "<Figure size 432x288 with 1 Axes>"
            ]
          },
          "metadata": {
            "needs_background": "light"
          }
        }
      ]
    },
    {
      "cell_type": "code",
      "metadata": {
        "id": "l1IlNnuUF95d",
        "colab": {
          "base_uri": "https://localhost:8080/",
          "height": 307
        },
        "outputId": "aad1e26d-da5a-4184-dcdf-066095587afa"
      },
      "source": [
        "# 두 개의 그래프를 한 축에 그리기\n",
        "# df['A','D'].plot(marker='o', c='r', ms=8)\n",
        "df[['A','D']].plot(marker='o', color='rg', ms=8)  # works!, change colors"
      ],
      "execution_count": 18,
      "outputs": [
        {
          "output_type": "execute_result",
          "data": {
            "text/plain": [
              "<matplotlib.axes._subplots.AxesSubplot at 0x7f410e678050>"
            ]
          },
          "metadata": {},
          "execution_count": 18
        },
        {
          "output_type": "display_data",
          "data": {
            "image/png": "[encoded data removed]",
            "text/plain": [
              "<Figure size 432x288 with 1 Axes>"
            ]
          },
          "metadata": {
            "needs_background": "light"
          }
        }
      ]
    },
    {
      "cell_type": "code",
      "metadata": {
        "id": "PpO346h9GB5E",
        "colab": {
          "base_uri": "https://localhost:8080/",
          "height": 307
        },
        "outputId": "df5c2059-248f-4624-ea3f-0af1a13acd5d"
      },
      "source": [
        "df.plot(y=['A','C'], marker='*')"
      ],
      "execution_count": 20,
      "outputs": [
        {
          "output_type": "execute_result",
          "data": {
            "text/plain": [
              "<matplotlib.axes._subplots.AxesSubplot at 0x7f410e4f9190>"
            ]
          },
          "metadata": {},
          "execution_count": 20
        },
        {
          "output_type": "display_data",
          "data": {
            "image/png": "[encoded data removed]",
            "text/plain": [
              "<Figure size 432x288 with 1 Axes>"
            ]
          },
          "metadata": {
            "needs_background": "light"
          }
        }
      ]
    },
    {
      "cell_type": "markdown",
      "metadata": {
        "id": "zDd0SXGSQKMR"
      },
      "source": [
        "### 산포도 (Scatter graph)"
      ]
    },
    {
      "cell_type": "code",
      "metadata": {
        "colab": {
          "base_uri": "https://localhost:8080/",
          "height": 238
        },
        "id": "iCqESpA4629-",
        "outputId": "5d38b387-49fb-4de1-8a39-c7a5431e290c"
      },
      "source": [
        "df"
      ],
      "execution_count": 21,
      "outputs": [
        {
          "output_type": "execute_result",
          "data": {
            "text/html": [
              "<div>\n",
              "<style scoped>\n",
              "    .dataframe tbody tr th:only-of-type {\n",
              "        vertical-align: middle;\n",
              "    }\n",
              "\n",
              "    .dataframe tbody tr th {\n",
              "        vertical-align: top;\n",
              "    }\n",
              "\n",
              "    .dataframe thead th {\n",
              "        text-align: right;\n",
              "    }\n",
              "</style>\n",
              "<table border=\"1\" class=\"dataframe\">\n",
              "  <thead>\n",
              "    <tr style=\"text-align: right;\">\n",
              "      <th></th>\n",
              "      <th>A</th>\n",
              "      <th>B</th>\n",
              "      <th>C</th>\n",
              "      <th>D</th>\n",
              "    </tr>\n",
              "  </thead>\n",
              "  <tbody>\n",
              "    <tr>\n",
              "      <th>2020-09-28</th>\n",
              "      <td>-0.286534</td>\n",
              "      <td>-0.101697</td>\n",
              "      <td>-0.668526</td>\n",
              "      <td>-1.437410</td>\n",
              "    </tr>\n",
              "    <tr>\n",
              "      <th>2020-09-29</th>\n",
              "      <td>0.453624</td>\n",
              "      <td>-0.694386</td>\n",
              "      <td>-1.578708</td>\n",
              "      <td>1.120296</td>\n",
              "    </tr>\n",
              "    <tr>\n",
              "      <th>2020-09-30</th>\n",
              "      <td>0.962005</td>\n",
              "      <td>-0.749326</td>\n",
              "      <td>1.457683</td>\n",
              "      <td>1.267344</td>\n",
              "    </tr>\n",
              "    <tr>\n",
              "      <th>2020-10-01</th>\n",
              "      <td>-2.115309</td>\n",
              "      <td>-0.218869</td>\n",
              "      <td>-1.669591</td>\n",
              "      <td>0.285688</td>\n",
              "    </tr>\n",
              "    <tr>\n",
              "      <th>2020-10-02</th>\n",
              "      <td>-1.128472</td>\n",
              "      <td>1.227488</td>\n",
              "      <td>-1.017653</td>\n",
              "      <td>-0.001104</td>\n",
              "    </tr>\n",
              "    <tr>\n",
              "      <th>2020-10-03</th>\n",
              "      <td>-0.446068</td>\n",
              "      <td>0.130843</td>\n",
              "      <td>1.012403</td>\n",
              "      <td>2.028039</td>\n",
              "    </tr>\n",
              "  </tbody>\n",
              "</table>\n",
              "</div>"
            ],
            "text/plain": [
              "                   A         B         C         D\n",
              "2020-09-28 -0.286534 -0.101697 -0.668526 -1.437410\n",
              "2020-09-29  0.453624 -0.694386 -1.578708  1.120296\n",
              "2020-09-30  0.962005 -0.749326  1.457683  1.267344\n",
              "2020-10-01 -2.115309 -0.218869 -1.669591  0.285688\n",
              "2020-10-02 -1.128472  1.227488 -1.017653 -0.001104\n",
              "2020-10-03 -0.446068  0.130843  1.012403  2.028039"
            ]
          },
          "metadata": {},
          "execution_count": 21
        }
      ]
    },
    {
      "cell_type": "code",
      "metadata": {
        "id": "qVXSMlMVQTYN",
        "colab": {
          "base_uri": "https://localhost:8080/",
          "height": 297
        },
        "outputId": "d45fb9e1-f5c3-42e5-d405-de5ceff16f01"
      },
      "source": [
        "df.plot(kind='scatter',x='C',y='A', color='r', marker='o', s=32)  "
      ],
      "execution_count": 22,
      "outputs": [
        {
          "output_type": "execute_result",
          "data": {
            "text/plain": [
              "<matplotlib.axes._subplots.AxesSubplot at 0x7f410e457190>"
            ]
          },
          "metadata": {},
          "execution_count": 22
        },
        {
          "output_type": "display_data",
          "data": {
            "image/png": "[encoded data removed]",
            "text/plain": [
              "<Figure size 432x288 with 1 Axes>"
            ]
          },
          "metadata": {
            "needs_background": "light"
          }
        }
      ]
    },
    {
      "cell_type": "code",
      "metadata": {
        "id": "zLlbFKxERJ9p",
        "colab": {
          "base_uri": "https://localhost:8080/",
          "height": 297
        },
        "outputId": "8cbe7df0-cefd-4545-8f66-2cefa410b603"
      },
      "source": [
        "df.plot(kind='scatter',x='B',y='C', color='blue', marker='d', s=50)  "
      ],
      "execution_count": 23,
      "outputs": [
        {
          "output_type": "execute_result",
          "data": {
            "text/plain": [
              "<matplotlib.axes._subplots.AxesSubplot at 0x7f410e418bd0>"
            ]
          },
          "metadata": {},
          "execution_count": 23
        },
        {
          "output_type": "display_data",
          "data": {
            "image/png": "[encoded data removed]",
            "text/plain": [
              "<Figure size 432x288 with 1 Axes>"
            ]
          },
          "metadata": {
            "needs_background": "light"
          }
        }
      ]
    },
    {
      "cell_type": "markdown",
      "metadata": {
        "id": "sirI2suwH9Yh"
      },
      "source": [
        "### 바 그래프"
      ]
    },
    {
      "cell_type": "code",
      "metadata": {
        "id": "0YVzF5xyGiFc",
        "colab": {
          "base_uri": "https://localhost:8080/",
          "height": 378
        },
        "outputId": "0eef09bc-9771-4de5-a73d-6c765bcdc580"
      },
      "source": [
        "df['A'].plot.bar()"
      ],
      "execution_count": 24,
      "outputs": [
        {
          "output_type": "execute_result",
          "data": {
            "text/plain": [
              "<matplotlib.axes._subplots.AxesSubplot at 0x7f410e3c9510>"
            ]
          },
          "metadata": {},
          "execution_count": 24
        },
        {
          "output_type": "display_data",
          "data": {
            "image/png": "[encoded data removed]",
            "text/plain": [
              "<Figure size 432x288 with 1 Axes>"
            ]
          },
          "metadata": {
            "needs_background": "light"
          }
        }
      ]
    },
    {
      "cell_type": "code",
      "metadata": {
        "id": "OQVX4QH3IWIK",
        "colab": {
          "base_uri": "https://localhost:8080/",
          "height": 378
        },
        "outputId": "10c04164-3dc5-415b-d8aa-95f09850e08c"
      },
      "source": [
        "df['D'].plot.bar()"
      ],
      "execution_count": 25,
      "outputs": [
        {
          "output_type": "execute_result",
          "data": {
            "text/plain": [
              "<matplotlib.axes._subplots.AxesSubplot at 0x7f410ee6c8d0>"
            ]
          },
          "metadata": {},
          "execution_count": 25
        },
        {
          "output_type": "display_data",
          "data": {
            "image/png": "[encoded data removed]",
            "text/plain": [
              "<Figure size 432x288 with 1 Axes>"
            ]
          },
          "metadata": {
            "needs_background": "light"
          }
        }
      ]
    },
    {
      "cell_type": "code",
      "metadata": {
        "id": "pSekXLHMoPr9",
        "colab": {
          "base_uri": "https://localhost:8080/",
          "height": 377
        },
        "outputId": "b89d4836-18fc-4967-8efa-10b3cde747d6"
      },
      "source": [
        "df.plot(kind='bar', y='D', rot=75)"
      ],
      "execution_count": 27,
      "outputs": [
        {
          "output_type": "execute_result",
          "data": {
            "text/plain": [
              "<matplotlib.axes._subplots.AxesSubplot at 0x7f410e297e50>"
            ]
          },
          "metadata": {},
          "execution_count": 27
        },
        {
          "output_type": "display_data",
          "data": {
            "image/png": "[encoded data removed]",
            "text/plain": [
              "<Figure size 432x288 with 1 Axes>"
            ]
          },
          "metadata": {
            "needs_background": "light"
          }
        }
      ]
    },
    {
      "cell_type": "markdown",
      "metadata": {
        "id": "WUEzWDX5JC16"
      },
      "source": [
        "#### 다중 바그래프"
      ]
    },
    {
      "cell_type": "code",
      "metadata": {
        "id": "gcxproHoIMbt",
        "colab": {
          "base_uri": "https://localhost:8080/",
          "height": 378
        },
        "outputId": "bd7aa4bf-a3b5-442e-cc90-c2463e85860a"
      },
      "source": [
        "df.plot(kind='bar',y=['A','C','D'])"
      ],
      "execution_count": 28,
      "outputs": [
        {
          "output_type": "execute_result",
          "data": {
            "text/plain": [
              "<matplotlib.axes._subplots.AxesSubplot at 0x7f410e290050>"
            ]
          },
          "metadata": {},
          "execution_count": 28
        },
        {
          "output_type": "display_data",
          "data": {
            "image/png": "[encoded data removed]",
            "text/plain": [
              "<Figure size 432x288 with 1 Axes>"
            ]
          },
          "metadata": {
            "needs_background": "light"
          }
        }
      ]
    },
    {
      "cell_type": "markdown",
      "metadata": {
        "id": "k1zlpFKBm4jc"
      },
      "source": [
        "#### 평균/표준편차 그래프"
      ]
    },
    {
      "cell_type": "code",
      "metadata": {
        "id": "1kiH3AgYn4hm",
        "colab": {
          "base_uri": "https://localhost:8080/"
        },
        "outputId": "6cac9f30-537c-4567-b0bd-3464d267bb93"
      },
      "source": [
        "df.mean(0), df.std(0), df.columns"
      ],
      "execution_count": 29,
      "outputs": [
        {
          "output_type": "execute_result",
          "data": {
            "text/plain": [
              "(A   -0.426792\n",
              " B   -0.067658\n",
              " C   -0.410732\n",
              " D    0.543809\n",
              " dtype: float64, A    1.101579\n",
              " B    0.720873\n",
              " C    1.334166\n",
              " D    1.212235\n",
              " dtype: float64, Index(['A', 'B', 'C', 'D'], dtype='object'))"
            ]
          },
          "metadata": {},
          "execution_count": 29
        }
      ]
    },
    {
      "cell_type": "code",
      "metadata": {
        "id": "SgMoh5uTIfgk",
        "colab": {
          "base_uri": "https://localhost:8080/",
          "height": 283
        },
        "outputId": "29394e61-e748-4f60-e78c-5283de5fece4"
      },
      "source": [
        "# plot bars\n",
        "# bar_labels = df.columns\n",
        "# plt.bar(bar_labels, df.mean(0), yerr=df.std(0))\n",
        "df.mean(0).plot.bar(yerr=df.std(0), rot=0) "
      ],
      "execution_count": 31,
      "outputs": [
        {
          "output_type": "execute_result",
          "data": {
            "text/plain": [
              "<matplotlib.axes._subplots.AxesSubplot at 0x7f410e144450>"
            ]
          },
          "metadata": {},
          "execution_count": 31
        },
        {
          "output_type": "display_data",
          "data": {
            "image/png": "[encoded data removed]",
            "text/plain": [
              "<Figure size 432x288 with 1 Axes>"
            ]
          },
          "metadata": {
            "needs_background": "light"
          }
        }
      ]
    },
    {
      "cell_type": "markdown",
      "metadata": {
        "id": "IJk__nDpx9MI"
      },
      "source": [
        "\n",
        "\n",
        "---\n",
        "\n"
      ]
    },
    {
      "cell_type": "markdown",
      "metadata": {
        "id": "dmtUkwvkyC-8"
      },
      "source": [
        "### 그래프 이어 그리기"
      ]
    },
    {
      "cell_type": "code",
      "metadata": {
        "id": "zihYMbXbJP0k",
        "colab": {
          "base_uri": "https://localhost:8080/",
          "height": 283
        },
        "outputId": "c7e40be9-8b09-4073-b4b7-6c1966996148"
      },
      "source": [
        "x1 = np.arange(0.0, 5.0, 0.01)\n",
        "y1 = np.sin(2*np.pi*x1)\n",
        "plt.figure(figsize=(10,4))\n",
        "plt.plot(x1, y1, 'o', ms = 4)"
      ],
      "execution_count": 35,
      "outputs": [
        {
          "output_type": "execute_result",
          "data": {
            "text/plain": [
              "[<matplotlib.lines.Line2D at 0x7f410df54c90>]"
            ]
          },
          "metadata": {},
          "execution_count": 35
        },
        {
          "output_type": "display_data",
          "data": {
            "image/png": "[encoded data removed]",
            "text/plain": [
              "<Figure size 720x288 with 1 Axes>"
            ]
          },
          "metadata": {
            "needs_background": "light"
          }
        }
      ]
    },
    {
      "cell_type": "code",
      "metadata": {
        "id": "qTNhXTqZzKlN",
        "colab": {
          "base_uri": "https://localhost:8080/"
        },
        "outputId": "58780d66-5d90-447e-8307-93717faf8310"
      },
      "source": [
        "x1.shape, y1.shape"
      ],
      "execution_count": 36,
      "outputs": [
        {
          "output_type": "execute_result",
          "data": {
            "text/plain": [
              "((500,), (500,))"
            ]
          },
          "metadata": {},
          "execution_count": 36
        }
      ]
    },
    {
      "cell_type": "markdown",
      "metadata": {
        "id": "dmNZ6PNgyrn3"
      },
      "source": [
        "#### pandas 데이터프레임을 이용한 그래프 "
      ]
    },
    {
      "cell_type": "code",
      "metadata": {
        "id": "WpzC6VNNyM_w",
        "colab": {
          "base_uri": "https://localhost:8080/",
          "height": 206
        },
        "outputId": "484b51b0-03cd-4700-e6ed-a3728690c65f"
      },
      "source": [
        "df = pd.DataFrame(dict(sine=y1), index=x1, columns=['sine'])\n",
        "df.head()"
      ],
      "execution_count": 37,
      "outputs": [
        {
          "output_type": "execute_result",
          "data": {
            "text/html": [
              "<div>\n",
              "<style scoped>\n",
              "    .dataframe tbody tr th:only-of-type {\n",
              "        vertical-align: middle;\n",
              "    }\n",
              "\n",
              "    .dataframe tbody tr th {\n",
              "        vertical-align: top;\n",
              "    }\n",
              "\n",
              "    .dataframe thead th {\n",
              "        text-align: right;\n",
              "    }\n",
              "</style>\n",
              "<table border=\"1\" class=\"dataframe\">\n",
              "  <thead>\n",
              "    <tr style=\"text-align: right;\">\n",
              "      <th></th>\n",
              "      <th>sine</th>\n",
              "    </tr>\n",
              "  </thead>\n",
              "  <tbody>\n",
              "    <tr>\n",
              "      <th>0.00</th>\n",
              "      <td>0.000000</td>\n",
              "    </tr>\n",
              "    <tr>\n",
              "      <th>0.01</th>\n",
              "      <td>0.062791</td>\n",
              "    </tr>\n",
              "    <tr>\n",
              "      <th>0.02</th>\n",
              "      <td>0.125333</td>\n",
              "    </tr>\n",
              "    <tr>\n",
              "      <th>0.03</th>\n",
              "      <td>0.187381</td>\n",
              "    </tr>\n",
              "    <tr>\n",
              "      <th>0.04</th>\n",
              "      <td>0.248690</td>\n",
              "    </tr>\n",
              "  </tbody>\n",
              "</table>\n",
              "</div>"
            ],
            "text/plain": [
              "          sine\n",
              "0.00  0.000000\n",
              "0.01  0.062791\n",
              "0.02  0.125333\n",
              "0.03  0.187381\n",
              "0.04  0.248690"
            ]
          },
          "metadata": {},
          "execution_count": 37
        }
      ]
    },
    {
      "cell_type": "code",
      "metadata": {
        "id": "jYGyLlgKz5PQ",
        "colab": {
          "base_uri": "https://localhost:8080/",
          "height": 206
        },
        "outputId": "3f8e04bf-d4bc-43b8-e264-cb11841b34ff"
      },
      "source": [
        "df.tail()"
      ],
      "execution_count": 38,
      "outputs": [
        {
          "output_type": "execute_result",
          "data": {
            "text/html": [
              "<div>\n",
              "<style scoped>\n",
              "    .dataframe tbody tr th:only-of-type {\n",
              "        vertical-align: middle;\n",
              "    }\n",
              "\n",
              "    .dataframe tbody tr th {\n",
              "        vertical-align: top;\n",
              "    }\n",
              "\n",
              "    .dataframe thead th {\n",
              "        text-align: right;\n",
              "    }\n",
              "</style>\n",
              "<table border=\"1\" class=\"dataframe\">\n",
              "  <thead>\n",
              "    <tr style=\"text-align: right;\">\n",
              "      <th></th>\n",
              "      <th>sine</th>\n",
              "    </tr>\n",
              "  </thead>\n",
              "  <tbody>\n",
              "    <tr>\n",
              "      <th>4.95</th>\n",
              "      <td>-0.309017</td>\n",
              "    </tr>\n",
              "    <tr>\n",
              "      <th>4.96</th>\n",
              "      <td>-0.248690</td>\n",
              "    </tr>\n",
              "    <tr>\n",
              "      <th>4.97</th>\n",
              "      <td>-0.187381</td>\n",
              "    </tr>\n",
              "    <tr>\n",
              "      <th>4.98</th>\n",
              "      <td>-0.125333</td>\n",
              "    </tr>\n",
              "    <tr>\n",
              "      <th>4.99</th>\n",
              "      <td>-0.062791</td>\n",
              "    </tr>\n",
              "  </tbody>\n",
              "</table>\n",
              "</div>"
            ],
            "text/plain": [
              "          sine\n",
              "4.95 -0.309017\n",
              "4.96 -0.248690\n",
              "4.97 -0.187381\n",
              "4.98 -0.125333\n",
              "4.99 -0.062791"
            ]
          },
          "metadata": {},
          "execution_count": 38
        }
      ]
    },
    {
      "cell_type": "code",
      "metadata": {
        "colab": {
          "base_uri": "https://localhost:8080/"
        },
        "id": "2Ddqrrag8rS2",
        "outputId": "85ca572f-9335-4dda-bff1-9fbd8cb83f3f"
      },
      "source": [
        "len(df)"
      ],
      "execution_count": 43,
      "outputs": [
        {
          "output_type": "execute_result",
          "data": {
            "text/plain": [
              "500"
            ]
          },
          "metadata": {},
          "execution_count": 43
        }
      ]
    },
    {
      "cell_type": "code",
      "metadata": {
        "id": "B4OFMcqd0AeF",
        "colab": {
          "base_uri": "https://localhost:8080/"
        },
        "outputId": "cd60a6b7-535e-4826-c565-9de238ceb111"
      },
      "source": [
        "pre_size = int(len(df) * 0.8)\n",
        "post_size = len(df) - pre_size\n",
        "pre, post = df.iloc[0:pre_size], df.iloc[pre_size:len(df)]\n",
        "print(len(pre), len(post))"
      ],
      "execution_count": 39,
      "outputs": [
        {
          "output_type": "stream",
          "name": "stdout",
          "text": [
            "400 100\n"
          ]
        }
      ]
    },
    {
      "cell_type": "code",
      "metadata": {
        "id": "CZ_XDFxI2N7E",
        "colab": {
          "base_uri": "https://localhost:8080/"
        },
        "outputId": "b844aae1-bb79-4604-cbe7-f0ac078d1c61"
      },
      "source": [
        "post.shape"
      ],
      "execution_count": 40,
      "outputs": [
        {
          "output_type": "execute_result",
          "data": {
            "text/plain": [
              "(100, 1)"
            ]
          },
          "metadata": {},
          "execution_count": 40
        }
      ]
    },
    {
      "cell_type": "code",
      "metadata": {
        "id": "1tsmjL2s13dn"
      },
      "source": [
        "post2 = post + np.random.normal(scale=0.2, size=len(post)).reshape(-1,1)"
      ],
      "execution_count": 41,
      "outputs": []
    },
    {
      "cell_type": "code",
      "metadata": {
        "id": "yj7rZIK80xWk",
        "colab": {
          "base_uri": "https://localhost:8080/",
          "height": 334
        },
        "outputId": "e67fdcc6-4ea5-4b47-9b73-4acbed769e6b"
      },
      "source": [
        "plt.figure(figsize=(10,5))\n",
        "plt.plot(np.arange(0, len(pre)), pre, 'g', label=\"pre\")\n",
        "plt.plot(np.arange(len(pre), len(pre) + len(post)), post, 'b', marker='.', label=\"post\")\n",
        "plt.plot(np.arange(len(pre), len(pre) + len(post)), post2, 'r', label=\"post2\")\n",
        "plt.ylabel('Value')\n",
        "plt.xlabel('Time Step')\n",
        "plt.legend()\n",
        "plt.show();"
      ],
      "execution_count": 42,
      "outputs": [
        {
          "output_type": "display_data",
          "data": {
            "image/png": "[encoded data removed]",
            "text/plain": [
              "<Figure size 720x360 with 1 Axes>"
            ]
          },
          "metadata": {
            "needs_background": "light"
          }
        }
      ]
    },
    {
      "cell_type": "markdown",
      "metadata": {
        "id": "GuMpCORM3A-2"
      },
      "source": [
        "#### post  post2를 동시에 그려서 두 그래프를 비교해보시오. \n",
        "\n",
        "- subplot 사용"
      ]
    },
    {
      "cell_type": "code",
      "metadata": {
        "id": "HvjeAmyL2WcY"
      },
      "source": [
        "plt.figure(figsize=(10,5))\n"
      ],
      "execution_count": null,
      "outputs": []
    },
    {
      "cell_type": "code",
      "metadata": {
        "id": "60uHxNvo3r9V"
      },
      "source": [
        ""
      ],
      "execution_count": null,
      "outputs": []
    }
  ]
}