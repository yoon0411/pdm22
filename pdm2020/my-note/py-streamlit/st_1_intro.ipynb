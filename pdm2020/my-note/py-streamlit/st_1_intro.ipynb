{
  "nbformat": 4,
  "nbformat_minor": 0,
  "metadata": {
    "colab": {
      "name": "st_1_intro.ipynb",
      "provenance": [],
      "collapsed_sections": [],
      "include_colab_link": true
    },
    "kernelspec": {
      "name": "python3",
      "display_name": "Python 3"
    }
  },
  "cells": [
    {
      "cell_type": "markdown",
      "metadata": {
        "id": "view-in-github",
        "colab_type": "text"
      },
      "source": [
        "<a href=\"https://colab.research.google.com/github/yoon0411/pdm22/blob/main/pdm2020/my-note/py-streamlit/st_1_intro.ipynb\" target=\"_parent\"><img src=\"https://colab.research.google.com/assets/colab-badge.svg\" alt=\"Open In Colab\"/></a>"
      ]
    },
    {
      "cell_type": "markdown",
      "metadata": {
        "id": "O5Gq5ZnKOKpX"
      },
      "source": [
        "\n",
        "\n",
        "# streamlit\n",
        "\n",
        "- WebApp generation module => \n",
        "[streamlit-vs-dash-vs-shiny-vs-voila-vs-flask-vs-jupyter](https://towardsdatascience.com/streamlit-vs-dash-vs-shiny-vs-voila-vs-flask-vs-jupyter-24739ab5d569)\n",
        "- !pip install -q streamlit\n",
        "- !pip install pyngrok\n",
        "\n",
        "- Run webapp in Colab\n",
        "    * make streamlit python code\n",
        "    * !streamlit run *.py &>/dev/null&\n",
        "\n",
        "> [How to run streamlit app in colab?](https://mc.ai/how-to-run-and-share-your-deep-learning-web-app-on-colab-2/)"
      ]
    },
    {
      "cell_type": "code",
      "metadata": {
        "id": "R8l0okryNgBJ"
      },
      "source": [
        "!pip install -q streamlit"
      ],
      "execution_count": null,
      "outputs": []
    },
    {
      "cell_type": "code",
      "metadata": {
        "id": "7kz92O-cUf5v"
      },
      "source": [
        "!pip install pyngrok"
      ],
      "execution_count": null,
      "outputs": []
    },
    {
      "cell_type": "markdown",
      "metadata": {
        "id": "9mVHZe30bbHZ"
      },
      "source": [
        "### st-app-01\n",
        "- text\n",
        "    * text\n",
        "    * header\n",
        "    * subheader\n",
        "- markdown\n",
        "    * heading\n",
        "    * list\n",
        "- latex\n",
        "\n",
        "> [streamlit 기초](https://medium.com/@lucaseo0147/kr-%ED%8C%8C%EC%9D%B4%EC%8D%AC-%EC%9B%B9%EC%96%B4%ED%94%8C%EB%A6%AC%EC%BC%80%EC%9D%B4%EC%85%98-%EB%A7%9B%EB%B3%B4%EA%B8%B0-feat-streamlit-846937a7438d)"
      ]
    },
    {
      "cell_type": "markdown",
      "metadata": {
        "id": "pCTDORsrvGlx"
      },
      "source": [
        "### streamlit code: st_01_start.py\n",
        "```\n",
        "import streamlit as st\n",
        "\n",
        "## Title\n",
        "st.title('Streamlit Tutorial: start')\n",
        "## Header/Subheader\n",
        "st.header('This is header')\n",
        "st.subheader('This is subheader')\n",
        "## Text\n",
        "st.text(\"Hello Streamlit! 이 글은 튜토리얼 입니다.\")\n",
        "\n",
        "# ## Markdown\n",
        "# st.header('Markdown')\n",
        "# st.markdown('# header-1')\n",
        "# st.markdown('## header-2')\n",
        "# st.markdown('###### header-6')\n",
        "\n",
        "# # list\n",
        "# st.header('List')\n",
        "# st.markdown('- list1')\n",
        "# st.markdown('- list2')\n",
        "# st.markdown('- list3\\n'\n",
        "#             '   * inner list1\\n'\n",
        "#             '   * inner list2\\n')\n",
        "\n",
        "# ## Latex\n",
        "# st.header('latex')\n",
        "# st.latex(r\"Y = \\alpha + \\beta X_i\")\n",
        "# ## Latex-inline\n",
        "# st.markdown(r\"회귀분석에서 오차는 다음과 같습니다 $e_i = y_i - \\hat{y}_i$\")\n",
        "# ## Mean squared error\n",
        "# st.subheader(\"Mean squared error\")\n",
        "# st.markdown(r\"$MSE = \\frac{1}{N} \\sum_{i=1}^N (y_i - \\hat{y}_i)^2$\")\n",
        "\n",
        "# ## Message\n",
        "# st.info(\"End of first note: **text, markdown, latex**!\")\n",
        "\n",
        "# ## streamlit messages\n",
        "# st.success(\"Successful\")\n",
        "# st.info(\"Information!\")\n",
        "# st.warning(\"This is a warning\")\n",
        "# st.error(\"This is an error!\")\n",
        "# st.exception(\"NameError('Error name is not defined')\")\n",
        "\n",
        "```"
      ]
    },
    {
      "cell_type": "code",
      "metadata": {
        "id": "Znh9TIehO2DC"
      },
      "source": [
        "!streamlit run st_01_start.py &>/dev/null&"
      ],
      "execution_count": null,
      "outputs": []
    },
    {
      "cell_type": "code",
      "metadata": {
        "id": "qikO_JXpPF70"
      },
      "source": [
        "from pyngrok import ngrok\n",
        "# Setup a tunnel to the streamlit port 8501\n",
        "public_url = ngrok.connect(port='8501')\n",
        "public_url"
      ],
      "execution_count": null,
      "outputs": []
    },
    {
      "cell_type": "markdown",
      "metadata": {
        "id": "_ZJXFvMCwJU2"
      },
      "source": [
        "### streamlit cheat sheet\n",
        "- https://share.streamlit.io/daniellewisdl/streamlit-cheat-sheet/app.py"
      ]
    },
    {
      "cell_type": "code",
      "metadata": {
        "id": "x8FBPDxPwN8S"
      },
      "source": [
        ""
      ],
      "execution_count": null,
      "outputs": []
    }
  ]
}