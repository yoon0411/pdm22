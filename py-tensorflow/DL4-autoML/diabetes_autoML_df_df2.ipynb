{
  "nbformat": 4,
  "nbformat_minor": 0,
  "metadata": {
    "accelerator": "GPU",
    "colab": {
      "name": "diabetes_autoML_df_df2.ipynb",
      "provenance": [],
      "collapsed_sections": [],
      "include_colab_link": true
    },
    "interpreter": {
      "hash": "3834ce636a3ba6c6c2bd8b9b527c48eede78c367f849f6cce666ea7f1d26e2fb"
    },
    "kernelspec": {
      "display_name": "Python 3.8.5 64-bit ('base': conda)",
      "name": "python3"
    },
    "language_info": {
      "codemirror_mode": {
        "name": "ipython",
        "version": 3
      },
      "file_extension": ".py",
      "mimetype": "text/x-python",
      "name": "python",
      "nbconvert_exporter": "python",
      "pygments_lexer": "ipython3",
      "version": "3.8.5"
    },
    "widgets": {
      "application/vnd.jupyter.widget-state+json": {
        "5865de4a7c3d45d4a22eea55aedabb58": {
          "model_module": "@jupyter-widgets/controls",
          "model_name": "IntProgressModel",
          "model_module_version": "1.5.0",
          "state": {
            "_view_name": "ProgressView",
            "style": "IPY_MODEL_d762374454044048b3728f2002676cab",
            "_dom_classes": [],
            "description": "Processing: ",
            "_model_name": "IntProgressModel",
            "bar_style": "",
            "max": 3,
            "_view_module": "@jupyter-widgets/controls",
            "_model_module_version": "1.5.0",
            "value": 3,
            "_view_count": null,
            "_view_module_version": "1.5.0",
            "orientation": "horizontal",
            "min": 0,
            "description_tooltip": null,
            "_model_module": "@jupyter-widgets/controls",
            "layout": "IPY_MODEL_e65a89d1dd444f10b60f5370e445aad3"
          }
        },
        "d762374454044048b3728f2002676cab": {
          "model_module": "@jupyter-widgets/controls",
          "model_name": "ProgressStyleModel",
          "model_module_version": "1.5.0",
          "state": {
            "_view_name": "StyleView",
            "_model_name": "ProgressStyleModel",
            "description_width": "",
            "_view_module": "@jupyter-widgets/base",
            "_model_module_version": "1.5.0",
            "_view_count": null,
            "_view_module_version": "1.2.0",
            "bar_color": null,
            "_model_module": "@jupyter-widgets/controls"
          }
        },
        "e65a89d1dd444f10b60f5370e445aad3": {
          "model_module": "@jupyter-widgets/base",
          "model_name": "LayoutModel",
          "model_module_version": "1.2.0",
          "state": {
            "_view_name": "LayoutView",
            "grid_template_rows": null,
            "right": null,
            "justify_content": null,
            "_view_module": "@jupyter-widgets/base",
            "overflow": null,
            "_model_module_version": "1.2.0",
            "_view_count": null,
            "flex_flow": null,
            "width": null,
            "min_width": null,
            "border": null,
            "align_items": null,
            "bottom": null,
            "_model_module": "@jupyter-widgets/base",
            "top": null,
            "grid_column": null,
            "overflow_y": null,
            "overflow_x": null,
            "grid_auto_flow": null,
            "grid_area": null,
            "grid_template_columns": null,
            "flex": null,
            "_model_name": "LayoutModel",
            "justify_items": null,
            "grid_row": null,
            "max_height": null,
            "align_content": null,
            "visibility": null,
            "align_self": null,
            "height": null,
            "min_height": null,
            "padding": null,
            "grid_auto_rows": null,
            "grid_gap": null,
            "max_width": null,
            "order": null,
            "_view_module_version": "1.2.0",
            "grid_template_areas": null,
            "object_position": null,
            "object_fit": null,
            "grid_auto_columns": null,
            "margin": null,
            "display": null,
            "left": null
          }
        },
        "8e010f9e57644e0f84b97be10ab7358a": {
          "model_module": "@jupyter-widgets/controls",
          "model_name": "IntProgressModel",
          "model_module_version": "1.5.0",
          "state": {
            "_view_name": "ProgressView",
            "style": "IPY_MODEL_556ea071eb8b4ab688dccba730cb9b7d",
            "_dom_classes": [],
            "description": "Processing: ",
            "_model_name": "IntProgressModel",
            "bar_style": "",
            "max": 74,
            "_view_module": "@jupyter-widgets/controls",
            "_model_module_version": "1.5.0",
            "value": 74,
            "_view_count": null,
            "_view_module_version": "1.5.0",
            "orientation": "horizontal",
            "min": 0,
            "description_tooltip": null,
            "_model_module": "@jupyter-widgets/controls",
            "layout": "IPY_MODEL_b9a664eefdaa4a878e653a0e2a357bb8"
          }
        },
        "556ea071eb8b4ab688dccba730cb9b7d": {
          "model_module": "@jupyter-widgets/controls",
          "model_name": "ProgressStyleModel",
          "model_module_version": "1.5.0",
          "state": {
            "_view_name": "StyleView",
            "_model_name": "ProgressStyleModel",
            "description_width": "",
            "_view_module": "@jupyter-widgets/base",
            "_model_module_version": "1.5.0",
            "_view_count": null,
            "_view_module_version": "1.2.0",
            "bar_color": null,
            "_model_module": "@jupyter-widgets/controls"
          }
        },
        "b9a664eefdaa4a878e653a0e2a357bb8": {
          "model_module": "@jupyter-widgets/base",
          "model_name": "LayoutModel",
          "model_module_version": "1.2.0",
          "state": {
            "_view_name": "LayoutView",
            "grid_template_rows": null,
            "right": null,
            "justify_content": null,
            "_view_module": "@jupyter-widgets/base",
            "overflow": null,
            "_model_module_version": "1.2.0",
            "_view_count": null,
            "flex_flow": null,
            "width": null,
            "min_width": null,
            "border": null,
            "align_items": null,
            "bottom": null,
            "_model_module": "@jupyter-widgets/base",
            "top": null,
            "grid_column": null,
            "overflow_y": null,
            "overflow_x": null,
            "grid_auto_flow": null,
            "grid_area": null,
            "grid_template_columns": null,
            "flex": null,
            "_model_name": "LayoutModel",
            "justify_items": null,
            "grid_row": null,
            "max_height": null,
            "align_content": null,
            "visibility": null,
            "align_self": null,
            "height": null,
            "min_height": null,
            "padding": null,
            "grid_auto_rows": null,
            "grid_gap": null,
            "max_width": null,
            "order": null,
            "_view_module_version": "1.2.0",
            "grid_template_areas": null,
            "object_position": null,
            "object_fit": null,
            "grid_auto_columns": null,
            "margin": null,
            "display": null,
            "left": null
          }
        },
        "b3017efea70f487fb5086796d4ebef9e": {
          "model_module": "@jupyter-widgets/controls",
          "model_name": "IntProgressModel",
          "model_module_version": "1.5.0",
          "state": {
            "_view_name": "ProgressView",
            "style": "IPY_MODEL_d0aac012297642908ec005625d906181",
            "_dom_classes": [],
            "description": "Processing: ",
            "_model_name": "IntProgressModel",
            "bar_style": "",
            "max": 4,
            "_view_module": "@jupyter-widgets/controls",
            "_model_module_version": "1.5.0",
            "value": 4,
            "_view_count": null,
            "_view_module_version": "1.5.0",
            "orientation": "horizontal",
            "min": 0,
            "description_tooltip": null,
            "_model_module": "@jupyter-widgets/controls",
            "layout": "IPY_MODEL_e439cae19e4248d6b7a9db393c773b1b"
          }
        },
        "d0aac012297642908ec005625d906181": {
          "model_module": "@jupyter-widgets/controls",
          "model_name": "ProgressStyleModel",
          "model_module_version": "1.5.0",
          "state": {
            "_view_name": "StyleView",
            "_model_name": "ProgressStyleModel",
            "description_width": "",
            "_view_module": "@jupyter-widgets/base",
            "_model_module_version": "1.5.0",
            "_view_count": null,
            "_view_module_version": "1.2.0",
            "bar_color": null,
            "_model_module": "@jupyter-widgets/controls"
          }
        },
        "e439cae19e4248d6b7a9db393c773b1b": {
          "model_module": "@jupyter-widgets/base",
          "model_name": "LayoutModel",
          "model_module_version": "1.2.0",
          "state": {
            "_view_name": "LayoutView",
            "grid_template_rows": null,
            "right": null,
            "justify_content": null,
            "_view_module": "@jupyter-widgets/base",
            "overflow": null,
            "_model_module_version": "1.2.0",
            "_view_count": null,
            "flex_flow": null,
            "width": null,
            "min_width": null,
            "border": null,
            "align_items": null,
            "bottom": null,
            "_model_module": "@jupyter-widgets/base",
            "top": null,
            "grid_column": null,
            "overflow_y": null,
            "overflow_x": null,
            "grid_auto_flow": null,
            "grid_area": null,
            "grid_template_columns": null,
            "flex": null,
            "_model_name": "LayoutModel",
            "justify_items": null,
            "grid_row": null,
            "max_height": null,
            "align_content": null,
            "visibility": null,
            "align_self": null,
            "height": null,
            "min_height": null,
            "padding": null,
            "grid_auto_rows": null,
            "grid_gap": null,
            "max_width": null,
            "order": null,
            "_view_module_version": "1.2.0",
            "grid_template_areas": null,
            "object_position": null,
            "object_fit": null,
            "grid_auto_columns": null,
            "margin": null,
            "display": null,
            "left": null
          }
        },
        "d1e9a6dae33c427b906cea0a5d818041": {
          "model_module": "@jupyter-widgets/controls",
          "model_name": "IntProgressModel",
          "model_module_version": "1.5.0",
          "state": {
            "_view_name": "ProgressView",
            "style": "IPY_MODEL_a9197afb5e0d430ba379e11789b8792b",
            "_dom_classes": [],
            "description": "Processing: ",
            "_model_name": "IntProgressModel",
            "bar_style": "",
            "max": 5,
            "_view_module": "@jupyter-widgets/controls",
            "_model_module_version": "1.5.0",
            "value": 5,
            "_view_count": null,
            "_view_module_version": "1.5.0",
            "orientation": "horizontal",
            "min": 0,
            "description_tooltip": null,
            "_model_module": "@jupyter-widgets/controls",
            "layout": "IPY_MODEL_27dddc504ac34b92ae34ae7d101ac652"
          }
        },
        "a9197afb5e0d430ba379e11789b8792b": {
          "model_module": "@jupyter-widgets/controls",
          "model_name": "ProgressStyleModel",
          "model_module_version": "1.5.0",
          "state": {
            "_view_name": "StyleView",
            "_model_name": "ProgressStyleModel",
            "description_width": "",
            "_view_module": "@jupyter-widgets/base",
            "_model_module_version": "1.5.0",
            "_view_count": null,
            "_view_module_version": "1.2.0",
            "bar_color": null,
            "_model_module": "@jupyter-widgets/controls"
          }
        },
        "27dddc504ac34b92ae34ae7d101ac652": {
          "model_module": "@jupyter-widgets/base",
          "model_name": "LayoutModel",
          "model_module_version": "1.2.0",
          "state": {
            "_view_name": "LayoutView",
            "grid_template_rows": null,
            "right": null,
            "justify_content": null,
            "_view_module": "@jupyter-widgets/base",
            "overflow": null,
            "_model_module_version": "1.2.0",
            "_view_count": null,
            "flex_flow": null,
            "width": null,
            "min_width": null,
            "border": null,
            "align_items": null,
            "bottom": null,
            "_model_module": "@jupyter-widgets/base",
            "top": null,
            "grid_column": null,
            "overflow_y": null,
            "overflow_x": null,
            "grid_auto_flow": null,
            "grid_area": null,
            "grid_template_columns": null,
            "flex": null,
            "_model_name": "LayoutModel",
            "justify_items": null,
            "grid_row": null,
            "max_height": null,
            "align_content": null,
            "visibility": null,
            "align_self": null,
            "height": null,
            "min_height": null,
            "padding": null,
            "grid_auto_rows": null,
            "grid_gap": null,
            "max_width": null,
            "order": null,
            "_view_module_version": "1.2.0",
            "grid_template_areas": null,
            "object_position": null,
            "object_fit": null,
            "grid_auto_columns": null,
            "margin": null,
            "display": null,
            "left": null
          }
        },
        "cb4619117e2a439db0e2f9545040bf2b": {
          "model_module": "@jupyter-widgets/controls",
          "model_name": "IntProgressModel",
          "model_module_version": "1.5.0",
          "state": {
            "_view_name": "ProgressView",
            "style": "IPY_MODEL_74f4e40bbcd0412cb217631f526df259",
            "_dom_classes": [],
            "description": "Processing: ",
            "_model_name": "IntProgressModel",
            "bar_style": "",
            "max": 5,
            "_view_module": "@jupyter-widgets/controls",
            "_model_module_version": "1.5.0",
            "value": 5,
            "_view_count": null,
            "_view_module_version": "1.5.0",
            "orientation": "horizontal",
            "min": 0,
            "description_tooltip": null,
            "_model_module": "@jupyter-widgets/controls",
            "layout": "IPY_MODEL_462457fc358f40ada79750b9f68aba1c"
          }
        },
        "74f4e40bbcd0412cb217631f526df259": {
          "model_module": "@jupyter-widgets/controls",
          "model_name": "ProgressStyleModel",
          "model_module_version": "1.5.0",
          "state": {
            "_view_name": "StyleView",
            "_model_name": "ProgressStyleModel",
            "description_width": "",
            "_view_module": "@jupyter-widgets/base",
            "_model_module_version": "1.5.0",
            "_view_count": null,
            "_view_module_version": "1.2.0",
            "bar_color": null,
            "_model_module": "@jupyter-widgets/controls"
          }
        },
        "462457fc358f40ada79750b9f68aba1c": {
          "model_module": "@jupyter-widgets/base",
          "model_name": "LayoutModel",
          "model_module_version": "1.2.0",
          "state": {
            "_view_name": "LayoutView",
            "grid_template_rows": null,
            "right": null,
            "justify_content": null,
            "_view_module": "@jupyter-widgets/base",
            "overflow": null,
            "_model_module_version": "1.2.0",
            "_view_count": null,
            "flex_flow": null,
            "width": null,
            "min_width": null,
            "border": null,
            "align_items": null,
            "bottom": null,
            "_model_module": "@jupyter-widgets/base",
            "top": null,
            "grid_column": null,
            "overflow_y": null,
            "overflow_x": null,
            "grid_auto_flow": null,
            "grid_area": null,
            "grid_template_columns": null,
            "flex": null,
            "_model_name": "LayoutModel",
            "justify_items": null,
            "grid_row": null,
            "max_height": null,
            "align_content": null,
            "visibility": null,
            "align_self": null,
            "height": null,
            "min_height": null,
            "padding": null,
            "grid_auto_rows": null,
            "grid_gap": null,
            "max_width": null,
            "order": null,
            "_view_module_version": "1.2.0",
            "grid_template_areas": null,
            "object_position": null,
            "object_fit": null,
            "grid_auto_columns": null,
            "margin": null,
            "display": null,
            "left": null
          }
        },
        "bf806e6f84634c468e2a186401b107d3": {
          "model_module": "@jupyter-widgets/controls",
          "model_name": "IntProgressModel",
          "model_module_version": "1.5.0",
          "state": {
            "_view_name": "ProgressView",
            "style": "IPY_MODEL_05e97f7f7ae948a18763525676c2aaf5",
            "_dom_classes": [],
            "description": "Processing: ",
            "_model_name": "IntProgressModel",
            "bar_style": "",
            "max": 5,
            "_view_module": "@jupyter-widgets/controls",
            "_model_module_version": "1.5.0",
            "value": 5,
            "_view_count": null,
            "_view_module_version": "1.5.0",
            "orientation": "horizontal",
            "min": 0,
            "description_tooltip": null,
            "_model_module": "@jupyter-widgets/controls",
            "layout": "IPY_MODEL_35aa4494c4df49f18cadf8e997dc7e24"
          }
        },
        "05e97f7f7ae948a18763525676c2aaf5": {
          "model_module": "@jupyter-widgets/controls",
          "model_name": "ProgressStyleModel",
          "model_module_version": "1.5.0",
          "state": {
            "_view_name": "StyleView",
            "_model_name": "ProgressStyleModel",
            "description_width": "",
            "_view_module": "@jupyter-widgets/base",
            "_model_module_version": "1.5.0",
            "_view_count": null,
            "_view_module_version": "1.2.0",
            "bar_color": null,
            "_model_module": "@jupyter-widgets/controls"
          }
        },
        "35aa4494c4df49f18cadf8e997dc7e24": {
          "model_module": "@jupyter-widgets/base",
          "model_name": "LayoutModel",
          "model_module_version": "1.2.0",
          "state": {
            "_view_name": "LayoutView",
            "grid_template_rows": null,
            "right": null,
            "justify_content": null,
            "_view_module": "@jupyter-widgets/base",
            "overflow": null,
            "_model_module_version": "1.2.0",
            "_view_count": null,
            "flex_flow": null,
            "width": null,
            "min_width": null,
            "border": null,
            "align_items": null,
            "bottom": null,
            "_model_module": "@jupyter-widgets/base",
            "top": null,
            "grid_column": null,
            "overflow_y": null,
            "overflow_x": null,
            "grid_auto_flow": null,
            "grid_area": null,
            "grid_template_columns": null,
            "flex": null,
            "_model_name": "LayoutModel",
            "justify_items": null,
            "grid_row": null,
            "max_height": null,
            "align_content": null,
            "visibility": null,
            "align_self": null,
            "height": null,
            "min_height": null,
            "padding": null,
            "grid_auto_rows": null,
            "grid_gap": null,
            "max_width": null,
            "order": null,
            "_view_module_version": "1.2.0",
            "grid_template_areas": null,
            "object_position": null,
            "object_fit": null,
            "grid_auto_columns": null,
            "margin": null,
            "display": null,
            "left": null
          }
        },
        "059a481666974eb08c534ec0d1ffd52a": {
          "model_module": "@jupyter-widgets/controls",
          "model_name": "VBoxModel",
          "model_module_version": "1.5.0",
          "state": {
            "_view_name": "VBoxView",
            "_dom_classes": [
              "widget-interact"
            ],
            "_model_name": "VBoxModel",
            "_view_module": "@jupyter-widgets/controls",
            "_model_module_version": "1.5.0",
            "_view_count": null,
            "_view_module_version": "1.5.0",
            "box_style": "",
            "layout": "IPY_MODEL_daac0d0b94664bcd8bd94458a8f80eec",
            "_model_module": "@jupyter-widgets/controls",
            "children": [
              "IPY_MODEL_697ead07a9c049c0b9fdbf9828ea4a6f",
              "IPY_MODEL_b5205592c11c4c10a122f0ffd742d8f2"
            ]
          }
        },
        "daac0d0b94664bcd8bd94458a8f80eec": {
          "model_module": "@jupyter-widgets/base",
          "model_name": "LayoutModel",
          "model_module_version": "1.2.0",
          "state": {
            "_view_name": "LayoutView",
            "grid_template_rows": null,
            "right": null,
            "justify_content": null,
            "_view_module": "@jupyter-widgets/base",
            "overflow": null,
            "_model_module_version": "1.2.0",
            "_view_count": null,
            "flex_flow": null,
            "width": null,
            "min_width": null,
            "border": null,
            "align_items": null,
            "bottom": null,
            "_model_module": "@jupyter-widgets/base",
            "top": null,
            "grid_column": null,
            "overflow_y": null,
            "overflow_x": null,
            "grid_auto_flow": null,
            "grid_area": null,
            "grid_template_columns": null,
            "flex": null,
            "_model_name": "LayoutModel",
            "justify_items": null,
            "grid_row": null,
            "max_height": null,
            "align_content": null,
            "visibility": null,
            "align_self": null,
            "height": null,
            "min_height": null,
            "padding": null,
            "grid_auto_rows": null,
            "grid_gap": null,
            "max_width": null,
            "order": null,
            "_view_module_version": "1.2.0",
            "grid_template_areas": null,
            "object_position": null,
            "object_fit": null,
            "grid_auto_columns": null,
            "margin": null,
            "display": null,
            "left": null
          }
        },
        "697ead07a9c049c0b9fdbf9828ea4a6f": {
          "model_module": "@jupyter-widgets/controls",
          "model_name": "ToggleButtonsModel",
          "model_module_version": "1.5.0",
          "state": {
            "_options_labels": [
              "Hyperparameters",
              "AUC",
              "Confusion Matrix",
              "Threshold",
              "Precision Recall",
              "Prediction Error",
              "Class Report",
              "Feature Selection",
              "Learning Curve",
              "Manifold Learning",
              "Calibration Curve",
              "Validation Curve",
              "Dimensions",
              "Feature Importance",
              "Feature Importance (All)",
              "Decision Boundary",
              "Lift Chart",
              "Gain Chart",
              "Decision Tree",
              "KS Statistic Plot"
            ],
            "_view_name": "ToggleButtonsView",
            "style": "IPY_MODEL_825f8ac1a02e4043ad691dd4fc664c69",
            "_dom_classes": [],
            "description": "Plot Type:",
            "_model_name": "ToggleButtonsModel",
            "tooltips": [],
            "index": 2,
            "button_style": "",
            "_view_module": "@jupyter-widgets/controls",
            "_model_module_version": "1.5.0",
            "_view_count": null,
            "disabled": false,
            "_view_module_version": "1.5.0",
            "icons": [
              ""
            ],
            "description_tooltip": null,
            "_model_module": "@jupyter-widgets/controls",
            "layout": "IPY_MODEL_b9a8318675204a8f87478b5a95feac81"
          }
        },
        "b5205592c11c4c10a122f0ffd742d8f2": {
          "model_module": "@jupyter-widgets/output",
          "model_name": "OutputModel",
          "model_module_version": "1.0.0",
          "state": {
            "_view_name": "OutputView",
            "msg_id": "",
            "_dom_classes": [],
            "_model_name": "OutputModel",
            "outputs": [
              {
                "output_type": "display_data",
                "data": {
                  "image/png": "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\n",
                  "text/plain": "<Figure size 576x396 with 1 Axes>"
                },
                "metadata": {}
              }
            ],
            "_view_module": "@jupyter-widgets/output",
            "_model_module_version": "1.0.0",
            "_view_count": null,
            "_view_module_version": "1.0.0",
            "layout": "IPY_MODEL_b8de577ddb664b7b855685e67bb40ac5",
            "_model_module": "@jupyter-widgets/output"
          }
        },
        "825f8ac1a02e4043ad691dd4fc664c69": {
          "model_module": "@jupyter-widgets/controls",
          "model_name": "ToggleButtonsStyleModel",
          "model_module_version": "1.5.0",
          "state": {
            "_view_name": "StyleView",
            "button_width": "",
            "_model_name": "ToggleButtonsStyleModel",
            "description_width": "",
            "_view_module": "@jupyter-widgets/base",
            "_model_module_version": "1.5.0",
            "_view_count": null,
            "font_weight": "",
            "_view_module_version": "1.2.0",
            "_model_module": "@jupyter-widgets/controls"
          }
        },
        "b9a8318675204a8f87478b5a95feac81": {
          "model_module": "@jupyter-widgets/base",
          "model_name": "LayoutModel",
          "model_module_version": "1.2.0",
          "state": {
            "_view_name": "LayoutView",
            "grid_template_rows": null,
            "right": null,
            "justify_content": null,
            "_view_module": "@jupyter-widgets/base",
            "overflow": null,
            "_model_module_version": "1.2.0",
            "_view_count": null,
            "flex_flow": null,
            "width": null,
            "min_width": null,
            "border": null,
            "align_items": null,
            "bottom": null,
            "_model_module": "@jupyter-widgets/base",
            "top": null,
            "grid_column": null,
            "overflow_y": null,
            "overflow_x": null,
            "grid_auto_flow": null,
            "grid_area": null,
            "grid_template_columns": null,
            "flex": null,
            "_model_name": "LayoutModel",
            "justify_items": null,
            "grid_row": null,
            "max_height": null,
            "align_content": null,
            "visibility": null,
            "align_self": null,
            "height": null,
            "min_height": null,
            "padding": null,
            "grid_auto_rows": null,
            "grid_gap": null,
            "max_width": null,
            "order": null,
            "_view_module_version": "1.2.0",
            "grid_template_areas": null,
            "object_position": null,
            "object_fit": null,
            "grid_auto_columns": null,
            "margin": null,
            "display": null,
            "left": null
          }
        },
        "b8de577ddb664b7b855685e67bb40ac5": {
          "model_module": "@jupyter-widgets/base",
          "model_name": "LayoutModel",
          "model_module_version": "1.2.0",
          "state": {
            "_view_name": "LayoutView",
            "grid_template_rows": null,
            "right": null,
            "justify_content": null,
            "_view_module": "@jupyter-widgets/base",
            "overflow": null,
            "_model_module_version": "1.2.0",
            "_view_count": null,
            "flex_flow": null,
            "width": null,
            "min_width": null,
            "border": null,
            "align_items": null,
            "bottom": null,
            "_model_module": "@jupyter-widgets/base",
            "top": null,
            "grid_column": null,
            "overflow_y": null,
            "overflow_x": null,
            "grid_auto_flow": null,
            "grid_area": null,
            "grid_template_columns": null,
            "flex": null,
            "_model_name": "LayoutModel",
            "justify_items": null,
            "grid_row": null,
            "max_height": null,
            "align_content": null,
            "visibility": null,
            "align_self": null,
            "height": null,
            "min_height": null,
            "padding": null,
            "grid_auto_rows": null,
            "grid_gap": null,
            "max_width": null,
            "order": null,
            "_view_module_version": "1.2.0",
            "grid_template_areas": null,
            "object_position": null,
            "object_fit": null,
            "grid_auto_columns": null,
            "margin": null,
            "display": null,
            "left": null
          }
        },
        "db325ca9b52346ee95b802fc89c22e3e": {
          "model_module": "@jupyter-widgets/controls",
          "model_name": "IntProgressModel",
          "model_module_version": "1.5.0",
          "state": {
            "_view_name": "ProgressView",
            "style": "IPY_MODEL_3fa85badc5c14a28b06fbe78e2470623",
            "_dom_classes": [],
            "description": "Processing: ",
            "_model_name": "IntProgressModel",
            "bar_style": "",
            "max": 5,
            "_view_module": "@jupyter-widgets/controls",
            "_model_module_version": "1.5.0",
            "value": 3,
            "_view_count": null,
            "_view_module_version": "1.5.0",
            "orientation": "horizontal",
            "min": 0,
            "description_tooltip": null,
            "_model_module": "@jupyter-widgets/controls",
            "layout": "IPY_MODEL_ff1deff4d66044b5b9b99f7799606ef1"
          }
        },
        "3fa85badc5c14a28b06fbe78e2470623": {
          "model_module": "@jupyter-widgets/controls",
          "model_name": "ProgressStyleModel",
          "model_module_version": "1.5.0",
          "state": {
            "_view_name": "StyleView",
            "_model_name": "ProgressStyleModel",
            "description_width": "",
            "_view_module": "@jupyter-widgets/base",
            "_model_module_version": "1.5.0",
            "_view_count": null,
            "_view_module_version": "1.2.0",
            "bar_color": null,
            "_model_module": "@jupyter-widgets/controls"
          }
        },
        "ff1deff4d66044b5b9b99f7799606ef1": {
          "model_module": "@jupyter-widgets/base",
          "model_name": "LayoutModel",
          "model_module_version": "1.2.0",
          "state": {
            "_view_name": "LayoutView",
            "grid_template_rows": null,
            "right": null,
            "justify_content": null,
            "_view_module": "@jupyter-widgets/base",
            "overflow": null,
            "_model_module_version": "1.2.0",
            "_view_count": null,
            "flex_flow": null,
            "width": null,
            "min_width": null,
            "border": null,
            "align_items": null,
            "bottom": null,
            "_model_module": "@jupyter-widgets/base",
            "top": null,
            "grid_column": null,
            "overflow_y": null,
            "overflow_x": null,
            "grid_auto_flow": null,
            "grid_area": null,
            "grid_template_columns": null,
            "flex": null,
            "_model_name": "LayoutModel",
            "justify_items": null,
            "grid_row": null,
            "max_height": null,
            "align_content": null,
            "visibility": null,
            "align_self": null,
            "height": null,
            "min_height": null,
            "padding": null,
            "grid_auto_rows": null,
            "grid_gap": null,
            "max_width": null,
            "order": null,
            "_view_module_version": "1.2.0",
            "grid_template_areas": null,
            "object_position": null,
            "object_fit": null,
            "grid_auto_columns": null,
            "margin": null,
            "display": null,
            "left": null
          }
        },
        "0a5aa0f94e3c453db347e48a65d44b14": {
          "model_module": "@jupyter-widgets/controls",
          "model_name": "IntProgressModel",
          "model_module_version": "1.5.0",
          "state": {
            "_view_name": "ProgressView",
            "style": "IPY_MODEL_3b7b79c7f5e149b6bbcc76d4af153472",
            "_dom_classes": [],
            "description": "Processing: ",
            "_model_name": "IntProgressModel",
            "bar_style": "",
            "max": 5,
            "_view_module": "@jupyter-widgets/controls",
            "_model_module_version": "1.5.0",
            "value": 5,
            "_view_count": null,
            "_view_module_version": "1.5.0",
            "orientation": "horizontal",
            "min": 0,
            "description_tooltip": null,
            "_model_module": "@jupyter-widgets/controls",
            "layout": "IPY_MODEL_0b9b1dabc95b4e6eb074be5c01d6baab"
          }
        },
        "3b7b79c7f5e149b6bbcc76d4af153472": {
          "model_module": "@jupyter-widgets/controls",
          "model_name": "ProgressStyleModel",
          "model_module_version": "1.5.0",
          "state": {
            "_view_name": "StyleView",
            "_model_name": "ProgressStyleModel",
            "description_width": "",
            "_view_module": "@jupyter-widgets/base",
            "_model_module_version": "1.5.0",
            "_view_count": null,
            "_view_module_version": "1.2.0",
            "bar_color": null,
            "_model_module": "@jupyter-widgets/controls"
          }
        },
        "0b9b1dabc95b4e6eb074be5c01d6baab": {
          "model_module": "@jupyter-widgets/base",
          "model_name": "LayoutModel",
          "model_module_version": "1.2.0",
          "state": {
            "_view_name": "LayoutView",
            "grid_template_rows": null,
            "right": null,
            "justify_content": null,
            "_view_module": "@jupyter-widgets/base",
            "overflow": null,
            "_model_module_version": "1.2.0",
            "_view_count": null,
            "flex_flow": null,
            "width": null,
            "min_width": null,
            "border": null,
            "align_items": null,
            "bottom": null,
            "_model_module": "@jupyter-widgets/base",
            "top": null,
            "grid_column": null,
            "overflow_y": null,
            "overflow_x": null,
            "grid_auto_flow": null,
            "grid_area": null,
            "grid_template_columns": null,
            "flex": null,
            "_model_name": "LayoutModel",
            "justify_items": null,
            "grid_row": null,
            "max_height": null,
            "align_content": null,
            "visibility": null,
            "align_self": null,
            "height": null,
            "min_height": null,
            "padding": null,
            "grid_auto_rows": null,
            "grid_gap": null,
            "max_width": null,
            "order": null,
            "_view_module_version": "1.2.0",
            "grid_template_areas": null,
            "object_position": null,
            "object_fit": null,
            "grid_auto_columns": null,
            "margin": null,
            "display": null,
            "left": null
          }
        },
        "083c5e96a1e5431f98509d615c5943c9": {
          "model_module": "@jupyter-widgets/controls",
          "model_name": "IntProgressModel",
          "model_module_version": "1.5.0",
          "state": {
            "_view_name": "ProgressView",
            "style": "IPY_MODEL_91c2bf11444c48bdad0329a6c1567c98",
            "_dom_classes": [],
            "description": "Processing: ",
            "_model_name": "IntProgressModel",
            "bar_style": "",
            "max": 5,
            "_view_module": "@jupyter-widgets/controls",
            "_model_module_version": "1.5.0",
            "value": 5,
            "_view_count": null,
            "_view_module_version": "1.5.0",
            "orientation": "horizontal",
            "min": 0,
            "description_tooltip": null,
            "_model_module": "@jupyter-widgets/controls",
            "layout": "IPY_MODEL_f8a7e02f554e436ab11c32338e996a54"
          }
        },
        "91c2bf11444c48bdad0329a6c1567c98": {
          "model_module": "@jupyter-widgets/controls",
          "model_name": "ProgressStyleModel",
          "model_module_version": "1.5.0",
          "state": {
            "_view_name": "StyleView",
            "_model_name": "ProgressStyleModel",
            "description_width": "",
            "_view_module": "@jupyter-widgets/base",
            "_model_module_version": "1.5.0",
            "_view_count": null,
            "_view_module_version": "1.2.0",
            "bar_color": null,
            "_model_module": "@jupyter-widgets/controls"
          }
        },
        "f8a7e02f554e436ab11c32338e996a54": {
          "model_module": "@jupyter-widgets/base",
          "model_name": "LayoutModel",
          "model_module_version": "1.2.0",
          "state": {
            "_view_name": "LayoutView",
            "grid_template_rows": null,
            "right": null,
            "justify_content": null,
            "_view_module": "@jupyter-widgets/base",
            "overflow": null,
            "_model_module_version": "1.2.0",
            "_view_count": null,
            "flex_flow": null,
            "width": null,
            "min_width": null,
            "border": null,
            "align_items": null,
            "bottom": null,
            "_model_module": "@jupyter-widgets/base",
            "top": null,
            "grid_column": null,
            "overflow_y": null,
            "overflow_x": null,
            "grid_auto_flow": null,
            "grid_area": null,
            "grid_template_columns": null,
            "flex": null,
            "_model_name": "LayoutModel",
            "justify_items": null,
            "grid_row": null,
            "max_height": null,
            "align_content": null,
            "visibility": null,
            "align_self": null,
            "height": null,
            "min_height": null,
            "padding": null,
            "grid_auto_rows": null,
            "grid_gap": null,
            "max_width": null,
            "order": null,
            "_view_module_version": "1.2.0",
            "grid_template_areas": null,
            "object_position": null,
            "object_fit": null,
            "grid_auto_columns": null,
            "margin": null,
            "display": null,
            "left": null
          }
        },
        "b3572a76a0ef48f6a98aced144f3df96": {
          "model_module": "@jupyter-widgets/controls",
          "model_name": "IntProgressModel",
          "model_module_version": "1.5.0",
          "state": {
            "_view_name": "ProgressView",
            "style": "IPY_MODEL_2661dd1ff2714c76b36b4158c9e7b115",
            "_dom_classes": [],
            "description": "Processing: ",
            "_model_name": "IntProgressModel",
            "bar_style": "",
            "max": 3,
            "_view_module": "@jupyter-widgets/controls",
            "_model_module_version": "1.5.0",
            "value": 3,
            "_view_count": null,
            "_view_module_version": "1.5.0",
            "orientation": "horizontal",
            "min": 0,
            "description_tooltip": null,
            "_model_module": "@jupyter-widgets/controls",
            "layout": "IPY_MODEL_4e7d6a569b974c65b978cf2531bf43e4"
          }
        },
        "2661dd1ff2714c76b36b4158c9e7b115": {
          "model_module": "@jupyter-widgets/controls",
          "model_name": "ProgressStyleModel",
          "model_module_version": "1.5.0",
          "state": {
            "_view_name": "StyleView",
            "_model_name": "ProgressStyleModel",
            "description_width": "",
            "_view_module": "@jupyter-widgets/base",
            "_model_module_version": "1.5.0",
            "_view_count": null,
            "_view_module_version": "1.2.0",
            "bar_color": null,
            "_model_module": "@jupyter-widgets/controls"
          }
        },
        "4e7d6a569b974c65b978cf2531bf43e4": {
          "model_module": "@jupyter-widgets/base",
          "model_name": "LayoutModel",
          "model_module_version": "1.2.0",
          "state": {
            "_view_name": "LayoutView",
            "grid_template_rows": null,
            "right": null,
            "justify_content": null,
            "_view_module": "@jupyter-widgets/base",
            "overflow": null,
            "_model_module_version": "1.2.0",
            "_view_count": null,
            "flex_flow": null,
            "width": null,
            "min_width": null,
            "border": null,
            "align_items": null,
            "bottom": null,
            "_model_module": "@jupyter-widgets/base",
            "top": null,
            "grid_column": null,
            "overflow_y": null,
            "overflow_x": null,
            "grid_auto_flow": null,
            "grid_area": null,
            "grid_template_columns": null,
            "flex": null,
            "_model_name": "LayoutModel",
            "justify_items": null,
            "grid_row": null,
            "max_height": null,
            "align_content": null,
            "visibility": null,
            "align_self": null,
            "height": null,
            "min_height": null,
            "padding": null,
            "grid_auto_rows": null,
            "grid_gap": null,
            "max_width": null,
            "order": null,
            "_view_module_version": "1.2.0",
            "grid_template_areas": null,
            "object_position": null,
            "object_fit": null,
            "grid_auto_columns": null,
            "margin": null,
            "display": null,
            "left": null
          }
        },
        "6b8ab5a1fb07455cb71086566da26769": {
          "model_module": "@jupyter-widgets/controls",
          "model_name": "IntProgressModel",
          "model_module_version": "1.5.0",
          "state": {
            "_view_name": "ProgressView",
            "style": "IPY_MODEL_29b56d9d28ab47718500edc27f42da3c",
            "_dom_classes": [],
            "description": "Processing: ",
            "_model_name": "IntProgressModel",
            "bar_style": "",
            "max": 74,
            "_view_module": "@jupyter-widgets/controls",
            "_model_module_version": "1.5.0",
            "value": 74,
            "_view_count": null,
            "_view_module_version": "1.5.0",
            "orientation": "horizontal",
            "min": 0,
            "description_tooltip": null,
            "_model_module": "@jupyter-widgets/controls",
            "layout": "IPY_MODEL_61f8f2c86a6d4a6cbc5b8d25700dfc39"
          }
        },
        "29b56d9d28ab47718500edc27f42da3c": {
          "model_module": "@jupyter-widgets/controls",
          "model_name": "ProgressStyleModel",
          "model_module_version": "1.5.0",
          "state": {
            "_view_name": "StyleView",
            "_model_name": "ProgressStyleModel",
            "description_width": "",
            "_view_module": "@jupyter-widgets/base",
            "_model_module_version": "1.5.0",
            "_view_count": null,
            "_view_module_version": "1.2.0",
            "bar_color": null,
            "_model_module": "@jupyter-widgets/controls"
          }
        },
        "61f8f2c86a6d4a6cbc5b8d25700dfc39": {
          "model_module": "@jupyter-widgets/base",
          "model_name": "LayoutModel",
          "model_module_version": "1.2.0",
          "state": {
            "_view_name": "LayoutView",
            "grid_template_rows": null,
            "right": null,
            "justify_content": null,
            "_view_module": "@jupyter-widgets/base",
            "overflow": null,
            "_model_module_version": "1.2.0",
            "_view_count": null,
            "flex_flow": null,
            "width": null,
            "min_width": null,
            "border": null,
            "align_items": null,
            "bottom": null,
            "_model_module": "@jupyter-widgets/base",
            "top": null,
            "grid_column": null,
            "overflow_y": null,
            "overflow_x": null,
            "grid_auto_flow": null,
            "grid_area": null,
            "grid_template_columns": null,
            "flex": null,
            "_model_name": "LayoutModel",
            "justify_items": null,
            "grid_row": null,
            "max_height": null,
            "align_content": null,
            "visibility": null,
            "align_self": null,
            "height": null,
            "min_height": null,
            "padding": null,
            "grid_auto_rows": null,
            "grid_gap": null,
            "max_width": null,
            "order": null,
            "_view_module_version": "1.2.0",
            "grid_template_areas": null,
            "object_position": null,
            "object_fit": null,
            "grid_auto_columns": null,
            "margin": null,
            "display": null,
            "left": null
          }
        }
      }
    }
  },
  "cells": [
    {
      "cell_type": "markdown",
      "metadata": {
        "id": "view-in-github",
        "colab_type": "text"
      },
      "source": [
        "<a href=\"https://colab.research.google.com/github/yoon0411/pdm22/blob/main/py-tensorflow/DL4-autoML/diabetes_autoML_df_df2.ipynb\" target=\"_parent\"><img src=\"https://colab.research.google.com/assets/colab-badge.svg\" alt=\"Open In Colab\"/></a>"
      ]
    },
    {
      "cell_type": "markdown",
      "metadata": {
        "id": "k6gwVt9qxlxi"
      },
      "source": [
        "# Diabetes\n",
        "- [dataset from kaggle](https://www.kaggle.com/himanshu86503/dibetes33hi)\n",
        "## AutoML\n",
        "- raw data\n",
        "- imputed data"
      ]
    },
    {
      "cell_type": "markdown",
      "metadata": {
        "id": "GZIe0Vjhz-xt"
      },
      "source": [
        "## 1. Importing Libraries"
      ]
    },
    {
      "cell_type": "code",
      "metadata": {
        "id": "k2AR6z3Pz-xw"
      },
      "source": [
        "import numpy as np\n",
        "import matplotlib.pyplot as plt\n",
        "import pandas as pd\n",
        "import seaborn as sns"
      ],
      "execution_count": 1,
      "outputs": []
    },
    {
      "cell_type": "markdown",
      "metadata": {
        "id": "Uhj3--X0z-xy"
      },
      "source": [
        "## 2. Data Collection"
      ]
    },
    {
      "cell_type": "code",
      "metadata": {
        "id": "JBx--oGBz-xz"
      },
      "source": [
        "# Get the data from github\n",
        "url = \"https://github.com/Redwoods/Py/raw/master/pdm2020/my-note/py-pandas/data/diabetes.csv\"\n",
        "df = pd.read_csv(url)"
      ],
      "execution_count": 2,
      "outputs": []
    },
    {
      "cell_type": "code",
      "metadata": {
        "id": "7a8gpSiGz-x0",
        "colab": {
          "base_uri": "https://localhost:8080/"
        },
        "outputId": "2cf3b7d8-27a2-40b4-f8ce-46a9c9f644d2"
      },
      "source": [
        "df.shape"
      ],
      "execution_count": 3,
      "outputs": [
        {
          "output_type": "execute_result",
          "data": {
            "text/plain": [
              "(768, 9)"
            ]
          },
          "metadata": {},
          "execution_count": 3
        }
      ]
    },
    {
      "cell_type": "code",
      "metadata": {
        "id": "vVRz854vz-x1",
        "colab": {
          "base_uri": "https://localhost:8080/",
          "height": 224
        },
        "outputId": "543fd8f9-2036-4901-9759-e44960cb7545"
      },
      "source": [
        "df.head()"
      ],
      "execution_count": 4,
      "outputs": [
        {
          "output_type": "execute_result",
          "data": {
            "text/html": [
              "<div>\n",
              "<style scoped>\n",
              "    .dataframe tbody tr th:only-of-type {\n",
              "        vertical-align: middle;\n",
              "    }\n",
              "\n",
              "    .dataframe tbody tr th {\n",
              "        vertical-align: top;\n",
              "    }\n",
              "\n",
              "    .dataframe thead th {\n",
              "        text-align: right;\n",
              "    }\n",
              "</style>\n",
              "<table border=\"1\" class=\"dataframe\">\n",
              "  <thead>\n",
              "    <tr style=\"text-align: right;\">\n",
              "      <th></th>\n",
              "      <th>Pregnancies</th>\n",
              "      <th>Glucose</th>\n",
              "      <th>BloodPressure</th>\n",
              "      <th>SkinThickness</th>\n",
              "      <th>Insulin</th>\n",
              "      <th>BMI</th>\n",
              "      <th>DiabetesPedigreeFunction</th>\n",
              "      <th>Age</th>\n",
              "      <th>Outcome</th>\n",
              "    </tr>\n",
              "  </thead>\n",
              "  <tbody>\n",
              "    <tr>\n",
              "      <th>0</th>\n",
              "      <td>6</td>\n",
              "      <td>148</td>\n",
              "      <td>72</td>\n",
              "      <td>35</td>\n",
              "      <td>0</td>\n",
              "      <td>33.6</td>\n",
              "      <td>0.627</td>\n",
              "      <td>50</td>\n",
              "      <td>1</td>\n",
              "    </tr>\n",
              "    <tr>\n",
              "      <th>1</th>\n",
              "      <td>1</td>\n",
              "      <td>85</td>\n",
              "      <td>66</td>\n",
              "      <td>29</td>\n",
              "      <td>0</td>\n",
              "      <td>26.6</td>\n",
              "      <td>0.351</td>\n",
              "      <td>31</td>\n",
              "      <td>0</td>\n",
              "    </tr>\n",
              "    <tr>\n",
              "      <th>2</th>\n",
              "      <td>8</td>\n",
              "      <td>183</td>\n",
              "      <td>64</td>\n",
              "      <td>0</td>\n",
              "      <td>0</td>\n",
              "      <td>23.3</td>\n",
              "      <td>0.672</td>\n",
              "      <td>32</td>\n",
              "      <td>1</td>\n",
              "    </tr>\n",
              "    <tr>\n",
              "      <th>3</th>\n",
              "      <td>1</td>\n",
              "      <td>89</td>\n",
              "      <td>66</td>\n",
              "      <td>23</td>\n",
              "      <td>94</td>\n",
              "      <td>28.1</td>\n",
              "      <td>0.167</td>\n",
              "      <td>21</td>\n",
              "      <td>0</td>\n",
              "    </tr>\n",
              "    <tr>\n",
              "      <th>4</th>\n",
              "      <td>0</td>\n",
              "      <td>137</td>\n",
              "      <td>40</td>\n",
              "      <td>35</td>\n",
              "      <td>168</td>\n",
              "      <td>43.1</td>\n",
              "      <td>2.288</td>\n",
              "      <td>33</td>\n",
              "      <td>1</td>\n",
              "    </tr>\n",
              "  </tbody>\n",
              "</table>\n",
              "</div>"
            ],
            "text/plain": [
              "   Pregnancies  Glucose  BloodPressure  ...  DiabetesPedigreeFunction  Age  Outcome\n",
              "0            6      148             72  ...                     0.627   50        1\n",
              "1            1       85             66  ...                     0.351   31        0\n",
              "2            8      183             64  ...                     0.672   32        1\n",
              "3            1       89             66  ...                     0.167   21        0\n",
              "4            0      137             40  ...                     2.288   33        1\n",
              "\n",
              "[5 rows x 9 columns]"
            ]
          },
          "metadata": {},
          "execution_count": 4
        }
      ]
    },
    {
      "cell_type": "code",
      "metadata": {
        "id": "dwGTzCuWthQZ",
        "colab": {
          "base_uri": "https://localhost:8080/"
        },
        "outputId": "6913ab72-4754-4b4a-f4f6-7c654c86cc69"
      },
      "source": [
        "#  int or float ?\n",
        "df.info()"
      ],
      "execution_count": 5,
      "outputs": [
        {
          "output_type": "stream",
          "name": "stdout",
          "text": [
            "<class 'pandas.core.frame.DataFrame'>\n",
            "RangeIndex: 768 entries, 0 to 767\n",
            "Data columns (total 9 columns):\n",
            " #   Column                    Non-Null Count  Dtype  \n",
            "---  ------                    --------------  -----  \n",
            " 0   Pregnancies               768 non-null    int64  \n",
            " 1   Glucose                   768 non-null    int64  \n",
            " 2   BloodPressure             768 non-null    int64  \n",
            " 3   SkinThickness             768 non-null    int64  \n",
            " 4   Insulin                   768 non-null    int64  \n",
            " 5   BMI                       768 non-null    float64\n",
            " 6   DiabetesPedigreeFunction  768 non-null    float64\n",
            " 7   Age                       768 non-null    int64  \n",
            " 8   Outcome                   768 non-null    int64  \n",
            "dtypes: float64(2), int64(7)\n",
            "memory usage: 54.1 KB\n"
          ]
        }
      ]
    },
    {
      "cell_type": "markdown",
      "metadata": {
        "id": "TMPITBmUz-x1"
      },
      "source": [
        "### Cleaning data\n",
        "- Check the NaN or missing values\n",
        "- Clean the null data"
      ]
    },
    {
      "cell_type": "code",
      "metadata": {
        "id": "J9Ks4T4Pz-x2",
        "colab": {
          "base_uri": "https://localhost:8080/"
        },
        "outputId": "f18ea18f-69b1-4767-b225-e2bdd99df680"
      },
      "source": [
        "# Importing the dataset\n",
        "# data = pd.read_csv('diabetes.csv')\n",
        "#CHECK FOR NULL VALUES\n",
        "df.isnull().values.any(), df.isna().sum()"
      ],
      "execution_count": 6,
      "outputs": [
        {
          "output_type": "execute_result",
          "data": {
            "text/plain": [
              "(False, Pregnancies                 0\n",
              " Glucose                     0\n",
              " BloodPressure               0\n",
              " SkinThickness               0\n",
              " Insulin                     0\n",
              " BMI                         0\n",
              " DiabetesPedigreeFunction    0\n",
              " Age                         0\n",
              " Outcome                     0\n",
              " dtype: int64)"
            ]
          },
          "metadata": {},
          "execution_count": 6
        }
      ]
    },
    {
      "cell_type": "code",
      "metadata": {
        "id": "bF0S1H9kz-x3",
        "colab": {
          "base_uri": "https://localhost:8080/"
        },
        "outputId": "df7af6e3-b2d2-41fc-f4cc-4ddc1e825530"
      },
      "source": [
        "# Drop unused columns, and drop rows with any missing values. (NOT neceaasry always!)\n",
        "print(df.shape)\n",
        "vars = df.columns\n",
        "print(vars)\n",
        "df = df[vars].dropna()\n",
        "df.shape"
      ],
      "execution_count": 7,
      "outputs": [
        {
          "output_type": "stream",
          "name": "stdout",
          "text": [
            "(768, 9)\n",
            "Index(['Pregnancies', 'Glucose', 'BloodPressure', 'SkinThickness', 'Insulin',\n",
            "       'BMI', 'DiabetesPedigreeFunction', 'Age', 'Outcome'],\n",
            "      dtype='object')\n"
          ]
        },
        {
          "output_type": "execute_result",
          "data": {
            "text/plain": [
              "(768, 9)"
            ]
          },
          "metadata": {},
          "execution_count": 7
        }
      ]
    },
    {
      "cell_type": "markdown",
      "metadata": {
        "id": "HJMZi8-Uz-x5"
      },
      "source": [
        "## 3. Explore Data"
      ]
    },
    {
      "cell_type": "markdown",
      "metadata": {
        "id": "3MpjASeothQb"
      },
      "source": [
        "### 위의 데이터에서 문제점을 찾으시오.\n",
        "- 0이 허용되지 않는 특징이 있는가?\n",
        "- 값 0을 어떤 값으로 변경해야하는가?"
      ]
    },
    {
      "cell_type": "code",
      "metadata": {
        "id": "ooMesUSAthQc",
        "colab": {
          "base_uri": "https://localhost:8080/"
        },
        "outputId": "8f3b5872-ac6f-4000-88f7-ffda49c0f42c"
      },
      "source": [
        "# Check zeros in features without Outcome\n",
        "(df.iloc[:,:8]==0).astype(int).sum()"
      ],
      "execution_count": 8,
      "outputs": [
        {
          "output_type": "execute_result",
          "data": {
            "text/plain": [
              "Pregnancies                 111\n",
              "Glucose                       5\n",
              "BloodPressure                35\n",
              "SkinThickness               227\n",
              "Insulin                     374\n",
              "BMI                          11\n",
              "DiabetesPedigreeFunction      0\n",
              "Age                           0\n",
              "dtype: int64"
            ]
          },
          "metadata": {},
          "execution_count": 8
        }
      ]
    },
    {
      "cell_type": "code",
      "metadata": {
        "id": "LkOqiz06z-x6",
        "colab": {
          "base_uri": "https://localhost:8080/"
        },
        "outputId": "01282970-7d2f-4a80-b590-20174e4f2131"
      },
      "source": [
        "df.info()"
      ],
      "execution_count": 9,
      "outputs": [
        {
          "output_type": "stream",
          "name": "stdout",
          "text": [
            "<class 'pandas.core.frame.DataFrame'>\n",
            "Int64Index: 768 entries, 0 to 767\n",
            "Data columns (total 9 columns):\n",
            " #   Column                    Non-Null Count  Dtype  \n",
            "---  ------                    --------------  -----  \n",
            " 0   Pregnancies               768 non-null    int64  \n",
            " 1   Glucose                   768 non-null    int64  \n",
            " 2   BloodPressure             768 non-null    int64  \n",
            " 3   SkinThickness             768 non-null    int64  \n",
            " 4   Insulin                   768 non-null    int64  \n",
            " 5   BMI                       768 non-null    float64\n",
            " 6   DiabetesPedigreeFunction  768 non-null    float64\n",
            " 7   Age                       768 non-null    int64  \n",
            " 8   Outcome                   768 non-null    int64  \n",
            "dtypes: float64(2), int64(7)\n",
            "memory usage: 60.0 KB\n"
          ]
        }
      ]
    },
    {
      "cell_type": "markdown",
      "metadata": {
        "id": "xx3auWToz-x6"
      },
      "source": [
        "### Check the balance of the data through plot"
      ]
    },
    {
      "cell_type": "code",
      "metadata": {
        "id": "rUBL5viiz-x7",
        "colab": {
          "base_uri": "https://localhost:8080/",
          "height": 371
        },
        "outputId": "86f24a8f-0cd0-4bcf-ce98-3719255c87ad"
      },
      "source": [
        "# Check the balance of the data through plot\n",
        "classes=df.Outcome\n",
        "ax=sns.countplot(classes, label='count')\n",
        "plt.show()\n",
        "nDB,DB=classes.value_counts()\n",
        "print('False: non-diabetes',nDB)\n",
        "print('True: diabetes',DB)"
      ],
      "execution_count": 10,
      "outputs": [
        {
          "output_type": "stream",
          "name": "stderr",
          "text": [
            "/usr/local/lib/python3.7/dist-packages/seaborn/_decorators.py:43: FutureWarning: Pass the following variable as a keyword arg: x. From version 0.12, the only valid positional argument will be `data`, and passing other arguments without an explicit keyword will result in an error or misinterpretation.\n",
            "  FutureWarning\n"
          ]
        },
        {
          "output_type": "display_data",
          "data": {
            "image/png": "[encoded data removed]",
            "text/plain": [
              "<Figure size 432x288 with 1 Axes>"
            ]
          },
          "metadata": {
            "needs_background": "light"
          }
        },
        {
          "output_type": "stream",
          "name": "stdout",
          "text": [
            "False: non-diabetes 500\n",
            "True: diabetes 268\n"
          ]
        }
      ]
    },
    {
      "cell_type": "code",
      "metadata": {
        "id": "wvR6KydGz-x7",
        "colab": {
          "base_uri": "https://localhost:8080/"
        },
        "outputId": "990c319c-ad73-4c24-d0cf-b13f0827290f"
      },
      "source": [
        "classes.value_counts(), type(classes) # noDM: 500, DM: 268"
      ],
      "execution_count": 11,
      "outputs": [
        {
          "output_type": "execute_result",
          "data": {
            "text/plain": [
              "(0    500\n",
              " 1    268\n",
              " Name: Outcome, dtype: int64, pandas.core.series.Series)"
            ]
          },
          "metadata": {},
          "execution_count": 11
        }
      ]
    },
    {
      "cell_type": "markdown",
      "metadata": {
        "id": "mFv5mpZ8z-x7"
      },
      "source": [
        "## correlation plot (상관도표)"
      ]
    },
    {
      "cell_type": "code",
      "metadata": {
        "id": "YemDAjKoz-x7",
        "colab": {
          "base_uri": "https://localhost:8080/",
          "height": 655
        },
        "outputId": "8acd3680-a62e-4384-af1e-b2d01a77a76d"
      },
      "source": [
        "#correlation plot\n",
        "cormat=df.corr()\n",
        "plt.figure(figsize=(12,10))\n",
        "g=sns.heatmap(cormat, annot=True, cmap='coolwarm', #cmap= \"RdYlGn\",\n",
        "             vmin=-1, vmax=1)"
      ],
      "execution_count": 12,
      "outputs": [
        {
          "output_type": "display_data",
          "data": {
            "image/png": "[encoded data removed]",
            "text/plain": [
              "<Figure size 864x720 with 2 Axes>"
            ]
          },
          "metadata": {
            "needs_background": "light"
          }
        }
      ]
    },
    {
      "cell_type": "markdown",
      "metadata": {
        "id": "edL3BuYVz-x7"
      },
      "source": [
        "### 상관성 분석 결과\n",
        "* Age vs. Pregnancies : 0.54\n",
        "* Glucose vs. Outcome : 0.47\n",
        "* SkinThickness vs. Insulin : 0.44\n",
        "* SkinThickness vs. BMI : 0.39\n",
        "\n",
        "> 좀 더 자세한 시각화가 필요하다."
      ]
    },
    {
      "cell_type": "markdown",
      "metadata": {
        "id": "dFhwDpKnthQe"
      },
      "source": [
        "---"
      ]
    },
    {
      "cell_type": "markdown",
      "metadata": {
        "id": "5TOzlJGjthQe"
      },
      "source": [
        "## 각 특징의 내부 정보를 고려한 zero 처리 후 상관성 조사."
      ]
    },
    {
      "cell_type": "code",
      "metadata": {
        "id": "dRqM20uEthQe",
        "colab": {
          "base_uri": "https://localhost:8080/"
        },
        "outputId": "44f6ffec-24ed-4f1a-a9db-f3001653e328"
      },
      "source": [
        "# zero 처리 함수\n",
        "# Clean the data : zero2median()\n",
        "# 1. Check zeros in features with Pregnancies, Outcome excluded.\n",
        "# 2. Replace zero with NaN \n",
        "# 3. Replace NaN with the median of the corresponding featurs\n",
        "def zero2median(df):\n",
        "    columns_with_zero = df.columns[(df==0).sum() > 0][1:-1]\n",
        "    # Index(['Glucose', 'BloodPressure', 'SkinThickness', 'Insulin', 'BMI'], dtype='object')\n",
        "    df[columns_with_zero]=df[columns_with_zero].replace(0,np.nan)\n",
        "    for feature in columns_with_zero:\n",
        "        df[feature].fillna(df[feature].median(),inplace=True)  # median() -> mean()\n",
        "    \n",
        "    return df\n",
        "\n",
        "# Srart with cleaned dataframe\n",
        "df2 = zero2median(df)\n",
        "df2.shape"
      ],
      "execution_count": 13,
      "outputs": [
        {
          "output_type": "execute_result",
          "data": {
            "text/plain": [
              "(768, 9)"
            ]
          },
          "metadata": {},
          "execution_count": 13
        }
      ]
    },
    {
      "cell_type": "code",
      "metadata": {
        "id": "MGcs6V_bthQf",
        "colab": {
          "base_uri": "https://localhost:8080/",
          "height": 224
        },
        "outputId": "0281ab39-c7a9-4e07-d00c-49b046d5f7b9"
      },
      "source": [
        "df2.head()"
      ],
      "execution_count": 14,
      "outputs": [
        {
          "output_type": "execute_result",
          "data": {
            "text/html": [
              "<div>\n",
              "<style scoped>\n",
              "    .dataframe tbody tr th:only-of-type {\n",
              "        vertical-align: middle;\n",
              "    }\n",
              "\n",
              "    .dataframe tbody tr th {\n",
              "        vertical-align: top;\n",
              "    }\n",
              "\n",
              "    .dataframe thead th {\n",
              "        text-align: right;\n",
              "    }\n",
              "</style>\n",
              "<table border=\"1\" class=\"dataframe\">\n",
              "  <thead>\n",
              "    <tr style=\"text-align: right;\">\n",
              "      <th></th>\n",
              "      <th>Pregnancies</th>\n",
              "      <th>Glucose</th>\n",
              "      <th>BloodPressure</th>\n",
              "      <th>SkinThickness</th>\n",
              "      <th>Insulin</th>\n",
              "      <th>BMI</th>\n",
              "      <th>DiabetesPedigreeFunction</th>\n",
              "      <th>Age</th>\n",
              "      <th>Outcome</th>\n",
              "    </tr>\n",
              "  </thead>\n",
              "  <tbody>\n",
              "    <tr>\n",
              "      <th>0</th>\n",
              "      <td>6</td>\n",
              "      <td>148.0</td>\n",
              "      <td>72.0</td>\n",
              "      <td>35.0</td>\n",
              "      <td>125.0</td>\n",
              "      <td>33.6</td>\n",
              "      <td>0.627</td>\n",
              "      <td>50</td>\n",
              "      <td>1</td>\n",
              "    </tr>\n",
              "    <tr>\n",
              "      <th>1</th>\n",
              "      <td>1</td>\n",
              "      <td>85.0</td>\n",
              "      <td>66.0</td>\n",
              "      <td>29.0</td>\n",
              "      <td>125.0</td>\n",
              "      <td>26.6</td>\n",
              "      <td>0.351</td>\n",
              "      <td>31</td>\n",
              "      <td>0</td>\n",
              "    </tr>\n",
              "    <tr>\n",
              "      <th>2</th>\n",
              "      <td>8</td>\n",
              "      <td>183.0</td>\n",
              "      <td>64.0</td>\n",
              "      <td>29.0</td>\n",
              "      <td>125.0</td>\n",
              "      <td>23.3</td>\n",
              "      <td>0.672</td>\n",
              "      <td>32</td>\n",
              "      <td>1</td>\n",
              "    </tr>\n",
              "    <tr>\n",
              "      <th>3</th>\n",
              "      <td>1</td>\n",
              "      <td>89.0</td>\n",
              "      <td>66.0</td>\n",
              "      <td>23.0</td>\n",
              "      <td>94.0</td>\n",
              "      <td>28.1</td>\n",
              "      <td>0.167</td>\n",
              "      <td>21</td>\n",
              "      <td>0</td>\n",
              "    </tr>\n",
              "    <tr>\n",
              "      <th>4</th>\n",
              "      <td>0</td>\n",
              "      <td>137.0</td>\n",
              "      <td>40.0</td>\n",
              "      <td>35.0</td>\n",
              "      <td>168.0</td>\n",
              "      <td>43.1</td>\n",
              "      <td>2.288</td>\n",
              "      <td>33</td>\n",
              "      <td>1</td>\n",
              "    </tr>\n",
              "  </tbody>\n",
              "</table>\n",
              "</div>"
            ],
            "text/plain": [
              "   Pregnancies  Glucose  BloodPressure  ...  DiabetesPedigreeFunction  Age  Outcome\n",
              "0            6    148.0           72.0  ...                     0.627   50        1\n",
              "1            1     85.0           66.0  ...                     0.351   31        0\n",
              "2            8    183.0           64.0  ...                     0.672   32        1\n",
              "3            1     89.0           66.0  ...                     0.167   21        0\n",
              "4            0    137.0           40.0  ...                     2.288   33        1\n",
              "\n",
              "[5 rows x 9 columns]"
            ]
          },
          "metadata": {},
          "execution_count": 14
        }
      ]
    },
    {
      "cell_type": "code",
      "metadata": {
        "id": "DeAUP3lUthQf",
        "colab": {
          "base_uri": "https://localhost:8080/",
          "height": 655
        },
        "outputId": "d7de17e9-603b-425c-ff7d-fb17c27bc520"
      },
      "source": [
        "#correlation plot of df2\n",
        "# cormat2=df2.corr()\n",
        "plt.figure(figsize=(12,10))\n",
        "g3=sns.heatmap(df2.corr(),annot=True,cmap='coolwarm', #cmap= \"RdYlGn\",\n",
        "             vmin=-1, vmax=1)"
      ],
      "execution_count": 15,
      "outputs": [
        {
          "output_type": "display_data",
          "data": {
            "image/png": "[encoded data removed]",
            "text/plain": [
              "<Figure size 864x720 with 2 Axes>"
            ]
          },
          "metadata": {
            "needs_background": "light"
          }
        }
      ]
    },
    {
      "cell_type": "markdown",
      "metadata": {
        "id": "05tVHOcithQf"
      },
      "source": [
        "## 데이터프레임 df, df2의 상관성이 달라짐을 확인하시오.\n",
        "### 상관성 분석 결과 \n",
        "* Age vs. Pregnancies : 0.54 ->  0.54\n",
        "* Glucose vs. Outcome : 0.47 ->  0.49\n",
        "* SkinThickness vs. Insulin : 0.44 -> 0.16\n",
        "* SkinThickness vs. BMI : 0.39 -> 0.54\n",
        "\n",
        "> 상관성 최종 개선"
      ]
    },
    {
      "cell_type": "markdown",
      "metadata": {
        "id": "hPkMC0imG9wi"
      },
      "source": [
        "---"
      ]
    },
    {
      "cell_type": "markdown",
      "metadata": {
        "id": "zt_Oj3bnthQg"
      },
      "source": [
        "### 그러면 다음 autoML에서는 어떤 데이터로 ML 모델을 만들어야하나요?"
      ]
    },
    {
      "cell_type": "markdown",
      "metadata": {
        "id": "LW2f5pgr3IQI"
      },
      "source": [
        "# AutoML\n",
        "- ## pycaret\n",
        "- ## data : df, df2"
      ]
    },
    {
      "cell_type": "markdown",
      "metadata": {
        "id": "K61abq78lIK3"
      },
      "source": [
        "# targets\n",
        "- ## 'noDM', 'DM'\n"
      ]
    },
    {
      "cell_type": "code",
      "metadata": {
        "id": "ZTc9q7DO3xXI",
        "colab": {
          "base_uri": "https://localhost:8080/",
          "height": 1000
        },
        "outputId": "f6470091-e21d-4db6-dcd9-067067704742"
      },
      "source": [
        "# !pip install pycaret"
      ],
      "execution_count": 16,
      "outputs": [
        {
          "output_type": "stream",
          "name": "stdout",
          "text": [
            "Collecting pycaret\n",
            "  Downloading pycaret-2.3.5-py3-none-any.whl (288 kB)\n",
            "\u001b[?25l\r\u001b[K     |█▏                              | 10 kB 17.2 MB/s eta 0:00:01\r\u001b[K     |██▎                             | 20 kB 23.4 MB/s eta 0:00:01\r\u001b[K     |███▍                            | 30 kB 29.4 MB/s eta 0:00:01\r\u001b[K     |████▌                           | 40 kB 28.8 MB/s eta 0:00:01\r\u001b[K     |█████▊                          | 51 kB 24.1 MB/s eta 0:00:01\r\u001b[K     |██████▉                         | 61 kB 14.5 MB/s eta 0:00:01\r\u001b[K     |████████                        | 71 kB 12.8 MB/s eta 0:00:01\r\u001b[K     |█████████                       | 81 kB 13.8 MB/s eta 0:00:01\r\u001b[K     |██████████▏                     | 92 kB 15.2 MB/s eta 0:00:01\r\u001b[K     |███████████▍                    | 102 kB 16.5 MB/s eta 0:00:01\r\u001b[K     |████████████▌                   | 112 kB 16.5 MB/s eta 0:00:01\r\u001b[K     |█████████████▋                  | 122 kB 16.5 MB/s eta 0:00:01\r\u001b[K     |██████████████▊                 | 133 kB 16.5 MB/s eta 0:00:01\r\u001b[K     |████████████████                | 143 kB 16.5 MB/s eta 0:00:01\r\u001b[K     |█████████████████               | 153 kB 16.5 MB/s eta 0:00:01\r\u001b[K     |██████████████████▏             | 163 kB 16.5 MB/s eta 0:00:01\r\u001b[K     |███████████████████▎            | 174 kB 16.5 MB/s eta 0:00:01\r\u001b[K     |████████████████████▍           | 184 kB 16.5 MB/s eta 0:00:01\r\u001b[K     |█████████████████████▋          | 194 kB 16.5 MB/s eta 0:00:01\r\u001b[K     |██████████████████████▊         | 204 kB 16.5 MB/s eta 0:00:01\r\u001b[K     |███████████████████████▉        | 215 kB 16.5 MB/s eta 0:00:01\r\u001b[K     |█████████████████████████       | 225 kB 16.5 MB/s eta 0:00:01\r\u001b[K     |██████████████████████████▏     | 235 kB 16.5 MB/s eta 0:00:01\r\u001b[K     |███████████████████████████▎    | 245 kB 16.5 MB/s eta 0:00:01\r\u001b[K     |████████████████████████████▍   | 256 kB 16.5 MB/s eta 0:00:01\r\u001b[K     |█████████████████████████████▌  | 266 kB 16.5 MB/s eta 0:00:01\r\u001b[K     |██████████████████████████████▋ | 276 kB 16.5 MB/s eta 0:00:01\r\u001b[K     |███████████████████████████████▉| 286 kB 16.5 MB/s eta 0:00:01\r\u001b[K     |████████████████████████████████| 288 kB 16.5 MB/s \n",
            "\u001b[?25hRequirement already satisfied: pandas in /usr/local/lib/python3.7/dist-packages (from pycaret) (1.1.5)\n",
            "Requirement already satisfied: plotly>=4.4.1 in /usr/local/lib/python3.7/dist-packages (from pycaret) (4.4.1)\n",
            "Requirement already satisfied: joblib in /usr/local/lib/python3.7/dist-packages (from pycaret) (1.1.0)\n",
            "Collecting Boruta\n",
            "  Downloading Boruta-0.3-py3-none-any.whl (56 kB)\n",
            "\u001b[?25l\r\u001b[K     |█████▉                          | 10 kB 31.9 MB/s eta 0:00:01\r\u001b[K     |███████████▋                    | 20 kB 39.2 MB/s eta 0:00:01\r\u001b[K     |█████████████████▍              | 30 kB 47.2 MB/s eta 0:00:01\r\u001b[K     |███████████████████████▏        | 40 kB 52.1 MB/s eta 0:00:01\r\u001b[K     |█████████████████████████████   | 51 kB 53.8 MB/s eta 0:00:01\r\u001b[K     |████████████████████████████████| 56 kB 5.1 MB/s \n",
            "\u001b[?25hRequirement already satisfied: seaborn in /usr/local/lib/python3.7/dist-packages (from pycaret) (0.11.2)\n",
            "Requirement already satisfied: numpy==1.19.5 in /usr/local/lib/python3.7/dist-packages (from pycaret) (1.19.5)\n",
            "Requirement already satisfied: cufflinks>=0.17.0 in /usr/local/lib/python3.7/dist-packages (from pycaret) (0.17.3)\n",
            "Requirement already satisfied: wordcloud in /usr/local/lib/python3.7/dist-packages (from pycaret) (1.5.0)\n",
            "Collecting pandas-profiling>=2.8.0\n",
            "  Downloading pandas_profiling-3.1.0-py2.py3-none-any.whl (261 kB)\n",
            "\u001b[K     |████████████████████████████████| 261 kB 43.1 MB/s \n",
            "\u001b[?25hRequirement already satisfied: textblob in /usr/local/lib/python3.7/dist-packages (from pycaret) (0.15.3)\n",
            "Requirement already satisfied: spacy<2.4.0 in /usr/local/lib/python3.7/dist-packages (from pycaret) (2.2.4)\n",
            "Collecting scikit-learn==0.23.2\n",
            "  Downloading scikit_learn-0.23.2-cp37-cp37m-manylinux1_x86_64.whl (6.8 MB)\n",
            "\u001b[K     |████████████████████████████████| 6.8 MB 50.7 MB/s \n",
            "\u001b[?25hCollecting imbalanced-learn==0.7.0\n",
            "  Downloading imbalanced_learn-0.7.0-py3-none-any.whl (167 kB)\n",
            "\u001b[K     |████████████████████████████████| 167 kB 59.4 MB/s \n",
            "\u001b[?25hCollecting umap-learn\n",
            "  Downloading umap-learn-0.5.2.tar.gz (86 kB)\n",
            "\u001b[K     |████████████████████████████████| 86 kB 6.2 MB/s \n",
            "\u001b[?25hRequirement already satisfied: yellowbrick>=1.0.1 in /usr/local/lib/python3.7/dist-packages (from pycaret) (1.3.post1)\n",
            "Requirement already satisfied: matplotlib in /usr/local/lib/python3.7/dist-packages (from pycaret) (3.2.2)\n",
            "Collecting pyod\n",
            "  Downloading pyod-0.9.5.tar.gz (113 kB)\n",
            "\u001b[K     |████████████████████████████████| 113 kB 58.4 MB/s \n",
            "\u001b[?25hCollecting pyLDAvis\n",
            "  Downloading pyLDAvis-3.3.1.tar.gz (1.7 MB)\n",
            "\u001b[K     |████████████████████████████████| 1.7 MB 50.6 MB/s \n",
            "\u001b[?25h  Installing build dependencies ... \u001b[?25l\u001b[?25hdone\n",
            "  Getting requirements to build wheel ... \u001b[?25l\u001b[?25hdone\n",
            "  Installing backend dependencies ... \u001b[?25l\u001b[?25hdone\n",
            "    Preparing wheel metadata ... \u001b[?25l\u001b[?25hdone\n",
            "Requirement already satisfied: gensim<4.0.0 in /usr/local/lib/python3.7/dist-packages (from pycaret) (3.6.0)\n",
            "Requirement already satisfied: ipywidgets in /usr/local/lib/python3.7/dist-packages (from pycaret) (7.6.5)\n",
            "Collecting kmodes>=0.10.1\n",
            "  Downloading kmodes-0.11.1-py2.py3-none-any.whl (19 kB)\n",
            "Collecting mlflow\n",
            "  Downloading mlflow-1.21.0-py3-none-any.whl (16.9 MB)\n",
            "\u001b[K     |████████████████████████████████| 16.9 MB 234 kB/s \n",
            "\u001b[?25hCollecting lightgbm>=2.3.1\n",
            "  Downloading lightgbm-3.3.1-py3-none-manylinux1_x86_64.whl (2.0 MB)\n",
            "\u001b[K     |████████████████████████████████| 2.0 MB 57.5 MB/s \n",
            "\u001b[?25hRequirement already satisfied: nltk in /usr/local/lib/python3.7/dist-packages (from pycaret) (3.2.5)\n",
            "Collecting mlxtend>=0.17.0\n",
            "  Downloading mlxtend-0.19.0-py2.py3-none-any.whl (1.3 MB)\n",
            "\u001b[K     |████████████████████████████████| 1.3 MB 72.6 MB/s \n",
            "\u001b[?25hRequirement already satisfied: IPython in /usr/local/lib/python3.7/dist-packages (from pycaret) (5.5.0)\n",
            "Collecting scikit-plot\n",
            "  Downloading scikit_plot-0.3.7-py3-none-any.whl (33 kB)\n",
            "Requirement already satisfied: scipy<=1.5.4 in /usr/local/lib/python3.7/dist-packages (from pycaret) (1.4.1)\n",
            "Requirement already satisfied: threadpoolctl>=2.0.0 in /usr/local/lib/python3.7/dist-packages (from scikit-learn==0.23.2->pycaret) (3.0.0)\n",
            "Requirement already satisfied: setuptools>=34.4.1 in /usr/local/lib/python3.7/dist-packages (from cufflinks>=0.17.0->pycaret) (57.4.0)\n",
            "Requirement already satisfied: colorlover>=0.2.1 in /usr/local/lib/python3.7/dist-packages (from cufflinks>=0.17.0->pycaret) (0.3.0)\n",
            "Requirement already satisfied: six>=1.9.0 in /usr/local/lib/python3.7/dist-packages (from cufflinks>=0.17.0->pycaret) (1.15.0)\n",
            "Requirement already satisfied: smart-open>=1.2.1 in /usr/local/lib/python3.7/dist-packages (from gensim<4.0.0->pycaret) (5.2.1)\n",
            "Requirement already satisfied: traitlets>=4.2 in /usr/local/lib/python3.7/dist-packages (from IPython->pycaret) (5.1.1)\n",
            "Requirement already satisfied: simplegeneric>0.8 in /usr/local/lib/python3.7/dist-packages (from IPython->pycaret) (0.8.1)\n",
            "Requirement already satisfied: pygments in /usr/local/lib/python3.7/dist-packages (from IPython->pycaret) (2.6.1)\n",
            "Requirement already satisfied: prompt-toolkit<2.0.0,>=1.0.4 in /usr/local/lib/python3.7/dist-packages (from IPython->pycaret) (1.0.18)\n",
            "Requirement already satisfied: pexpect in /usr/local/lib/python3.7/dist-packages (from IPython->pycaret) (4.8.0)\n",
            "Requirement already satisfied: decorator in /usr/local/lib/python3.7/dist-packages (from IPython->pycaret) (4.4.2)\n",
            "Requirement already satisfied: pickleshare in /usr/local/lib/python3.7/dist-packages (from IPython->pycaret) (0.7.5)\n",
            "Requirement already satisfied: ipykernel>=4.5.1 in /usr/local/lib/python3.7/dist-packages (from ipywidgets->pycaret) (4.10.1)\n",
            "Requirement already satisfied: widgetsnbextension~=3.5.0 in /usr/local/lib/python3.7/dist-packages (from ipywidgets->pycaret) (3.5.2)\n",
            "Requirement already satisfied: jupyterlab-widgets>=1.0.0 in /usr/local/lib/python3.7/dist-packages (from ipywidgets->pycaret) (1.0.2)\n",
            "Requirement already satisfied: ipython-genutils~=0.2.0 in /usr/local/lib/python3.7/dist-packages (from ipywidgets->pycaret) (0.2.0)\n",
            "Requirement already satisfied: nbformat>=4.2.0 in /usr/local/lib/python3.7/dist-packages (from ipywidgets->pycaret) (5.1.3)\n",
            "Requirement already satisfied: tornado>=4.0 in /usr/local/lib/python3.7/dist-packages (from ipykernel>=4.5.1->ipywidgets->pycaret) (5.1.1)\n",
            "Requirement already satisfied: jupyter-client in /usr/local/lib/python3.7/dist-packages (from ipykernel>=4.5.1->ipywidgets->pycaret) (5.3.5)\n",
            "Requirement already satisfied: wheel in /usr/local/lib/python3.7/dist-packages (from lightgbm>=2.3.1->pycaret) (0.37.0)\n",
            "Requirement already satisfied: pyparsing!=2.0.4,!=2.1.2,!=2.1.6,>=2.0.1 in /usr/local/lib/python3.7/dist-packages (from matplotlib->pycaret) (3.0.6)\n",
            "Requirement already satisfied: kiwisolver>=1.0.1 in /usr/local/lib/python3.7/dist-packages (from matplotlib->pycaret) (1.3.2)\n",
            "Requirement already satisfied: python-dateutil>=2.1 in /usr/local/lib/python3.7/dist-packages (from matplotlib->pycaret) (2.8.2)\n",
            "Requirement already satisfied: cycler>=0.10 in /usr/local/lib/python3.7/dist-packages (from matplotlib->pycaret) (0.11.0)\n",
            "Requirement already satisfied: jupyter-core in /usr/local/lib/python3.7/dist-packages (from nbformat>=4.2.0->ipywidgets->pycaret) (4.9.1)\n",
            "Requirement already satisfied: jsonschema!=2.5.0,>=2.4 in /usr/local/lib/python3.7/dist-packages (from nbformat>=4.2.0->ipywidgets->pycaret) (2.6.0)\n",
            "Requirement already satisfied: pytz>=2017.2 in /usr/local/lib/python3.7/dist-packages (from pandas->pycaret) (2018.9)\n",
            "Collecting tangled-up-in-unicode==0.1.0\n",
            "  Downloading tangled_up_in_unicode-0.1.0-py3-none-any.whl (3.1 MB)\n",
            "\u001b[K     |████████████████████████████████| 3.1 MB 23.9 MB/s \n",
            "\u001b[?25hRequirement already satisfied: jinja2>=2.11.1 in /usr/local/lib/python3.7/dist-packages (from pandas-profiling>=2.8.0->pycaret) (2.11.3)\n",
            "Collecting htmlmin>=0.1.12\n",
            "  Downloading htmlmin-0.1.12.tar.gz (19 kB)\n",
            "Collecting requests>=2.24.0\n",
            "  Downloading requests-2.26.0-py2.py3-none-any.whl (62 kB)\n",
            "\u001b[K     |████████████████████████████████| 62 kB 949 kB/s \n",
            "\u001b[?25hRequirement already satisfied: tqdm>=4.48.2 in /usr/local/lib/python3.7/dist-packages (from pandas-profiling>=2.8.0->pycaret) (4.62.3)\n",
            "Collecting pydantic>=1.8.1\n",
            "  Downloading pydantic-1.8.2-cp37-cp37m-manylinux2014_x86_64.whl (10.1 MB)\n",
            "\u001b[K     |████████████████████████████████| 10.1 MB 31.1 MB/s \n",
            "\u001b[?25hRequirement already satisfied: missingno>=0.4.2 in /usr/local/lib/python3.7/dist-packages (from pandas-profiling>=2.8.0->pycaret) (0.5.0)\n",
            "Collecting joblib\n",
            "  Downloading joblib-1.0.1-py3-none-any.whl (303 kB)\n",
            "\u001b[K     |████████████████████████████████| 303 kB 40.7 MB/s \n",
            "\u001b[?25hCollecting PyYAML>=5.0.0\n",
            "  Downloading PyYAML-6.0-cp37-cp37m-manylinux_2_5_x86_64.manylinux1_x86_64.manylinux_2_12_x86_64.manylinux2010_x86_64.whl (596 kB)\n",
            "\u001b[K     |████████████████████████████████| 596 kB 62.0 MB/s \n",
            "\u001b[?25hCollecting phik>=0.11.1\n",
            "  Downloading phik-0.12.0-cp37-cp37m-manylinux2010_x86_64.whl (675 kB)\n",
            "\u001b[K     |████████████████████████████████| 675 kB 61.8 MB/s \n",
            "\u001b[?25hCollecting visions[type_image_path]==0.7.4\n",
            "  Downloading visions-0.7.4-py3-none-any.whl (102 kB)\n",
            "\u001b[K     |████████████████████████████████| 102 kB 11.9 MB/s \n",
            "\u001b[?25hCollecting multimethod>=1.4\n",
            "  Downloading multimethod-1.6-py3-none-any.whl (9.4 kB)\n",
            "Requirement already satisfied: markupsafe~=2.0.1 in /usr/local/lib/python3.7/dist-packages (from pandas-profiling>=2.8.0->pycaret) (2.0.1)\n",
            "Requirement already satisfied: networkx>=2.4 in /usr/local/lib/python3.7/dist-packages (from visions[type_image_path]==0.7.4->pandas-profiling>=2.8.0->pycaret) (2.6.3)\n",
            "Requirement already satisfied: attrs>=19.3.0 in /usr/local/lib/python3.7/dist-packages (from visions[type_image_path]==0.7.4->pandas-profiling>=2.8.0->pycaret) (21.2.0)\n",
            "Collecting imagehash\n",
            "  Downloading ImageHash-4.2.1.tar.gz (812 kB)\n",
            "\u001b[K     |████████████████████████████████| 812 kB 61.6 MB/s \n",
            "\u001b[?25hRequirement already satisfied: Pillow in /usr/local/lib/python3.7/dist-packages (from visions[type_image_path]==0.7.4->pandas-profiling>=2.8.0->pycaret) (7.1.2)\n",
            "Collecting scipy<=1.5.4\n",
            "  Downloading scipy-1.5.4-cp37-cp37m-manylinux1_x86_64.whl (25.9 MB)\n",
            "\u001b[K     |████████████████████████████████| 25.9 MB 1.4 MB/s \n",
            "\u001b[?25hRequirement already satisfied: retrying>=1.3.3 in /usr/local/lib/python3.7/dist-packages (from plotly>=4.4.1->pycaret) (1.3.3)\n",
            "Requirement already satisfied: wcwidth in /usr/local/lib/python3.7/dist-packages (from prompt-toolkit<2.0.0,>=1.0.4->IPython->pycaret) (0.2.5)\n",
            "Requirement already satisfied: typing-extensions>=3.7.4.3 in /usr/local/lib/python3.7/dist-packages (from pydantic>=1.8.1->pandas-profiling>=2.8.0->pycaret) (3.10.0.2)\n",
            "Requirement already satisfied: urllib3<1.27,>=1.21.1 in /usr/local/lib/python3.7/dist-packages (from requests>=2.24.0->pandas-profiling>=2.8.0->pycaret) (1.24.3)\n",
            "Requirement already satisfied: idna<4,>=2.5 in /usr/local/lib/python3.7/dist-packages (from requests>=2.24.0->pandas-profiling>=2.8.0->pycaret) (2.10)\n",
            "Requirement already satisfied: certifi>=2017.4.17 in /usr/local/lib/python3.7/dist-packages (from requests>=2.24.0->pandas-profiling>=2.8.0->pycaret) (2021.10.8)\n",
            "Requirement already satisfied: charset-normalizer~=2.0.0 in /usr/local/lib/python3.7/dist-packages (from requests>=2.24.0->pandas-profiling>=2.8.0->pycaret) (2.0.7)\n",
            "Requirement already satisfied: srsly<1.1.0,>=1.0.2 in /usr/local/lib/python3.7/dist-packages (from spacy<2.4.0->pycaret) (1.0.5)\n",
            "Requirement already satisfied: preshed<3.1.0,>=3.0.2 in /usr/local/lib/python3.7/dist-packages (from spacy<2.4.0->pycaret) (3.0.6)\n",
            "Requirement already satisfied: catalogue<1.1.0,>=0.0.7 in /usr/local/lib/python3.7/dist-packages (from spacy<2.4.0->pycaret) (1.0.0)\n",
            "Requirement already satisfied: blis<0.5.0,>=0.4.0 in /usr/local/lib/python3.7/dist-packages (from spacy<2.4.0->pycaret) (0.4.1)\n",
            "Requirement already satisfied: wasabi<1.1.0,>=0.4.0 in /usr/local/lib/python3.7/dist-packages (from spacy<2.4.0->pycaret) (0.8.2)\n",
            "Requirement already satisfied: plac<1.2.0,>=0.9.6 in /usr/local/lib/python3.7/dist-packages (from spacy<2.4.0->pycaret) (1.1.3)\n",
            "Requirement already satisfied: thinc==7.4.0 in /usr/local/lib/python3.7/dist-packages (from spacy<2.4.0->pycaret) (7.4.0)\n",
            "Requirement already satisfied: cymem<2.1.0,>=2.0.2 in /usr/local/lib/python3.7/dist-packages (from spacy<2.4.0->pycaret) (2.0.6)\n",
            "Requirement already satisfied: murmurhash<1.1.0,>=0.28.0 in /usr/local/lib/python3.7/dist-packages (from spacy<2.4.0->pycaret) (1.0.6)\n",
            "Requirement already satisfied: importlib-metadata>=0.20 in /usr/local/lib/python3.7/dist-packages (from catalogue<1.1.0,>=0.0.7->spacy<2.4.0->pycaret) (4.8.2)\n",
            "Requirement already satisfied: zipp>=0.5 in /usr/local/lib/python3.7/dist-packages (from importlib-metadata>=0.20->catalogue<1.1.0,>=0.0.7->spacy<2.4.0->pycaret) (3.6.0)\n",
            "Requirement already satisfied: notebook>=4.4.1 in /usr/local/lib/python3.7/dist-packages (from widgetsnbextension~=3.5.0->ipywidgets->pycaret) (5.3.1)\n",
            "Requirement already satisfied: terminado>=0.8.1 in /usr/local/lib/python3.7/dist-packages (from notebook>=4.4.1->widgetsnbextension~=3.5.0->ipywidgets->pycaret) (0.12.1)\n",
            "Requirement already satisfied: nbconvert in /usr/local/lib/python3.7/dist-packages (from notebook>=4.4.1->widgetsnbextension~=3.5.0->ipywidgets->pycaret) (5.6.1)\n",
            "Requirement already satisfied: Send2Trash in /usr/local/lib/python3.7/dist-packages (from notebook>=4.4.1->widgetsnbextension~=3.5.0->ipywidgets->pycaret) (1.8.0)\n",
            "Requirement already satisfied: pyzmq>=13 in /usr/local/lib/python3.7/dist-packages (from jupyter-client->ipykernel>=4.5.1->ipywidgets->pycaret) (22.3.0)\n",
            "Requirement already satisfied: ptyprocess in /usr/local/lib/python3.7/dist-packages (from terminado>=0.8.1->notebook>=4.4.1->widgetsnbextension~=3.5.0->ipywidgets->pycaret) (0.7.0)\n",
            "Requirement already satisfied: PyWavelets in /usr/local/lib/python3.7/dist-packages (from imagehash->visions[type_image_path]==0.7.4->pandas-profiling>=2.8.0->pycaret) (1.2.0)\n",
            "Requirement already satisfied: packaging in /usr/local/lib/python3.7/dist-packages (from mlflow->pycaret) (21.3)\n",
            "Requirement already satisfied: sqlparse>=0.3.1 in /usr/local/lib/python3.7/dist-packages (from mlflow->pycaret) (0.4.2)\n",
            "Collecting querystring-parser\n",
            "  Downloading querystring_parser-1.2.4-py2.py3-none-any.whl (7.9 kB)\n",
            "Collecting docker>=4.0.0\n",
            "  Downloading docker-5.0.3-py2.py3-none-any.whl (146 kB)\n",
            "\u001b[K     |████████████████████████████████| 146 kB 75.8 MB/s \n",
            "\u001b[?25hCollecting alembic<=1.4.1\n",
            "  Downloading alembic-1.4.1.tar.gz (1.1 MB)\n",
            "\u001b[K     |████████████████████████████████| 1.1 MB 74.7 MB/s \n",
            "\u001b[?25hRequirement already satisfied: sqlalchemy in /usr/local/lib/python3.7/dist-packages (from mlflow->pycaret) (1.4.27)\n",
            "Collecting databricks-cli>=0.8.7\n",
            "  Downloading databricks-cli-0.16.2.tar.gz (58 kB)\n",
            "\u001b[K     |████████████████████████████████| 58 kB 5.9 MB/s \n",
            "\u001b[?25hRequirement already satisfied: click>=7.0 in /usr/local/lib/python3.7/dist-packages (from mlflow->pycaret) (7.1.2)\n",
            "Requirement already satisfied: entrypoints in /usr/local/lib/python3.7/dist-packages (from mlflow->pycaret) (0.3)\n",
            "Collecting gitpython>=2.1.0\n",
            "  Downloading GitPython-3.1.24-py3-none-any.whl (180 kB)\n",
            "\u001b[K     |████████████████████████████████| 180 kB 65.7 MB/s \n",
            "\u001b[?25hRequirement already satisfied: cloudpickle in /usr/local/lib/python3.7/dist-packages (from mlflow->pycaret) (1.3.0)\n",
            "Collecting prometheus-flask-exporter\n",
            "  Downloading prometheus_flask_exporter-0.18.6-py3-none-any.whl (17 kB)\n",
            "Requirement already satisfied: protobuf>=3.7.0 in /usr/local/lib/python3.7/dist-packages (from mlflow->pycaret) (3.17.3)\n",
            "Requirement already satisfied: Flask in /usr/local/lib/python3.7/dist-packages (from mlflow->pycaret) (1.1.4)\n",
            "Collecting gunicorn\n",
            "  Downloading gunicorn-20.1.0-py3-none-any.whl (79 kB)\n",
            "\u001b[K     |████████████████████████████████| 79 kB 8.7 MB/s \n",
            "\u001b[?25hCollecting Mako\n",
            "  Downloading Mako-1.1.6-py2.py3-none-any.whl (75 kB)\n",
            "\u001b[K     |████████████████████████████████| 75 kB 4.6 MB/s \n",
            "\u001b[?25hCollecting python-editor>=0.3\n",
            "  Downloading python_editor-1.0.4-py3-none-any.whl (4.9 kB)\n",
            "Requirement already satisfied: tabulate>=0.7.7 in /usr/local/lib/python3.7/dist-packages (from databricks-cli>=0.8.7->mlflow->pycaret) (0.8.9)\n",
            "Collecting websocket-client>=0.32.0\n",
            "  Downloading websocket_client-1.2.1-py2.py3-none-any.whl (52 kB)\n",
            "\u001b[K     |████████████████████████████████| 52 kB 1.6 MB/s \n",
            "\u001b[?25hCollecting gitdb<5,>=4.0.1\n",
            "  Downloading gitdb-4.0.9-py3-none-any.whl (63 kB)\n",
            "\u001b[K     |████████████████████████████████| 63 kB 1.8 MB/s \n",
            "\u001b[?25hCollecting smmap<6,>=3.0.1\n",
            "  Downloading smmap-5.0.0-py3-none-any.whl (24 kB)\n",
            "Requirement already satisfied: greenlet!=0.4.17 in /usr/local/lib/python3.7/dist-packages (from sqlalchemy->mlflow->pycaret) (1.1.2)\n",
            "Requirement already satisfied: itsdangerous<2.0,>=0.24 in /usr/local/lib/python3.7/dist-packages (from Flask->mlflow->pycaret) (1.1.0)\n",
            "Requirement already satisfied: Werkzeug<2.0,>=0.15 in /usr/local/lib/python3.7/dist-packages (from Flask->mlflow->pycaret) (1.0.1)\n",
            "Requirement already satisfied: testpath in /usr/local/lib/python3.7/dist-packages (from nbconvert->notebook>=4.4.1->widgetsnbextension~=3.5.0->ipywidgets->pycaret) (0.5.0)\n",
            "Requirement already satisfied: bleach in /usr/local/lib/python3.7/dist-packages (from nbconvert->notebook>=4.4.1->widgetsnbextension~=3.5.0->ipywidgets->pycaret) (4.1.0)\n",
            "Requirement already satisfied: defusedxml in /usr/local/lib/python3.7/dist-packages (from nbconvert->notebook>=4.4.1->widgetsnbextension~=3.5.0->ipywidgets->pycaret) (0.7.1)\n",
            "Requirement already satisfied: pandocfilters>=1.4.1 in /usr/local/lib/python3.7/dist-packages (from nbconvert->notebook>=4.4.1->widgetsnbextension~=3.5.0->ipywidgets->pycaret) (1.5.0)\n",
            "Requirement already satisfied: mistune<2,>=0.8.1 in /usr/local/lib/python3.7/dist-packages (from nbconvert->notebook>=4.4.1->widgetsnbextension~=3.5.0->ipywidgets->pycaret) (0.8.4)\n",
            "Requirement already satisfied: webencodings in /usr/local/lib/python3.7/dist-packages (from bleach->nbconvert->notebook>=4.4.1->widgetsnbextension~=3.5.0->ipywidgets->pycaret) (0.5.1)\n",
            "Requirement already satisfied: prometheus-client in /usr/local/lib/python3.7/dist-packages (from prometheus-flask-exporter->mlflow->pycaret) (0.12.0)\n",
            "Collecting pyLDAvis\n",
            "  Downloading pyLDAvis-3.3.0.tar.gz (1.7 MB)\n",
            "\u001b[K     |████████████████████████████████| 1.7 MB 76.2 MB/s \n",
            "\u001b[?25h  Installing build dependencies ... \u001b[?25l\u001b[?25hdone\n",
            "  Getting requirements to build wheel ... \u001b[?25l\u001b[?25hdone\n",
            "  Installing backend dependencies ... \u001b[?25l\u001b[?25hdone\n",
            "    Preparing wheel metadata ... \u001b[?25l\u001b[?25hdone\n",
            "  Downloading pyLDAvis-3.2.2.tar.gz (1.7 MB)\n",
            "\u001b[K     |████████████████████████████████| 1.7 MB 53.6 MB/s \n",
            "\u001b[?25hRequirement already satisfied: numexpr in /usr/local/lib/python3.7/dist-packages (from pyLDAvis->pycaret) (2.7.3)\n",
            "Requirement already satisfied: future in /usr/local/lib/python3.7/dist-packages (from pyLDAvis->pycaret) (0.16.0)\n",
            "Collecting funcy\n",
            "  Downloading funcy-1.16-py2.py3-none-any.whl (32 kB)\n",
            "Requirement already satisfied: numba>=0.35 in /usr/local/lib/python3.7/dist-packages (from pyod->pycaret) (0.51.2)\n",
            "Requirement already satisfied: statsmodels in /usr/local/lib/python3.7/dist-packages (from pyod->pycaret) (0.10.2)\n",
            "Requirement already satisfied: llvmlite<0.35,>=0.34.0.dev0 in /usr/local/lib/python3.7/dist-packages (from numba>=0.35->pyod->pycaret) (0.34.0)\n",
            "Requirement already satisfied: patsy>=0.4.0 in /usr/local/lib/python3.7/dist-packages (from statsmodels->pyod->pycaret) (0.5.2)\n",
            "Collecting pynndescent>=0.5\n",
            "  Downloading pynndescent-0.5.5.tar.gz (1.1 MB)\n",
            "\u001b[K     |████████████████████████████████| 1.1 MB 55.5 MB/s \n",
            "\u001b[?25hBuilding wheels for collected packages: htmlmin, imagehash, alembic, databricks-cli, pyLDAvis, pyod, umap-learn, pynndescent\n",
            "  Building wheel for htmlmin (setup.py) ... \u001b[?25l\u001b[?25hdone\n",
            "  Created wheel for htmlmin: filename=htmlmin-0.1.12-py3-none-any.whl size=27098 sha256=4cdfd0237dc52b12b3f988fb58ad801e0e5bbd38d4bf5c6b0101586a02f71b4f\n",
            "  Stored in directory: /root/.cache/pip/wheels/70/e1/52/5b14d250ba868768823940c3229e9950d201a26d0bd3ee8655\n",
            "  Building wheel for imagehash (setup.py) ... \u001b[?25l\u001b[?25hdone\n",
            "  Created wheel for imagehash: filename=ImageHash-4.2.1-py2.py3-none-any.whl size=295207 sha256=e1d3fbb0dbf2008cec40422b6d57c26708e7dfd35a22159a2822c99feefb16d8\n",
            "  Stored in directory: /root/.cache/pip/wheels/4c/d5/59/5e3e297533ddb09407769762985d134135064c6831e29a914e\n",
            "  Building wheel for alembic (setup.py) ... \u001b[?25l\u001b[?25hdone\n",
            "  Created wheel for alembic: filename=alembic-1.4.1-py2.py3-none-any.whl size=158172 sha256=38d7388e9a26e1b073dc37620bb3bd14c86dd88f50fbf9860c3fca977bb0cc4e\n",
            "  Stored in directory: /root/.cache/pip/wheels/be/5d/0a/9e13f53f4f5dfb67cd8d245bb7cdffe12f135846f491a283e3\n",
            "  Building wheel for databricks-cli (setup.py) ... \u001b[?25l\u001b[?25hdone\n",
            "  Created wheel for databricks-cli: filename=databricks_cli-0.16.2-py3-none-any.whl size=106811 sha256=7151556f8cb86f657920cc57cee3ca00723d39aedadca3a2ba788f3b29a08224\n",
            "  Stored in directory: /root/.cache/pip/wheels/f4/5c/ed/e1ce20a53095f63b27b4964abbad03e59cf3472822addf7d29\n",
            "  Building wheel for pyLDAvis (setup.py) ... \u001b[?25l\u001b[?25hdone\n",
            "  Created wheel for pyLDAvis: filename=pyLDAvis-3.2.2-py2.py3-none-any.whl size=135618 sha256=14ed50e8cb89b2341892bdf78e09a152a28786108f334964d335a673a8db5300\n",
            "  Stored in directory: /root/.cache/pip/wheels/f8/b1/9b/560ac1931796b7303f7b517b949d2d31a4fbc512aad3b9f284\n",
            "  Building wheel for pyod (setup.py) ... \u001b[?25l\u001b[?25hdone\n",
            "  Created wheel for pyod: filename=pyod-0.9.5-py3-none-any.whl size=132699 sha256=a7050436b1f39de98f439e9a51be2eb60fb7a8b8bc20a2998f9f72ad292ed792\n",
            "  Stored in directory: /root/.cache/pip/wheels/3d/bb/b7/62b60fb451b33b0df1ab8006697fba7a6a49709a629055cf77\n",
            "  Building wheel for umap-learn (setup.py) ... \u001b[?25l\u001b[?25hdone\n",
            "  Created wheel for umap-learn: filename=umap_learn-0.5.2-py3-none-any.whl size=82709 sha256=caae873ecf11fc49ad039d7f25741bb85991f00e4c1d666155ca55f5a969f4f7\n",
            "  Stored in directory: /root/.cache/pip/wheels/84/1b/c6/aaf68a748122632967cef4dffef68224eb16798b6793257d82\n",
            "  Building wheel for pynndescent (setup.py) ... \u001b[?25l\u001b[?25hdone\n",
            "  Created wheel for pynndescent: filename=pynndescent-0.5.5-py3-none-any.whl size=52603 sha256=bc80fdd2640cde5b1ff0eae78a6edb78f74d5bf35404d609c54bfd9f329dc754\n",
            "  Stored in directory: /root/.cache/pip/wheels/af/e9/33/04db1436df0757c42fda8ea6796d7a8586e23c85fac355f476\n",
            "Successfully built htmlmin imagehash alembic databricks-cli pyLDAvis pyod umap-learn pynndescent\n",
            "Installing collected packages: tangled-up-in-unicode, smmap, scipy, multimethod, joblib, websocket-client, visions, scikit-learn, requests, python-editor, Mako, imagehash, gitdb, querystring-parser, PyYAML, pynndescent, pydantic, prometheus-flask-exporter, phik, htmlmin, gunicorn, gitpython, funcy, docker, databricks-cli, alembic, umap-learn, scikit-plot, pyod, pyLDAvis, pandas-profiling, mlxtend, mlflow, lightgbm, kmodes, imbalanced-learn, Boruta, pycaret\n",
            "  Attempting uninstall: scipy\n",
            "    Found existing installation: scipy 1.4.1\n",
            "    Uninstalling scipy-1.4.1:\n",
            "      Successfully uninstalled scipy-1.4.1\n",
            "  Attempting uninstall: joblib\n",
            "    Found existing installation: joblib 1.1.0\n",
            "    Uninstalling joblib-1.1.0:\n",
            "      Successfully uninstalled joblib-1.1.0\n",
            "  Attempting uninstall: scikit-learn\n",
            "    Found existing installation: scikit-learn 1.0.1\n",
            "    Uninstalling scikit-learn-1.0.1:\n",
            "      Successfully uninstalled scikit-learn-1.0.1\n",
            "  Attempting uninstall: requests\n",
            "    Found existing installation: requests 2.23.0\n",
            "    Uninstalling requests-2.23.0:\n",
            "      Successfully uninstalled requests-2.23.0\n",
            "  Attempting uninstall: PyYAML\n",
            "    Found existing installation: PyYAML 3.13\n",
            "    Uninstalling PyYAML-3.13:\n",
            "      Successfully uninstalled PyYAML-3.13\n",
            "  Attempting uninstall: pandas-profiling\n",
            "    Found existing installation: pandas-profiling 1.4.1\n",
            "    Uninstalling pandas-profiling-1.4.1:\n",
            "      Successfully uninstalled pandas-profiling-1.4.1\n",
            "  Attempting uninstall: mlxtend\n",
            "    Found existing installation: mlxtend 0.14.0\n",
            "    Uninstalling mlxtend-0.14.0:\n",
            "      Successfully uninstalled mlxtend-0.14.0\n",
            "  Attempting uninstall: lightgbm\n",
            "    Found existing installation: lightgbm 2.2.3\n",
            "    Uninstalling lightgbm-2.2.3:\n",
            "      Successfully uninstalled lightgbm-2.2.3\n",
            "  Attempting uninstall: imbalanced-learn\n",
            "    Found existing installation: imbalanced-learn 0.8.1\n",
            "    Uninstalling imbalanced-learn-0.8.1:\n",
            "      Successfully uninstalled imbalanced-learn-0.8.1\n",
            "\u001b[31mERROR: pip's dependency resolver does not currently take into account all the packages that are installed. This behaviour is the source of the following dependency conflicts.\n",
            "google-colab 1.0.0 requires requests~=2.23.0, but you have requests 2.26.0 which is incompatible.\n",
            "datascience 0.10.6 requires folium==0.2.1, but you have folium 0.8.3 which is incompatible.\n",
            "albumentations 0.1.12 requires imgaug<0.2.7,>=0.2.5, but you have imgaug 0.2.9 which is incompatible.\u001b[0m\n",
            "Successfully installed Boruta-0.3 Mako-1.1.6 PyYAML-6.0 alembic-1.4.1 databricks-cli-0.16.2 docker-5.0.3 funcy-1.16 gitdb-4.0.9 gitpython-3.1.24 gunicorn-20.1.0 htmlmin-0.1.12 imagehash-4.2.1 imbalanced-learn-0.7.0 joblib-1.0.1 kmodes-0.11.1 lightgbm-3.3.1 mlflow-1.21.0 mlxtend-0.19.0 multimethod-1.6 pandas-profiling-3.1.0 phik-0.12.0 prometheus-flask-exporter-0.18.6 pyLDAvis-3.2.2 pycaret-2.3.5 pydantic-1.8.2 pynndescent-0.5.5 pyod-0.9.5 python-editor-1.0.4 querystring-parser-1.2.4 requests-2.26.0 scikit-learn-0.23.2 scikit-plot-0.3.7 scipy-1.5.4 smmap-5.0.0 tangled-up-in-unicode-0.1.0 umap-learn-0.5.2 visions-0.7.4 websocket-client-1.2.1\n"
          ]
        },
        {
          "output_type": "display_data",
          "data": {
            "application/vnd.colab-display-data+json": {
              "pip_warning": {
                "packages": [
                  "scipy"
                ]
              }
            }
          },
          "metadata": {}
        }
      ]
    },
    {
      "cell_type": "code",
      "metadata": {
        "id": "LlVMp_UXwOXX",
        "colab": {
          "base_uri": "https://localhost:8080/",
          "height": 35
        },
        "outputId": "aaf5ee35-95af-44a5-abfe-5775e7049534"
      },
      "source": [
        "# check version\n",
        "from pycaret.utils import version\n",
        "version()"
      ],
      "execution_count": 16,
      "outputs": [
        {
          "output_type": "execute_result",
          "data": {
            "application/vnd.google.colaboratory.intrinsic+json": {
              "type": "string"
            },
            "text/plain": [
              "'2.3.5'"
            ]
          },
          "metadata": {},
          "execution_count": 16
        }
      ]
    },
    {
      "cell_type": "code",
      "metadata": {
        "id": "qWhvmnEAhMJa"
      },
      "source": [
        "from pycaret.classification import*"
      ],
      "execution_count": 17,
      "outputs": []
    },
    {
      "cell_type": "markdown",
      "metadata": {
        "id": "zD290GGwthQg"
      },
      "source": [
        "## autoML using df"
      ]
    },
    {
      "cell_type": "code",
      "metadata": {
        "id": "ulcFCvV1thQg",
        "colab": {
          "base_uri": "https://localhost:8080/",
          "height": 224
        },
        "outputId": "ecc2704f-ca9e-4624-9a0c-4b67ede9f8ed"
      },
      "source": [
        "df.head()"
      ],
      "execution_count": 18,
      "outputs": [
        {
          "output_type": "execute_result",
          "data": {
            "text/html": [
              "<div>\n",
              "<style scoped>\n",
              "    .dataframe tbody tr th:only-of-type {\n",
              "        vertical-align: middle;\n",
              "    }\n",
              "\n",
              "    .dataframe tbody tr th {\n",
              "        vertical-align: top;\n",
              "    }\n",
              "\n",
              "    .dataframe thead th {\n",
              "        text-align: right;\n",
              "    }\n",
              "</style>\n",
              "<table border=\"1\" class=\"dataframe\">\n",
              "  <thead>\n",
              "    <tr style=\"text-align: right;\">\n",
              "      <th></th>\n",
              "      <th>Pregnancies</th>\n",
              "      <th>Glucose</th>\n",
              "      <th>BloodPressure</th>\n",
              "      <th>SkinThickness</th>\n",
              "      <th>Insulin</th>\n",
              "      <th>BMI</th>\n",
              "      <th>DiabetesPedigreeFunction</th>\n",
              "      <th>Age</th>\n",
              "      <th>Outcome</th>\n",
              "    </tr>\n",
              "  </thead>\n",
              "  <tbody>\n",
              "    <tr>\n",
              "      <th>0</th>\n",
              "      <td>6</td>\n",
              "      <td>148.0</td>\n",
              "      <td>72.0</td>\n",
              "      <td>35.0</td>\n",
              "      <td>125.0</td>\n",
              "      <td>33.6</td>\n",
              "      <td>0.627</td>\n",
              "      <td>50</td>\n",
              "      <td>1</td>\n",
              "    </tr>\n",
              "    <tr>\n",
              "      <th>1</th>\n",
              "      <td>1</td>\n",
              "      <td>85.0</td>\n",
              "      <td>66.0</td>\n",
              "      <td>29.0</td>\n",
              "      <td>125.0</td>\n",
              "      <td>26.6</td>\n",
              "      <td>0.351</td>\n",
              "      <td>31</td>\n",
              "      <td>0</td>\n",
              "    </tr>\n",
              "    <tr>\n",
              "      <th>2</th>\n",
              "      <td>8</td>\n",
              "      <td>183.0</td>\n",
              "      <td>64.0</td>\n",
              "      <td>29.0</td>\n",
              "      <td>125.0</td>\n",
              "      <td>23.3</td>\n",
              "      <td>0.672</td>\n",
              "      <td>32</td>\n",
              "      <td>1</td>\n",
              "    </tr>\n",
              "    <tr>\n",
              "      <th>3</th>\n",
              "      <td>1</td>\n",
              "      <td>89.0</td>\n",
              "      <td>66.0</td>\n",
              "      <td>23.0</td>\n",
              "      <td>94.0</td>\n",
              "      <td>28.1</td>\n",
              "      <td>0.167</td>\n",
              "      <td>21</td>\n",
              "      <td>0</td>\n",
              "    </tr>\n",
              "    <tr>\n",
              "      <th>4</th>\n",
              "      <td>0</td>\n",
              "      <td>137.0</td>\n",
              "      <td>40.0</td>\n",
              "      <td>35.0</td>\n",
              "      <td>168.0</td>\n",
              "      <td>43.1</td>\n",
              "      <td>2.288</td>\n",
              "      <td>33</td>\n",
              "      <td>1</td>\n",
              "    </tr>\n",
              "  </tbody>\n",
              "</table>\n",
              "</div>"
            ],
            "text/plain": [
              "   Pregnancies  Glucose  BloodPressure  SkinThickness  Insulin   BMI  \\\n",
              "0            6    148.0           72.0           35.0    125.0  33.6   \n",
              "1            1     85.0           66.0           29.0    125.0  26.6   \n",
              "2            8    183.0           64.0           29.0    125.0  23.3   \n",
              "3            1     89.0           66.0           23.0     94.0  28.1   \n",
              "4            0    137.0           40.0           35.0    168.0  43.1   \n",
              "\n",
              "   DiabetesPedigreeFunction  Age  Outcome  \n",
              "0                     0.627   50        1  \n",
              "1                     0.351   31        0  \n",
              "2                     0.672   32        1  \n",
              "3                     0.167   21        0  \n",
              "4                     2.288   33        1  "
            ]
          },
          "metadata": {},
          "execution_count": 18
        }
      ]
    },
    {
      "cell_type": "markdown",
      "metadata": {
        "id": "xyiBSlUtthQh"
      },
      "source": [
        "### Make data for pycaret autoML"
      ]
    },
    {
      "cell_type": "code",
      "metadata": {
        "id": "2bVE8DRJnw3I",
        "colab": {
          "base_uri": "https://localhost:8080/"
        },
        "outputId": "24c83a22-00d6-4489-bb05-03da7454f116"
      },
      "source": [
        "data = df.sample(frac=0.8, random_state=786)  # 8:2 split\n",
        "data_unseen = df.drop(data.index).reset_index(drop=True)  # test data : 20%\n",
        "data.reset_index(drop=True, inplace=True)\n",
        "\n",
        "print('Data for Modeling: ' + str(data.shape))\n",
        "print('Unseen Data For Predictions ' + str(data_unseen.shape))"
      ],
      "execution_count": 19,
      "outputs": [
        {
          "output_type": "stream",
          "name": "stdout",
          "text": [
            "Data for Modeling: (614, 9)\n",
            "Unseen Data For Predictions (154, 9)\n"
          ]
        }
      ]
    },
    {
      "cell_type": "code",
      "metadata": {
        "id": "TLBLikI1nw3J",
        "colab": {
          "base_uri": "https://localhost:8080/",
          "height": 1000,
          "referenced_widgets": [
            "5865de4a7c3d45d4a22eea55aedabb58",
            "d762374454044048b3728f2002676cab",
            "e65a89d1dd444f10b60f5370e445aad3"
          ]
        },
        "outputId": "8a4ee40a-5e56-4d92-9e1e-af57235101ec"
      },
      "source": [
        "clf = setup(data = data, target = 'Outcome', session_id=1104, \n",
        "                    normalize=True, \n",
        "                    transformation=True, \n",
        "                    ignore_low_variance=True,\n",
        "        #    remove_multicollinearity=True, multicollinearity_threshold=0.95,\n",
        "                    silent=True)"
      ],
      "execution_count": 20,
      "outputs": [
        {
          "output_type": "display_data",
          "data": {
            "text/html": [
              "<div>\n",
              "<style scoped>\n",
              "    .dataframe tbody tr th:only-of-type {\n",
              "        vertical-align: middle;\n",
              "    }\n",
              "\n",
              "    .dataframe tbody tr th {\n",
              "        vertical-align: top;\n",
              "    }\n",
              "\n",
              "    .dataframe thead th {\n",
              "        text-align: right;\n",
              "    }\n",
              "</style>\n",
              "<table border=\"1\" class=\"dataframe\">\n",
              "  <thead>\n",
              "    <tr style=\"text-align: right;\">\n",
              "      <th></th>\n",
              "      <th>Description</th>\n",
              "      <th>Value</th>\n",
              "    </tr>\n",
              "  </thead>\n",
              "  <tbody>\n",
              "    <tr>\n",
              "      <th>0</th>\n",
              "      <td>session_id</td>\n",
              "      <td>1104</td>\n",
              "    </tr>\n",
              "    <tr>\n",
              "      <th>1</th>\n",
              "      <td>Target</td>\n",
              "      <td>Outcome</td>\n",
              "    </tr>\n",
              "    <tr>\n",
              "      <th>2</th>\n",
              "      <td>Target Type</td>\n",
              "      <td>Binary</td>\n",
              "    </tr>\n",
              "    <tr>\n",
              "      <th>3</th>\n",
              "      <td>Label Encoded</td>\n",
              "      <td>None</td>\n",
              "    </tr>\n",
              "    <tr>\n",
              "      <th>4</th>\n",
              "      <td>Original Data</td>\n",
              "      <td>(614, 9)</td>\n",
              "    </tr>\n",
              "    <tr>\n",
              "      <th>5</th>\n",
              "      <td>Missing Values</td>\n",
              "      <td>False</td>\n",
              "    </tr>\n",
              "    <tr>\n",
              "      <th>6</th>\n",
              "      <td>Numeric Features</td>\n",
              "      <td>7</td>\n",
              "    </tr>\n",
              "    <tr>\n",
              "      <th>7</th>\n",
              "      <td>Categorical Features</td>\n",
              "      <td>1</td>\n",
              "    </tr>\n",
              "    <tr>\n",
              "      <th>8</th>\n",
              "      <td>Ordinal Features</td>\n",
              "      <td>False</td>\n",
              "    </tr>\n",
              "    <tr>\n",
              "      <th>9</th>\n",
              "      <td>High Cardinality Features</td>\n",
              "      <td>False</td>\n",
              "    </tr>\n",
              "    <tr>\n",
              "      <th>10</th>\n",
              "      <td>High Cardinality Method</td>\n",
              "      <td>None</td>\n",
              "    </tr>\n",
              "    <tr>\n",
              "      <th>11</th>\n",
              "      <td>Transformed Train Set</td>\n",
              "      <td>(429, 23)</td>\n",
              "    </tr>\n",
              "    <tr>\n",
              "      <th>12</th>\n",
              "      <td>Transformed Test Set</td>\n",
              "      <td>(185, 23)</td>\n",
              "    </tr>\n",
              "    <tr>\n",
              "      <th>13</th>\n",
              "      <td>Shuffle Train-Test</td>\n",
              "      <td>True</td>\n",
              "    </tr>\n",
              "    <tr>\n",
              "      <th>14</th>\n",
              "      <td>Stratify Train-Test</td>\n",
              "      <td>False</td>\n",
              "    </tr>\n",
              "    <tr>\n",
              "      <th>15</th>\n",
              "      <td>Fold Generator</td>\n",
              "      <td>StratifiedKFold</td>\n",
              "    </tr>\n",
              "    <tr>\n",
              "      <th>16</th>\n",
              "      <td>Fold Number</td>\n",
              "      <td>10</td>\n",
              "    </tr>\n",
              "    <tr>\n",
              "      <th>17</th>\n",
              "      <td>CPU Jobs</td>\n",
              "      <td>-1</td>\n",
              "    </tr>\n",
              "    <tr>\n",
              "      <th>18</th>\n",
              "      <td>Use GPU</td>\n",
              "      <td>False</td>\n",
              "    </tr>\n",
              "    <tr>\n",
              "      <th>19</th>\n",
              "      <td>Log Experiment</td>\n",
              "      <td>False</td>\n",
              "    </tr>\n",
              "    <tr>\n",
              "      <th>20</th>\n",
              "      <td>Experiment Name</td>\n",
              "      <td>clf-default-name</td>\n",
              "    </tr>\n",
              "    <tr>\n",
              "      <th>21</th>\n",
              "      <td>USI</td>\n",
              "      <td>2e9e</td>\n",
              "    </tr>\n",
              "    <tr>\n",
              "      <th>22</th>\n",
              "      <td>Imputation Type</td>\n",
              "      <td>simple</td>\n",
              "    </tr>\n",
              "    <tr>\n",
              "      <th>23</th>\n",
              "      <td>Iterative Imputation Iteration</td>\n",
              "      <td>None</td>\n",
              "    </tr>\n",
              "    <tr>\n",
              "      <th>24</th>\n",
              "      <td>Numeric Imputer</td>\n",
              "      <td>mean</td>\n",
              "    </tr>\n",
              "    <tr>\n",
              "      <th>25</th>\n",
              "      <td>Iterative Imputation Numeric Model</td>\n",
              "      <td>None</td>\n",
              "    </tr>\n",
              "    <tr>\n",
              "      <th>26</th>\n",
              "      <td>Categorical Imputer</td>\n",
              "      <td>constant</td>\n",
              "    </tr>\n",
              "    <tr>\n",
              "      <th>27</th>\n",
              "      <td>Iterative Imputation Categorical Model</td>\n",
              "      <td>None</td>\n",
              "    </tr>\n",
              "    <tr>\n",
              "      <th>28</th>\n",
              "      <td>Unknown Categoricals Handling</td>\n",
              "      <td>least_frequent</td>\n",
              "    </tr>\n",
              "    <tr>\n",
              "      <th>29</th>\n",
              "      <td>Normalize</td>\n",
              "      <td>True</td>\n",
              "    </tr>\n",
              "    <tr>\n",
              "      <th>30</th>\n",
              "      <td>Normalize Method</td>\n",
              "      <td>zscore</td>\n",
              "    </tr>\n",
              "    <tr>\n",
              "      <th>31</th>\n",
              "      <td>Transformation</td>\n",
              "      <td>True</td>\n",
              "    </tr>\n",
              "    <tr>\n",
              "      <th>32</th>\n",
              "      <td>Transformation Method</td>\n",
              "      <td>yeo-johnson</td>\n",
              "    </tr>\n",
              "    <tr>\n",
              "      <th>33</th>\n",
              "      <td>PCA</td>\n",
              "      <td>False</td>\n",
              "    </tr>\n",
              "    <tr>\n",
              "      <th>34</th>\n",
              "      <td>PCA Method</td>\n",
              "      <td>None</td>\n",
              "    </tr>\n",
              "    <tr>\n",
              "      <th>35</th>\n",
              "      <td>PCA Components</td>\n",
              "      <td>None</td>\n",
              "    </tr>\n",
              "    <tr>\n",
              "      <th>36</th>\n",
              "      <td>Ignore Low Variance</td>\n",
              "      <td>True</td>\n",
              "    </tr>\n",
              "    <tr>\n",
              "      <th>37</th>\n",
              "      <td>Combine Rare Levels</td>\n",
              "      <td>False</td>\n",
              "    </tr>\n",
              "    <tr>\n",
              "      <th>38</th>\n",
              "      <td>Rare Level Threshold</td>\n",
              "      <td>None</td>\n",
              "    </tr>\n",
              "    <tr>\n",
              "      <th>39</th>\n",
              "      <td>Numeric Binning</td>\n",
              "      <td>False</td>\n",
              "    </tr>\n",
              "    <tr>\n",
              "      <th>40</th>\n",
              "      <td>Remove Outliers</td>\n",
              "      <td>False</td>\n",
              "    </tr>\n",
              "    <tr>\n",
              "      <th>41</th>\n",
              "      <td>Outliers Threshold</td>\n",
              "      <td>None</td>\n",
              "    </tr>\n",
              "    <tr>\n",
              "      <th>42</th>\n",
              "      <td>Remove Multicollinearity</td>\n",
              "      <td>False</td>\n",
              "    </tr>\n",
              "    <tr>\n",
              "      <th>43</th>\n",
              "      <td>Multicollinearity Threshold</td>\n",
              "      <td>None</td>\n",
              "    </tr>\n",
              "    <tr>\n",
              "      <th>44</th>\n",
              "      <td>Remove Perfect Collinearity</td>\n",
              "      <td>True</td>\n",
              "    </tr>\n",
              "    <tr>\n",
              "      <th>45</th>\n",
              "      <td>Clustering</td>\n",
              "      <td>False</td>\n",
              "    </tr>\n",
              "    <tr>\n",
              "      <th>46</th>\n",
              "      <td>Clustering Iteration</td>\n",
              "      <td>None</td>\n",
              "    </tr>\n",
              "    <tr>\n",
              "      <th>47</th>\n",
              "      <td>Polynomial Features</td>\n",
              "      <td>False</td>\n",
              "    </tr>\n",
              "    <tr>\n",
              "      <th>48</th>\n",
              "      <td>Polynomial Degree</td>\n",
              "      <td>None</td>\n",
              "    </tr>\n",
              "    <tr>\n",
              "      <th>49</th>\n",
              "      <td>Trignometry Features</td>\n",
              "      <td>False</td>\n",
              "    </tr>\n",
              "    <tr>\n",
              "      <th>50</th>\n",
              "      <td>Polynomial Threshold</td>\n",
              "      <td>None</td>\n",
              "    </tr>\n",
              "    <tr>\n",
              "      <th>51</th>\n",
              "      <td>Group Features</td>\n",
              "      <td>False</td>\n",
              "    </tr>\n",
              "    <tr>\n",
              "      <th>52</th>\n",
              "      <td>Feature Selection</td>\n",
              "      <td>False</td>\n",
              "    </tr>\n",
              "    <tr>\n",
              "      <th>53</th>\n",
              "      <td>Feature Selection Method</td>\n",
              "      <td>classic</td>\n",
              "    </tr>\n",
              "    <tr>\n",
              "      <th>54</th>\n",
              "      <td>Features Selection Threshold</td>\n",
              "      <td>None</td>\n",
              "    </tr>\n",
              "    <tr>\n",
              "      <th>55</th>\n",
              "      <td>Feature Interaction</td>\n",
              "      <td>False</td>\n",
              "    </tr>\n",
              "    <tr>\n",
              "      <th>56</th>\n",
              "      <td>Feature Ratio</td>\n",
              "      <td>False</td>\n",
              "    </tr>\n",
              "    <tr>\n",
              "      <th>57</th>\n",
              "      <td>Interaction Threshold</td>\n",
              "      <td>None</td>\n",
              "    </tr>\n",
              "    <tr>\n",
              "      <th>58</th>\n",
              "      <td>Fix Imbalance</td>\n",
              "      <td>False</td>\n",
              "    </tr>\n",
              "    <tr>\n",
              "      <th>59</th>\n",
              "      <td>Fix Imbalance Method</td>\n",
              "      <td>SMOTE</td>\n",
              "    </tr>\n",
              "  </tbody>\n",
              "</table>\n",
              "</div>"
            ],
            "text/plain": [
              "                               Description             Value\n",
              "0                               session_id              1104\n",
              "1                                   Target           Outcome\n",
              "2                              Target Type            Binary\n",
              "3                            Label Encoded              None\n",
              "4                            Original Data          (614, 9)\n",
              "5                           Missing Values             False\n",
              "6                         Numeric Features                 7\n",
              "7                     Categorical Features                 1\n",
              "8                         Ordinal Features             False\n",
              "9                High Cardinality Features             False\n",
              "10                 High Cardinality Method              None\n",
              "11                   Transformed Train Set         (429, 23)\n",
              "12                    Transformed Test Set         (185, 23)\n",
              "13                      Shuffle Train-Test              True\n",
              "14                     Stratify Train-Test             False\n",
              "15                          Fold Generator   StratifiedKFold\n",
              "16                             Fold Number                10\n",
              "17                                CPU Jobs                -1\n",
              "18                                 Use GPU             False\n",
              "19                          Log Experiment             False\n",
              "20                         Experiment Name  clf-default-name\n",
              "21                                     USI              2e9e\n",
              "22                         Imputation Type            simple\n",
              "23          Iterative Imputation Iteration              None\n",
              "24                         Numeric Imputer              mean\n",
              "25      Iterative Imputation Numeric Model              None\n",
              "26                     Categorical Imputer          constant\n",
              "27  Iterative Imputation Categorical Model              None\n",
              "28           Unknown Categoricals Handling    least_frequent\n",
              "29                               Normalize              True\n",
              "30                        Normalize Method            zscore\n",
              "31                          Transformation              True\n",
              "32                   Transformation Method       yeo-johnson\n",
              "33                                     PCA             False\n",
              "34                              PCA Method              None\n",
              "35                          PCA Components              None\n",
              "36                     Ignore Low Variance              True\n",
              "37                     Combine Rare Levels             False\n",
              "38                    Rare Level Threshold              None\n",
              "39                         Numeric Binning             False\n",
              "40                         Remove Outliers             False\n",
              "41                      Outliers Threshold              None\n",
              "42                Remove Multicollinearity             False\n",
              "43             Multicollinearity Threshold              None\n",
              "44             Remove Perfect Collinearity              True\n",
              "45                              Clustering             False\n",
              "46                    Clustering Iteration              None\n",
              "47                     Polynomial Features             False\n",
              "48                       Polynomial Degree              None\n",
              "49                    Trignometry Features             False\n",
              "50                    Polynomial Threshold              None\n",
              "51                          Group Features             False\n",
              "52                       Feature Selection             False\n",
              "53                Feature Selection Method           classic\n",
              "54            Features Selection Threshold              None\n",
              "55                     Feature Interaction             False\n",
              "56                           Feature Ratio             False\n",
              "57                   Interaction Threshold              None\n",
              "58                           Fix Imbalance             False\n",
              "59                    Fix Imbalance Method             SMOTE"
            ]
          },
          "metadata": {}
        }
      ]
    },
    {
      "cell_type": "code",
      "metadata": {
        "id": "dGLkthiNnw3K",
        "colab": {
          "base_uri": "https://localhost:8080/",
          "height": 602,
          "referenced_widgets": [
            "8e010f9e57644e0f84b97be10ab7358a",
            "556ea071eb8b4ab688dccba730cb9b7d",
            "b9a664eefdaa4a878e653a0e2a357bb8"
          ]
        },
        "outputId": "93db1efb-cab6-43f1-ae83-b850352ace63"
      },
      "source": [
        "best_model = compare_models(sort='Accuracy')\n",
        "# compare_models(sort='AUC')"
      ],
      "execution_count": 21,
      "outputs": [
        {
          "output_type": "display_data",
          "data": {
            "text/html": [
              "<div>\n",
              "<style scoped>\n",
              "    .dataframe tbody tr th:only-of-type {\n",
              "        vertical-align: middle;\n",
              "    }\n",
              "\n",
              "    .dataframe tbody tr th {\n",
              "        vertical-align: top;\n",
              "    }\n",
              "\n",
              "    .dataframe thead th {\n",
              "        text-align: right;\n",
              "    }\n",
              "</style>\n",
              "<table border=\"1\" class=\"dataframe\">\n",
              "  <thead>\n",
              "    <tr style=\"text-align: right;\">\n",
              "      <th></th>\n",
              "      <th>Model</th>\n",
              "      <th>Accuracy</th>\n",
              "      <th>AUC</th>\n",
              "      <th>Recall</th>\n",
              "      <th>Prec.</th>\n",
              "      <th>F1</th>\n",
              "      <th>Kappa</th>\n",
              "      <th>MCC</th>\n",
              "      <th>TT (Sec)</th>\n",
              "    </tr>\n",
              "  </thead>\n",
              "  <tbody>\n",
              "    <tr>\n",
              "      <th>gbc</th>\n",
              "      <td>Gradient Boosting Classifier</td>\n",
              "      <td>0.7694</td>\n",
              "      <td>0.8225</td>\n",
              "      <td>0.5919</td>\n",
              "      <td>0.6979</td>\n",
              "      <td>0.6362</td>\n",
              "      <td>0.4704</td>\n",
              "      <td>0.4769</td>\n",
              "      <td>0.110</td>\n",
              "    </tr>\n",
              "    <tr>\n",
              "      <th>rf</th>\n",
              "      <td>Random Forest Classifier</td>\n",
              "      <td>0.7601</td>\n",
              "      <td>0.8145</td>\n",
              "      <td>0.5443</td>\n",
              "      <td>0.6993</td>\n",
              "      <td>0.6098</td>\n",
              "      <td>0.4413</td>\n",
              "      <td>0.4498</td>\n",
              "      <td>0.509</td>\n",
              "    </tr>\n",
              "    <tr>\n",
              "      <th>lr</th>\n",
              "      <td>Logistic Regression</td>\n",
              "      <td>0.7485</td>\n",
              "      <td>0.8164</td>\n",
              "      <td>0.5786</td>\n",
              "      <td>0.6581</td>\n",
              "      <td>0.6103</td>\n",
              "      <td>0.4274</td>\n",
              "      <td>0.4330</td>\n",
              "      <td>0.306</td>\n",
              "    </tr>\n",
              "    <tr>\n",
              "      <th>ridge</th>\n",
              "      <td>Ridge Classifier</td>\n",
              "      <td>0.7415</td>\n",
              "      <td>0.0000</td>\n",
              "      <td>0.5581</td>\n",
              "      <td>0.6464</td>\n",
              "      <td>0.5920</td>\n",
              "      <td>0.4069</td>\n",
              "      <td>0.4133</td>\n",
              "      <td>0.014</td>\n",
              "    </tr>\n",
              "    <tr>\n",
              "      <th>lda</th>\n",
              "      <td>Linear Discriminant Analysis</td>\n",
              "      <td>0.7415</td>\n",
              "      <td>0.8074</td>\n",
              "      <td>0.5648</td>\n",
              "      <td>0.6438</td>\n",
              "      <td>0.5942</td>\n",
              "      <td>0.4083</td>\n",
              "      <td>0.4148</td>\n",
              "      <td>0.017</td>\n",
              "    </tr>\n",
              "    <tr>\n",
              "      <th>ada</th>\n",
              "      <td>Ada Boost Classifier</td>\n",
              "      <td>0.7413</td>\n",
              "      <td>0.7938</td>\n",
              "      <td>0.5771</td>\n",
              "      <td>0.6440</td>\n",
              "      <td>0.6061</td>\n",
              "      <td>0.4149</td>\n",
              "      <td>0.4181</td>\n",
              "      <td>0.104</td>\n",
              "    </tr>\n",
              "    <tr>\n",
              "      <th>et</th>\n",
              "      <td>Extra Trees Classifier</td>\n",
              "      <td>0.7366</td>\n",
              "      <td>0.7932</td>\n",
              "      <td>0.4905</td>\n",
              "      <td>0.6589</td>\n",
              "      <td>0.5578</td>\n",
              "      <td>0.3789</td>\n",
              "      <td>0.3887</td>\n",
              "      <td>0.463</td>\n",
              "    </tr>\n",
              "    <tr>\n",
              "      <th>knn</th>\n",
              "      <td>K Neighbors Classifier</td>\n",
              "      <td>0.7343</td>\n",
              "      <td>0.7877</td>\n",
              "      <td>0.5781</td>\n",
              "      <td>0.6289</td>\n",
              "      <td>0.6003</td>\n",
              "      <td>0.4025</td>\n",
              "      <td>0.4049</td>\n",
              "      <td>0.118</td>\n",
              "    </tr>\n",
              "    <tr>\n",
              "      <th>lightgbm</th>\n",
              "      <td>Light Gradient Boosting Machine</td>\n",
              "      <td>0.7274</td>\n",
              "      <td>0.7884</td>\n",
              "      <td>0.5781</td>\n",
              "      <td>0.6145</td>\n",
              "      <td>0.5945</td>\n",
              "      <td>0.3899</td>\n",
              "      <td>0.3912</td>\n",
              "      <td>0.077</td>\n",
              "    </tr>\n",
              "    <tr>\n",
              "      <th>svm</th>\n",
              "      <td>SVM - Linear Kernel</td>\n",
              "      <td>0.6785</td>\n",
              "      <td>0.0000</td>\n",
              "      <td>0.4629</td>\n",
              "      <td>0.5308</td>\n",
              "      <td>0.4846</td>\n",
              "      <td>0.2585</td>\n",
              "      <td>0.2636</td>\n",
              "      <td>0.015</td>\n",
              "    </tr>\n",
              "    <tr>\n",
              "      <th>dt</th>\n",
              "      <td>Decision Tree Classifier</td>\n",
              "      <td>0.6693</td>\n",
              "      <td>0.6340</td>\n",
              "      <td>0.5181</td>\n",
              "      <td>0.5228</td>\n",
              "      <td>0.5161</td>\n",
              "      <td>0.2667</td>\n",
              "      <td>0.2690</td>\n",
              "      <td>0.018</td>\n",
              "    </tr>\n",
              "    <tr>\n",
              "      <th>dummy</th>\n",
              "      <td>Dummy Classifier</td>\n",
              "      <td>0.6527</td>\n",
              "      <td>0.5000</td>\n",
              "      <td>0.0000</td>\n",
              "      <td>0.0000</td>\n",
              "      <td>0.0000</td>\n",
              "      <td>0.0000</td>\n",
              "      <td>0.0000</td>\n",
              "      <td>0.013</td>\n",
              "    </tr>\n",
              "    <tr>\n",
              "      <th>nb</th>\n",
              "      <td>Naive Bayes</td>\n",
              "      <td>0.6457</td>\n",
              "      <td>0.7315</td>\n",
              "      <td>0.0671</td>\n",
              "      <td>0.3500</td>\n",
              "      <td>0.1066</td>\n",
              "      <td>0.0251</td>\n",
              "      <td>0.0383</td>\n",
              "      <td>0.015</td>\n",
              "    </tr>\n",
              "    <tr>\n",
              "      <th>qda</th>\n",
              "      <td>Quadratic Discriminant Analysis</td>\n",
              "      <td>0.5899</td>\n",
              "      <td>0.5536</td>\n",
              "      <td>0.3067</td>\n",
              "      <td>0.3148</td>\n",
              "      <td>0.2603</td>\n",
              "      <td>0.0457</td>\n",
              "      <td>0.0479</td>\n",
              "      <td>0.017</td>\n",
              "    </tr>\n",
              "  </tbody>\n",
              "</table>\n",
              "</div>"
            ],
            "text/plain": [
              "                                    Model  Accuracy     AUC  Recall   Prec.  \\\n",
              "gbc          Gradient Boosting Classifier    0.7694  0.8225  0.5919  0.6979   \n",
              "rf               Random Forest Classifier    0.7601  0.8145  0.5443  0.6993   \n",
              "lr                    Logistic Regression    0.7485  0.8164  0.5786  0.6581   \n",
              "ridge                    Ridge Classifier    0.7415  0.0000  0.5581  0.6464   \n",
              "lda          Linear Discriminant Analysis    0.7415  0.8074  0.5648  0.6438   \n",
              "ada                  Ada Boost Classifier    0.7413  0.7938  0.5771  0.6440   \n",
              "et                 Extra Trees Classifier    0.7366  0.7932  0.4905  0.6589   \n",
              "knn                K Neighbors Classifier    0.7343  0.7877  0.5781  0.6289   \n",
              "lightgbm  Light Gradient Boosting Machine    0.7274  0.7884  0.5781  0.6145   \n",
              "svm                   SVM - Linear Kernel    0.6785  0.0000  0.4629  0.5308   \n",
              "dt               Decision Tree Classifier    0.6693  0.6340  0.5181  0.5228   \n",
              "dummy                    Dummy Classifier    0.6527  0.5000  0.0000  0.0000   \n",
              "nb                            Naive Bayes    0.6457  0.7315  0.0671  0.3500   \n",
              "qda       Quadratic Discriminant Analysis    0.5899  0.5536  0.3067  0.3148   \n",
              "\n",
              "              F1   Kappa     MCC  TT (Sec)  \n",
              "gbc       0.6362  0.4704  0.4769     0.110  \n",
              "rf        0.6098  0.4413  0.4498     0.509  \n",
              "lr        0.6103  0.4274  0.4330     0.306  \n",
              "ridge     0.5920  0.4069  0.4133     0.014  \n",
              "lda       0.5942  0.4083  0.4148     0.017  \n",
              "ada       0.6061  0.4149  0.4181     0.104  \n",
              "et        0.5578  0.3789  0.3887     0.463  \n",
              "knn       0.6003  0.4025  0.4049     0.118  \n",
              "lightgbm  0.5945  0.3899  0.3912     0.077  \n",
              "svm       0.4846  0.2585  0.2636     0.015  \n",
              "dt        0.5161  0.2667  0.2690     0.018  \n",
              "dummy     0.0000  0.0000  0.0000     0.013  \n",
              "nb        0.1066  0.0251  0.0383     0.015  \n",
              "qda       0.2603  0.0457  0.0479     0.017  "
            ]
          },
          "metadata": {}
        }
      ]
    },
    {
      "cell_type": "markdown",
      "metadata": {
        "id": "-VWyc_94thQh"
      },
      "source": [
        "## Meaning of Prec., Recall,  F1, AUC\n",
        "- Precision (Pres.) is an indication of how many positive\n",
        "predictions are correct\n",
        "- Recall identifies how many actual positive examples are correctly identified. \n",
        "> There is always a tradeoff between precision and recall so a new performance measuring parameter F1 score is introduced. \n",
        "- F1 score is a harmonic mean of precision and recall which gives a balance value between precision and recall.\n",
        "- AUC is a measure of the area under the receiver operating characteristic curve."
      ]
    },
    {
      "cell_type": "code",
      "metadata": {
        "id": "JcVtMz_Afgm2",
        "colab": {
          "base_uri": "https://localhost:8080/",
          "height": 376,
          "referenced_widgets": [
            "b3017efea70f487fb5086796d4ebef9e",
            "d0aac012297642908ec005625d906181",
            "e439cae19e4248d6b7a9db393c773b1b",
            "d1e9a6dae33c427b906cea0a5d818041",
            "a9197afb5e0d430ba379e11789b8792b",
            "27dddc504ac34b92ae34ae7d101ac652"
          ]
        },
        "outputId": "615b5860-ebe5-4b99-a45e-b2bd3f4cd7c7"
      },
      "source": [
        "current_model = 'rf'  # lightgbm\n",
        "model = create_model(current_model, fold =10)\n",
        "plot_model(model)"
      ],
      "execution_count": 22,
      "outputs": [
        {
          "output_type": "display_data",
          "data": {
            "image/png": "[encoded data removed]",
            "text/plain": [
              "<Figure size 576x396 with 1 Axes>"
            ]
          },
          "metadata": {}
        }
      ]
    },
    {
      "cell_type": "code",
      "metadata": {
        "id": "qa0S4-FcUvHk",
        "colab": {
          "base_uri": "https://localhost:8080/",
          "height": 401,
          "referenced_widgets": [
            "cb4619117e2a439db0e2f9545040bf2b",
            "74f4e40bbcd0412cb217631f526df259",
            "462457fc358f40ada79750b9f68aba1c"
          ]
        },
        "outputId": "4ea0570b-c810-4190-f185-efd6837cf7a9"
      },
      "source": [
        "plot_model(model, plot = 'confusion_matrix')"
      ],
      "execution_count": 23,
      "outputs": [
        {
          "output_type": "display_data",
          "data": {
            "image/png": "[encoded data removed]",
            "text/plain": [
              "<Figure size 576x396 with 1 Axes>"
            ]
          },
          "metadata": {}
        }
      ]
    },
    {
      "cell_type": "code",
      "metadata": {
        "id": "urfeL5RG_fbN",
        "colab": {
          "base_uri": "https://localhost:8080/",
          "height": 485,
          "referenced_widgets": [
            "bf806e6f84634c468e2a186401b107d3",
            "05e97f7f7ae948a18763525676c2aaf5",
            "35aa4494c4df49f18cadf8e997dc7e24"
          ]
        },
        "outputId": "7a7b899d-d417-4e95-e9b0-5f5134082bef"
      },
      "source": [
        "plot_model(model, plot = 'feature')\n",
        "print(model.feature_importances_)"
      ],
      "execution_count": 24,
      "outputs": [
        {
          "output_type": "display_data",
          "data": {
            "image/png": "[encoded data removed]",
            "text/plain": [
              "<Figure size 800x500 with 1 Axes>"
            ]
          },
          "metadata": {}
        },
        {
          "output_type": "stream",
          "name": "stdout",
          "text": [
            "[0.21752048 0.09677328 0.07909828 0.08490756 0.16650726 0.11307153\n",
            " 0.12017061 0.01113808 0.0116327  0.00515275 0.00290674 0.00375125\n",
            " 0.0027948  0.00175427 0.00033543 0.01362823 0.00948444 0.01369691\n",
            " 0.00755048 0.01255467 0.00643044 0.0096899  0.00944991]\n"
          ]
        }
      ]
    },
    {
      "cell_type": "markdown",
      "metadata": {
        "id": "59QVvJWbHd09"
      },
      "source": [
        "## SHAP\n",
        "- https://eair.tistory.com/30?category=0"
      ]
    },
    {
      "cell_type": "code",
      "metadata": {
        "id": "n-LZ9kj5PfGF",
        "colab": {
          "base_uri": "https://localhost:8080/",
          "height": 1000
        },
        "outputId": "b452d07f-c097-4668-881f-596b612bbc61"
      },
      "source": [
        "!pip install shap\n",
        "interpret_model(model)  # Interpretability of the model"
      ],
      "execution_count": 26,
      "outputs": [
        {
          "output_type": "stream",
          "name": "stdout",
          "text": [
            "Collecting shap\n",
            "  Downloading shap-0.40.0.tar.gz (371 kB)\n",
            "\u001b[?25l\r\u001b[K     |▉                               | 10 kB 23.7 MB/s eta 0:00:01\r\u001b[K     |█▊                              | 20 kB 28.9 MB/s eta 0:00:01\r\u001b[K     |██▋                             | 30 kB 33.9 MB/s eta 0:00:01\r\u001b[K     |███▌                            | 40 kB 30.7 MB/s eta 0:00:01\r\u001b[K     |████▍                           | 51 kB 20.0 MB/s eta 0:00:01\r\u001b[K     |█████▎                          | 61 kB 15.5 MB/s eta 0:00:01\r\u001b[K     |██████▏                         | 71 kB 14.0 MB/s eta 0:00:01\r\u001b[K     |███████                         | 81 kB 15.4 MB/s eta 0:00:01\r\u001b[K     |████████                        | 92 kB 15.1 MB/s eta 0:00:01\r\u001b[K     |████████▉                       | 102 kB 13.1 MB/s eta 0:00:01\r\u001b[K     |█████████▊                      | 112 kB 13.1 MB/s eta 0:00:01\r\u001b[K     |██████████▋                     | 122 kB 13.1 MB/s eta 0:00:01\r\u001b[K     |███████████▌                    | 133 kB 13.1 MB/s eta 0:00:01\r\u001b[K     |████████████▍                   | 143 kB 13.1 MB/s eta 0:00:01\r\u001b[K     |█████████████▎                  | 153 kB 13.1 MB/s eta 0:00:01\r\u001b[K     |██████████████                  | 163 kB 13.1 MB/s eta 0:00:01\r\u001b[K     |███████████████                 | 174 kB 13.1 MB/s eta 0:00:01\r\u001b[K     |███████████████▉                | 184 kB 13.1 MB/s eta 0:00:01\r\u001b[K     |████████████████▊               | 194 kB 13.1 MB/s eta 0:00:01\r\u001b[K     |█████████████████▋              | 204 kB 13.1 MB/s eta 0:00:01\r\u001b[K     |██████████████████▌             | 215 kB 13.1 MB/s eta 0:00:01\r\u001b[K     |███████████████████▍            | 225 kB 13.1 MB/s eta 0:00:01\r\u001b[K     |████████████████████▎           | 235 kB 13.1 MB/s eta 0:00:01\r\u001b[K     |█████████████████████▏          | 245 kB 13.1 MB/s eta 0:00:01\r\u001b[K     |██████████████████████          | 256 kB 13.1 MB/s eta 0:00:01\r\u001b[K     |███████████████████████         | 266 kB 13.1 MB/s eta 0:00:01\r\u001b[K     |███████████████████████▉        | 276 kB 13.1 MB/s eta 0:00:01\r\u001b[K     |████████████████████████▊       | 286 kB 13.1 MB/s eta 0:00:01\r\u001b[K     |█████████████████████████▋      | 296 kB 13.1 MB/s eta 0:00:01\r\u001b[K     |██████████████████████████▌     | 307 kB 13.1 MB/s eta 0:00:01\r\u001b[K     |███████████████████████████▎    | 317 kB 13.1 MB/s eta 0:00:01\r\u001b[K     |████████████████████████████▏   | 327 kB 13.1 MB/s eta 0:00:01\r\u001b[K     |█████████████████████████████   | 337 kB 13.1 MB/s eta 0:00:01\r\u001b[K     |██████████████████████████████  | 348 kB 13.1 MB/s eta 0:00:01\r\u001b[K     |██████████████████████████████▉ | 358 kB 13.1 MB/s eta 0:00:01\r\u001b[K     |███████████████████████████████▊| 368 kB 13.1 MB/s eta 0:00:01\r\u001b[K     |████████████████████████████████| 371 kB 13.1 MB/s \n",
            "\u001b[?25h  Installing build dependencies ... \u001b[?25l\u001b[?25hdone\n",
            "  Getting requirements to build wheel ... \u001b[?25l\u001b[?25hdone\n",
            "    Preparing wheel metadata ... \u001b[?25l\u001b[?25hdone\n",
            "Collecting slicer==0.0.7\n",
            "  Downloading slicer-0.0.7-py3-none-any.whl (14 kB)\n",
            "Requirement already satisfied: tqdm>4.25.0 in /usr/local/lib/python3.7/dist-packages (from shap) (4.62.3)\n",
            "Requirement already satisfied: numpy in /usr/local/lib/python3.7/dist-packages (from shap) (1.19.5)\n",
            "Requirement already satisfied: scipy in /usr/local/lib/python3.7/dist-packages (from shap) (1.5.4)\n",
            "Requirement already satisfied: pandas in /usr/local/lib/python3.7/dist-packages (from shap) (1.1.5)\n",
            "Requirement already satisfied: numba in /usr/local/lib/python3.7/dist-packages (from shap) (0.51.2)\n",
            "Requirement already satisfied: scikit-learn in /usr/local/lib/python3.7/dist-packages (from shap) (0.23.2)\n",
            "Requirement already satisfied: packaging>20.9 in /usr/local/lib/python3.7/dist-packages (from shap) (21.3)\n",
            "Requirement already satisfied: cloudpickle in /usr/local/lib/python3.7/dist-packages (from shap) (1.3.0)\n",
            "Requirement already satisfied: pyparsing!=3.0.5,>=2.0.2 in /usr/local/lib/python3.7/dist-packages (from packaging>20.9->shap) (3.0.6)\n",
            "Requirement already satisfied: llvmlite<0.35,>=0.34.0.dev0 in /usr/local/lib/python3.7/dist-packages (from numba->shap) (0.34.0)\n",
            "Requirement already satisfied: setuptools in /usr/local/lib/python3.7/dist-packages (from numba->shap) (57.4.0)\n",
            "Requirement already satisfied: python-dateutil>=2.7.3 in /usr/local/lib/python3.7/dist-packages (from pandas->shap) (2.8.2)\n",
            "Requirement already satisfied: pytz>=2017.2 in /usr/local/lib/python3.7/dist-packages (from pandas->shap) (2018.9)\n",
            "Requirement already satisfied: six>=1.5 in /usr/local/lib/python3.7/dist-packages (from python-dateutil>=2.7.3->pandas->shap) (1.15.0)\n",
            "Requirement already satisfied: threadpoolctl>=2.0.0 in /usr/local/lib/python3.7/dist-packages (from scikit-learn->shap) (3.0.0)\n",
            "Requirement already satisfied: joblib>=0.11 in /usr/local/lib/python3.7/dist-packages (from scikit-learn->shap) (1.0.1)\n",
            "Building wheels for collected packages: shap\n",
            "  Building wheel for shap (PEP 517) ... \u001b[?25l\u001b[?25hdone\n",
            "  Created wheel for shap: filename=shap-0.40.0-cp37-cp37m-linux_x86_64.whl size=509232 sha256=f43181daff69e8bc3ba341876cd1b729d155ce6139cd43e370837881b0ab069f\n",
            "  Stored in directory: /root/.cache/pip/wheels/ec/35/84/e304841ac4b910bc95fe9a6e5302eb2507b4333728851dcbfb\n",
            "Successfully built shap\n",
            "Installing collected packages: slicer, shap\n",
            "Successfully installed shap-0.40.0 slicer-0.0.7\n"
          ]
        },
        {
          "output_type": "display_data",
          "data": {
            "image/png": "[encoded data removed]",
            "text/plain": [
              "<Figure size 576x684 with 2 Axes>"
            ]
          },
          "metadata": {}
        }
      ]
    },
    {
      "cell_type": "markdown",
      "metadata": {
        "id": "MS6LEHAIthQi"
      },
      "source": [
        "# Best model"
      ]
    },
    {
      "cell_type": "code",
      "metadata": {
        "id": "sMEphVN9-3Sk",
        "colab": {
          "base_uri": "https://localhost:8080/",
          "height": 376
        },
        "outputId": "83ec9f9a-add6-4a3d-c736-59829d15e89f"
      },
      "source": [
        "plot_model(best_model)"
      ],
      "execution_count": 27,
      "outputs": [
        {
          "output_type": "display_data",
          "data": {
            "image/png": "[encoded data removed]",
            "text/plain": [
              "<Figure size 576x396 with 1 Axes>"
            ]
          },
          "metadata": {}
        }
      ]
    },
    {
      "cell_type": "code",
      "metadata": {
        "id": "4qQ4EKq7-3Sr",
        "colab": {
          "base_uri": "https://localhost:8080/",
          "height": 401
        },
        "outputId": "fdc4846d-6d2d-496d-f0a8-f57f3a4450a6"
      },
      "source": [
        "# LABELS = ['noDM', 'DM']\n",
        "plot_model(best_model, plot = 'confusion_matrix')"
      ],
      "execution_count": 28,
      "outputs": [
        {
          "output_type": "display_data",
          "data": {
            "image/png": "[encoded data removed]",
            "text/plain": [
              "<Figure size 576x396 with 1 Axes>"
            ]
          },
          "metadata": {}
        }
      ]
    },
    {
      "cell_type": "code",
      "metadata": {
        "id": "xVb4-6Rf-3Sr",
        "colab": {
          "base_uri": "https://localhost:8080/",
          "height": 519
        },
        "outputId": "313acf37-ca23-4e68-a9c7-6bbce871fafe"
      },
      "source": [
        "plot_model(best_model, plot = 'feature')\n",
        "print(best_model.feature_importances_)"
      ],
      "execution_count": 30,
      "outputs": [
        {
          "output_type": "display_data",
          "data": {
            "image/png": "[encoded data removed]",
            "text/plain": [
              "<Figure size 800x500 with 1 Axes>"
            ]
          },
          "metadata": {}
        },
        {
          "output_type": "stream",
          "name": "stdout",
          "text": [
            "[3.38384152e-01 2.72587262e-02 4.97230332e-02 7.00433249e-02\n",
            " 2.25696077e-01 1.15794805e-01 1.24186626e-01 2.18528160e-03\n",
            " 3.85824004e-03 0.00000000e+00 2.95010375e-03 1.97686830e-03\n",
            " 0.00000000e+00 7.69448233e-04 0.00000000e+00 1.76152860e-03\n",
            " 7.35701621e-03 8.31343999e-03 1.01865630e-03 8.91541171e-03\n",
            " 1.31987847e-04 4.03563519e-03 5.63963657e-03]\n"
          ]
        }
      ]
    },
    {
      "cell_type": "markdown",
      "metadata": {
        "id": "8Pcytzav-3Sr"
      },
      "source": [
        "## SHAP - xAI\n",
        "- https://eair.tistory.com/30?category=0\n",
        "- tree를 이용한 ML 모델에 적용."
      ]
    },
    {
      "cell_type": "code",
      "metadata": {
        "id": "CPvacETq-3Ss"
      },
      "source": [
        "# interpret_model(best_model)"
      ],
      "execution_count": 32,
      "outputs": []
    },
    {
      "cell_type": "markdown",
      "metadata": {
        "id": "2wtFgnDEthQj"
      },
      "source": [
        "## Pycaret - score\n",
        "- 테스트 데이터에 적용하여 성능 평가.\n",
        "- https://towardsdatascience.com/predict-lead-score-the-right-way-using-pycaret-332faa780cfc"
      ]
    },
    {
      "cell_type": "code",
      "metadata": {
        "id": "7OACPVf_thQj",
        "colab": {
          "base_uri": "https://localhost:8080/"
        },
        "outputId": "d9c77f45-d30b-41d3-a5c4-497fec32d126"
      },
      "source": [
        "type(data_unseen),data_unseen.shape,data_unseen.head(3)"
      ],
      "execution_count": 33,
      "outputs": [
        {
          "output_type": "execute_result",
          "data": {
            "text/plain": [
              "(pandas.core.frame.DataFrame,\n",
              " (154, 9),\n",
              "    Pregnancies  Glucose  BloodPressure  ...  DiabetesPedigreeFunction  Age  Outcome\n",
              " 0            1     89.0           66.0  ...                     0.167   21        0\n",
              " 1            5    116.0           74.0  ...                     0.201   30        0\n",
              " 2           10    115.0           72.0  ...                     0.134   29        0\n",
              " \n",
              " [3 rows x 9 columns])"
            ]
          },
          "metadata": {},
          "execution_count": 33
        }
      ]
    },
    {
      "cell_type": "code",
      "metadata": {
        "id": "t1ZOaaVfkuyR",
        "colab": {
          "base_uri": "https://localhost:8080/",
          "height": 439
        },
        "outputId": "7af21f41-8731-4048-d7bb-21987aeb76b3"
      },
      "source": [
        "# Predict test data\n",
        "unseen_best_predictions = predict_model(best_model, data=data_unseen)\n",
        "unseen_best_predictions"
      ],
      "execution_count": 36,
      "outputs": [
        {
          "output_type": "execute_result",
          "data": {
            "text/html": [
              "<div>\n",
              "<style scoped>\n",
              "    .dataframe tbody tr th:only-of-type {\n",
              "        vertical-align: middle;\n",
              "    }\n",
              "\n",
              "    .dataframe tbody tr th {\n",
              "        vertical-align: top;\n",
              "    }\n",
              "\n",
              "    .dataframe thead th {\n",
              "        text-align: right;\n",
              "    }\n",
              "</style>\n",
              "<table border=\"1\" class=\"dataframe\">\n",
              "  <thead>\n",
              "    <tr style=\"text-align: right;\">\n",
              "      <th></th>\n",
              "      <th>Pregnancies</th>\n",
              "      <th>Glucose</th>\n",
              "      <th>BloodPressure</th>\n",
              "      <th>SkinThickness</th>\n",
              "      <th>Insulin</th>\n",
              "      <th>BMI</th>\n",
              "      <th>DiabetesPedigreeFunction</th>\n",
              "      <th>Age</th>\n",
              "      <th>Outcome</th>\n",
              "      <th>Label</th>\n",
              "      <th>Score</th>\n",
              "    </tr>\n",
              "  </thead>\n",
              "  <tbody>\n",
              "    <tr>\n",
              "      <th>0</th>\n",
              "      <td>1</td>\n",
              "      <td>89.0</td>\n",
              "      <td>66.0</td>\n",
              "      <td>23.0</td>\n",
              "      <td>94.0</td>\n",
              "      <td>28.1</td>\n",
              "      <td>0.167</td>\n",
              "      <td>21</td>\n",
              "      <td>0</td>\n",
              "      <td>0</td>\n",
              "      <td>0.9823</td>\n",
              "    </tr>\n",
              "    <tr>\n",
              "      <th>1</th>\n",
              "      <td>5</td>\n",
              "      <td>116.0</td>\n",
              "      <td>74.0</td>\n",
              "      <td>29.0</td>\n",
              "      <td>125.0</td>\n",
              "      <td>25.6</td>\n",
              "      <td>0.201</td>\n",
              "      <td>30</td>\n",
              "      <td>0</td>\n",
              "      <td>0</td>\n",
              "      <td>0.9004</td>\n",
              "    </tr>\n",
              "    <tr>\n",
              "      <th>2</th>\n",
              "      <td>10</td>\n",
              "      <td>115.0</td>\n",
              "      <td>72.0</td>\n",
              "      <td>29.0</td>\n",
              "      <td>125.0</td>\n",
              "      <td>35.3</td>\n",
              "      <td>0.134</td>\n",
              "      <td>29</td>\n",
              "      <td>0</td>\n",
              "      <td>1</td>\n",
              "      <td>0.5184</td>\n",
              "    </tr>\n",
              "    <tr>\n",
              "      <th>3</th>\n",
              "      <td>1</td>\n",
              "      <td>189.0</td>\n",
              "      <td>60.0</td>\n",
              "      <td>23.0</td>\n",
              "      <td>846.0</td>\n",
              "      <td>30.1</td>\n",
              "      <td>0.398</td>\n",
              "      <td>59</td>\n",
              "      <td>1</td>\n",
              "      <td>1</td>\n",
              "      <td>0.8978</td>\n",
              "    </tr>\n",
              "    <tr>\n",
              "      <th>4</th>\n",
              "      <td>5</td>\n",
              "      <td>166.0</td>\n",
              "      <td>72.0</td>\n",
              "      <td>19.0</td>\n",
              "      <td>175.0</td>\n",
              "      <td>25.8</td>\n",
              "      <td>0.587</td>\n",
              "      <td>51</td>\n",
              "      <td>1</td>\n",
              "      <td>1</td>\n",
              "      <td>0.7902</td>\n",
              "    </tr>\n",
              "    <tr>\n",
              "      <th>...</th>\n",
              "      <td>...</td>\n",
              "      <td>...</td>\n",
              "      <td>...</td>\n",
              "      <td>...</td>\n",
              "      <td>...</td>\n",
              "      <td>...</td>\n",
              "      <td>...</td>\n",
              "      <td>...</td>\n",
              "      <td>...</td>\n",
              "      <td>...</td>\n",
              "      <td>...</td>\n",
              "    </tr>\n",
              "    <tr>\n",
              "      <th>149</th>\n",
              "      <td>1</td>\n",
              "      <td>128.0</td>\n",
              "      <td>88.0</td>\n",
              "      <td>39.0</td>\n",
              "      <td>110.0</td>\n",
              "      <td>36.5</td>\n",
              "      <td>1.057</td>\n",
              "      <td>37</td>\n",
              "      <td>1</td>\n",
              "      <td>0</td>\n",
              "      <td>0.5344</td>\n",
              "    </tr>\n",
              "    <tr>\n",
              "      <th>150</th>\n",
              "      <td>1</td>\n",
              "      <td>106.0</td>\n",
              "      <td>76.0</td>\n",
              "      <td>29.0</td>\n",
              "      <td>125.0</td>\n",
              "      <td>37.5</td>\n",
              "      <td>0.197</td>\n",
              "      <td>26</td>\n",
              "      <td>0</td>\n",
              "      <td>0</td>\n",
              "      <td>0.8276</td>\n",
              "    </tr>\n",
              "    <tr>\n",
              "      <th>151</th>\n",
              "      <td>9</td>\n",
              "      <td>170.0</td>\n",
              "      <td>74.0</td>\n",
              "      <td>31.0</td>\n",
              "      <td>125.0</td>\n",
              "      <td>44.0</td>\n",
              "      <td>0.403</td>\n",
              "      <td>43</td>\n",
              "      <td>1</td>\n",
              "      <td>1</td>\n",
              "      <td>0.9924</td>\n",
              "    </tr>\n",
              "    <tr>\n",
              "      <th>152</th>\n",
              "      <td>5</td>\n",
              "      <td>121.0</td>\n",
              "      <td>72.0</td>\n",
              "      <td>23.0</td>\n",
              "      <td>112.0</td>\n",
              "      <td>26.2</td>\n",
              "      <td>0.245</td>\n",
              "      <td>30</td>\n",
              "      <td>0</td>\n",
              "      <td>0</td>\n",
              "      <td>0.8748</td>\n",
              "    </tr>\n",
              "    <tr>\n",
              "      <th>153</th>\n",
              "      <td>1</td>\n",
              "      <td>93.0</td>\n",
              "      <td>70.0</td>\n",
              "      <td>31.0</td>\n",
              "      <td>125.0</td>\n",
              "      <td>30.4</td>\n",
              "      <td>0.315</td>\n",
              "      <td>23</td>\n",
              "      <td>0</td>\n",
              "      <td>0</td>\n",
              "      <td>0.9135</td>\n",
              "    </tr>\n",
              "  </tbody>\n",
              "</table>\n",
              "<p>154 rows × 11 columns</p>\n",
              "</div>"
            ],
            "text/plain": [
              "     Pregnancies  Glucose  BloodPressure  ...  Outcome  Label   Score\n",
              "0              1     89.0           66.0  ...        0      0  0.9823\n",
              "1              5    116.0           74.0  ...        0      0  0.9004\n",
              "2             10    115.0           72.0  ...        0      1  0.5184\n",
              "3              1    189.0           60.0  ...        1      1  0.8978\n",
              "4              5    166.0           72.0  ...        1      1  0.7902\n",
              "..           ...      ...            ...  ...      ...    ...     ...\n",
              "149            1    128.0           88.0  ...        1      0  0.5344\n",
              "150            1    106.0           76.0  ...        0      0  0.8276\n",
              "151            9    170.0           74.0  ...        1      1  0.9924\n",
              "152            5    121.0           72.0  ...        0      0  0.8748\n",
              "153            1     93.0           70.0  ...        0      0  0.9135\n",
              "\n",
              "[154 rows x 11 columns]"
            ]
          },
          "metadata": {},
          "execution_count": 36
        }
      ]
    },
    {
      "cell_type": "code",
      "metadata": {
        "id": "rGR9HbIzthQj",
        "colab": {
          "base_uri": "https://localhost:8080/"
        },
        "outputId": "023c93fd-68ad-4985-a15c-93948f0e7773"
      },
      "source": [
        "# unseen_predictions\n",
        "from sklearn.metrics import accuracy_score\n",
        "y_pred = list(unseen_best_predictions['Label'].values)\n",
        "y_true = list(unseen_best_predictions['Outcome'].values)\n",
        "best_accuracy = accuracy_score(y_true, y_pred)\n",
        "print(\"Accuracy of the best model: {}\".format(best_accuracy))\n"
      ],
      "execution_count": 37,
      "outputs": [
        {
          "output_type": "stream",
          "name": "stdout",
          "text": [
            "Accuracy of the best model: 0.7662337662337663\n"
          ]
        }
      ]
    },
    {
      "cell_type": "markdown",
      "metadata": {
        "id": "kQFsAlbrthQj"
      },
      "source": [
        "### 트레이닝 accuracy 76.6% -> **No overfitting**"
      ]
    },
    {
      "cell_type": "code",
      "metadata": {
        "id": "tNpp-Q0tz-yA",
        "colab": {
          "base_uri": "https://localhost:8080/"
        },
        "outputId": "b1f9be45-cd61-4b9a-8f52-c8586425cf5d"
      },
      "source": [
        "#confusion matrics\n",
        "from sklearn.metrics import confusion_matrix\n",
        "cm = confusion_matrix(y_true, y_pred)\n",
        "print(cm)"
      ],
      "execution_count": 38,
      "outputs": [
        {
          "output_type": "stream",
          "name": "stdout",
          "text": [
            "[[81 15]\n",
            " [21 37]]\n"
          ]
        }
      ]
    },
    {
      "cell_type": "markdown",
      "metadata": {
        "id": "2nkFJ4--thQk"
      },
      "source": [
        "## Summary of the best model"
      ]
    },
    {
      "cell_type": "code",
      "metadata": {
        "id": "nVC7nJ7qthQk",
        "colab": {
          "base_uri": "https://localhost:8080/",
          "height": 555,
          "referenced_widgets": [
            "059a481666974eb08c534ec0d1ffd52a",
            "daac0d0b94664bcd8bd94458a8f80eec",
            "697ead07a9c049c0b9fdbf9828ea4a6f",
            "b5205592c11c4c10a122f0ffd742d8f2",
            "825f8ac1a02e4043ad691dd4fc664c69",
            "b9a8318675204a8f87478b5a95feac81",
            "b8de577ddb664b7b855685e67bb40ac5",
            "db325ca9b52346ee95b802fc89c22e3e",
            "3fa85badc5c14a28b06fbe78e2470623",
            "ff1deff4d66044b5b9b99f7799606ef1",
            "0a5aa0f94e3c453db347e48a65d44b14",
            "3b7b79c7f5e149b6bbcc76d4af153472",
            "0b9b1dabc95b4e6eb074be5c01d6baab",
            "083c5e96a1e5431f98509d615c5943c9",
            "91c2bf11444c48bdad0329a6c1567c98",
            "f8a7e02f554e436ab11c32338e996a54"
          ]
        },
        "outputId": "48e29e60-d6e4-453c-c3fd-100a7f9ef05e"
      },
      "source": [
        "evaluate_model(best_model)"
      ],
      "execution_count": 39,
      "outputs": [
        {
          "output_type": "display_data",
          "data": {
            "application/vnd.jupyter.widget-view+json": {
              "model_id": "059a481666974eb08c534ec0d1ffd52a",
              "version_minor": 0,
              "version_major": 2
            },
            "text/plain": [
              "interactive(children=(ToggleButtons(description='Plot Type:', icons=('',), options=(('Hyperparameters', 'param…"
            ]
          },
          "metadata": {}
        }
      ]
    },
    {
      "cell_type": "markdown",
      "metadata": {
        "id": "g5MevWlqthQk"
      },
      "source": [
        "---\n",
        "---"
      ]
    },
    {
      "cell_type": "markdown",
      "metadata": {
        "id": "7FNfKFEkthQk"
      },
      "source": [
        "## autoML using df2\n",
        "- df2 : zero-preprocessed data"
      ]
    },
    {
      "cell_type": "code",
      "metadata": {
        "id": "Q22SPJlGthQk",
        "colab": {
          "base_uri": "https://localhost:8080/",
          "height": 224
        },
        "outputId": "1bb615de-737f-44a8-d36d-b72f3be8bb98"
      },
      "source": [
        "df2.head()"
      ],
      "execution_count": 40,
      "outputs": [
        {
          "output_type": "execute_result",
          "data": {
            "text/html": [
              "<div>\n",
              "<style scoped>\n",
              "    .dataframe tbody tr th:only-of-type {\n",
              "        vertical-align: middle;\n",
              "    }\n",
              "\n",
              "    .dataframe tbody tr th {\n",
              "        vertical-align: top;\n",
              "    }\n",
              "\n",
              "    .dataframe thead th {\n",
              "        text-align: right;\n",
              "    }\n",
              "</style>\n",
              "<table border=\"1\" class=\"dataframe\">\n",
              "  <thead>\n",
              "    <tr style=\"text-align: right;\">\n",
              "      <th></th>\n",
              "      <th>Pregnancies</th>\n",
              "      <th>Glucose</th>\n",
              "      <th>BloodPressure</th>\n",
              "      <th>SkinThickness</th>\n",
              "      <th>Insulin</th>\n",
              "      <th>BMI</th>\n",
              "      <th>DiabetesPedigreeFunction</th>\n",
              "      <th>Age</th>\n",
              "      <th>Outcome</th>\n",
              "    </tr>\n",
              "  </thead>\n",
              "  <tbody>\n",
              "    <tr>\n",
              "      <th>0</th>\n",
              "      <td>6</td>\n",
              "      <td>148.0</td>\n",
              "      <td>72.0</td>\n",
              "      <td>35.0</td>\n",
              "      <td>125.0</td>\n",
              "      <td>33.6</td>\n",
              "      <td>0.627</td>\n",
              "      <td>50</td>\n",
              "      <td>1</td>\n",
              "    </tr>\n",
              "    <tr>\n",
              "      <th>1</th>\n",
              "      <td>1</td>\n",
              "      <td>85.0</td>\n",
              "      <td>66.0</td>\n",
              "      <td>29.0</td>\n",
              "      <td>125.0</td>\n",
              "      <td>26.6</td>\n",
              "      <td>0.351</td>\n",
              "      <td>31</td>\n",
              "      <td>0</td>\n",
              "    </tr>\n",
              "    <tr>\n",
              "      <th>2</th>\n",
              "      <td>8</td>\n",
              "      <td>183.0</td>\n",
              "      <td>64.0</td>\n",
              "      <td>29.0</td>\n",
              "      <td>125.0</td>\n",
              "      <td>23.3</td>\n",
              "      <td>0.672</td>\n",
              "      <td>32</td>\n",
              "      <td>1</td>\n",
              "    </tr>\n",
              "    <tr>\n",
              "      <th>3</th>\n",
              "      <td>1</td>\n",
              "      <td>89.0</td>\n",
              "      <td>66.0</td>\n",
              "      <td>23.0</td>\n",
              "      <td>94.0</td>\n",
              "      <td>28.1</td>\n",
              "      <td>0.167</td>\n",
              "      <td>21</td>\n",
              "      <td>0</td>\n",
              "    </tr>\n",
              "    <tr>\n",
              "      <th>4</th>\n",
              "      <td>0</td>\n",
              "      <td>137.0</td>\n",
              "      <td>40.0</td>\n",
              "      <td>35.0</td>\n",
              "      <td>168.0</td>\n",
              "      <td>43.1</td>\n",
              "      <td>2.288</td>\n",
              "      <td>33</td>\n",
              "      <td>1</td>\n",
              "    </tr>\n",
              "  </tbody>\n",
              "</table>\n",
              "</div>"
            ],
            "text/plain": [
              "   Pregnancies  Glucose  BloodPressure  ...  DiabetesPedigreeFunction  Age  Outcome\n",
              "0            6    148.0           72.0  ...                     0.627   50        1\n",
              "1            1     85.0           66.0  ...                     0.351   31        0\n",
              "2            8    183.0           64.0  ...                     0.672   32        1\n",
              "3            1     89.0           66.0  ...                     0.167   21        0\n",
              "4            0    137.0           40.0  ...                     2.288   33        1\n",
              "\n",
              "[5 rows x 9 columns]"
            ]
          },
          "metadata": {},
          "execution_count": 40
        }
      ]
    },
    {
      "cell_type": "markdown",
      "metadata": {
        "id": "3M2Wn3FbthQk"
      },
      "source": [
        "### 위에서 Pregnancies, Age가 categorical(정수) feature. -> 해결 방법은?"
      ]
    },
    {
      "cell_type": "code",
      "metadata": {
        "id": "h5GA4hrIthQk",
        "colab": {
          "base_uri": "https://localhost:8080/",
          "height": 224
        },
        "outputId": "801380f9-24b4-4ac7-847a-43eb7657b6e8"
      },
      "source": [
        "# pycaret으로 학습할려면 특징값은 float\n",
        "df2['Pregnancies'] = df['Pregnancies'].astype(float)\n",
        "df2['Age'] = df['Age'].astype(float)\n",
        "df2.head()"
      ],
      "execution_count": 41,
      "outputs": [
        {
          "output_type": "execute_result",
          "data": {
            "text/html": [
              "<div>\n",
              "<style scoped>\n",
              "    .dataframe tbody tr th:only-of-type {\n",
              "        vertical-align: middle;\n",
              "    }\n",
              "\n",
              "    .dataframe tbody tr th {\n",
              "        vertical-align: top;\n",
              "    }\n",
              "\n",
              "    .dataframe thead th {\n",
              "        text-align: right;\n",
              "    }\n",
              "</style>\n",
              "<table border=\"1\" class=\"dataframe\">\n",
              "  <thead>\n",
              "    <tr style=\"text-align: right;\">\n",
              "      <th></th>\n",
              "      <th>Pregnancies</th>\n",
              "      <th>Glucose</th>\n",
              "      <th>BloodPressure</th>\n",
              "      <th>SkinThickness</th>\n",
              "      <th>Insulin</th>\n",
              "      <th>BMI</th>\n",
              "      <th>DiabetesPedigreeFunction</th>\n",
              "      <th>Age</th>\n",
              "      <th>Outcome</th>\n",
              "    </tr>\n",
              "  </thead>\n",
              "  <tbody>\n",
              "    <tr>\n",
              "      <th>0</th>\n",
              "      <td>6.0</td>\n",
              "      <td>148.0</td>\n",
              "      <td>72.0</td>\n",
              "      <td>35.0</td>\n",
              "      <td>125.0</td>\n",
              "      <td>33.6</td>\n",
              "      <td>0.627</td>\n",
              "      <td>50.0</td>\n",
              "      <td>1</td>\n",
              "    </tr>\n",
              "    <tr>\n",
              "      <th>1</th>\n",
              "      <td>1.0</td>\n",
              "      <td>85.0</td>\n",
              "      <td>66.0</td>\n",
              "      <td>29.0</td>\n",
              "      <td>125.0</td>\n",
              "      <td>26.6</td>\n",
              "      <td>0.351</td>\n",
              "      <td>31.0</td>\n",
              "      <td>0</td>\n",
              "    </tr>\n",
              "    <tr>\n",
              "      <th>2</th>\n",
              "      <td>8.0</td>\n",
              "      <td>183.0</td>\n",
              "      <td>64.0</td>\n",
              "      <td>29.0</td>\n",
              "      <td>125.0</td>\n",
              "      <td>23.3</td>\n",
              "      <td>0.672</td>\n",
              "      <td>32.0</td>\n",
              "      <td>1</td>\n",
              "    </tr>\n",
              "    <tr>\n",
              "      <th>3</th>\n",
              "      <td>1.0</td>\n",
              "      <td>89.0</td>\n",
              "      <td>66.0</td>\n",
              "      <td>23.0</td>\n",
              "      <td>94.0</td>\n",
              "      <td>28.1</td>\n",
              "      <td>0.167</td>\n",
              "      <td>21.0</td>\n",
              "      <td>0</td>\n",
              "    </tr>\n",
              "    <tr>\n",
              "      <th>4</th>\n",
              "      <td>0.0</td>\n",
              "      <td>137.0</td>\n",
              "      <td>40.0</td>\n",
              "      <td>35.0</td>\n",
              "      <td>168.0</td>\n",
              "      <td>43.1</td>\n",
              "      <td>2.288</td>\n",
              "      <td>33.0</td>\n",
              "      <td>1</td>\n",
              "    </tr>\n",
              "  </tbody>\n",
              "</table>\n",
              "</div>"
            ],
            "text/plain": [
              "   Pregnancies  Glucose  BloodPressure  ...  DiabetesPedigreeFunction   Age  Outcome\n",
              "0          6.0    148.0           72.0  ...                     0.627  50.0        1\n",
              "1          1.0     85.0           66.0  ...                     0.351  31.0        0\n",
              "2          8.0    183.0           64.0  ...                     0.672  32.0        1\n",
              "3          1.0     89.0           66.0  ...                     0.167  21.0        0\n",
              "4          0.0    137.0           40.0  ...                     2.288  33.0        1\n",
              "\n",
              "[5 rows x 9 columns]"
            ]
          },
          "metadata": {},
          "execution_count": 41
        }
      ]
    },
    {
      "cell_type": "code",
      "metadata": {
        "id": "7g0Oy2ERthQl",
        "colab": {
          "base_uri": "https://localhost:8080/"
        },
        "outputId": "254d3912-fde2-4725-c0c3-7eb473a5418c"
      },
      "source": [
        "data = df2.sample(frac=0.8, random_state=786)  # 8:2 split\n",
        "data_unseen = df2.drop(data.index).reset_index(drop=True)\n",
        "data.reset_index(drop=True, inplace=True)\n",
        "\n",
        "print('Using df2')\n",
        "print('Data for Modeling: ' + str(data.shape))\n",
        "print('Unseen Data For Predictions ' + str(data_unseen.shape))"
      ],
      "execution_count": 42,
      "outputs": [
        {
          "output_type": "stream",
          "name": "stdout",
          "text": [
            "Using df2\n",
            "Data for Modeling: (614, 9)\n",
            "Unseen Data For Predictions (154, 9)\n"
          ]
        }
      ]
    },
    {
      "cell_type": "code",
      "metadata": {
        "id": "Vq3fsRyIthQl",
        "colab": {
          "base_uri": "https://localhost:8080/",
          "height": 1000,
          "referenced_widgets": [
            "b3572a76a0ef48f6a98aced144f3df96",
            "2661dd1ff2714c76b36b4158c9e7b115",
            "4e7d6a569b974c65b978cf2531bf43e4"
          ]
        },
        "outputId": "35dabc82-419a-40a8-c0bb-11fae2fc6c6f"
      },
      "source": [
        "clf = setup(data = data, target = 'Outcome', session_id=1104, \n",
        "                    normalize=True, \n",
        "                    transformation=True, \n",
        "                    ignore_low_variance=True,\n",
        "        #    remove_multicollinearity=True, multicollinearity_threshold=0.95,\n",
        "                    silent=True)"
      ],
      "execution_count": 43,
      "outputs": [
        {
          "output_type": "display_data",
          "data": {
            "text/html": [
              "<div>\n",
              "<style scoped>\n",
              "    .dataframe tbody tr th:only-of-type {\n",
              "        vertical-align: middle;\n",
              "    }\n",
              "\n",
              "    .dataframe tbody tr th {\n",
              "        vertical-align: top;\n",
              "    }\n",
              "\n",
              "    .dataframe thead th {\n",
              "        text-align: right;\n",
              "    }\n",
              "</style>\n",
              "<table border=\"1\" class=\"dataframe\">\n",
              "  <thead>\n",
              "    <tr style=\"text-align: right;\">\n",
              "      <th></th>\n",
              "      <th>Description</th>\n",
              "      <th>Value</th>\n",
              "    </tr>\n",
              "  </thead>\n",
              "  <tbody>\n",
              "    <tr>\n",
              "      <th>0</th>\n",
              "      <td>session_id</td>\n",
              "      <td>1104</td>\n",
              "    </tr>\n",
              "    <tr>\n",
              "      <th>1</th>\n",
              "      <td>Target</td>\n",
              "      <td>Outcome</td>\n",
              "    </tr>\n",
              "    <tr>\n",
              "      <th>2</th>\n",
              "      <td>Target Type</td>\n",
              "      <td>Binary</td>\n",
              "    </tr>\n",
              "    <tr>\n",
              "      <th>3</th>\n",
              "      <td>Label Encoded</td>\n",
              "      <td>None</td>\n",
              "    </tr>\n",
              "    <tr>\n",
              "      <th>4</th>\n",
              "      <td>Original Data</td>\n",
              "      <td>(614, 9)</td>\n",
              "    </tr>\n",
              "    <tr>\n",
              "      <th>5</th>\n",
              "      <td>Missing Values</td>\n",
              "      <td>False</td>\n",
              "    </tr>\n",
              "    <tr>\n",
              "      <th>6</th>\n",
              "      <td>Numeric Features</td>\n",
              "      <td>8</td>\n",
              "    </tr>\n",
              "    <tr>\n",
              "      <th>7</th>\n",
              "      <td>Categorical Features</td>\n",
              "      <td>0</td>\n",
              "    </tr>\n",
              "    <tr>\n",
              "      <th>8</th>\n",
              "      <td>Ordinal Features</td>\n",
              "      <td>False</td>\n",
              "    </tr>\n",
              "    <tr>\n",
              "      <th>9</th>\n",
              "      <td>High Cardinality Features</td>\n",
              "      <td>False</td>\n",
              "    </tr>\n",
              "    <tr>\n",
              "      <th>10</th>\n",
              "      <td>High Cardinality Method</td>\n",
              "      <td>None</td>\n",
              "    </tr>\n",
              "    <tr>\n",
              "      <th>11</th>\n",
              "      <td>Transformed Train Set</td>\n",
              "      <td>(429, 8)</td>\n",
              "    </tr>\n",
              "    <tr>\n",
              "      <th>12</th>\n",
              "      <td>Transformed Test Set</td>\n",
              "      <td>(185, 8)</td>\n",
              "    </tr>\n",
              "    <tr>\n",
              "      <th>13</th>\n",
              "      <td>Shuffle Train-Test</td>\n",
              "      <td>True</td>\n",
              "    </tr>\n",
              "    <tr>\n",
              "      <th>14</th>\n",
              "      <td>Stratify Train-Test</td>\n",
              "      <td>False</td>\n",
              "    </tr>\n",
              "    <tr>\n",
              "      <th>15</th>\n",
              "      <td>Fold Generator</td>\n",
              "      <td>StratifiedKFold</td>\n",
              "    </tr>\n",
              "    <tr>\n",
              "      <th>16</th>\n",
              "      <td>Fold Number</td>\n",
              "      <td>10</td>\n",
              "    </tr>\n",
              "    <tr>\n",
              "      <th>17</th>\n",
              "      <td>CPU Jobs</td>\n",
              "      <td>-1</td>\n",
              "    </tr>\n",
              "    <tr>\n",
              "      <th>18</th>\n",
              "      <td>Use GPU</td>\n",
              "      <td>False</td>\n",
              "    </tr>\n",
              "    <tr>\n",
              "      <th>19</th>\n",
              "      <td>Log Experiment</td>\n",
              "      <td>False</td>\n",
              "    </tr>\n",
              "    <tr>\n",
              "      <th>20</th>\n",
              "      <td>Experiment Name</td>\n",
              "      <td>clf-default-name</td>\n",
              "    </tr>\n",
              "    <tr>\n",
              "      <th>21</th>\n",
              "      <td>USI</td>\n",
              "      <td>e778</td>\n",
              "    </tr>\n",
              "    <tr>\n",
              "      <th>22</th>\n",
              "      <td>Imputation Type</td>\n",
              "      <td>simple</td>\n",
              "    </tr>\n",
              "    <tr>\n",
              "      <th>23</th>\n",
              "      <td>Iterative Imputation Iteration</td>\n",
              "      <td>None</td>\n",
              "    </tr>\n",
              "    <tr>\n",
              "      <th>24</th>\n",
              "      <td>Numeric Imputer</td>\n",
              "      <td>mean</td>\n",
              "    </tr>\n",
              "    <tr>\n",
              "      <th>25</th>\n",
              "      <td>Iterative Imputation Numeric Model</td>\n",
              "      <td>None</td>\n",
              "    </tr>\n",
              "    <tr>\n",
              "      <th>26</th>\n",
              "      <td>Categorical Imputer</td>\n",
              "      <td>constant</td>\n",
              "    </tr>\n",
              "    <tr>\n",
              "      <th>27</th>\n",
              "      <td>Iterative Imputation Categorical Model</td>\n",
              "      <td>None</td>\n",
              "    </tr>\n",
              "    <tr>\n",
              "      <th>28</th>\n",
              "      <td>Unknown Categoricals Handling</td>\n",
              "      <td>least_frequent</td>\n",
              "    </tr>\n",
              "    <tr>\n",
              "      <th>29</th>\n",
              "      <td>Normalize</td>\n",
              "      <td>True</td>\n",
              "    </tr>\n",
              "    <tr>\n",
              "      <th>30</th>\n",
              "      <td>Normalize Method</td>\n",
              "      <td>zscore</td>\n",
              "    </tr>\n",
              "    <tr>\n",
              "      <th>31</th>\n",
              "      <td>Transformation</td>\n",
              "      <td>True</td>\n",
              "    </tr>\n",
              "    <tr>\n",
              "      <th>32</th>\n",
              "      <td>Transformation Method</td>\n",
              "      <td>yeo-johnson</td>\n",
              "    </tr>\n",
              "    <tr>\n",
              "      <th>33</th>\n",
              "      <td>PCA</td>\n",
              "      <td>False</td>\n",
              "    </tr>\n",
              "    <tr>\n",
              "      <th>34</th>\n",
              "      <td>PCA Method</td>\n",
              "      <td>None</td>\n",
              "    </tr>\n",
              "    <tr>\n",
              "      <th>35</th>\n",
              "      <td>PCA Components</td>\n",
              "      <td>None</td>\n",
              "    </tr>\n",
              "    <tr>\n",
              "      <th>36</th>\n",
              "      <td>Ignore Low Variance</td>\n",
              "      <td>True</td>\n",
              "    </tr>\n",
              "    <tr>\n",
              "      <th>37</th>\n",
              "      <td>Combine Rare Levels</td>\n",
              "      <td>False</td>\n",
              "    </tr>\n",
              "    <tr>\n",
              "      <th>38</th>\n",
              "      <td>Rare Level Threshold</td>\n",
              "      <td>None</td>\n",
              "    </tr>\n",
              "    <tr>\n",
              "      <th>39</th>\n",
              "      <td>Numeric Binning</td>\n",
              "      <td>False</td>\n",
              "    </tr>\n",
              "    <tr>\n",
              "      <th>40</th>\n",
              "      <td>Remove Outliers</td>\n",
              "      <td>False</td>\n",
              "    </tr>\n",
              "    <tr>\n",
              "      <th>41</th>\n",
              "      <td>Outliers Threshold</td>\n",
              "      <td>None</td>\n",
              "    </tr>\n",
              "    <tr>\n",
              "      <th>42</th>\n",
              "      <td>Remove Multicollinearity</td>\n",
              "      <td>False</td>\n",
              "    </tr>\n",
              "    <tr>\n",
              "      <th>43</th>\n",
              "      <td>Multicollinearity Threshold</td>\n",
              "      <td>None</td>\n",
              "    </tr>\n",
              "    <tr>\n",
              "      <th>44</th>\n",
              "      <td>Remove Perfect Collinearity</td>\n",
              "      <td>True</td>\n",
              "    </tr>\n",
              "    <tr>\n",
              "      <th>45</th>\n",
              "      <td>Clustering</td>\n",
              "      <td>False</td>\n",
              "    </tr>\n",
              "    <tr>\n",
              "      <th>46</th>\n",
              "      <td>Clustering Iteration</td>\n",
              "      <td>None</td>\n",
              "    </tr>\n",
              "    <tr>\n",
              "      <th>47</th>\n",
              "      <td>Polynomial Features</td>\n",
              "      <td>False</td>\n",
              "    </tr>\n",
              "    <tr>\n",
              "      <th>48</th>\n",
              "      <td>Polynomial Degree</td>\n",
              "      <td>None</td>\n",
              "    </tr>\n",
              "    <tr>\n",
              "      <th>49</th>\n",
              "      <td>Trignometry Features</td>\n",
              "      <td>False</td>\n",
              "    </tr>\n",
              "    <tr>\n",
              "      <th>50</th>\n",
              "      <td>Polynomial Threshold</td>\n",
              "      <td>None</td>\n",
              "    </tr>\n",
              "    <tr>\n",
              "      <th>51</th>\n",
              "      <td>Group Features</td>\n",
              "      <td>False</td>\n",
              "    </tr>\n",
              "    <tr>\n",
              "      <th>52</th>\n",
              "      <td>Feature Selection</td>\n",
              "      <td>False</td>\n",
              "    </tr>\n",
              "    <tr>\n",
              "      <th>53</th>\n",
              "      <td>Feature Selection Method</td>\n",
              "      <td>classic</td>\n",
              "    </tr>\n",
              "    <tr>\n",
              "      <th>54</th>\n",
              "      <td>Features Selection Threshold</td>\n",
              "      <td>None</td>\n",
              "    </tr>\n",
              "    <tr>\n",
              "      <th>55</th>\n",
              "      <td>Feature Interaction</td>\n",
              "      <td>False</td>\n",
              "    </tr>\n",
              "    <tr>\n",
              "      <th>56</th>\n",
              "      <td>Feature Ratio</td>\n",
              "      <td>False</td>\n",
              "    </tr>\n",
              "    <tr>\n",
              "      <th>57</th>\n",
              "      <td>Interaction Threshold</td>\n",
              "      <td>None</td>\n",
              "    </tr>\n",
              "    <tr>\n",
              "      <th>58</th>\n",
              "      <td>Fix Imbalance</td>\n",
              "      <td>False</td>\n",
              "    </tr>\n",
              "    <tr>\n",
              "      <th>59</th>\n",
              "      <td>Fix Imbalance Method</td>\n",
              "      <td>SMOTE</td>\n",
              "    </tr>\n",
              "  </tbody>\n",
              "</table>\n",
              "</div>"
            ],
            "text/plain": [
              "                               Description             Value\n",
              "0                               session_id              1104\n",
              "1                                   Target           Outcome\n",
              "2                              Target Type            Binary\n",
              "3                            Label Encoded              None\n",
              "4                            Original Data          (614, 9)\n",
              "5                           Missing Values             False\n",
              "6                         Numeric Features                 8\n",
              "7                     Categorical Features                 0\n",
              "8                         Ordinal Features             False\n",
              "9                High Cardinality Features             False\n",
              "10                 High Cardinality Method              None\n",
              "11                   Transformed Train Set          (429, 8)\n",
              "12                    Transformed Test Set          (185, 8)\n",
              "13                      Shuffle Train-Test              True\n",
              "14                     Stratify Train-Test             False\n",
              "15                          Fold Generator   StratifiedKFold\n",
              "16                             Fold Number                10\n",
              "17                                CPU Jobs                -1\n",
              "18                                 Use GPU             False\n",
              "19                          Log Experiment             False\n",
              "20                         Experiment Name  clf-default-name\n",
              "21                                     USI              e778\n",
              "22                         Imputation Type            simple\n",
              "23          Iterative Imputation Iteration              None\n",
              "24                         Numeric Imputer              mean\n",
              "25      Iterative Imputation Numeric Model              None\n",
              "26                     Categorical Imputer          constant\n",
              "27  Iterative Imputation Categorical Model              None\n",
              "28           Unknown Categoricals Handling    least_frequent\n",
              "29                               Normalize              True\n",
              "30                        Normalize Method            zscore\n",
              "31                          Transformation              True\n",
              "32                   Transformation Method       yeo-johnson\n",
              "33                                     PCA             False\n",
              "34                              PCA Method              None\n",
              "35                          PCA Components              None\n",
              "36                     Ignore Low Variance              True\n",
              "37                     Combine Rare Levels             False\n",
              "38                    Rare Level Threshold              None\n",
              "39                         Numeric Binning             False\n",
              "40                         Remove Outliers             False\n",
              "41                      Outliers Threshold              None\n",
              "42                Remove Multicollinearity             False\n",
              "43             Multicollinearity Threshold              None\n",
              "44             Remove Perfect Collinearity              True\n",
              "45                              Clustering             False\n",
              "46                    Clustering Iteration              None\n",
              "47                     Polynomial Features             False\n",
              "48                       Polynomial Degree              None\n",
              "49                    Trignometry Features             False\n",
              "50                    Polynomial Threshold              None\n",
              "51                          Group Features             False\n",
              "52                       Feature Selection             False\n",
              "53                Feature Selection Method           classic\n",
              "54            Features Selection Threshold              None\n",
              "55                     Feature Interaction             False\n",
              "56                           Feature Ratio             False\n",
              "57                   Interaction Threshold              None\n",
              "58                           Fix Imbalance             False\n",
              "59                    Fix Imbalance Method             SMOTE"
            ]
          },
          "metadata": {}
        }
      ]
    },
    {
      "cell_type": "code",
      "metadata": {
        "id": "mWnUDVoEthQl",
        "colab": {
          "base_uri": "https://localhost:8080/",
          "height": 602,
          "referenced_widgets": [
            "6b8ab5a1fb07455cb71086566da26769",
            "29b56d9d28ab47718500edc27f42da3c",
            "61f8f2c86a6d4a6cbc5b8d25700dfc39"
          ]
        },
        "outputId": "f9852a3d-7e09-4bfe-af48-6e6fa209ab17"
      },
      "source": [
        "best_model2 = compare_models(sort='Accuracy')\n",
        "# compare_models(sort='AUC')"
      ],
      "execution_count": 44,
      "outputs": [
        {
          "output_type": "display_data",
          "data": {
            "text/html": [
              "<div>\n",
              "<style scoped>\n",
              "    .dataframe tbody tr th:only-of-type {\n",
              "        vertical-align: middle;\n",
              "    }\n",
              "\n",
              "    .dataframe tbody tr th {\n",
              "        vertical-align: top;\n",
              "    }\n",
              "\n",
              "    .dataframe thead th {\n",
              "        text-align: right;\n",
              "    }\n",
              "</style>\n",
              "<table border=\"1\" class=\"dataframe\">\n",
              "  <thead>\n",
              "    <tr style=\"text-align: right;\">\n",
              "      <th></th>\n",
              "      <th>Model</th>\n",
              "      <th>Accuracy</th>\n",
              "      <th>AUC</th>\n",
              "      <th>Recall</th>\n",
              "      <th>Prec.</th>\n",
              "      <th>F1</th>\n",
              "      <th>Kappa</th>\n",
              "      <th>MCC</th>\n",
              "      <th>TT (Sec)</th>\n",
              "    </tr>\n",
              "  </thead>\n",
              "  <tbody>\n",
              "    <tr>\n",
              "      <th>gbc</th>\n",
              "      <td>Gradient Boosting Classifier</td>\n",
              "      <td>0.7672</td>\n",
              "      <td>0.8179</td>\n",
              "      <td>0.6190</td>\n",
              "      <td>0.6852</td>\n",
              "      <td>0.6479</td>\n",
              "      <td>0.4752</td>\n",
              "      <td>0.4784</td>\n",
              "      <td>0.106</td>\n",
              "    </tr>\n",
              "    <tr>\n",
              "      <th>lr</th>\n",
              "      <td>Logistic Regression</td>\n",
              "      <td>0.7555</td>\n",
              "      <td>0.8247</td>\n",
              "      <td>0.5648</td>\n",
              "      <td>0.6797</td>\n",
              "      <td>0.6119</td>\n",
              "      <td>0.4371</td>\n",
              "      <td>0.4442</td>\n",
              "      <td>0.278</td>\n",
              "    </tr>\n",
              "    <tr>\n",
              "      <th>rf</th>\n",
              "      <td>Random Forest Classifier</td>\n",
              "      <td>0.7555</td>\n",
              "      <td>0.8009</td>\n",
              "      <td>0.5514</td>\n",
              "      <td>0.6869</td>\n",
              "      <td>0.6080</td>\n",
              "      <td>0.4344</td>\n",
              "      <td>0.4422</td>\n",
              "      <td>0.502</td>\n",
              "    </tr>\n",
              "    <tr>\n",
              "      <th>ada</th>\n",
              "      <td>Ada Boost Classifier</td>\n",
              "      <td>0.7554</td>\n",
              "      <td>0.8029</td>\n",
              "      <td>0.5981</td>\n",
              "      <td>0.6648</td>\n",
              "      <td>0.6285</td>\n",
              "      <td>0.4473</td>\n",
              "      <td>0.4495</td>\n",
              "      <td>0.105</td>\n",
              "    </tr>\n",
              "    <tr>\n",
              "      <th>ridge</th>\n",
              "      <td>Ridge Classifier</td>\n",
              "      <td>0.7485</td>\n",
              "      <td>0.0000</td>\n",
              "      <td>0.5648</td>\n",
              "      <td>0.6658</td>\n",
              "      <td>0.6052</td>\n",
              "      <td>0.4241</td>\n",
              "      <td>0.4310</td>\n",
              "      <td>0.013</td>\n",
              "    </tr>\n",
              "    <tr>\n",
              "      <th>lda</th>\n",
              "      <td>Linear Discriminant Analysis</td>\n",
              "      <td>0.7462</td>\n",
              "      <td>0.8238</td>\n",
              "      <td>0.5648</td>\n",
              "      <td>0.6617</td>\n",
              "      <td>0.6031</td>\n",
              "      <td>0.4198</td>\n",
              "      <td>0.4268</td>\n",
              "      <td>0.016</td>\n",
              "    </tr>\n",
              "    <tr>\n",
              "      <th>et</th>\n",
              "      <td>Extra Trees Classifier</td>\n",
              "      <td>0.7461</td>\n",
              "      <td>0.8058</td>\n",
              "      <td>0.5519</td>\n",
              "      <td>0.6607</td>\n",
              "      <td>0.5979</td>\n",
              "      <td>0.4158</td>\n",
              "      <td>0.4218</td>\n",
              "      <td>0.465</td>\n",
              "    </tr>\n",
              "    <tr>\n",
              "      <th>qda</th>\n",
              "      <td>Quadratic Discriminant Analysis</td>\n",
              "      <td>0.7415</td>\n",
              "      <td>0.8032</td>\n",
              "      <td>0.6043</td>\n",
              "      <td>0.6387</td>\n",
              "      <td>0.6157</td>\n",
              "      <td>0.4224</td>\n",
              "      <td>0.4268</td>\n",
              "      <td>0.016</td>\n",
              "    </tr>\n",
              "    <tr>\n",
              "      <th>nb</th>\n",
              "      <td>Naive Bayes</td>\n",
              "      <td>0.7368</td>\n",
              "      <td>0.8151</td>\n",
              "      <td>0.6519</td>\n",
              "      <td>0.6127</td>\n",
              "      <td>0.6284</td>\n",
              "      <td>0.4256</td>\n",
              "      <td>0.4289</td>\n",
              "      <td>0.015</td>\n",
              "    </tr>\n",
              "    <tr>\n",
              "      <th>lightgbm</th>\n",
              "      <td>Light Gradient Boosting Machine</td>\n",
              "      <td>0.7297</td>\n",
              "      <td>0.7903</td>\n",
              "      <td>0.5848</td>\n",
              "      <td>0.6162</td>\n",
              "      <td>0.5966</td>\n",
              "      <td>0.3948</td>\n",
              "      <td>0.3974</td>\n",
              "      <td>0.075</td>\n",
              "    </tr>\n",
              "    <tr>\n",
              "      <th>knn</th>\n",
              "      <td>K Neighbors Classifier</td>\n",
              "      <td>0.7275</td>\n",
              "      <td>0.7682</td>\n",
              "      <td>0.5586</td>\n",
              "      <td>0.6188</td>\n",
              "      <td>0.5822</td>\n",
              "      <td>0.3826</td>\n",
              "      <td>0.3866</td>\n",
              "      <td>0.118</td>\n",
              "    </tr>\n",
              "    <tr>\n",
              "      <th>svm</th>\n",
              "      <td>SVM - Linear Kernel</td>\n",
              "      <td>0.6991</td>\n",
              "      <td>0.0000</td>\n",
              "      <td>0.5548</td>\n",
              "      <td>0.5774</td>\n",
              "      <td>0.5538</td>\n",
              "      <td>0.3300</td>\n",
              "      <td>0.3386</td>\n",
              "      <td>0.015</td>\n",
              "    </tr>\n",
              "    <tr>\n",
              "      <th>dummy</th>\n",
              "      <td>Dummy Classifier</td>\n",
              "      <td>0.6527</td>\n",
              "      <td>0.5000</td>\n",
              "      <td>0.0000</td>\n",
              "      <td>0.0000</td>\n",
              "      <td>0.0000</td>\n",
              "      <td>0.0000</td>\n",
              "      <td>0.0000</td>\n",
              "      <td>0.012</td>\n",
              "    </tr>\n",
              "    <tr>\n",
              "      <th>dt</th>\n",
              "      <td>Decision Tree Classifier</td>\n",
              "      <td>0.6506</td>\n",
              "      <td>0.6198</td>\n",
              "      <td>0.5181</td>\n",
              "      <td>0.4909</td>\n",
              "      <td>0.4979</td>\n",
              "      <td>0.2327</td>\n",
              "      <td>0.2368</td>\n",
              "      <td>0.016</td>\n",
              "    </tr>\n",
              "  </tbody>\n",
              "</table>\n",
              "</div>"
            ],
            "text/plain": [
              "                                    Model  Accuracy     AUC  Recall   Prec.  \\\n",
              "gbc          Gradient Boosting Classifier    0.7672  0.8179  0.6190  0.6852   \n",
              "lr                    Logistic Regression    0.7555  0.8247  0.5648  0.6797   \n",
              "rf               Random Forest Classifier    0.7555  0.8009  0.5514  0.6869   \n",
              "ada                  Ada Boost Classifier    0.7554  0.8029  0.5981  0.6648   \n",
              "ridge                    Ridge Classifier    0.7485  0.0000  0.5648  0.6658   \n",
              "lda          Linear Discriminant Analysis    0.7462  0.8238  0.5648  0.6617   \n",
              "et                 Extra Trees Classifier    0.7461  0.8058  0.5519  0.6607   \n",
              "qda       Quadratic Discriminant Analysis    0.7415  0.8032  0.6043  0.6387   \n",
              "nb                            Naive Bayes    0.7368  0.8151  0.6519  0.6127   \n",
              "lightgbm  Light Gradient Boosting Machine    0.7297  0.7903  0.5848  0.6162   \n",
              "knn                K Neighbors Classifier    0.7275  0.7682  0.5586  0.6188   \n",
              "svm                   SVM - Linear Kernel    0.6991  0.0000  0.5548  0.5774   \n",
              "dummy                    Dummy Classifier    0.6527  0.5000  0.0000  0.0000   \n",
              "dt               Decision Tree Classifier    0.6506  0.6198  0.5181  0.4909   \n",
              "\n",
              "              F1   Kappa     MCC  TT (Sec)  \n",
              "gbc       0.6479  0.4752  0.4784     0.106  \n",
              "lr        0.6119  0.4371  0.4442     0.278  \n",
              "rf        0.6080  0.4344  0.4422     0.502  \n",
              "ada       0.6285  0.4473  0.4495     0.105  \n",
              "ridge     0.6052  0.4241  0.4310     0.013  \n",
              "lda       0.6031  0.4198  0.4268     0.016  \n",
              "et        0.5979  0.4158  0.4218     0.465  \n",
              "qda       0.6157  0.4224  0.4268     0.016  \n",
              "nb        0.6284  0.4256  0.4289     0.015  \n",
              "lightgbm  0.5966  0.3948  0.3974     0.075  \n",
              "knn       0.5822  0.3826  0.3866     0.118  \n",
              "svm       0.5538  0.3300  0.3386     0.015  \n",
              "dummy     0.0000  0.0000  0.0000     0.012  \n",
              "dt        0.4979  0.2327  0.2368     0.016  "
            ]
          },
          "metadata": {}
        }
      ]
    },
    {
      "cell_type": "markdown",
      "metadata": {
        "id": "gaM5xZoxthQl"
      },
      "source": [
        "### Accuracy가 약간 높아졌지만 큰 차이는 없다."
      ]
    },
    {
      "cell_type": "code",
      "metadata": {
        "id": "10zPcdqFthQl",
        "colab": {
          "base_uri": "https://localhost:8080/",
          "height": 376
        },
        "outputId": "9cab296d-3ff1-4d56-b7d5-475ebd4b0ab4"
      },
      "source": [
        "plot_model(best_model2)"
      ],
      "execution_count": 45,
      "outputs": [
        {
          "output_type": "display_data",
          "data": {
            "image/png": "[encoded data removed]",
            "text/plain": [
              "<Figure size 576x396 with 1 Axes>"
            ]
          },
          "metadata": {}
        }
      ]
    },
    {
      "cell_type": "code",
      "metadata": {
        "id": "axdflIl7thQl",
        "colab": {
          "base_uri": "https://localhost:8080/",
          "height": 401
        },
        "outputId": "ebf5ec81-9434-492a-d460-3ee9106c1a1a"
      },
      "source": [
        "plot_model(best_model2, 'confusion_matrix')"
      ],
      "execution_count": 46,
      "outputs": [
        {
          "output_type": "display_data",
          "data": {
            "image/png": "[encoded data removed]",
            "text/plain": [
              "<Figure size 576x396 with 1 Axes>"
            ]
          },
          "metadata": {}
        }
      ]
    },
    {
      "cell_type": "code",
      "metadata": {
        "id": "rRnnB5gJthQl",
        "colab": {
          "base_uri": "https://localhost:8080/",
          "height": 413
        },
        "outputId": "3046f3f5-5dc7-4172-c962-f21bd1e26388"
      },
      "source": [
        "plot_model(best_model2, plot = 'feature')"
      ],
      "execution_count": 47,
      "outputs": [
        {
          "output_type": "display_data",
          "data": {
            "image/png": "[encoded data removed]",
            "text/plain": [
              "<Figure size 800x500 with 1 Axes>"
            ]
          },
          "metadata": {}
        }
      ]
    },
    {
      "cell_type": "markdown",
      "metadata": {
        "id": "VF8JfHO4thQm"
      },
      "source": [
        "---\n",
        "---"
      ]
    },
    {
      "cell_type": "markdown",
      "metadata": {
        "id": "CI88bU7ROgq8"
      },
      "source": [
        "## [도전하기 - DIY]\n",
        "- 최적의 모델을 찾아서 저장\n",
        "    - save_model()\n",
        "- 저장된 모델을 불러와서 테스트 데이터에 적용\n",
        "    - load_model()\n",
        "- 모델별로 accuracy를 표로 정리하시오."
      ]
    },
    {
      "cell_type": "markdown",
      "metadata": {
        "id": "Zospj_4NthQm"
      },
      "source": [
        "---\n",
        "---"
      ]
    }
  ]
}