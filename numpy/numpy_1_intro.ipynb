{
  "nbformat": 4,
  "nbformat_minor": 0,
  "metadata": {
    "colab": {
      "name": "numpy_1_intro.ipynb",
      "provenance": [],
      "collapsed_sections": [],
      "include_colab_link": true
    },
    "kernelspec": {
      "name": "python2",
      "display_name": "Python 2"
    }
  },
  "cells": [
    {
      "cell_type": "markdown",
      "metadata": {
        "id": "view-in-github",
        "colab_type": "text"
      },
      "source": [
        "<a href=\"https://colab.research.google.com/github/yoon0411/pdm22/blob/main/numpy/numpy_1_intro.ipynb\" target=\"_parent\"><img src=\"https://colab.research.google.com/assets/colab-badge.svg\" alt=\"Open In Colab\"/></a>"
      ]
    },
    {
      "cell_type": "markdown",
      "metadata": {
        "id": "0Rd4EgDswXK3"
      },
      "source": [
        "## python module 1. numpy"
      ]
    },
    {
      "cell_type": "markdown",
      "metadata": {
        "id": "I1Lv9GrX8W0F"
      },
      "source": [
        "\n",
        "\n",
        "---\n",
        "\n"
      ]
    },
    {
      "cell_type": "markdown",
      "metadata": {
        "id": "pnSEXS8pVrtT"
      },
      "source": [
        "#### 라이브러리를 import 시키는 방법 4가지"
      ]
    },
    {
      "cell_type": "markdown",
      "metadata": {
        "id": "afsJHUKdS3Ua"
      },
      "source": [
        "**파이썬 코드에서 라이브러리를 import 시키는 방식**은 아래와 같이 4가지로 나눌 수 있다.\n",
        "\n",
        "\n",
        "\n",
        "1.   라이브러리의 이름을 바로 import하는 방식\n",
        "         예) import numpy\n",
        "         이렇게 import를 하면 해당 라이브러리의 풀네임을 이용하여 필요한 API를 호출할 수 있음\n",
        "         numpy.array()\n",
        "         \n",
        "2.   라이브러리의 별명을 지정하는 방식\n",
        "         예) import numpy as np\n",
        "         가장 일반적인 방식임\n",
        "         a = np,array()\n",
        "3.   from을 이용하는 방식\n",
        "\n",
        "         from을 이용하면 해당 API의 이름을 쓰지 않고 API를 바로 쓸 수 있다는 장점이 있음\n",
        "         from numpy import array, arange\n",
        "         a = array()\n",
        "         an = arange(10)\n",
        "\n",
        "         \n",
        "4.   필요한 라이브러리에 모든 API를 사용\n",
        "         예) from numpy import *\n",
        "            이 경우에도 from을 사용하여 직접 필요한 API를 기술함\n",
        "\n",
        "\n",
        "\n"
      ]
    },
    {
      "cell_type": "markdown",
      "metadata": {
        "id": "poXE4qONVaCz"
      },
      "source": [
        "##### 첫 번째 방식 - 라이브러리의 이름을 바로 import하는 방식"
      ]
    },
    {
      "cell_type": "code",
      "metadata": {
        "id": "XAuMP_ztUqet",
        "colab": {
          "base_uri": "https://localhost:8080/"
        },
        "outputId": "f37cda9a-79dd-4338-dc1b-ca52d152b390"
      },
      "source": [
        "# 1. 라이브러리의 이름을 바로 import하는 방식\n",
        "\n",
        "import numpy\n",
        "\n",
        "a1 = numpy.array([1,2])\n",
        "\n",
        "print(\"a1 = \", a1, \", type = \", type(a1))"
      ],
      "execution_count": 1,
      "outputs": [
        {
          "output_type": "stream",
          "name": "stdout",
          "text": [
            "('a1 = ', array([1, 2]), ', type = ', <type 'numpy.ndarray'>)\n"
          ]
        }
      ]
    },
    {
      "cell_type": "markdown",
      "metadata": {
        "id": "XH5TDHTTVe5z"
      },
      "source": [
        "##### 두 번째 방식 - 라이브러리의 별명을 지정하는 방식"
      ]
    },
    {
      "cell_type": "code",
      "metadata": {
        "id": "ppA7TLLqVXvT",
        "colab": {
          "base_uri": "https://localhost:8080/"
        },
        "outputId": "ff1ca103-5d5d-4f49-bcc7-34e067614e75"
      },
      "source": [
        "# 2. 라이브러리의 별명을 지정하는 방식\n",
        "\n",
        "import numpy as np\n",
        "\n",
        "a2 = np.array([1,2])\n",
        "\n",
        "print(\"a2 = \", a2, \", type = \", type(a2))"
      ],
      "execution_count": 2,
      "outputs": [
        {
          "output_type": "stream",
          "name": "stdout",
          "text": [
            "('a2 = ', array([1, 2]), ', type = ', <type 'numpy.ndarray'>)\n"
          ]
        }
      ]
    },
    {
      "cell_type": "markdown",
      "metadata": {
        "id": "RLb-GTgxXIBq"
      },
      "source": [
        "예) numpy라는 라이브러리를 as 다음에 나오는 np로 지정"
      ]
    },
    {
      "cell_type": "markdown",
      "metadata": {
        "id": "31zpv6jgWUGG"
      },
      "source": [
        "##### 세 번째 방식 - from을 이용하는 방식"
      ]
    },
    {
      "cell_type": "code",
      "metadata": {
        "id": "BBnlJGfjWNrT",
        "colab": {
          "base_uri": "https://localhost:8080/"
        },
        "outputId": "a58261e7-5214-4f75-fd08-73f3df104eb2"
      },
      "source": [
        "# 3. from을 이용하는 방식\n",
        "\n",
        "from numpy import array\n",
        "\n",
        "a3 = array([1, 2])\n",
        "\n",
        "print(\"a3 = \", a3, \", type = \", type(a3))"
      ],
      "execution_count": 3,
      "outputs": [
        {
          "output_type": "stream",
          "name": "stdout",
          "text": [
            "('a3 = ', array([1, 2]), ', type = ', <type 'numpy.ndarray'>)\n"
          ]
        }
      ]
    },
    {
      "cell_type": "markdown",
      "metadata": {
        "id": "wFkr6WU7XZav"
      },
      "source": [
        "numpy 라이브러리에 속해있는 array API를 위의 첫 번째 및 두 번째 예에서처럼 numpy.array 또는 np.array 라고 하지 않고, 바로 array를 사용\n",
        "\n",
        "> => 즉, numpy.array가 아닌 array로 바로 사용 가능\n",
        "\n"
      ]
    },
    {
      "cell_type": "markdown",
      "metadata": {
        "id": "B-UinoSIWrq0"
      },
      "source": [
        "##### 네 번째 방식 - 필요한 라이브러리에 모든 API를 사용"
      ]
    },
    {
      "cell_type": "code",
      "metadata": {
        "id": "SuOkm37nWmwC",
        "colab": {
          "base_uri": "https://localhost:8080/"
        },
        "outputId": "70fe97be-c08d-4663-afb3-59f5817528a0"
      },
      "source": [
        "# 4. 필요한 라이브러리에 모든 API를 사용\n",
        "\n",
        "from numpy import *\n",
        "\n",
        "result = exp(1) + log(1.7) + sqrt(2)\n",
        "\n",
        "print(\"result = \", result, \", type = \", type(result))\n"
      ],
      "execution_count": 8,
      "outputs": [
        {
          "output_type": "stream",
          "name": "stdout",
          "text": [
            "('result = ', 4.663123641894311, ', type = ', <type 'numpy.float64'>)\n"
          ]
        }
      ]
    },
    {
      "cell_type": "code",
      "metadata": {
        "colab": {
          "base_uri": "https://localhost:8080/"
        },
        "id": "F7oY1ojpv3A0",
        "outputId": "f30b2256-2c98-4f77-c27a-75e1c1ccae3a"
      },
      "source": [
        "a4 = array(range(1,5)).reshape(2,2)\n",
        "\n",
        "print(\"a4 = \", a4, \", type = \", type(a4))"
      ],
      "execution_count": 9,
      "outputs": [
        {
          "output_type": "stream",
          "name": "stdout",
          "text": [
            "('a4 = ', array([[1, 2],\n",
            "       [3, 4]]), ', type = ', <type 'numpy.ndarray'>)\n"
          ]
        }
      ]
    },
    {
      "cell_type": "markdown",
      "metadata": {
        "id": "HMwk8_qxH0u4"
      },
      "source": [
        "### numpy array의 속성"
      ]
    },
    {
      "cell_type": "code",
      "metadata": {
        "id": "tXiqxsg3k5I5",
        "colab": {
          "base_uri": "https://localhost:8080/"
        },
        "outputId": "57b06725-889d-4469-be31-506abf4e7193"
      },
      "source": [
        "# shape of numpy arrays\n",
        "a1.shape, a2.shape, a3.shape, a4.shape"
      ],
      "execution_count": 16,
      "outputs": [
        {
          "output_type": "execute_result",
          "data": {
            "text/plain": [
              "((2,), (2,), (2,), (2, 2))"
            ]
          },
          "metadata": {},
          "execution_count": 16
        }
      ]
    },
    {
      "cell_type": "code",
      "metadata": {
        "id": "S8C1kDZayyCh",
        "colab": {
          "base_uri": "https://localhost:8080/"
        },
        "outputId": "eaf05e8c-7f8c-4f3e-9a30-e69af883d636"
      },
      "source": [
        "# dimension of numpy arrays\n",
        "a1.ndim, a2.ndim, a3.ndim, a4.ndim"
      ],
      "execution_count": 11,
      "outputs": [
        {
          "output_type": "execute_result",
          "data": {
            "text/plain": [
              "(1, 1, 1, 2)"
            ]
          },
          "metadata": {},
          "execution_count": 11
        }
      ]
    },
    {
      "cell_type": "code",
      "metadata": {
        "id": "WgaXd1rwy9tP",
        "colab": {
          "base_uri": "https://localhost:8080/"
        },
        "outputId": "0cf94253-2324-4828-e8b5-b59d96b3e9cc"
      },
      "source": [
        "# size of numpy arrays\n",
        "a1.size, a2.size, a3.size, a4.size"
      ],
      "execution_count": 12,
      "outputs": [
        {
          "output_type": "execute_result",
          "data": {
            "text/plain": [
              "(2, 2, 2, 4)"
            ]
          },
          "metadata": {},
          "execution_count": 12
        }
      ]
    },
    {
      "cell_type": "code",
      "metadata": {
        "id": "Yg4CHly4zMLr",
        "colab": {
          "base_uri": "https://localhost:8080/"
        },
        "outputId": "22f66a89-c0c5-4e9a-80f0-a410f04614c4"
      },
      "source": [
        "# dtype of numpy arrays\n",
        "a1.dtype, a2.dtype, a3.dtype, a4.dtype"
      ],
      "execution_count": 13,
      "outputs": [
        {
          "output_type": "execute_result",
          "data": {
            "text/plain": [
              "(dtype('int64'), dtype('int64'), dtype('int64'), dtype('int64'))"
            ]
          },
          "metadata": {},
          "execution_count": 13
        }
      ]
    },
    {
      "cell_type": "code",
      "metadata": {
        "id": "o-fNUQeX2HnB",
        "colab": {
          "base_uri": "https://localhost:8080/"
        },
        "outputId": "d813d249-3ba0-467d-ca15-6d9b1089112b"
      },
      "source": [
        "# reshape의 또 다른 사용 방법 \n",
        "a4r = array(range(1,5)).reshape(-1,2)\n",
        "print(a4r)\n",
        "a4r.shape, a4r.ndim, a4r.size, a4r.dtype"
      ],
      "execution_count": 20,
      "outputs": [
        {
          "output_type": "stream",
          "name": "stdout",
          "text": [
            "[[1 2]\n",
            " [3 4]]\n"
          ]
        },
        {
          "output_type": "execute_result",
          "data": {
            "text/plain": [
              "((2, 2), 2, 4, dtype('int64'))"
            ]
          },
          "metadata": {},
          "execution_count": 20
        }
      ]
    },
    {
      "cell_type": "markdown",
      "metadata": {
        "id": "1agDc8fFYb7_"
      },
      "source": [
        "### numpy\n",
        "\n",
        "numpy의 개념과 numpy가 필요한 이유, numpy를 이용하여 벡터와 matrix 즉, 행렬을 만들고 이를 상호변환 시킬 수 있는 API를 사용하는 방법에 대해 알아본다."
      ]
    },
    {
      "cell_type": "markdown",
      "metadata": {
        "id": "2zaiDbcJbjYL"
      },
      "source": [
        "#### numpy의 개념, 그리고 numpy를 사용하는 이유"
      ]
    },
    {
      "cell_type": "markdown",
      "metadata": {
        "id": "XmsULOHVY3JT"
      },
      "source": [
        "- **numpy**\n",
        "\n",
        "    * numpy는 머신러닝 코드 개발을 할 경우 자주 사용되는 벡터, 행렬 등을 표현하고 연산할 때 반드시 필요한 라이브러리다.  \n",
        "    * 벡터와 행렬을 이용하면 수치계산이 매우 빨리 수행된다.\n",
        "    * 벡터, 2차원행렬 등을 일반화 => 배열 또는 텐서(tensor)\n",
        "\n"
      ]
    },
    {
      "cell_type": "markdown",
      "metadata": {
        "id": "pNylcuDzZDWT"
      },
      "source": [
        "- numpy array vs. list\n",
        "\n",
        "    *  머신러닝에서 숫자, 사람, 동물 등의 인식을 하기 위해서는 이미지 데이터를 행렬(matrix)로 변환하는 것이 중요하다.\n",
        "    *  행렬을 나타내기 위해서는 list를 사용할 수도 있지만, 행렬 연산이 직관적이지 않고 오류 가능성이 높기 때문에 **행렬 연산을 위해서는 numpy 사용이 필수적**이다.\n",
        "\n"
      ]
    },
    {
      "cell_type": "markdown",
      "metadata": {
        "id": "XnDOZbJzMpaB"
      },
      "source": [
        "## 행렬연산 I\n",
        "\n",
        "- 요소별로 연산\n",
        "- elementwise operation"
      ]
    },
    {
      "cell_type": "code",
      "metadata": {
        "id": "lYblhTyAW-3s"
      },
      "source": [
        "# 행렬연산\n",
        "\n",
        "\n",
        "# A = (1 0)    B = (1 1)\n",
        "#     (0 1)        (1 1)\n",
        "\n",
        "# 각 요소의 인덱스에 맞춰서, 즉 원소별로  연산이 수행된다.\n",
        "# A + B = (2 1)\n",
        "#         (1 2)"
      ],
      "execution_count": 23,
      "outputs": []
    },
    {
      "cell_type": "code",
      "metadata": {
        "id": "r-qJzSmeachg"
      },
      "source": [
        "import numpy as np # 라이브러리의 별명을 지정하는 방식을 사용"
      ],
      "execution_count": 24,
      "outputs": []
    },
    {
      "cell_type": "code",
      "metadata": {
        "id": "3EsPu5EqaoJw",
        "colab": {
          "base_uri": "https://localhost:8080/"
        },
        "outputId": "468f0534-095f-4ba3-8c9f-3998f5612d08"
      },
      "source": [
        "# 리스트로 행렬을 표현하면,\n",
        "\n",
        "A = [ [1,0], [0,1] ]\n",
        "B = [ [1,1], [1,1] ]\n",
        "\n",
        "A + B   # 행렬 연산이 아닌 리스트 연산으로 리스트가 확장된다."
      ],
      "execution_count": 25,
      "outputs": [
        {
          "output_type": "execute_result",
          "data": {
            "text/plain": [
              "[[1, 0], [0, 1], [1, 1], [1, 1]]"
            ]
          },
          "metadata": {},
          "execution_count": 25
        }
      ]
    },
    {
      "cell_type": "markdown",
      "metadata": {
        "id": "7Egx9RhcbS74"
      },
      "source": [
        "=> 리스트 연산이 됨"
      ]
    },
    {
      "cell_type": "code",
      "metadata": {
        "id": "TDew_4EYaxup",
        "colab": {
          "base_uri": "https://localhost:8080/"
        },
        "outputId": "17b1bd97-1bea-48d2-b89c-d896db2d221e"
      },
      "source": [
        "# numpy matrix, 직관적임\n",
        "\n",
        "A = np.array([ [1,0], [0,1] ])\n",
        "B = np.array([ [1,1], [1,1] ])\n",
        "\n",
        "A + B  # 행렬 연산"
      ],
      "execution_count": 26,
      "outputs": [
        {
          "output_type": "execute_result",
          "data": {
            "text/plain": [
              "array([[2, 1],\n",
              "       [1, 2]])"
            ]
          },
          "metadata": {},
          "execution_count": 26
        }
      ]
    },
    {
      "cell_type": "code",
      "metadata": {
        "id": "xJIm_4xn232K",
        "colab": {
          "base_uri": "https://localhost:8080/"
        },
        "outputId": "76c64347-52cb-4fa1-8c96-62c72e709351"
      },
      "source": [
        "# A,B\n",
        "print(A)\n",
        "print(B)"
      ],
      "execution_count": 27,
      "outputs": [
        {
          "output_type": "stream",
          "name": "stdout",
          "text": [
            "[[1 0]\n",
            " [0 1]]\n",
            "[[1 1]\n",
            " [1 1]]\n"
          ]
        }
      ]
    },
    {
      "cell_type": "markdown",
      "metadata": {
        "id": "AQG_PbYhbJxC"
      },
      "source": [
        "=>  numpy로 행렬 선언 및 연산을 하였기 때문에 행렬 연산의 결과가 나옴"
      ]
    },
    {
      "cell_type": "markdown",
      "metadata": {
        "id": "x4pUC7NEcDvF"
      },
      "source": [
        "### numpy vector(1차원 배열)"
      ]
    },
    {
      "cell_type": "markdown",
      "metadata": {
        "id": "8IbhCw-_59zV"
      },
      "source": [
        "#### 벡터 생성"
      ]
    },
    {
      "cell_type": "markdown",
      "metadata": {
        "id": "VjXJCVd5cI77"
      },
      "source": [
        "- **벡터(vector) 생성**\n",
        "\n",
        "\n",
        "> 벡터는 np.array([...])를 사용하여 생성한다.\n",
        "\n",
        "        예) import numpy as np\n",
        "\n",
        "> 머신러닝 코드 구현 시, 연산을 위해서 벡터, matrix 등의 구조(shape), 차원(dimension)을 확인하는 것이 필요하다.\n",
        "\n",
        "\n"
      ]
    },
    {
      "cell_type": "code",
      "metadata": {
        "id": "cC9XMICddoXD",
        "colab": {
          "base_uri": "https://localhost:8080/"
        },
        "outputId": "229ea5bb-5c3c-4d68-86b6-f0f88395db82"
      },
      "source": [
        "A = np.array([1,2,3])\n",
        "B = np.array([4,5,6])\n",
        "\n",
        "# vector A, B 출력\n",
        "print(\"A = \", A, \", B = \", B)\n",
        "\n",
        "# vector A, B 구조 출력 => shape\n",
        "print(\"A.shape = {0}, B.shape =  {1}\".format(A.shape, B.shape))\n",
        "\n",
        "# vector A, B 차원 출력 => ndim\n",
        "print(\"A.ndim = {0}, B.ndim = {1}\".format(A.ndim, B.ndim))"
      ],
      "execution_count": 28,
      "outputs": [
        {
          "output_type": "stream",
          "name": "stdout",
          "text": [
            "('A = ', array([1, 2, 3]), ', B = ', array([4, 5, 6]))\n",
            "A.shape = (3,), B.shape =  (3,)\n",
            "A.ndim = 1, B.ndim = 1\n"
          ]
        }
      ]
    },
    {
      "cell_type": "markdown",
      "metadata": {
        "id": "HQrzOFJgQCu_"
      },
      "source": [
        "##### A, B는 항목(즉 요소)가 세개인 벡터임.\n",
        "\n",
        "> [행벡터](https://terms.naver.com/entry.nhn?docId=3338356&cid=47324&categoryId=47324) vs. [열벡터](https://terms.naver.com/entry.nhn?docId=3338418&ref=y&cid=47324&categoryId=47324)  \n",
        ">> 그러면 일반 벡터인 A, B를 열벡터 또는 행벡터로 변경하는 방법은?"
      ]
    },
    {
      "cell_type": "code",
      "metadata": {
        "id": "eGu_YN7hqW7n",
        "colab": {
          "base_uri": "https://localhost:8080/"
        },
        "outputId": "4dfcad2b-7c32-417c-b6e3-17f1a720c92e"
      },
      "source": [
        "A.shape, B.shape  # , B는 항목(즉 요소)가 세개인 벡터"
      ],
      "execution_count": 29,
      "outputs": [
        {
          "output_type": "execute_result",
          "data": {
            "text/plain": [
              "((3,), (3,))"
            ]
          },
          "metadata": {},
          "execution_count": 29
        }
      ]
    },
    {
      "cell_type": "markdown",
      "metadata": {
        "id": "TZ84bJEXrd1E"
      },
      "source": [
        "#### 열벡터로 변환"
      ]
    },
    {
      "cell_type": "code",
      "metadata": {
        "id": "hhn5gf9mq9MX",
        "colab": {
          "base_uri": "https://localhost:8080/"
        },
        "outputId": "cace233f-9b4b-415c-e507-f73bf9521ada"
      },
      "source": [
        "A[:, np.newaxis]   # 열벡터, 2차원 구조"
      ],
      "execution_count": 30,
      "outputs": [
        {
          "output_type": "execute_result",
          "data": {
            "text/plain": [
              "array([[1],\n",
              "       [2],\n",
              "       [3]])"
            ]
          },
          "metadata": {},
          "execution_count": 30
        }
      ]
    },
    {
      "cell_type": "code",
      "metadata": {
        "id": "mf1oktBlrY2e",
        "colab": {
          "base_uri": "https://localhost:8080/"
        },
        "outputId": "9d8dccd2-729e-4aee-c599-0936900ae1f9"
      },
      "source": [
        "A1  = A[:, np.newaxis]\n",
        "A1.shape, A1.ndim, A.shape"
      ],
      "execution_count": 36,
      "outputs": [
        {
          "output_type": "execute_result",
          "data": {
            "text/plain": [
              "((3, 1), 2, (3,))"
            ]
          },
          "metadata": {},
          "execution_count": 36
        }
      ]
    },
    {
      "cell_type": "markdown",
      "metadata": {
        "id": "6HUVGUdJrsaJ"
      },
      "source": [
        "#### 행벡터로 변환"
      ]
    },
    {
      "cell_type": "code",
      "metadata": {
        "id": "jWfcua0drsaT",
        "colab": {
          "base_uri": "https://localhost:8080/"
        },
        "outputId": "eb3d5f69-b43e-4ea5-9264-d77c4d19bd6f"
      },
      "source": [
        "B[np.newaxis,:]   # 행벡터"
      ],
      "execution_count": 37,
      "outputs": [
        {
          "output_type": "execute_result",
          "data": {
            "text/plain": [
              "array([[4, 5, 6]])"
            ]
          },
          "metadata": {},
          "execution_count": 37
        }
      ]
    },
    {
      "cell_type": "code",
      "metadata": {
        "id": "ImhriYRJrsam",
        "colab": {
          "base_uri": "https://localhost:8080/"
        },
        "outputId": "690f18cd-037a-489b-b0de-1f41aa4c3b01"
      },
      "source": [
        "B1  = B[np.newaxis,:]\n",
        "B1.shape"
      ],
      "execution_count": 38,
      "outputs": [
        {
          "output_type": "execute_result",
          "data": {
            "text/plain": [
              "(1, 3)"
            ]
          },
          "metadata": {},
          "execution_count": 38
        }
      ]
    },
    {
      "cell_type": "code",
      "metadata": {
        "id": "oTjqGdFmsE4G",
        "colab": {
          "base_uri": "https://localhost:8080/"
        },
        "outputId": "7e266ffa-fd20-4c9c-d0ae-975c3be96c75"
      },
      "source": [
        "print(A,B)\n",
        "A1,B1           # 리스트안의 리스트"
      ],
      "execution_count": 39,
      "outputs": [
        {
          "output_type": "stream",
          "name": "stdout",
          "text": [
            "(array([1, 2, 3]), array([4, 5, 6]))\n"
          ]
        },
        {
          "output_type": "execute_result",
          "data": {
            "text/plain": [
              "(array([[1],\n",
              "        [2],\n",
              "        [3]]), array([[4, 5, 6]]))"
            ]
          },
          "metadata": {},
          "execution_count": 39
        }
      ]
    },
    {
      "cell_type": "code",
      "metadata": {
        "id": "mH_yPml6sYJf",
        "colab": {
          "base_uri": "https://localhost:8080/"
        },
        "outputId": "5de32ccc-02c9-4362-844f-bcf315370ad4"
      },
      "source": [
        "A.shape, B.shape, A1.shape, B1.shape"
      ],
      "execution_count": 40,
      "outputs": [
        {
          "output_type": "execute_result",
          "data": {
            "text/plain": [
              "((3,), (3,), (3, 1), (1, 3))"
            ]
          },
          "metadata": {},
          "execution_count": 40
        }
      ]
    },
    {
      "cell_type": "markdown",
      "metadata": {
        "id": "Zu_DW5rbONsG"
      },
      "source": [
        "### [확인-DIY]"
      ]
    },
    {
      "cell_type": "code",
      "metadata": {
        "id": "R22HiJBlOBsI"
      },
      "source": [
        "# A, B, A1, B1의 차원을 비교해보시오."
      ],
      "execution_count": null,
      "outputs": []
    },
    {
      "cell_type": "code",
      "metadata": {
        "colab": {
          "base_uri": "https://localhost:8080/"
        },
        "id": "Qv1sXrWB2YXo",
        "outputId": "2dec2432-1696-41d6-f1bc-7235b7064a6d"
      },
      "source": [
        "A.ndim, B.ndim, A1.ndim, B1.ndim"
      ],
      "execution_count": 41,
      "outputs": [
        {
          "output_type": "execute_result",
          "data": {
            "text/plain": [
              "(1, 1, 2, 2)"
            ]
          },
          "metadata": {},
          "execution_count": 41
        }
      ]
    },
    {
      "cell_type": "markdown",
      "metadata": {
        "id": "wqnE4KKDuKff"
      },
      "source": [
        "> **reshape()**를 이용해서 벡터의 형태 변형도 가능하다.\n",
        "- A.reshape(3,1)\n",
        "- A.reshape(1,3)"
      ]
    },
    {
      "cell_type": "markdown",
      "metadata": {
        "id": "5fOcgOxaOZYf"
      },
      "source": [
        "### [도전-DIY] reshape를 이용해서 벡터 A를 열벡터, 행벡터로 변환하시오."
      ]
    },
    {
      "cell_type": "code",
      "metadata": {
        "id": "p1p4_bSBOq_W",
        "colab": {
          "base_uri": "https://localhost:8080/"
        },
        "outputId": "517674c9-b9e0-428f-fd7c-3de08d763a80"
      },
      "source": [
        "# reshape를 이용해서 벡터 A를 열벡터, 행벡터로 변환\n",
        "A.reshape(3,1)\n",
        "A.reshape(1,3)"
      ],
      "execution_count": 43,
      "outputs": [
        {
          "output_type": "execute_result",
          "data": {
            "text/plain": [
              "array([[1, 2, 3]])"
            ]
          },
          "metadata": {},
          "execution_count": 43
        }
      ]
    },
    {
      "cell_type": "markdown",
      "metadata": {
        "id": "Q9mDdXeZsoJ2"
      },
      "source": [
        "\n",
        "\n",
        "---\n",
        "\n"
      ]
    },
    {
      "cell_type": "markdown",
      "metadata": {
        "id": "hJdNazCX6BJW"
      },
      "source": [
        "## 벡터 산술연산"
      ]
    },
    {
      "cell_type": "markdown",
      "metadata": {
        "id": "gaL6T8Bycxiz"
      },
      "source": [
        "- **벡터 산술연산**\n",
        "\n",
        "\n",
        "> 벡터 간 산술연산 (+, -, x, /, %)는 벡터의 각각의 원소에 대해서 행해진다.\n",
        "\n"
      ]
    },
    {
      "cell_type": "code",
      "metadata": {
        "id": "ehOzznnYa-0H"
      },
      "source": [
        "# vector 산술 연산 (elementwise operation)\n",
        "# 벡터는 1차원 배열!\n",
        "# A = np.array([1,2,3])\n",
        "# B = np.array([4,5,6])\n",
        "\n",
        "print(\"A+B = \", A+B)\n",
        "print(\"A-B = \", A-B)\n",
        "print(\"A*B = \", A*B)\n",
        "print(\"A/B = \", A/B)\n",
        "print(\"A%B = \", A%B)"
      ],
      "execution_count": null,
      "outputs": []
    },
    {
      "cell_type": "code",
      "metadata": {
        "id": "W9SoZJLOtemS"
      },
      "source": [
        "B%A"
      ],
      "execution_count": null,
      "outputs": []
    },
    {
      "cell_type": "code",
      "metadata": {
        "id": "HiY_p_5Ptjkz"
      },
      "source": [
        "A**B"
      ],
      "execution_count": null,
      "outputs": []
    },
    {
      "cell_type": "markdown",
      "metadata": {
        "id": "yuwVL3pheF5O"
      },
      "source": [
        "### numpy matrix (2차원 행렬)"
      ]
    },
    {
      "cell_type": "markdown",
      "metadata": {
        "id": "TAnvHnEJ6FEJ"
      },
      "source": [
        "#### 행렬 생성"
      ]
    },
    {
      "cell_type": "markdown",
      "metadata": {
        "id": "tCo3bfQ1eJbj"
      },
      "source": [
        "- **행렬 생성**\n",
        "\n",
        "\n",
        "> matrix는 벡터와 마찬가지로 np.array([ [...], [...], ... ])를 사용하여 생성한다.\n",
        "\n",
        "\n",
        ">     예)  import numpy as np\n",
        "\n",
        "\n",
        "          A = (1 2 3)       B = (-1 -2 -3)\n",
        "              (4 5 6)           (-4 -5 -6)\n",
        "            shape 2x3       shape 2x3\n",
        "\n",
        "\n"
      ]
    },
    {
      "cell_type": "code",
      "metadata": {
        "id": "wcx7fbWGdc9D"
      },
      "source": [
        "A = np.array([ [1,2,3], [4,5,6] ])\n",
        "B = np.array([ [-1,-2,-3], [-4,-5,-6] ])\n",
        "\n",
        "# vector A, B 구조 출력 => shape\n",
        "print(\"A.shape = {0}, B.shape =  {1}\".format(A.shape, B.shape))\n",
        "\n",
        "# vector A, B 차원 출력 => ndim\n",
        "print(\"A.ndim = {0}, B.ndim = {1}\".format(A.ndim, B.ndim))"
      ],
      "execution_count": null,
      "outputs": []
    },
    {
      "cell_type": "markdown",
      "metadata": {
        "id": "qSW-t71a6HBY"
      },
      "source": [
        "#### 형 변환 (reshape)"
      ]
    },
    {
      "cell_type": "markdown",
      "metadata": {
        "id": "KwTsdW9rfXj8"
      },
      "source": [
        "- **형 변환 (reshape)**\n",
        "\n",
        "\n",
        "> 벡터를 matrix로 변경하거나 matrix를 다른 구조의 matrix로 변경하기 위해서는 reshape() 사용하여 행렬의 shape를 변경하여야 한다.\n",
        "\n",
        "           예) D = (1 2 3)   D.reshape(3,2) = (1 2)\n",
        "                   (4 5 6)                    (3 4)\n",
        "                                              (5 6)\n",
        "                shape 2x3             shape 3x2"
      ]
    },
    {
      "cell_type": "code",
      "metadata": {
        "id": "HWgzy1zqfTSb"
      },
      "source": [
        "# reshape()를 이용한 열벡터 생성\n",
        "\n",
        "C = np.array([1,2,3])  # 기본 벡터\n",
        "\n",
        "# 벡터 C의 구조 출력 => shape\n",
        "print(\"C.shape = \", C.shape)\n",
        "\n",
        "# 벡터를 (3,1) 행렬로 형 변환 => 열벡터로 변환\n",
        "C1 = C.reshape(3,1)\n",
        "\n",
        "print(\"C1.shape = \", C1.shape)\n",
        "\n",
        "# 벡터를 (1,3) 행렬로 형 변환 => 행벡터로 변환\n",
        "C2 = C.reshape(1,3)\n",
        "\n",
        "print(\"C2.shape = \", C2.shape)"
      ],
      "execution_count": null,
      "outputs": []
    },
    {
      "cell_type": "code",
      "metadata": {
        "id": "b4naZbr5RIbe"
      },
      "source": [
        "# C1.ndim, C2.ndim"
      ],
      "execution_count": null,
      "outputs": []
    },
    {
      "cell_type": "markdown",
      "metadata": {
        "id": "ORwL3_suRVUZ"
      },
      "source": [
        "### 2차원 배열의 구조 변환 (reshape 함수 이용)"
      ]
    },
    {
      "cell_type": "code",
      "metadata": {
        "id": "RXvGHEV5wBDe"
      },
      "source": [
        "# reshape()를 이용한 구조 변경\n",
        "\n",
        "D = np.array([ [1,2,3], [4,5,6] ])  # (2,3) 배열\n",
        "\n",
        "# 배열 D의 구조 출력 => shape\n",
        "print(\"D.shape = \", D.shape)\n",
        "\n",
        "# 배열 D를 (3,2) 행렬로 형 변환 \n",
        "D1 = D.reshape(3,2)\n",
        "\n",
        "print(\"D1.shape = \", D1.shape)\n",
        "\n",
        "# D와 D1 출력\n",
        "print(D)\n",
        "print(D1)"
      ],
      "execution_count": null,
      "outputs": []
    },
    {
      "cell_type": "code",
      "metadata": {
        "id": "IUnhl44ERmPQ"
      },
      "source": [
        "# 전치행렬과 비교 => 다르다!\n",
        "DT = D.T\n",
        "D, D1, DT"
      ],
      "execution_count": null,
      "outputs": []
    }
  ]
}